{
 "cells": [
  {
   "cell_type": "code",
   "execution_count": 1,
   "source": [
    "import matplotlib as plt\r\n",
    "import pandas as pd\r\n",
    "import numpy as np\r\n",
    "import seaborn as sns\r\n",
    "import plotly.graph_objects as go\r\n",
    "from sklearn.model_selection import train_test_split\r\n",
    "from sklearn.linear_model import LinearRegression\r\n",
    "from sklearn.preprocessing import PolynomialFeatures"
   ],
   "outputs": [],
   "metadata": {
    "collapsed": true
   }
  },
  {
   "cell_type": "code",
   "execution_count": 2,
   "source": [
    "stud_df = pd.read_csv('./data/StudentsPerformance.csv')"
   ],
   "outputs": [],
   "metadata": {}
  },
  {
   "cell_type": "code",
   "execution_count": 3,
   "source": [
    "stud_df"
   ],
   "outputs": [
    {
     "output_type": "execute_result",
     "data": {
      "text/html": [
       "<div>\n",
       "<style scoped>\n",
       "    .dataframe tbody tr th:only-of-type {\n",
       "        vertical-align: middle;\n",
       "    }\n",
       "\n",
       "    .dataframe tbody tr th {\n",
       "        vertical-align: top;\n",
       "    }\n",
       "\n",
       "    .dataframe thead th {\n",
       "        text-align: right;\n",
       "    }\n",
       "</style>\n",
       "<table border=\"1\" class=\"dataframe\">\n",
       "  <thead>\n",
       "    <tr style=\"text-align: right;\">\n",
       "      <th></th>\n",
       "      <th>gender</th>\n",
       "      <th>race/ethnicity</th>\n",
       "      <th>parental level of education</th>\n",
       "      <th>lunch</th>\n",
       "      <th>test preparation course</th>\n",
       "      <th>math score</th>\n",
       "      <th>reading score</th>\n",
       "      <th>writing score</th>\n",
       "    </tr>\n",
       "  </thead>\n",
       "  <tbody>\n",
       "    <tr>\n",
       "      <th>0</th>\n",
       "      <td>female</td>\n",
       "      <td>group B</td>\n",
       "      <td>bachelor's degree</td>\n",
       "      <td>standard</td>\n",
       "      <td>none</td>\n",
       "      <td>72</td>\n",
       "      <td>72</td>\n",
       "      <td>74</td>\n",
       "    </tr>\n",
       "    <tr>\n",
       "      <th>1</th>\n",
       "      <td>female</td>\n",
       "      <td>group C</td>\n",
       "      <td>some college</td>\n",
       "      <td>standard</td>\n",
       "      <td>completed</td>\n",
       "      <td>69</td>\n",
       "      <td>90</td>\n",
       "      <td>88</td>\n",
       "    </tr>\n",
       "    <tr>\n",
       "      <th>2</th>\n",
       "      <td>female</td>\n",
       "      <td>group B</td>\n",
       "      <td>master's degree</td>\n",
       "      <td>standard</td>\n",
       "      <td>none</td>\n",
       "      <td>90</td>\n",
       "      <td>95</td>\n",
       "      <td>93</td>\n",
       "    </tr>\n",
       "    <tr>\n",
       "      <th>3</th>\n",
       "      <td>male</td>\n",
       "      <td>group A</td>\n",
       "      <td>associate's degree</td>\n",
       "      <td>free/reduced</td>\n",
       "      <td>none</td>\n",
       "      <td>47</td>\n",
       "      <td>57</td>\n",
       "      <td>44</td>\n",
       "    </tr>\n",
       "    <tr>\n",
       "      <th>4</th>\n",
       "      <td>male</td>\n",
       "      <td>group C</td>\n",
       "      <td>some college</td>\n",
       "      <td>standard</td>\n",
       "      <td>none</td>\n",
       "      <td>76</td>\n",
       "      <td>78</td>\n",
       "      <td>75</td>\n",
       "    </tr>\n",
       "    <tr>\n",
       "      <th>...</th>\n",
       "      <td>...</td>\n",
       "      <td>...</td>\n",
       "      <td>...</td>\n",
       "      <td>...</td>\n",
       "      <td>...</td>\n",
       "      <td>...</td>\n",
       "      <td>...</td>\n",
       "      <td>...</td>\n",
       "    </tr>\n",
       "    <tr>\n",
       "      <th>995</th>\n",
       "      <td>female</td>\n",
       "      <td>group E</td>\n",
       "      <td>master's degree</td>\n",
       "      <td>standard</td>\n",
       "      <td>completed</td>\n",
       "      <td>88</td>\n",
       "      <td>99</td>\n",
       "      <td>95</td>\n",
       "    </tr>\n",
       "    <tr>\n",
       "      <th>996</th>\n",
       "      <td>male</td>\n",
       "      <td>group C</td>\n",
       "      <td>high school</td>\n",
       "      <td>free/reduced</td>\n",
       "      <td>none</td>\n",
       "      <td>62</td>\n",
       "      <td>55</td>\n",
       "      <td>55</td>\n",
       "    </tr>\n",
       "    <tr>\n",
       "      <th>997</th>\n",
       "      <td>female</td>\n",
       "      <td>group C</td>\n",
       "      <td>high school</td>\n",
       "      <td>free/reduced</td>\n",
       "      <td>completed</td>\n",
       "      <td>59</td>\n",
       "      <td>71</td>\n",
       "      <td>65</td>\n",
       "    </tr>\n",
       "    <tr>\n",
       "      <th>998</th>\n",
       "      <td>female</td>\n",
       "      <td>group D</td>\n",
       "      <td>some college</td>\n",
       "      <td>standard</td>\n",
       "      <td>completed</td>\n",
       "      <td>68</td>\n",
       "      <td>78</td>\n",
       "      <td>77</td>\n",
       "    </tr>\n",
       "    <tr>\n",
       "      <th>999</th>\n",
       "      <td>female</td>\n",
       "      <td>group D</td>\n",
       "      <td>some college</td>\n",
       "      <td>free/reduced</td>\n",
       "      <td>none</td>\n",
       "      <td>77</td>\n",
       "      <td>86</td>\n",
       "      <td>86</td>\n",
       "    </tr>\n",
       "  </tbody>\n",
       "</table>\n",
       "<p>1000 rows × 8 columns</p>\n",
       "</div>"
      ],
      "text/plain": [
       "     gender race/ethnicity parental level of education         lunch  \\\n",
       "0    female        group B           bachelor's degree      standard   \n",
       "1    female        group C                some college      standard   \n",
       "2    female        group B             master's degree      standard   \n",
       "3      male        group A          associate's degree  free/reduced   \n",
       "4      male        group C                some college      standard   \n",
       "..      ...            ...                         ...           ...   \n",
       "995  female        group E             master's degree      standard   \n",
       "996    male        group C                 high school  free/reduced   \n",
       "997  female        group C                 high school  free/reduced   \n",
       "998  female        group D                some college      standard   \n",
       "999  female        group D                some college  free/reduced   \n",
       "\n",
       "    test preparation course  math score  reading score  writing score  \n",
       "0                      none          72             72             74  \n",
       "1                 completed          69             90             88  \n",
       "2                      none          90             95             93  \n",
       "3                      none          47             57             44  \n",
       "4                      none          76             78             75  \n",
       "..                      ...         ...            ...            ...  \n",
       "995               completed          88             99             95  \n",
       "996                    none          62             55             55  \n",
       "997               completed          59             71             65  \n",
       "998               completed          68             78             77  \n",
       "999                    none          77             86             86  \n",
       "\n",
       "[1000 rows x 8 columns]"
      ]
     },
     "metadata": {},
     "execution_count": 3
    }
   ],
   "metadata": {}
  },
  {
   "cell_type": "code",
   "execution_count": 4,
   "source": [
    "stud_df.info()"
   ],
   "outputs": [
    {
     "output_type": "stream",
     "name": "stdout",
     "text": [
      "<class 'pandas.core.frame.DataFrame'>\n",
      "RangeIndex: 1000 entries, 0 to 999\n",
      "Data columns (total 8 columns):\n",
      " #   Column                       Non-Null Count  Dtype \n",
      "---  ------                       --------------  ----- \n",
      " 0   gender                       1000 non-null   object\n",
      " 1   race/ethnicity               1000 non-null   object\n",
      " 2   parental level of education  1000 non-null   object\n",
      " 3   lunch                        1000 non-null   object\n",
      " 4   test preparation course      1000 non-null   object\n",
      " 5   math score                   1000 non-null   int64 \n",
      " 6   reading score                1000 non-null   int64 \n",
      " 7   writing score                1000 non-null   int64 \n",
      "dtypes: int64(3), object(5)\n",
      "memory usage: 62.6+ KB\n"
     ]
    }
   ],
   "metadata": {}
  },
  {
   "cell_type": "code",
   "execution_count": 5,
   "source": [
    "stud_df = stud_df.rename(\r\n",
    "    columns= {\r\n",
    "        'gender':'gender',\r\n",
    "        'race/ethnicity':'social_group',\r\n",
    "        'parental level of education':'parent_education',\r\n",
    "        'lunch':'lunch',\r\n",
    "        'test preparation course':'test_prep_course',\r\n",
    "        'math score':'math_score',\r\n",
    "        'reading score':'read_score',\r\n",
    "        'writing score':'write_score'\r\n",
    "    }\r\n",
    ")"
   ],
   "outputs": [],
   "metadata": {}
  },
  {
   "cell_type": "code",
   "execution_count": 6,
   "source": [
    "stud_df.columns"
   ],
   "outputs": [
    {
     "output_type": "execute_result",
     "data": {
      "text/plain": [
       "Index(['gender', 'social_group', 'parent_education', 'lunch',\n",
       "       'test_prep_course', 'math_score', 'read_score', 'write_score'],\n",
       "      dtype='object')"
      ]
     },
     "metadata": {},
     "execution_count": 6
    }
   ],
   "metadata": {}
  },
  {
   "cell_type": "code",
   "execution_count": 7,
   "source": [
    "stud_df.info()"
   ],
   "outputs": [
    {
     "output_type": "stream",
     "name": "stdout",
     "text": [
      "<class 'pandas.core.frame.DataFrame'>\n",
      "RangeIndex: 1000 entries, 0 to 999\n",
      "Data columns (total 8 columns):\n",
      " #   Column            Non-Null Count  Dtype \n",
      "---  ------            --------------  ----- \n",
      " 0   gender            1000 non-null   object\n",
      " 1   social_group      1000 non-null   object\n",
      " 2   parent_education  1000 non-null   object\n",
      " 3   lunch             1000 non-null   object\n",
      " 4   test_prep_course  1000 non-null   object\n",
      " 5   math_score        1000 non-null   int64 \n",
      " 6   read_score        1000 non-null   int64 \n",
      " 7   write_score       1000 non-null   int64 \n",
      "dtypes: int64(3), object(5)\n",
      "memory usage: 62.6+ KB\n"
     ]
    }
   ],
   "metadata": {}
  },
  {
   "cell_type": "markdown",
   "source": [
    "# Adding Grade Column"
   ],
   "metadata": {}
  },
  {
   "cell_type": "code",
   "execution_count": 8,
   "source": [
    "def AverageToGrade(AverageScore):\r\n",
    "    if (AverageScore>=80): return \"A\"\r\n",
    "    if (AverageScore>=70): return \"B\"\r\n",
    "    if (AverageScore>=60): return \"C\"\r\n",
    "    if (AverageScore>=50): return \"D\"\r\n",
    "    if (AverageScore>=40): return \"E\"\r\n",
    "    else: return \"F\""
   ],
   "outputs": [],
   "metadata": {}
  },
  {
   "cell_type": "markdown",
   "source": [
    "## Setting average"
   ],
   "metadata": {}
  },
  {
   "cell_type": "code",
   "execution_count": 9,
   "source": [
    "stud_df[\"average\"]=stud_df[[\"math_score\", \"read_score\", \"write_score\"]].mean(axis=1)\r\n",
    "stud_df.head()"
   ],
   "outputs": [
    {
     "output_type": "execute_result",
     "data": {
      "text/html": [
       "<div>\n",
       "<style scoped>\n",
       "    .dataframe tbody tr th:only-of-type {\n",
       "        vertical-align: middle;\n",
       "    }\n",
       "\n",
       "    .dataframe tbody tr th {\n",
       "        vertical-align: top;\n",
       "    }\n",
       "\n",
       "    .dataframe thead th {\n",
       "        text-align: right;\n",
       "    }\n",
       "</style>\n",
       "<table border=\"1\" class=\"dataframe\">\n",
       "  <thead>\n",
       "    <tr style=\"text-align: right;\">\n",
       "      <th></th>\n",
       "      <th>gender</th>\n",
       "      <th>social_group</th>\n",
       "      <th>parent_education</th>\n",
       "      <th>lunch</th>\n",
       "      <th>test_prep_course</th>\n",
       "      <th>math_score</th>\n",
       "      <th>read_score</th>\n",
       "      <th>write_score</th>\n",
       "      <th>average</th>\n",
       "    </tr>\n",
       "  </thead>\n",
       "  <tbody>\n",
       "    <tr>\n",
       "      <th>0</th>\n",
       "      <td>female</td>\n",
       "      <td>group B</td>\n",
       "      <td>bachelor's degree</td>\n",
       "      <td>standard</td>\n",
       "      <td>none</td>\n",
       "      <td>72</td>\n",
       "      <td>72</td>\n",
       "      <td>74</td>\n",
       "      <td>72.666667</td>\n",
       "    </tr>\n",
       "    <tr>\n",
       "      <th>1</th>\n",
       "      <td>female</td>\n",
       "      <td>group C</td>\n",
       "      <td>some college</td>\n",
       "      <td>standard</td>\n",
       "      <td>completed</td>\n",
       "      <td>69</td>\n",
       "      <td>90</td>\n",
       "      <td>88</td>\n",
       "      <td>82.333333</td>\n",
       "    </tr>\n",
       "    <tr>\n",
       "      <th>2</th>\n",
       "      <td>female</td>\n",
       "      <td>group B</td>\n",
       "      <td>master's degree</td>\n",
       "      <td>standard</td>\n",
       "      <td>none</td>\n",
       "      <td>90</td>\n",
       "      <td>95</td>\n",
       "      <td>93</td>\n",
       "      <td>92.666667</td>\n",
       "    </tr>\n",
       "    <tr>\n",
       "      <th>3</th>\n",
       "      <td>male</td>\n",
       "      <td>group A</td>\n",
       "      <td>associate's degree</td>\n",
       "      <td>free/reduced</td>\n",
       "      <td>none</td>\n",
       "      <td>47</td>\n",
       "      <td>57</td>\n",
       "      <td>44</td>\n",
       "      <td>49.333333</td>\n",
       "    </tr>\n",
       "    <tr>\n",
       "      <th>4</th>\n",
       "      <td>male</td>\n",
       "      <td>group C</td>\n",
       "      <td>some college</td>\n",
       "      <td>standard</td>\n",
       "      <td>none</td>\n",
       "      <td>76</td>\n",
       "      <td>78</td>\n",
       "      <td>75</td>\n",
       "      <td>76.333333</td>\n",
       "    </tr>\n",
       "  </tbody>\n",
       "</table>\n",
       "</div>"
      ],
      "text/plain": [
       "   gender social_group    parent_education         lunch test_prep_course  \\\n",
       "0  female      group B   bachelor's degree      standard             none   \n",
       "1  female      group C        some college      standard        completed   \n",
       "2  female      group B     master's degree      standard             none   \n",
       "3    male      group A  associate's degree  free/reduced             none   \n",
       "4    male      group C        some college      standard             none   \n",
       "\n",
       "   math_score  read_score  write_score    average  \n",
       "0          72          72           74  72.666667  \n",
       "1          69          90           88  82.333333  \n",
       "2          90          95           93  92.666667  \n",
       "3          47          57           44  49.333333  \n",
       "4          76          78           75  76.333333  "
      ]
     },
     "metadata": {},
     "execution_count": 9
    }
   ],
   "metadata": {}
  },
  {
   "cell_type": "code",
   "execution_count": 10,
   "source": [
    "stud_df[\"grade\"]=stud_df.apply(lambda x: AverageToGrade(x[\"average\"]),axis=1)\r\n",
    "stud_df.head(20)"
   ],
   "outputs": [
    {
     "output_type": "execute_result",
     "data": {
      "text/html": [
       "<div>\n",
       "<style scoped>\n",
       "    .dataframe tbody tr th:only-of-type {\n",
       "        vertical-align: middle;\n",
       "    }\n",
       "\n",
       "    .dataframe tbody tr th {\n",
       "        vertical-align: top;\n",
       "    }\n",
       "\n",
       "    .dataframe thead th {\n",
       "        text-align: right;\n",
       "    }\n",
       "</style>\n",
       "<table border=\"1\" class=\"dataframe\">\n",
       "  <thead>\n",
       "    <tr style=\"text-align: right;\">\n",
       "      <th></th>\n",
       "      <th>gender</th>\n",
       "      <th>social_group</th>\n",
       "      <th>parent_education</th>\n",
       "      <th>lunch</th>\n",
       "      <th>test_prep_course</th>\n",
       "      <th>math_score</th>\n",
       "      <th>read_score</th>\n",
       "      <th>write_score</th>\n",
       "      <th>average</th>\n",
       "      <th>grade</th>\n",
       "    </tr>\n",
       "  </thead>\n",
       "  <tbody>\n",
       "    <tr>\n",
       "      <th>0</th>\n",
       "      <td>female</td>\n",
       "      <td>group B</td>\n",
       "      <td>bachelor's degree</td>\n",
       "      <td>standard</td>\n",
       "      <td>none</td>\n",
       "      <td>72</td>\n",
       "      <td>72</td>\n",
       "      <td>74</td>\n",
       "      <td>72.666667</td>\n",
       "      <td>B</td>\n",
       "    </tr>\n",
       "    <tr>\n",
       "      <th>1</th>\n",
       "      <td>female</td>\n",
       "      <td>group C</td>\n",
       "      <td>some college</td>\n",
       "      <td>standard</td>\n",
       "      <td>completed</td>\n",
       "      <td>69</td>\n",
       "      <td>90</td>\n",
       "      <td>88</td>\n",
       "      <td>82.333333</td>\n",
       "      <td>A</td>\n",
       "    </tr>\n",
       "    <tr>\n",
       "      <th>2</th>\n",
       "      <td>female</td>\n",
       "      <td>group B</td>\n",
       "      <td>master's degree</td>\n",
       "      <td>standard</td>\n",
       "      <td>none</td>\n",
       "      <td>90</td>\n",
       "      <td>95</td>\n",
       "      <td>93</td>\n",
       "      <td>92.666667</td>\n",
       "      <td>A</td>\n",
       "    </tr>\n",
       "    <tr>\n",
       "      <th>3</th>\n",
       "      <td>male</td>\n",
       "      <td>group A</td>\n",
       "      <td>associate's degree</td>\n",
       "      <td>free/reduced</td>\n",
       "      <td>none</td>\n",
       "      <td>47</td>\n",
       "      <td>57</td>\n",
       "      <td>44</td>\n",
       "      <td>49.333333</td>\n",
       "      <td>E</td>\n",
       "    </tr>\n",
       "    <tr>\n",
       "      <th>4</th>\n",
       "      <td>male</td>\n",
       "      <td>group C</td>\n",
       "      <td>some college</td>\n",
       "      <td>standard</td>\n",
       "      <td>none</td>\n",
       "      <td>76</td>\n",
       "      <td>78</td>\n",
       "      <td>75</td>\n",
       "      <td>76.333333</td>\n",
       "      <td>B</td>\n",
       "    </tr>\n",
       "    <tr>\n",
       "      <th>5</th>\n",
       "      <td>female</td>\n",
       "      <td>group B</td>\n",
       "      <td>associate's degree</td>\n",
       "      <td>standard</td>\n",
       "      <td>none</td>\n",
       "      <td>71</td>\n",
       "      <td>83</td>\n",
       "      <td>78</td>\n",
       "      <td>77.333333</td>\n",
       "      <td>B</td>\n",
       "    </tr>\n",
       "    <tr>\n",
       "      <th>6</th>\n",
       "      <td>female</td>\n",
       "      <td>group B</td>\n",
       "      <td>some college</td>\n",
       "      <td>standard</td>\n",
       "      <td>completed</td>\n",
       "      <td>88</td>\n",
       "      <td>95</td>\n",
       "      <td>92</td>\n",
       "      <td>91.666667</td>\n",
       "      <td>A</td>\n",
       "    </tr>\n",
       "    <tr>\n",
       "      <th>7</th>\n",
       "      <td>male</td>\n",
       "      <td>group B</td>\n",
       "      <td>some college</td>\n",
       "      <td>free/reduced</td>\n",
       "      <td>none</td>\n",
       "      <td>40</td>\n",
       "      <td>43</td>\n",
       "      <td>39</td>\n",
       "      <td>40.666667</td>\n",
       "      <td>E</td>\n",
       "    </tr>\n",
       "    <tr>\n",
       "      <th>8</th>\n",
       "      <td>male</td>\n",
       "      <td>group D</td>\n",
       "      <td>high school</td>\n",
       "      <td>free/reduced</td>\n",
       "      <td>completed</td>\n",
       "      <td>64</td>\n",
       "      <td>64</td>\n",
       "      <td>67</td>\n",
       "      <td>65.000000</td>\n",
       "      <td>C</td>\n",
       "    </tr>\n",
       "    <tr>\n",
       "      <th>9</th>\n",
       "      <td>female</td>\n",
       "      <td>group B</td>\n",
       "      <td>high school</td>\n",
       "      <td>free/reduced</td>\n",
       "      <td>none</td>\n",
       "      <td>38</td>\n",
       "      <td>60</td>\n",
       "      <td>50</td>\n",
       "      <td>49.333333</td>\n",
       "      <td>E</td>\n",
       "    </tr>\n",
       "    <tr>\n",
       "      <th>10</th>\n",
       "      <td>male</td>\n",
       "      <td>group C</td>\n",
       "      <td>associate's degree</td>\n",
       "      <td>standard</td>\n",
       "      <td>none</td>\n",
       "      <td>58</td>\n",
       "      <td>54</td>\n",
       "      <td>52</td>\n",
       "      <td>54.666667</td>\n",
       "      <td>D</td>\n",
       "    </tr>\n",
       "    <tr>\n",
       "      <th>11</th>\n",
       "      <td>male</td>\n",
       "      <td>group D</td>\n",
       "      <td>associate's degree</td>\n",
       "      <td>standard</td>\n",
       "      <td>none</td>\n",
       "      <td>40</td>\n",
       "      <td>52</td>\n",
       "      <td>43</td>\n",
       "      <td>45.000000</td>\n",
       "      <td>E</td>\n",
       "    </tr>\n",
       "    <tr>\n",
       "      <th>12</th>\n",
       "      <td>female</td>\n",
       "      <td>group B</td>\n",
       "      <td>high school</td>\n",
       "      <td>standard</td>\n",
       "      <td>none</td>\n",
       "      <td>65</td>\n",
       "      <td>81</td>\n",
       "      <td>73</td>\n",
       "      <td>73.000000</td>\n",
       "      <td>B</td>\n",
       "    </tr>\n",
       "    <tr>\n",
       "      <th>13</th>\n",
       "      <td>male</td>\n",
       "      <td>group A</td>\n",
       "      <td>some college</td>\n",
       "      <td>standard</td>\n",
       "      <td>completed</td>\n",
       "      <td>78</td>\n",
       "      <td>72</td>\n",
       "      <td>70</td>\n",
       "      <td>73.333333</td>\n",
       "      <td>B</td>\n",
       "    </tr>\n",
       "    <tr>\n",
       "      <th>14</th>\n",
       "      <td>female</td>\n",
       "      <td>group A</td>\n",
       "      <td>master's degree</td>\n",
       "      <td>standard</td>\n",
       "      <td>none</td>\n",
       "      <td>50</td>\n",
       "      <td>53</td>\n",
       "      <td>58</td>\n",
       "      <td>53.666667</td>\n",
       "      <td>D</td>\n",
       "    </tr>\n",
       "    <tr>\n",
       "      <th>15</th>\n",
       "      <td>female</td>\n",
       "      <td>group C</td>\n",
       "      <td>some high school</td>\n",
       "      <td>standard</td>\n",
       "      <td>none</td>\n",
       "      <td>69</td>\n",
       "      <td>75</td>\n",
       "      <td>78</td>\n",
       "      <td>74.000000</td>\n",
       "      <td>B</td>\n",
       "    </tr>\n",
       "    <tr>\n",
       "      <th>16</th>\n",
       "      <td>male</td>\n",
       "      <td>group C</td>\n",
       "      <td>high school</td>\n",
       "      <td>standard</td>\n",
       "      <td>none</td>\n",
       "      <td>88</td>\n",
       "      <td>89</td>\n",
       "      <td>86</td>\n",
       "      <td>87.666667</td>\n",
       "      <td>A</td>\n",
       "    </tr>\n",
       "    <tr>\n",
       "      <th>17</th>\n",
       "      <td>female</td>\n",
       "      <td>group B</td>\n",
       "      <td>some high school</td>\n",
       "      <td>free/reduced</td>\n",
       "      <td>none</td>\n",
       "      <td>18</td>\n",
       "      <td>32</td>\n",
       "      <td>28</td>\n",
       "      <td>26.000000</td>\n",
       "      <td>F</td>\n",
       "    </tr>\n",
       "    <tr>\n",
       "      <th>18</th>\n",
       "      <td>male</td>\n",
       "      <td>group C</td>\n",
       "      <td>master's degree</td>\n",
       "      <td>free/reduced</td>\n",
       "      <td>completed</td>\n",
       "      <td>46</td>\n",
       "      <td>42</td>\n",
       "      <td>46</td>\n",
       "      <td>44.666667</td>\n",
       "      <td>E</td>\n",
       "    </tr>\n",
       "    <tr>\n",
       "      <th>19</th>\n",
       "      <td>female</td>\n",
       "      <td>group C</td>\n",
       "      <td>associate's degree</td>\n",
       "      <td>free/reduced</td>\n",
       "      <td>none</td>\n",
       "      <td>54</td>\n",
       "      <td>58</td>\n",
       "      <td>61</td>\n",
       "      <td>57.666667</td>\n",
       "      <td>D</td>\n",
       "    </tr>\n",
       "  </tbody>\n",
       "</table>\n",
       "</div>"
      ],
      "text/plain": [
       "    gender social_group    parent_education         lunch test_prep_course  \\\n",
       "0   female      group B   bachelor's degree      standard             none   \n",
       "1   female      group C        some college      standard        completed   \n",
       "2   female      group B     master's degree      standard             none   \n",
       "3     male      group A  associate's degree  free/reduced             none   \n",
       "4     male      group C        some college      standard             none   \n",
       "5   female      group B  associate's degree      standard             none   \n",
       "6   female      group B        some college      standard        completed   \n",
       "7     male      group B        some college  free/reduced             none   \n",
       "8     male      group D         high school  free/reduced        completed   \n",
       "9   female      group B         high school  free/reduced             none   \n",
       "10    male      group C  associate's degree      standard             none   \n",
       "11    male      group D  associate's degree      standard             none   \n",
       "12  female      group B         high school      standard             none   \n",
       "13    male      group A        some college      standard        completed   \n",
       "14  female      group A     master's degree      standard             none   \n",
       "15  female      group C    some high school      standard             none   \n",
       "16    male      group C         high school      standard             none   \n",
       "17  female      group B    some high school  free/reduced             none   \n",
       "18    male      group C     master's degree  free/reduced        completed   \n",
       "19  female      group C  associate's degree  free/reduced             none   \n",
       "\n",
       "    math_score  read_score  write_score    average grade  \n",
       "0           72          72           74  72.666667     B  \n",
       "1           69          90           88  82.333333     A  \n",
       "2           90          95           93  92.666667     A  \n",
       "3           47          57           44  49.333333     E  \n",
       "4           76          78           75  76.333333     B  \n",
       "5           71          83           78  77.333333     B  \n",
       "6           88          95           92  91.666667     A  \n",
       "7           40          43           39  40.666667     E  \n",
       "8           64          64           67  65.000000     C  \n",
       "9           38          60           50  49.333333     E  \n",
       "10          58          54           52  54.666667     D  \n",
       "11          40          52           43  45.000000     E  \n",
       "12          65          81           73  73.000000     B  \n",
       "13          78          72           70  73.333333     B  \n",
       "14          50          53           58  53.666667     D  \n",
       "15          69          75           78  74.000000     B  \n",
       "16          88          89           86  87.666667     A  \n",
       "17          18          32           28  26.000000     F  \n",
       "18          46          42           46  44.666667     E  \n",
       "19          54          58           61  57.666667     D  "
      ]
     },
     "metadata": {},
     "execution_count": 10
    }
   ],
   "metadata": {}
  },
  {
   "cell_type": "code",
   "execution_count": 11,
   "source": [
    "sns.countplot(data=stud_df, x=stud_df[\"grade\"], hue=stud_df[\"gender\"])"
   ],
   "outputs": [
    {
     "output_type": "execute_result",
     "data": {
      "text/plain": [
       "<AxesSubplot:xlabel='grade', ylabel='count'>"
      ]
     },
     "metadata": {},
     "execution_count": 11
    },
    {
     "output_type": "display_data",
     "data": {
      "image/png": "[encoded data removed]",
      "text/plain": [
       "<Figure size 432x288 with 1 Axes>"
      ]
     },
     "metadata": {
      "needs_background": "light"
     }
    }
   ],
   "metadata": {}
  },
  {
   "cell_type": "code",
   "execution_count": 12,
   "source": [
    "gender_mean = stud_df.groupby('gender')[['math_score','read_score','write_score','average']].mean().round(2)\r\n",
    "gender_mean"
   ],
   "outputs": [
    {
     "output_type": "execute_result",
     "data": {
      "text/html": [
       "<div>\n",
       "<style scoped>\n",
       "    .dataframe tbody tr th:only-of-type {\n",
       "        vertical-align: middle;\n",
       "    }\n",
       "\n",
       "    .dataframe tbody tr th {\n",
       "        vertical-align: top;\n",
       "    }\n",
       "\n",
       "    .dataframe thead th {\n",
       "        text-align: right;\n",
       "    }\n",
       "</style>\n",
       "<table border=\"1\" class=\"dataframe\">\n",
       "  <thead>\n",
       "    <tr style=\"text-align: right;\">\n",
       "      <th></th>\n",
       "      <th>math_score</th>\n",
       "      <th>read_score</th>\n",
       "      <th>write_score</th>\n",
       "      <th>average</th>\n",
       "    </tr>\n",
       "    <tr>\n",
       "      <th>gender</th>\n",
       "      <th></th>\n",
       "      <th></th>\n",
       "      <th></th>\n",
       "      <th></th>\n",
       "    </tr>\n",
       "  </thead>\n",
       "  <tbody>\n",
       "    <tr>\n",
       "      <th>female</th>\n",
       "      <td>63.63</td>\n",
       "      <td>72.61</td>\n",
       "      <td>72.47</td>\n",
       "      <td>69.57</td>\n",
       "    </tr>\n",
       "    <tr>\n",
       "      <th>male</th>\n",
       "      <td>68.73</td>\n",
       "      <td>65.47</td>\n",
       "      <td>63.31</td>\n",
       "      <td>65.84</td>\n",
       "    </tr>\n",
       "  </tbody>\n",
       "</table>\n",
       "</div>"
      ],
      "text/plain": [
       "        math_score  read_score  write_score  average\n",
       "gender                                              \n",
       "female       63.63       72.61        72.47    69.57\n",
       "male         68.73       65.47        63.31    65.84"
      ]
     },
     "metadata": {},
     "execution_count": 12
    }
   ],
   "metadata": {}
  },
  {
   "cell_type": "code",
   "execution_count": 13,
   "source": [
    "fig = go.Figure(data=[go.Table(\r\n",
    "    header=dict(values=['','Male', 'Female'],\r\n",
    "                line_color='darkslategray',\r\n",
    "                fill_color='lightskyblue',\r\n",
    "                align='center',\r\n",
    "               height=40,\r\n",
    "               font_size=20),\r\n",
    "    cells=dict(values=[gender_mean.T.index,\r\n",
    "                       gender_mean.T['male'],\r\n",
    "                       gender_mean.T['female']],\r\n",
    "               line_color='darkslategray',\r\n",
    "               fill_color='lightcyan',\r\n",
    "               align='center',\r\n",
    "              height=40,\r\n",
    "              font_size= 20))\r\n",
    "])\r\n",
    "\r\n",
    "fig.update_layout(width=800, height=400)\r\n",
    "fig.show()"
   ],
   "outputs": [
    {
     "output_type": "display_data",
     "data": {
      "application/vnd.plotly.v1+json": {
       "config": {
        "plotlyServerURL": "https://plot.ly"
       },
       "data": [
        {
         "cells": {
          "align": "center",
          "fill": {
           "color": "lightcyan"
          },
          "font": {
           "size": 20
          },
          "height": 40,
          "line": {
           "color": "darkslategray"
          },
          "values": [
           [
            "math_score",
            "read_score",
            "write_score",
            "average"
           ],
           [
            68.73,
            65.47,
            63.31,
            65.84
           ],
           [
            63.63,
            72.61,
            72.47,
            69.57
           ]
          ]
         },
         "header": {
          "align": "center",
          "fill": {
           "color": "lightskyblue"
          },
          "font": {
           "size": 20
          },
          "height": 40,
          "line": {
           "color": "darkslategray"
          },
          "values": [
           "",
           "Male",
           "Female"
          ]
         },
         "type": "table"
        }
       ],
       "layout": {
        "height": 400,
        "template": {
         "data": {
          "bar": [
           {
            "error_x": {
             "color": "#2a3f5f"
            },
            "error_y": {
             "color": "#2a3f5f"
            },
            "marker": {
             "line": {
              "color": "#E5ECF6",
              "width": 0.5
             },
             "pattern": {
              "fillmode": "overlay",
              "size": 10,
              "solidity": 0.2
             }
            },
            "type": "bar"
           }
          ],
          "barpolar": [
           {
            "marker": {
             "line": {
              "color": "#E5ECF6",
              "width": 0.5
             },
             "pattern": {
              "fillmode": "overlay",
              "size": 10,
              "solidity": 0.2
             }
            },
            "type": "barpolar"
           }
          ],
          "carpet": [
           {
            "aaxis": {
             "endlinecolor": "#2a3f5f",
             "gridcolor": "white",
             "linecolor": "white",
             "minorgridcolor": "white",
             "startlinecolor": "#2a3f5f"
            },
            "baxis": {
             "endlinecolor": "#2a3f5f",
             "gridcolor": "white",
             "linecolor": "white",
             "minorgridcolor": "white",
             "startlinecolor": "#2a3f5f"
            },
            "type": "carpet"
           }
          ],
          "choropleth": [
           {
            "colorbar": {
             "outlinewidth": 0,
             "ticks": ""
            },
            "type": "choropleth"
           }
          ],
          "contour": [
           {
            "colorbar": {
             "outlinewidth": 0,
             "ticks": ""
            },
            "colorscale": [
             [
              0,
              "#0d0887"
             ],
             [
              0.1111111111111111,
              "#46039f"
             ],
             [
              0.2222222222222222,
              "#7201a8"
             ],
             [
              0.3333333333333333,
              "#9c179e"
             ],
             [
              0.4444444444444444,
              "#bd3786"
             ],
             [
              0.5555555555555556,
              "#d8576b"
             ],
             [
              0.6666666666666666,
              "#ed7953"
             ],
             [
              0.7777777777777778,
              "#fb9f3a"
             ],
             [
              0.8888888888888888,
              "#fdca26"
             ],
             [
              1,
              "#f0f921"
             ]
            ],
            "type": "contour"
           }
          ],
          "contourcarpet": [
           {
            "colorbar": {
             "outlinewidth": 0,
             "ticks": ""
            },
            "type": "contourcarpet"
           }
          ],
          "heatmap": [
           {
            "colorbar": {
             "outlinewidth": 0,
             "ticks": ""
            },
            "colorscale": [
             [
              0,
              "#0d0887"
             ],
             [
              0.1111111111111111,
              "#46039f"
             ],
             [
              0.2222222222222222,
              "#7201a8"
             ],
             [
              0.3333333333333333,
              "#9c179e"
             ],
             [
              0.4444444444444444,
              "#bd3786"
             ],
             [
              0.5555555555555556,
              "#d8576b"
             ],
             [
              0.6666666666666666,
              "#ed7953"
             ],
             [
              0.7777777777777778,
              "#fb9f3a"
             ],
             [
              0.8888888888888888,
              "#fdca26"
             ],
             [
              1,
              "#f0f921"
             ]
            ],
            "type": "heatmap"
           }
          ],
          "heatmapgl": [
           {
            "colorbar": {
             "outlinewidth": 0,
             "ticks": ""
            },
            "colorscale": [
             [
              0,
              "#0d0887"
             ],
             [
              0.1111111111111111,
              "#46039f"
             ],
             [
              0.2222222222222222,
              "#7201a8"
             ],
             [
              0.3333333333333333,
              "#9c179e"
             ],
             [
              0.4444444444444444,
              "#bd3786"
             ],
             [
              0.5555555555555556,
              "#d8576b"
             ],
             [
              0.6666666666666666,
              "#ed7953"
             ],
             [
              0.7777777777777778,
              "#fb9f3a"
             ],
             [
              0.8888888888888888,
              "#fdca26"
             ],
             [
              1,
              "#f0f921"
             ]
            ],
            "type": "heatmapgl"
           }
          ],
          "histogram": [
           {
            "marker": {
             "pattern": {
              "fillmode": "overlay",
              "size": 10,
              "solidity": 0.2
             }
            },
            "type": "histogram"
           }
          ],
          "histogram2d": [
           {
            "colorbar": {
             "outlinewidth": 0,
             "ticks": ""
            },
            "colorscale": [
             [
              0,
              "#0d0887"
             ],
             [
              0.1111111111111111,
              "#46039f"
             ],
             [
              0.2222222222222222,
              "#7201a8"
             ],
             [
              0.3333333333333333,
              "#9c179e"
             ],
             [
              0.4444444444444444,
              "#bd3786"
             ],
             [
              0.5555555555555556,
              "#d8576b"
             ],
             [
              0.6666666666666666,
              "#ed7953"
             ],
             [
              0.7777777777777778,
              "#fb9f3a"
             ],
             [
              0.8888888888888888,
              "#fdca26"
             ],
             [
              1,
              "#f0f921"
             ]
            ],
            "type": "histogram2d"
           }
          ],
          "histogram2dcontour": [
           {
            "colorbar": {
             "outlinewidth": 0,
             "ticks": ""
            },
            "colorscale": [
             [
              0,
              "#0d0887"
             ],
             [
              0.1111111111111111,
              "#46039f"
             ],
             [
              0.2222222222222222,
              "#7201a8"
             ],
             [
              0.3333333333333333,
              "#9c179e"
             ],
             [
              0.4444444444444444,
              "#bd3786"
             ],
             [
              0.5555555555555556,
              "#d8576b"
             ],
             [
              0.6666666666666666,
              "#ed7953"
             ],
             [
              0.7777777777777778,
              "#fb9f3a"
             ],
             [
              0.8888888888888888,
              "#fdca26"
             ],
             [
              1,
              "#f0f921"
             ]
            ],
            "type": "histogram2dcontour"
           }
          ],
          "mesh3d": [
           {
            "colorbar": {
             "outlinewidth": 0,
             "ticks": ""
            },
            "type": "mesh3d"
           }
          ],
          "parcoords": [
           {
            "line": {
             "colorbar": {
              "outlinewidth": 0,
              "ticks": ""
             }
            },
            "type": "parcoords"
           }
          ],
          "pie": [
           {
            "automargin": true,
            "type": "pie"
           }
          ],
          "scatter": [
           {
            "marker": {
             "colorbar": {
              "outlinewidth": 0,
              "ticks": ""
             }
            },
            "type": "scatter"
           }
          ],
          "scatter3d": [
           {
            "line": {
             "colorbar": {
              "outlinewidth": 0,
              "ticks": ""
             }
            },
            "marker": {
             "colorbar": {
              "outlinewidth": 0,
              "ticks": ""
             }
            },
            "type": "scatter3d"
           }
          ],
          "scattercarpet": [
           {
            "marker": {
             "colorbar": {
              "outlinewidth": 0,
              "ticks": ""
             }
            },
            "type": "scattercarpet"
           }
          ],
          "scattergeo": [
           {
            "marker": {
             "colorbar": {
              "outlinewidth": 0,
              "ticks": ""
             }
            },
            "type": "scattergeo"
           }
          ],
          "scattergl": [
           {
            "marker": {
             "colorbar": {
              "outlinewidth": 0,
              "ticks": ""
             }
            },
            "type": "scattergl"
           }
          ],
          "scattermapbox": [
           {
            "marker": {
             "colorbar": {
              "outlinewidth": 0,
              "ticks": ""
             }
            },
            "type": "scattermapbox"
           }
          ],
          "scatterpolar": [
           {
            "marker": {
             "colorbar": {
              "outlinewidth": 0,
              "ticks": ""
             }
            },
            "type": "scatterpolar"
           }
          ],
          "scatterpolargl": [
           {
            "marker": {
             "colorbar": {
              "outlinewidth": 0,
              "ticks": ""
             }
            },
            "type": "scatterpolargl"
           }
          ],
          "scatterternary": [
           {
            "marker": {
             "colorbar": {
              "outlinewidth": 0,
              "ticks": ""
             }
            },
            "type": "scatterternary"
           }
          ],
          "surface": [
           {
            "colorbar": {
             "outlinewidth": 0,
             "ticks": ""
            },
            "colorscale": [
             [
              0,
              "#0d0887"
             ],
             [
              0.1111111111111111,
              "#46039f"
             ],
             [
              0.2222222222222222,
              "#7201a8"
             ],
             [
              0.3333333333333333,
              "#9c179e"
             ],
             [
              0.4444444444444444,
              "#bd3786"
             ],
             [
              0.5555555555555556,
              "#d8576b"
             ],
             [
              0.6666666666666666,
              "#ed7953"
             ],
             [
              0.7777777777777778,
              "#fb9f3a"
             ],
             [
              0.8888888888888888,
              "#fdca26"
             ],
             [
              1,
              "#f0f921"
             ]
            ],
            "type": "surface"
           }
          ],
          "table": [
           {
            "cells": {
             "fill": {
              "color": "#EBF0F8"
             },
             "line": {
              "color": "white"
             }
            },
            "header": {
             "fill": {
              "color": "#C8D4E3"
             },
             "line": {
              "color": "white"
             }
            },
            "type": "table"
           }
          ]
         },
         "layout": {
          "annotationdefaults": {
           "arrowcolor": "#2a3f5f",
           "arrowhead": 0,
           "arrowwidth": 1
          },
          "autotypenumbers": "strict",
          "coloraxis": {
           "colorbar": {
            "outlinewidth": 0,
            "ticks": ""
           }
          },
          "colorscale": {
           "diverging": [
            [
             0,
             "#8e0152"
            ],
            [
             0.1,
             "#c51b7d"
            ],
            [
             0.2,
             "#de77ae"
            ],
            [
             0.3,
             "#f1b6da"
            ],
            [
             0.4,
             "#fde0ef"
            ],
            [
             0.5,
             "#f7f7f7"
            ],
            [
             0.6,
             "#e6f5d0"
            ],
            [
             0.7,
             "#b8e186"
            ],
            [
             0.8,
             "#7fbc41"
            ],
            [
             0.9,
             "#4d9221"
            ],
            [
             1,
             "#276419"
            ]
           ],
           "sequential": [
            [
             0,
             "#0d0887"
            ],
            [
             0.1111111111111111,
             "#46039f"
            ],
            [
             0.2222222222222222,
             "#7201a8"
            ],
            [
             0.3333333333333333,
             "#9c179e"
            ],
            [
             0.4444444444444444,
             "#bd3786"
            ],
            [
             0.5555555555555556,
             "#d8576b"
            ],
            [
             0.6666666666666666,
             "#ed7953"
            ],
            [
             0.7777777777777778,
             "#fb9f3a"
            ],
            [
             0.8888888888888888,
             "#fdca26"
            ],
            [
             1,
             "#f0f921"
            ]
           ],
           "sequentialminus": [
            [
             0,
             "#0d0887"
            ],
            [
             0.1111111111111111,
             "#46039f"
            ],
            [
             0.2222222222222222,
             "#7201a8"
            ],
            [
             0.3333333333333333,
             "#9c179e"
            ],
            [
             0.4444444444444444,
             "#bd3786"
            ],
            [
             0.5555555555555556,
             "#d8576b"
            ],
            [
             0.6666666666666666,
             "#ed7953"
            ],
            [
             0.7777777777777778,
             "#fb9f3a"
            ],
            [
             0.8888888888888888,
             "#fdca26"
            ],
            [
             1,
             "#f0f921"
            ]
           ]
          },
          "colorway": [
           "#636efa",
           "#EF553B",
           "#00cc96",
           "#ab63fa",
           "#FFA15A",
           "#19d3f3",
           "#FF6692",
           "#B6E880",
           "#FF97FF",
           "#FECB52"
          ],
          "font": {
           "color": "#2a3f5f"
          },
          "geo": {
           "bgcolor": "white",
           "lakecolor": "white",
           "landcolor": "#E5ECF6",
           "showlakes": true,
           "showland": true,
           "subunitcolor": "white"
          },
          "hoverlabel": {
           "align": "left"
          },
          "hovermode": "closest",
          "mapbox": {
           "style": "light"
          },
          "paper_bgcolor": "white",
          "plot_bgcolor": "#E5ECF6",
          "polar": {
           "angularaxis": {
            "gridcolor": "white",
            "linecolor": "white",
            "ticks": ""
           },
           "bgcolor": "#E5ECF6",
           "radialaxis": {
            "gridcolor": "white",
            "linecolor": "white",
            "ticks": ""
           }
          },
          "scene": {
           "xaxis": {
            "backgroundcolor": "#E5ECF6",
            "gridcolor": "white",
            "gridwidth": 2,
            "linecolor": "white",
            "showbackground": true,
            "ticks": "",
            "zerolinecolor": "white"
           },
           "yaxis": {
            "backgroundcolor": "#E5ECF6",
            "gridcolor": "white",
            "gridwidth": 2,
            "linecolor": "white",
            "showbackground": true,
            "ticks": "",
            "zerolinecolor": "white"
           },
           "zaxis": {
            "backgroundcolor": "#E5ECF6",
            "gridcolor": "white",
            "gridwidth": 2,
            "linecolor": "white",
            "showbackground": true,
            "ticks": "",
            "zerolinecolor": "white"
           }
          },
          "shapedefaults": {
           "line": {
            "color": "#2a3f5f"
           }
          },
          "ternary": {
           "aaxis": {
            "gridcolor": "white",
            "linecolor": "white",
            "ticks": ""
           },
           "baxis": {
            "gridcolor": "white",
            "linecolor": "white",
            "ticks": ""
           },
           "bgcolor": "#E5ECF6",
           "caxis": {
            "gridcolor": "white",
            "linecolor": "white",
            "ticks": ""
           }
          },
          "title": {
           "x": 0.05
          },
          "xaxis": {
           "automargin": true,
           "gridcolor": "white",
           "linecolor": "white",
           "ticks": "",
           "title": {
            "standoff": 15
           },
           "zerolinecolor": "white",
           "zerolinewidth": 2
          },
          "yaxis": {
           "automargin": true,
           "gridcolor": "white",
           "linecolor": "white",
           "ticks": "",
           "title": {
            "standoff": 15
           },
           "zerolinecolor": "white",
           "zerolinewidth": 2
          }
         }
        },
        "width": 800
       }
      }
     },
     "metadata": {}
    }
   ],
   "metadata": {}
  },
  {
   "cell_type": "code",
   "execution_count": 14,
   "source": [
    "sns.displot(stud_df, x=\"math_score\", hue=\"gender\", kind=\"kde\", fill =\"true\")\r\n",
    "print(\"Average: %d\" % stud_df['math_score'].median())"
   ],
   "outputs": [
    {
     "output_type": "stream",
     "name": "stdout",
     "text": [
      "Average: 66\n"
     ]
    },
    {
     "output_type": "display_data",
     "data": {
      "image/png": "[encoded data removed]",
      "text/plain": [
       "<Figure size 430.5x360 with 1 Axes>"
      ]
     },
     "metadata": {
      "needs_background": "light"
     }
    }
   ],
   "metadata": {}
  },
  {
   "cell_type": "code",
   "execution_count": 15,
   "source": [
    "gender_mean.reset_index(inplace=True)\r\n",
    "fig = plt.pyplot.figure()\r\n",
    "gs = fig.add_gridspec(4, hspace=0)\r\n",
    "\r\n",
    "figure, axes = plt.pyplot.subplots(1, 4, sharex=True, sharey=True, figsize=(18,6))\r\n",
    "figure.suptitle('Mean Score Visualize by Gender')\r\n",
    "sns.barplot(x='gender', y='math_score', data=gender_mean,palette='pastel', ax=axes[0])\r\n",
    "axes[0].set_title('Math Score')\r\n",
    "sns.barplot(x='gender', y='read_score', data=gender_mean,palette='pastel', ax=axes[1])\r\n",
    "axes[1].set_title('Reading Score')\r\n",
    "sns.barplot(x='gender', y='write_score', data=gender_mean,palette='pastel', ax=axes[2])\r\n",
    "axes[2].set_title('Writing Score')\r\n",
    "sns.barplot(x='gender', y='average', data=gender_mean,palette='pastel', ax=axes[3])\r\n",
    "axes[3].set_title('Average Score')\r\n"
   ],
   "outputs": [
    {
     "output_type": "execute_result",
     "data": {
      "text/plain": [
       "Text(0.5, 1.0, 'Average Score')"
      ]
     },
     "metadata": {},
     "execution_count": 15
    },
    {
     "output_type": "display_data",
     "data": {
      "text/plain": [
       "<Figure size 432x288 with 0 Axes>"
      ]
     },
     "metadata": {}
    },
    {
     "output_type": "display_data",
     "data": {
      "image/png": "[encoded data removed]",
      "text/plain": [
       "<Figure size 1296x432 with 4 Axes>"
      ]
     },
     "metadata": {
      "needs_background": "light"
     }
    }
   ],
   "metadata": {}
  },
  {
   "cell_type": "markdown",
   "source": [
    "# Explore Categorical Variables\r\n"
   ],
   "metadata": {}
  },
  {
   "cell_type": "code",
   "execution_count": 16,
   "source": [
    "unique_df = pd.DataFrame(columns=['VariableName','UniqueValues'])\r\n",
    "object_columns = list(\r\n",
    "        filter(\r\n",
    "            lambda col: str(stud_df[col[1]].dtype) == 'object' , enumerate(stud_df.columns) \r\n",
    "        )\r\n",
    "    )\r\n",
    "object_columns"
   ],
   "outputs": [
    {
     "output_type": "execute_result",
     "data": {
      "text/plain": [
       "[(0, 'gender'),\n",
       " (1, 'social_group'),\n",
       " (2, 'parent_education'),\n",
       " (3, 'lunch'),\n",
       " (4, 'test_prep_course'),\n",
       " (9, 'grade')]"
      ]
     },
     "metadata": {},
     "execution_count": 16
    }
   ],
   "metadata": {}
  },
  {
   "cell_type": "code",
   "execution_count": 17,
   "source": [
    "for col in object_columns:\r\n",
    "    unique_df.loc[col[0],['VariableName','UniqueValues']] = [col[1], \", \".join(stud_df[col[1]].unique())]"
   ],
   "outputs": [],
   "metadata": {}
  },
  {
   "cell_type": "code",
   "execution_count": 18,
   "source": [
    "pd.options.display.max_colwidth = 100\r\n",
    "\r\n",
    "unique_df"
   ],
   "outputs": [
    {
     "output_type": "execute_result",
     "data": {
      "text/html": [
       "<div>\n",
       "<style scoped>\n",
       "    .dataframe tbody tr th:only-of-type {\n",
       "        vertical-align: middle;\n",
       "    }\n",
       "\n",
       "    .dataframe tbody tr th {\n",
       "        vertical-align: top;\n",
       "    }\n",
       "\n",
       "    .dataframe thead th {\n",
       "        text-align: right;\n",
       "    }\n",
       "</style>\n",
       "<table border=\"1\" class=\"dataframe\">\n",
       "  <thead>\n",
       "    <tr style=\"text-align: right;\">\n",
       "      <th></th>\n",
       "      <th>VariableName</th>\n",
       "      <th>UniqueValues</th>\n",
       "    </tr>\n",
       "  </thead>\n",
       "  <tbody>\n",
       "    <tr>\n",
       "      <th>0</th>\n",
       "      <td>gender</td>\n",
       "      <td>female, male</td>\n",
       "    </tr>\n",
       "    <tr>\n",
       "      <th>1</th>\n",
       "      <td>social_group</td>\n",
       "      <td>group B, group C, group A, group D, group E</td>\n",
       "    </tr>\n",
       "    <tr>\n",
       "      <th>2</th>\n",
       "      <td>parent_education</td>\n",
       "      <td>bachelor's degree, some college, master's degree, associate's degree, high school, some high school</td>\n",
       "    </tr>\n",
       "    <tr>\n",
       "      <th>3</th>\n",
       "      <td>lunch</td>\n",
       "      <td>standard, free/reduced</td>\n",
       "    </tr>\n",
       "    <tr>\n",
       "      <th>4</th>\n",
       "      <td>test_prep_course</td>\n",
       "      <td>none, completed</td>\n",
       "    </tr>\n",
       "    <tr>\n",
       "      <th>9</th>\n",
       "      <td>grade</td>\n",
       "      <td>B, A, E, C, D, F</td>\n",
       "    </tr>\n",
       "  </tbody>\n",
       "</table>\n",
       "</div>"
      ],
      "text/plain": [
       "       VariableName  \\\n",
       "0            gender   \n",
       "1      social_group   \n",
       "2  parent_education   \n",
       "3             lunch   \n",
       "4  test_prep_course   \n",
       "9             grade   \n",
       "\n",
       "                                                                                          UniqueValues  \n",
       "0                                                                                         female, male  \n",
       "1                                                          group B, group C, group A, group D, group E  \n",
       "2  bachelor's degree, some college, master's degree, associate's degree, high school, some high school  \n",
       "3                                                                               standard, free/reduced  \n",
       "4                                                                                      none, completed  \n",
       "9                                                                                     B, A, E, C, D, F  "
      ]
     },
     "metadata": {},
     "execution_count": 18
    }
   ],
   "metadata": {}
  },
  {
   "cell_type": "code",
   "execution_count": 19,
   "source": [
    "stud_df.describe()"
   ],
   "outputs": [
    {
     "output_type": "execute_result",
     "data": {
      "text/html": [
       "<div>\n",
       "<style scoped>\n",
       "    .dataframe tbody tr th:only-of-type {\n",
       "        vertical-align: middle;\n",
       "    }\n",
       "\n",
       "    .dataframe tbody tr th {\n",
       "        vertical-align: top;\n",
       "    }\n",
       "\n",
       "    .dataframe thead th {\n",
       "        text-align: right;\n",
       "    }\n",
       "</style>\n",
       "<table border=\"1\" class=\"dataframe\">\n",
       "  <thead>\n",
       "    <tr style=\"text-align: right;\">\n",
       "      <th></th>\n",
       "      <th>math_score</th>\n",
       "      <th>read_score</th>\n",
       "      <th>write_score</th>\n",
       "      <th>average</th>\n",
       "    </tr>\n",
       "  </thead>\n",
       "  <tbody>\n",
       "    <tr>\n",
       "      <th>count</th>\n",
       "      <td>1000.00000</td>\n",
       "      <td>1000.000000</td>\n",
       "      <td>1000.000000</td>\n",
       "      <td>1000.000000</td>\n",
       "    </tr>\n",
       "    <tr>\n",
       "      <th>mean</th>\n",
       "      <td>66.08900</td>\n",
       "      <td>69.169000</td>\n",
       "      <td>68.054000</td>\n",
       "      <td>67.770667</td>\n",
       "    </tr>\n",
       "    <tr>\n",
       "      <th>std</th>\n",
       "      <td>15.16308</td>\n",
       "      <td>14.600192</td>\n",
       "      <td>15.195657</td>\n",
       "      <td>14.257326</td>\n",
       "    </tr>\n",
       "    <tr>\n",
       "      <th>min</th>\n",
       "      <td>0.00000</td>\n",
       "      <td>17.000000</td>\n",
       "      <td>10.000000</td>\n",
       "      <td>9.000000</td>\n",
       "    </tr>\n",
       "    <tr>\n",
       "      <th>25%</th>\n",
       "      <td>57.00000</td>\n",
       "      <td>59.000000</td>\n",
       "      <td>57.750000</td>\n",
       "      <td>58.333333</td>\n",
       "    </tr>\n",
       "    <tr>\n",
       "      <th>50%</th>\n",
       "      <td>66.00000</td>\n",
       "      <td>70.000000</td>\n",
       "      <td>69.000000</td>\n",
       "      <td>68.333333</td>\n",
       "    </tr>\n",
       "    <tr>\n",
       "      <th>75%</th>\n",
       "      <td>77.00000</td>\n",
       "      <td>79.000000</td>\n",
       "      <td>79.000000</td>\n",
       "      <td>77.666667</td>\n",
       "    </tr>\n",
       "    <tr>\n",
       "      <th>max</th>\n",
       "      <td>100.00000</td>\n",
       "      <td>100.000000</td>\n",
       "      <td>100.000000</td>\n",
       "      <td>100.000000</td>\n",
       "    </tr>\n",
       "  </tbody>\n",
       "</table>\n",
       "</div>"
      ],
      "text/plain": [
       "       math_score   read_score  write_score      average\n",
       "count  1000.00000  1000.000000  1000.000000  1000.000000\n",
       "mean     66.08900    69.169000    68.054000    67.770667\n",
       "std      15.16308    14.600192    15.195657    14.257326\n",
       "min       0.00000    17.000000    10.000000     9.000000\n",
       "25%      57.00000    59.000000    57.750000    58.333333\n",
       "50%      66.00000    70.000000    69.000000    68.333333\n",
       "75%      77.00000    79.000000    79.000000    77.666667\n",
       "max     100.00000   100.000000   100.000000   100.000000"
      ]
     },
     "metadata": {},
     "execution_count": 19
    }
   ],
   "metadata": {}
  },
  {
   "cell_type": "code",
   "execution_count": 20,
   "source": [
    "stud_df.describe(include='all')\r\n"
   ],
   "outputs": [
    {
     "output_type": "execute_result",
     "data": {
      "text/html": [
       "<div>\n",
       "<style scoped>\n",
       "    .dataframe tbody tr th:only-of-type {\n",
       "        vertical-align: middle;\n",
       "    }\n",
       "\n",
       "    .dataframe tbody tr th {\n",
       "        vertical-align: top;\n",
       "    }\n",
       "\n",
       "    .dataframe thead th {\n",
       "        text-align: right;\n",
       "    }\n",
       "</style>\n",
       "<table border=\"1\" class=\"dataframe\">\n",
       "  <thead>\n",
       "    <tr style=\"text-align: right;\">\n",
       "      <th></th>\n",
       "      <th>gender</th>\n",
       "      <th>social_group</th>\n",
       "      <th>parent_education</th>\n",
       "      <th>lunch</th>\n",
       "      <th>test_prep_course</th>\n",
       "      <th>math_score</th>\n",
       "      <th>read_score</th>\n",
       "      <th>write_score</th>\n",
       "      <th>average</th>\n",
       "      <th>grade</th>\n",
       "    </tr>\n",
       "  </thead>\n",
       "  <tbody>\n",
       "    <tr>\n",
       "      <th>count</th>\n",
       "      <td>1000</td>\n",
       "      <td>1000</td>\n",
       "      <td>1000</td>\n",
       "      <td>1000</td>\n",
       "      <td>1000</td>\n",
       "      <td>1000.00000</td>\n",
       "      <td>1000.000000</td>\n",
       "      <td>1000.000000</td>\n",
       "      <td>1000.000000</td>\n",
       "      <td>1000</td>\n",
       "    </tr>\n",
       "    <tr>\n",
       "      <th>unique</th>\n",
       "      <td>2</td>\n",
       "      <td>5</td>\n",
       "      <td>6</td>\n",
       "      <td>2</td>\n",
       "      <td>2</td>\n",
       "      <td>NaN</td>\n",
       "      <td>NaN</td>\n",
       "      <td>NaN</td>\n",
       "      <td>NaN</td>\n",
       "      <td>6</td>\n",
       "    </tr>\n",
       "    <tr>\n",
       "      <th>top</th>\n",
       "      <td>female</td>\n",
       "      <td>group C</td>\n",
       "      <td>some college</td>\n",
       "      <td>standard</td>\n",
       "      <td>none</td>\n",
       "      <td>NaN</td>\n",
       "      <td>NaN</td>\n",
       "      <td>NaN</td>\n",
       "      <td>NaN</td>\n",
       "      <td>B</td>\n",
       "    </tr>\n",
       "    <tr>\n",
       "      <th>freq</th>\n",
       "      <td>518</td>\n",
       "      <td>319</td>\n",
       "      <td>226</td>\n",
       "      <td>645</td>\n",
       "      <td>642</td>\n",
       "      <td>NaN</td>\n",
       "      <td>NaN</td>\n",
       "      <td>NaN</td>\n",
       "      <td>NaN</td>\n",
       "      <td>261</td>\n",
       "    </tr>\n",
       "    <tr>\n",
       "      <th>mean</th>\n",
       "      <td>NaN</td>\n",
       "      <td>NaN</td>\n",
       "      <td>NaN</td>\n",
       "      <td>NaN</td>\n",
       "      <td>NaN</td>\n",
       "      <td>66.08900</td>\n",
       "      <td>69.169000</td>\n",
       "      <td>68.054000</td>\n",
       "      <td>67.770667</td>\n",
       "      <td>NaN</td>\n",
       "    </tr>\n",
       "    <tr>\n",
       "      <th>std</th>\n",
       "      <td>NaN</td>\n",
       "      <td>NaN</td>\n",
       "      <td>NaN</td>\n",
       "      <td>NaN</td>\n",
       "      <td>NaN</td>\n",
       "      <td>15.16308</td>\n",
       "      <td>14.600192</td>\n",
       "      <td>15.195657</td>\n",
       "      <td>14.257326</td>\n",
       "      <td>NaN</td>\n",
       "    </tr>\n",
       "    <tr>\n",
       "      <th>min</th>\n",
       "      <td>NaN</td>\n",
       "      <td>NaN</td>\n",
       "      <td>NaN</td>\n",
       "      <td>NaN</td>\n",
       "      <td>NaN</td>\n",
       "      <td>0.00000</td>\n",
       "      <td>17.000000</td>\n",
       "      <td>10.000000</td>\n",
       "      <td>9.000000</td>\n",
       "      <td>NaN</td>\n",
       "    </tr>\n",
       "    <tr>\n",
       "      <th>25%</th>\n",
       "      <td>NaN</td>\n",
       "      <td>NaN</td>\n",
       "      <td>NaN</td>\n",
       "      <td>NaN</td>\n",
       "      <td>NaN</td>\n",
       "      <td>57.00000</td>\n",
       "      <td>59.000000</td>\n",
       "      <td>57.750000</td>\n",
       "      <td>58.333333</td>\n",
       "      <td>NaN</td>\n",
       "    </tr>\n",
       "    <tr>\n",
       "      <th>50%</th>\n",
       "      <td>NaN</td>\n",
       "      <td>NaN</td>\n",
       "      <td>NaN</td>\n",
       "      <td>NaN</td>\n",
       "      <td>NaN</td>\n",
       "      <td>66.00000</td>\n",
       "      <td>70.000000</td>\n",
       "      <td>69.000000</td>\n",
       "      <td>68.333333</td>\n",
       "      <td>NaN</td>\n",
       "    </tr>\n",
       "    <tr>\n",
       "      <th>75%</th>\n",
       "      <td>NaN</td>\n",
       "      <td>NaN</td>\n",
       "      <td>NaN</td>\n",
       "      <td>NaN</td>\n",
       "      <td>NaN</td>\n",
       "      <td>77.00000</td>\n",
       "      <td>79.000000</td>\n",
       "      <td>79.000000</td>\n",
       "      <td>77.666667</td>\n",
       "      <td>NaN</td>\n",
       "    </tr>\n",
       "    <tr>\n",
       "      <th>max</th>\n",
       "      <td>NaN</td>\n",
       "      <td>NaN</td>\n",
       "      <td>NaN</td>\n",
       "      <td>NaN</td>\n",
       "      <td>NaN</td>\n",
       "      <td>100.00000</td>\n",
       "      <td>100.000000</td>\n",
       "      <td>100.000000</td>\n",
       "      <td>100.000000</td>\n",
       "      <td>NaN</td>\n",
       "    </tr>\n",
       "  </tbody>\n",
       "</table>\n",
       "</div>"
      ],
      "text/plain": [
       "        gender social_group parent_education     lunch test_prep_course  \\\n",
       "count     1000         1000             1000      1000             1000   \n",
       "unique       2            5                6         2                2   \n",
       "top     female      group C     some college  standard             none   \n",
       "freq       518          319              226       645              642   \n",
       "mean       NaN          NaN              NaN       NaN              NaN   \n",
       "std        NaN          NaN              NaN       NaN              NaN   \n",
       "min        NaN          NaN              NaN       NaN              NaN   \n",
       "25%        NaN          NaN              NaN       NaN              NaN   \n",
       "50%        NaN          NaN              NaN       NaN              NaN   \n",
       "75%        NaN          NaN              NaN       NaN              NaN   \n",
       "max        NaN          NaN              NaN       NaN              NaN   \n",
       "\n",
       "        math_score   read_score  write_score      average grade  \n",
       "count   1000.00000  1000.000000  1000.000000  1000.000000  1000  \n",
       "unique         NaN          NaN          NaN          NaN     6  \n",
       "top            NaN          NaN          NaN          NaN     B  \n",
       "freq           NaN          NaN          NaN          NaN   261  \n",
       "mean      66.08900    69.169000    68.054000    67.770667   NaN  \n",
       "std       15.16308    14.600192    15.195657    14.257326   NaN  \n",
       "min        0.00000    17.000000    10.000000     9.000000   NaN  \n",
       "25%       57.00000    59.000000    57.750000    58.333333   NaN  \n",
       "50%       66.00000    70.000000    69.000000    68.333333   NaN  \n",
       "75%       77.00000    79.000000    79.000000    77.666667   NaN  \n",
       "max      100.00000   100.000000   100.000000   100.000000   NaN  "
      ]
     },
     "metadata": {},
     "execution_count": 20
    }
   ],
   "metadata": {}
  },
  {
   "cell_type": "markdown",
   "source": [
    "# Lebeling Categorical Variables\r\n",
    "## social_group\r\n",
    "\r\n",
    "0 ---> group A\r\n",
    "\r\n",
    "1 ---> group B\r\n",
    "\r\n",
    "2 ---> group C\r\n",
    "\r\n",
    "3 ---> group D\r\n",
    "\r\n",
    "4 ---> group E\r\n",
    "\r\n",
    "## parent_education\r\n",
    "\r\n",
    "0 ---> associate's degree\r\n",
    "\r\n",
    "1 ---> bachelor's degree\r\n",
    "\r\n",
    "2 ---> high school\r\n",
    "\r\n",
    "3 ---> master's degree\r\n",
    "\r\n",
    "4 ---> some college\r\n",
    "\r\n",
    "5 ---> some high school\r\n",
    "\r\n",
    "## Gender\r\n",
    "\r\n",
    "0 ---> female\r\n",
    "\r\n",
    "1 ---> male\r\n",
    "\r\n",
    "## Grade\r\n",
    "A ---> 0\r\n",
    "B ---> 1\r\n",
    "C ---> 2\r\n",
    "D ---> 3\r\n",
    "E ---> 4"
   ],
   "metadata": {}
  },
  {
   "cell_type": "code",
   "execution_count": 21,
   "source": [
    "from sklearn.preprocessing import LabelEncoder\r\n",
    "for col in object_columns:\r\n",
    "    lbl = LabelEncoder()\r\n",
    "    lbl.fit(list(stud_df[col[1]].values))\r\n",
    "    stud_df[col[1]] = lbl.transform(stud_df[col[1]].values)\r\n",
    "        \r\n",
    "stud_df.head(10).style.background_gradient(cmap = 'Set2') \r\n",
    "stud_df.describe()"
   ],
   "outputs": [
    {
     "output_type": "execute_result",
     "data": {
      "text/html": [
       "<div>\n",
       "<style scoped>\n",
       "    .dataframe tbody tr th:only-of-type {\n",
       "        vertical-align: middle;\n",
       "    }\n",
       "\n",
       "    .dataframe tbody tr th {\n",
       "        vertical-align: top;\n",
       "    }\n",
       "\n",
       "    .dataframe thead th {\n",
       "        text-align: right;\n",
       "    }\n",
       "</style>\n",
       "<table border=\"1\" class=\"dataframe\">\n",
       "  <thead>\n",
       "    <tr style=\"text-align: right;\">\n",
       "      <th></th>\n",
       "      <th>gender</th>\n",
       "      <th>social_group</th>\n",
       "      <th>parent_education</th>\n",
       "      <th>lunch</th>\n",
       "      <th>test_prep_course</th>\n",
       "      <th>math_score</th>\n",
       "      <th>read_score</th>\n",
       "      <th>write_score</th>\n",
       "      <th>average</th>\n",
       "      <th>grade</th>\n",
       "    </tr>\n",
       "  </thead>\n",
       "  <tbody>\n",
       "    <tr>\n",
       "      <th>count</th>\n",
       "      <td>1000.000000</td>\n",
       "      <td>1000.000000</td>\n",
       "      <td>1000.000000</td>\n",
       "      <td>1000.000000</td>\n",
       "      <td>1000.000000</td>\n",
       "      <td>1000.00000</td>\n",
       "      <td>1000.000000</td>\n",
       "      <td>1000.000000</td>\n",
       "      <td>1000.000000</td>\n",
       "      <td>1000.000000</td>\n",
       "    </tr>\n",
       "    <tr>\n",
       "      <th>mean</th>\n",
       "      <td>0.482000</td>\n",
       "      <td>2.174000</td>\n",
       "      <td>2.486000</td>\n",
       "      <td>0.645000</td>\n",
       "      <td>0.642000</td>\n",
       "      <td>66.08900</td>\n",
       "      <td>69.169000</td>\n",
       "      <td>68.054000</td>\n",
       "      <td>67.770667</td>\n",
       "      <td>1.761000</td>\n",
       "    </tr>\n",
       "    <tr>\n",
       "      <th>std</th>\n",
       "      <td>0.499926</td>\n",
       "      <td>1.157179</td>\n",
       "      <td>1.829522</td>\n",
       "      <td>0.478753</td>\n",
       "      <td>0.479652</td>\n",
       "      <td>15.16308</td>\n",
       "      <td>14.600192</td>\n",
       "      <td>15.195657</td>\n",
       "      <td>14.257326</td>\n",
       "      <td>1.319705</td>\n",
       "    </tr>\n",
       "    <tr>\n",
       "      <th>min</th>\n",
       "      <td>0.000000</td>\n",
       "      <td>0.000000</td>\n",
       "      <td>0.000000</td>\n",
       "      <td>0.000000</td>\n",
       "      <td>0.000000</td>\n",
       "      <td>0.00000</td>\n",
       "      <td>17.000000</td>\n",
       "      <td>10.000000</td>\n",
       "      <td>9.000000</td>\n",
       "      <td>0.000000</td>\n",
       "    </tr>\n",
       "    <tr>\n",
       "      <th>25%</th>\n",
       "      <td>0.000000</td>\n",
       "      <td>1.000000</td>\n",
       "      <td>1.000000</td>\n",
       "      <td>0.000000</td>\n",
       "      <td>0.000000</td>\n",
       "      <td>57.00000</td>\n",
       "      <td>59.000000</td>\n",
       "      <td>57.750000</td>\n",
       "      <td>58.333333</td>\n",
       "      <td>1.000000</td>\n",
       "    </tr>\n",
       "    <tr>\n",
       "      <th>50%</th>\n",
       "      <td>0.000000</td>\n",
       "      <td>2.000000</td>\n",
       "      <td>2.000000</td>\n",
       "      <td>1.000000</td>\n",
       "      <td>1.000000</td>\n",
       "      <td>66.00000</td>\n",
       "      <td>70.000000</td>\n",
       "      <td>69.000000</td>\n",
       "      <td>68.333333</td>\n",
       "      <td>2.000000</td>\n",
       "    </tr>\n",
       "    <tr>\n",
       "      <th>75%</th>\n",
       "      <td>1.000000</td>\n",
       "      <td>3.000000</td>\n",
       "      <td>4.000000</td>\n",
       "      <td>1.000000</td>\n",
       "      <td>1.000000</td>\n",
       "      <td>77.00000</td>\n",
       "      <td>79.000000</td>\n",
       "      <td>79.000000</td>\n",
       "      <td>77.666667</td>\n",
       "      <td>3.000000</td>\n",
       "    </tr>\n",
       "    <tr>\n",
       "      <th>max</th>\n",
       "      <td>1.000000</td>\n",
       "      <td>4.000000</td>\n",
       "      <td>5.000000</td>\n",
       "      <td>1.000000</td>\n",
       "      <td>1.000000</td>\n",
       "      <td>100.00000</td>\n",
       "      <td>100.000000</td>\n",
       "      <td>100.000000</td>\n",
       "      <td>100.000000</td>\n",
       "      <td>5.000000</td>\n",
       "    </tr>\n",
       "  </tbody>\n",
       "</table>\n",
       "</div>"
      ],
      "text/plain": [
       "            gender  social_group  parent_education        lunch  \\\n",
       "count  1000.000000   1000.000000       1000.000000  1000.000000   \n",
       "mean      0.482000      2.174000          2.486000     0.645000   \n",
       "std       0.499926      1.157179          1.829522     0.478753   \n",
       "min       0.000000      0.000000          0.000000     0.000000   \n",
       "25%       0.000000      1.000000          1.000000     0.000000   \n",
       "50%       0.000000      2.000000          2.000000     1.000000   \n",
       "75%       1.000000      3.000000          4.000000     1.000000   \n",
       "max       1.000000      4.000000          5.000000     1.000000   \n",
       "\n",
       "       test_prep_course  math_score   read_score  write_score      average  \\\n",
       "count       1000.000000  1000.00000  1000.000000  1000.000000  1000.000000   \n",
       "mean           0.642000    66.08900    69.169000    68.054000    67.770667   \n",
       "std            0.479652    15.16308    14.600192    15.195657    14.257326   \n",
       "min            0.000000     0.00000    17.000000    10.000000     9.000000   \n",
       "25%            0.000000    57.00000    59.000000    57.750000    58.333333   \n",
       "50%            1.000000    66.00000    70.000000    69.000000    68.333333   \n",
       "75%            1.000000    77.00000    79.000000    79.000000    77.666667   \n",
       "max            1.000000   100.00000   100.000000   100.000000   100.000000   \n",
       "\n",
       "             grade  \n",
       "count  1000.000000  \n",
       "mean      1.761000  \n",
       "std       1.319705  \n",
       "min       0.000000  \n",
       "25%       1.000000  \n",
       "50%       2.000000  \n",
       "75%       3.000000  \n",
       "max       5.000000  "
      ]
     },
     "metadata": {},
     "execution_count": 21
    }
   ],
   "metadata": {}
  },
  {
   "cell_type": "code",
   "execution_count": 22,
   "source": [
    "stud_df.head(11).style.background_gradient(cmap = 'Set2') "
   ],
   "outputs": [
    {
     "output_type": "execute_result",
     "data": {
      "text/html": [
       "<style type=\"text/css\">\n",
       "#T_d4e42_row0_col0, #T_d4e42_row1_col0, #T_d4e42_row1_col4, #T_d4e42_row1_col9, #T_d4e42_row2_col0, #T_d4e42_row2_col9, #T_d4e42_row3_col1, #T_d4e42_row3_col2, #T_d4e42_row3_col3, #T_d4e42_row3_col7, #T_d4e42_row5_col0, #T_d4e42_row5_col2, #T_d4e42_row6_col0, #T_d4e42_row6_col4, #T_d4e42_row6_col9, #T_d4e42_row7_col3, #T_d4e42_row7_col5, #T_d4e42_row7_col6, #T_d4e42_row7_col7, #T_d4e42_row7_col8, #T_d4e42_row8_col3, #T_d4e42_row8_col4, #T_d4e42_row9_col0, #T_d4e42_row9_col3, #T_d4e42_row9_col5, #T_d4e42_row10_col2 {\n",
       "  background-color: #66c2a5;\n",
       "  color: #000000;\n",
       "}\n",
       "#T_d4e42_row0_col1, #T_d4e42_row0_col2, #T_d4e42_row0_col9, #T_d4e42_row2_col1, #T_d4e42_row3_col6, #T_d4e42_row4_col9, #T_d4e42_row5_col1, #T_d4e42_row5_col9, #T_d4e42_row6_col1, #T_d4e42_row7_col1, #T_d4e42_row9_col1, #T_d4e42_row9_col6, #T_d4e42_row10_col8 {\n",
       "  background-color: #8da0cb;\n",
       "  color: #f1f1f1;\n",
       "}\n",
       "#T_d4e42_row0_col3, #T_d4e42_row0_col4, #T_d4e42_row1_col2, #T_d4e42_row1_col3, #T_d4e42_row1_col6, #T_d4e42_row1_col7, #T_d4e42_row2_col3, #T_d4e42_row2_col4, #T_d4e42_row2_col5, #T_d4e42_row2_col6, #T_d4e42_row2_col7, #T_d4e42_row2_col8, #T_d4e42_row3_col0, #T_d4e42_row3_col4, #T_d4e42_row3_col9, #T_d4e42_row4_col0, #T_d4e42_row4_col2, #T_d4e42_row4_col3, #T_d4e42_row4_col4, #T_d4e42_row5_col3, #T_d4e42_row5_col4, #T_d4e42_row6_col2, #T_d4e42_row6_col3, #T_d4e42_row6_col5, #T_d4e42_row6_col6, #T_d4e42_row6_col7, #T_d4e42_row6_col8, #T_d4e42_row7_col0, #T_d4e42_row7_col2, #T_d4e42_row7_col4, #T_d4e42_row7_col9, #T_d4e42_row8_col0, #T_d4e42_row8_col1, #T_d4e42_row9_col4, #T_d4e42_row9_col9, #T_d4e42_row10_col0, #T_d4e42_row10_col3, #T_d4e42_row10_col4 {\n",
       "  background-color: #b3b3b3;\n",
       "  color: #000000;\n",
       "}\n",
       "#T_d4e42_row0_col5, #T_d4e42_row0_col7, #T_d4e42_row1_col1, #T_d4e42_row4_col1, #T_d4e42_row4_col5, #T_d4e42_row4_col6, #T_d4e42_row4_col7, #T_d4e42_row4_col8, #T_d4e42_row5_col5, #T_d4e42_row5_col7, #T_d4e42_row5_col8, #T_d4e42_row10_col1 {\n",
       "  background-color: #ffd92f;\n",
       "  color: #000000;\n",
       "}\n",
       "#T_d4e42_row0_col6, #T_d4e42_row0_col8, #T_d4e42_row1_col5, #T_d4e42_row8_col2, #T_d4e42_row8_col5, #T_d4e42_row8_col7, #T_d4e42_row8_col9, #T_d4e42_row9_col2 {\n",
       "  background-color: #a6d854;\n",
       "  color: #000000;\n",
       "}\n",
       "#T_d4e42_row1_col8, #T_d4e42_row2_col2, #T_d4e42_row5_col6, #T_d4e42_row10_col9 {\n",
       "  background-color: #e5c494;\n",
       "  color: #000000;\n",
       "}\n",
       "#T_d4e42_row3_col5, #T_d4e42_row3_col8, #T_d4e42_row9_col7, #T_d4e42_row9_col8, #T_d4e42_row10_col6, #T_d4e42_row10_col7 {\n",
       "  background-color: #fc8d62;\n",
       "  color: #f1f1f1;\n",
       "}\n",
       "#T_d4e42_row8_col6, #T_d4e42_row8_col8, #T_d4e42_row10_col5 {\n",
       "  background-color: #e78ac3;\n",
       "  color: #f1f1f1;\n",
       "}\n",
       "</style>\n",
       "<table id=\"T_d4e42_\">\n",
       "  <thead>\n",
       "    <tr>\n",
       "      <th class=\"blank level0\" >&nbsp;</th>\n",
       "      <th class=\"col_heading level0 col0\" >gender</th>\n",
       "      <th class=\"col_heading level0 col1\" >social_group</th>\n",
       "      <th class=\"col_heading level0 col2\" >parent_education</th>\n",
       "      <th class=\"col_heading level0 col3\" >lunch</th>\n",
       "      <th class=\"col_heading level0 col4\" >test_prep_course</th>\n",
       "      <th class=\"col_heading level0 col5\" >math_score</th>\n",
       "      <th class=\"col_heading level0 col6\" >read_score</th>\n",
       "      <th class=\"col_heading level0 col7\" >write_score</th>\n",
       "      <th class=\"col_heading level0 col8\" >average</th>\n",
       "      <th class=\"col_heading level0 col9\" >grade</th>\n",
       "    </tr>\n",
       "  </thead>\n",
       "  <tbody>\n",
       "    <tr>\n",
       "      <th id=\"T_d4e42_level0_row0\" class=\"row_heading level0 row0\" >0</th>\n",
       "      <td id=\"T_d4e42_row0_col0\" class=\"data row0 col0\" >0</td>\n",
       "      <td id=\"T_d4e42_row0_col1\" class=\"data row0 col1\" >1</td>\n",
       "      <td id=\"T_d4e42_row0_col2\" class=\"data row0 col2\" >1</td>\n",
       "      <td id=\"T_d4e42_row0_col3\" class=\"data row0 col3\" >1</td>\n",
       "      <td id=\"T_d4e42_row0_col4\" class=\"data row0 col4\" >1</td>\n",
       "      <td id=\"T_d4e42_row0_col5\" class=\"data row0 col5\" >72</td>\n",
       "      <td id=\"T_d4e42_row0_col6\" class=\"data row0 col6\" >72</td>\n",
       "      <td id=\"T_d4e42_row0_col7\" class=\"data row0 col7\" >74</td>\n",
       "      <td id=\"T_d4e42_row0_col8\" class=\"data row0 col8\" >72.666667</td>\n",
       "      <td id=\"T_d4e42_row0_col9\" class=\"data row0 col9\" >1</td>\n",
       "    </tr>\n",
       "    <tr>\n",
       "      <th id=\"T_d4e42_level0_row1\" class=\"row_heading level0 row1\" >1</th>\n",
       "      <td id=\"T_d4e42_row1_col0\" class=\"data row1 col0\" >0</td>\n",
       "      <td id=\"T_d4e42_row1_col1\" class=\"data row1 col1\" >2</td>\n",
       "      <td id=\"T_d4e42_row1_col2\" class=\"data row1 col2\" >4</td>\n",
       "      <td id=\"T_d4e42_row1_col3\" class=\"data row1 col3\" >1</td>\n",
       "      <td id=\"T_d4e42_row1_col4\" class=\"data row1 col4\" >0</td>\n",
       "      <td id=\"T_d4e42_row1_col5\" class=\"data row1 col5\" >69</td>\n",
       "      <td id=\"T_d4e42_row1_col6\" class=\"data row1 col6\" >90</td>\n",
       "      <td id=\"T_d4e42_row1_col7\" class=\"data row1 col7\" >88</td>\n",
       "      <td id=\"T_d4e42_row1_col8\" class=\"data row1 col8\" >82.333333</td>\n",
       "      <td id=\"T_d4e42_row1_col9\" class=\"data row1 col9\" >0</td>\n",
       "    </tr>\n",
       "    <tr>\n",
       "      <th id=\"T_d4e42_level0_row2\" class=\"row_heading level0 row2\" >2</th>\n",
       "      <td id=\"T_d4e42_row2_col0\" class=\"data row2 col0\" >0</td>\n",
       "      <td id=\"T_d4e42_row2_col1\" class=\"data row2 col1\" >1</td>\n",
       "      <td id=\"T_d4e42_row2_col2\" class=\"data row2 col2\" >3</td>\n",
       "      <td id=\"T_d4e42_row2_col3\" class=\"data row2 col3\" >1</td>\n",
       "      <td id=\"T_d4e42_row2_col4\" class=\"data row2 col4\" >1</td>\n",
       "      <td id=\"T_d4e42_row2_col5\" class=\"data row2 col5\" >90</td>\n",
       "      <td id=\"T_d4e42_row2_col6\" class=\"data row2 col6\" >95</td>\n",
       "      <td id=\"T_d4e42_row2_col7\" class=\"data row2 col7\" >93</td>\n",
       "      <td id=\"T_d4e42_row2_col8\" class=\"data row2 col8\" >92.666667</td>\n",
       "      <td id=\"T_d4e42_row2_col9\" class=\"data row2 col9\" >0</td>\n",
       "    </tr>\n",
       "    <tr>\n",
       "      <th id=\"T_d4e42_level0_row3\" class=\"row_heading level0 row3\" >3</th>\n",
       "      <td id=\"T_d4e42_row3_col0\" class=\"data row3 col0\" >1</td>\n",
       "      <td id=\"T_d4e42_row3_col1\" class=\"data row3 col1\" >0</td>\n",
       "      <td id=\"T_d4e42_row3_col2\" class=\"data row3 col2\" >0</td>\n",
       "      <td id=\"T_d4e42_row3_col3\" class=\"data row3 col3\" >0</td>\n",
       "      <td id=\"T_d4e42_row3_col4\" class=\"data row3 col4\" >1</td>\n",
       "      <td id=\"T_d4e42_row3_col5\" class=\"data row3 col5\" >47</td>\n",
       "      <td id=\"T_d4e42_row3_col6\" class=\"data row3 col6\" >57</td>\n",
       "      <td id=\"T_d4e42_row3_col7\" class=\"data row3 col7\" >44</td>\n",
       "      <td id=\"T_d4e42_row3_col8\" class=\"data row3 col8\" >49.333333</td>\n",
       "      <td id=\"T_d4e42_row3_col9\" class=\"data row3 col9\" >4</td>\n",
       "    </tr>\n",
       "    <tr>\n",
       "      <th id=\"T_d4e42_level0_row4\" class=\"row_heading level0 row4\" >4</th>\n",
       "      <td id=\"T_d4e42_row4_col0\" class=\"data row4 col0\" >1</td>\n",
       "      <td id=\"T_d4e42_row4_col1\" class=\"data row4 col1\" >2</td>\n",
       "      <td id=\"T_d4e42_row4_col2\" class=\"data row4 col2\" >4</td>\n",
       "      <td id=\"T_d4e42_row4_col3\" class=\"data row4 col3\" >1</td>\n",
       "      <td id=\"T_d4e42_row4_col4\" class=\"data row4 col4\" >1</td>\n",
       "      <td id=\"T_d4e42_row4_col5\" class=\"data row4 col5\" >76</td>\n",
       "      <td id=\"T_d4e42_row4_col6\" class=\"data row4 col6\" >78</td>\n",
       "      <td id=\"T_d4e42_row4_col7\" class=\"data row4 col7\" >75</td>\n",
       "      <td id=\"T_d4e42_row4_col8\" class=\"data row4 col8\" >76.333333</td>\n",
       "      <td id=\"T_d4e42_row4_col9\" class=\"data row4 col9\" >1</td>\n",
       "    </tr>\n",
       "    <tr>\n",
       "      <th id=\"T_d4e42_level0_row5\" class=\"row_heading level0 row5\" >5</th>\n",
       "      <td id=\"T_d4e42_row5_col0\" class=\"data row5 col0\" >0</td>\n",
       "      <td id=\"T_d4e42_row5_col1\" class=\"data row5 col1\" >1</td>\n",
       "      <td id=\"T_d4e42_row5_col2\" class=\"data row5 col2\" >0</td>\n",
       "      <td id=\"T_d4e42_row5_col3\" class=\"data row5 col3\" >1</td>\n",
       "      <td id=\"T_d4e42_row5_col4\" class=\"data row5 col4\" >1</td>\n",
       "      <td id=\"T_d4e42_row5_col5\" class=\"data row5 col5\" >71</td>\n",
       "      <td id=\"T_d4e42_row5_col6\" class=\"data row5 col6\" >83</td>\n",
       "      <td id=\"T_d4e42_row5_col7\" class=\"data row5 col7\" >78</td>\n",
       "      <td id=\"T_d4e42_row5_col8\" class=\"data row5 col8\" >77.333333</td>\n",
       "      <td id=\"T_d4e42_row5_col9\" class=\"data row5 col9\" >1</td>\n",
       "    </tr>\n",
       "    <tr>\n",
       "      <th id=\"T_d4e42_level0_row6\" class=\"row_heading level0 row6\" >6</th>\n",
       "      <td id=\"T_d4e42_row6_col0\" class=\"data row6 col0\" >0</td>\n",
       "      <td id=\"T_d4e42_row6_col1\" class=\"data row6 col1\" >1</td>\n",
       "      <td id=\"T_d4e42_row6_col2\" class=\"data row6 col2\" >4</td>\n",
       "      <td id=\"T_d4e42_row6_col3\" class=\"data row6 col3\" >1</td>\n",
       "      <td id=\"T_d4e42_row6_col4\" class=\"data row6 col4\" >0</td>\n",
       "      <td id=\"T_d4e42_row6_col5\" class=\"data row6 col5\" >88</td>\n",
       "      <td id=\"T_d4e42_row6_col6\" class=\"data row6 col6\" >95</td>\n",
       "      <td id=\"T_d4e42_row6_col7\" class=\"data row6 col7\" >92</td>\n",
       "      <td id=\"T_d4e42_row6_col8\" class=\"data row6 col8\" >91.666667</td>\n",
       "      <td id=\"T_d4e42_row6_col9\" class=\"data row6 col9\" >0</td>\n",
       "    </tr>\n",
       "    <tr>\n",
       "      <th id=\"T_d4e42_level0_row7\" class=\"row_heading level0 row7\" >7</th>\n",
       "      <td id=\"T_d4e42_row7_col0\" class=\"data row7 col0\" >1</td>\n",
       "      <td id=\"T_d4e42_row7_col1\" class=\"data row7 col1\" >1</td>\n",
       "      <td id=\"T_d4e42_row7_col2\" class=\"data row7 col2\" >4</td>\n",
       "      <td id=\"T_d4e42_row7_col3\" class=\"data row7 col3\" >0</td>\n",
       "      <td id=\"T_d4e42_row7_col4\" class=\"data row7 col4\" >1</td>\n",
       "      <td id=\"T_d4e42_row7_col5\" class=\"data row7 col5\" >40</td>\n",
       "      <td id=\"T_d4e42_row7_col6\" class=\"data row7 col6\" >43</td>\n",
       "      <td id=\"T_d4e42_row7_col7\" class=\"data row7 col7\" >39</td>\n",
       "      <td id=\"T_d4e42_row7_col8\" class=\"data row7 col8\" >40.666667</td>\n",
       "      <td id=\"T_d4e42_row7_col9\" class=\"data row7 col9\" >4</td>\n",
       "    </tr>\n",
       "    <tr>\n",
       "      <th id=\"T_d4e42_level0_row8\" class=\"row_heading level0 row8\" >8</th>\n",
       "      <td id=\"T_d4e42_row8_col0\" class=\"data row8 col0\" >1</td>\n",
       "      <td id=\"T_d4e42_row8_col1\" class=\"data row8 col1\" >3</td>\n",
       "      <td id=\"T_d4e42_row8_col2\" class=\"data row8 col2\" >2</td>\n",
       "      <td id=\"T_d4e42_row8_col3\" class=\"data row8 col3\" >0</td>\n",
       "      <td id=\"T_d4e42_row8_col4\" class=\"data row8 col4\" >0</td>\n",
       "      <td id=\"T_d4e42_row8_col5\" class=\"data row8 col5\" >64</td>\n",
       "      <td id=\"T_d4e42_row8_col6\" class=\"data row8 col6\" >64</td>\n",
       "      <td id=\"T_d4e42_row8_col7\" class=\"data row8 col7\" >67</td>\n",
       "      <td id=\"T_d4e42_row8_col8\" class=\"data row8 col8\" >65.000000</td>\n",
       "      <td id=\"T_d4e42_row8_col9\" class=\"data row8 col9\" >2</td>\n",
       "    </tr>\n",
       "    <tr>\n",
       "      <th id=\"T_d4e42_level0_row9\" class=\"row_heading level0 row9\" >9</th>\n",
       "      <td id=\"T_d4e42_row9_col0\" class=\"data row9 col0\" >0</td>\n",
       "      <td id=\"T_d4e42_row9_col1\" class=\"data row9 col1\" >1</td>\n",
       "      <td id=\"T_d4e42_row9_col2\" class=\"data row9 col2\" >2</td>\n",
       "      <td id=\"T_d4e42_row9_col3\" class=\"data row9 col3\" >0</td>\n",
       "      <td id=\"T_d4e42_row9_col4\" class=\"data row9 col4\" >1</td>\n",
       "      <td id=\"T_d4e42_row9_col5\" class=\"data row9 col5\" >38</td>\n",
       "      <td id=\"T_d4e42_row9_col6\" class=\"data row9 col6\" >60</td>\n",
       "      <td id=\"T_d4e42_row9_col7\" class=\"data row9 col7\" >50</td>\n",
       "      <td id=\"T_d4e42_row9_col8\" class=\"data row9 col8\" >49.333333</td>\n",
       "      <td id=\"T_d4e42_row9_col9\" class=\"data row9 col9\" >4</td>\n",
       "    </tr>\n",
       "    <tr>\n",
       "      <th id=\"T_d4e42_level0_row10\" class=\"row_heading level0 row10\" >10</th>\n",
       "      <td id=\"T_d4e42_row10_col0\" class=\"data row10 col0\" >1</td>\n",
       "      <td id=\"T_d4e42_row10_col1\" class=\"data row10 col1\" >2</td>\n",
       "      <td id=\"T_d4e42_row10_col2\" class=\"data row10 col2\" >0</td>\n",
       "      <td id=\"T_d4e42_row10_col3\" class=\"data row10 col3\" >1</td>\n",
       "      <td id=\"T_d4e42_row10_col4\" class=\"data row10 col4\" >1</td>\n",
       "      <td id=\"T_d4e42_row10_col5\" class=\"data row10 col5\" >58</td>\n",
       "      <td id=\"T_d4e42_row10_col6\" class=\"data row10 col6\" >54</td>\n",
       "      <td id=\"T_d4e42_row10_col7\" class=\"data row10 col7\" >52</td>\n",
       "      <td id=\"T_d4e42_row10_col8\" class=\"data row10 col8\" >54.666667</td>\n",
       "      <td id=\"T_d4e42_row10_col9\" class=\"data row10 col9\" >3</td>\n",
       "    </tr>\n",
       "  </tbody>\n",
       "</table>\n"
      ],
      "text/plain": [
       "<pandas.io.formats.style.Styler at 0x27928dd5430>"
      ]
     },
     "metadata": {},
     "execution_count": 22
    }
   ],
   "metadata": {}
  },
  {
   "cell_type": "code",
   "execution_count": 23,
   "source": [
    "stud_df.to_csv('./data/new_dataset.csv')"
   ],
   "outputs": [],
   "metadata": {}
  },
  {
   "cell_type": "code",
   "execution_count": 24,
   "source": [
    "new_df = pd.read_csv('./data/new_dataset.csv')\r\n",
    "print(new_df.shape)\r\n",
    "new_df.head()"
   ],
   "outputs": [
    {
     "output_type": "stream",
     "name": "stdout",
     "text": [
      "(1000, 11)\n"
     ]
    },
    {
     "output_type": "execute_result",
     "data": {
      "text/html": [
       "<div>\n",
       "<style scoped>\n",
       "    .dataframe tbody tr th:only-of-type {\n",
       "        vertical-align: middle;\n",
       "    }\n",
       "\n",
       "    .dataframe tbody tr th {\n",
       "        vertical-align: top;\n",
       "    }\n",
       "\n",
       "    .dataframe thead th {\n",
       "        text-align: right;\n",
       "    }\n",
       "</style>\n",
       "<table border=\"1\" class=\"dataframe\">\n",
       "  <thead>\n",
       "    <tr style=\"text-align: right;\">\n",
       "      <th></th>\n",
       "      <th>Unnamed: 0</th>\n",
       "      <th>gender</th>\n",
       "      <th>social_group</th>\n",
       "      <th>parent_education</th>\n",
       "      <th>lunch</th>\n",
       "      <th>test_prep_course</th>\n",
       "      <th>math_score</th>\n",
       "      <th>read_score</th>\n",
       "      <th>write_score</th>\n",
       "      <th>average</th>\n",
       "      <th>grade</th>\n",
       "    </tr>\n",
       "  </thead>\n",
       "  <tbody>\n",
       "    <tr>\n",
       "      <th>0</th>\n",
       "      <td>0</td>\n",
       "      <td>0</td>\n",
       "      <td>1</td>\n",
       "      <td>1</td>\n",
       "      <td>1</td>\n",
       "      <td>1</td>\n",
       "      <td>72</td>\n",
       "      <td>72</td>\n",
       "      <td>74</td>\n",
       "      <td>72.666667</td>\n",
       "      <td>1</td>\n",
       "    </tr>\n",
       "    <tr>\n",
       "      <th>1</th>\n",
       "      <td>1</td>\n",
       "      <td>0</td>\n",
       "      <td>2</td>\n",
       "      <td>4</td>\n",
       "      <td>1</td>\n",
       "      <td>0</td>\n",
       "      <td>69</td>\n",
       "      <td>90</td>\n",
       "      <td>88</td>\n",
       "      <td>82.333333</td>\n",
       "      <td>0</td>\n",
       "    </tr>\n",
       "    <tr>\n",
       "      <th>2</th>\n",
       "      <td>2</td>\n",
       "      <td>0</td>\n",
       "      <td>1</td>\n",
       "      <td>3</td>\n",
       "      <td>1</td>\n",
       "      <td>1</td>\n",
       "      <td>90</td>\n",
       "      <td>95</td>\n",
       "      <td>93</td>\n",
       "      <td>92.666667</td>\n",
       "      <td>0</td>\n",
       "    </tr>\n",
       "    <tr>\n",
       "      <th>3</th>\n",
       "      <td>3</td>\n",
       "      <td>1</td>\n",
       "      <td>0</td>\n",
       "      <td>0</td>\n",
       "      <td>0</td>\n",
       "      <td>1</td>\n",
       "      <td>47</td>\n",
       "      <td>57</td>\n",
       "      <td>44</td>\n",
       "      <td>49.333333</td>\n",
       "      <td>4</td>\n",
       "    </tr>\n",
       "    <tr>\n",
       "      <th>4</th>\n",
       "      <td>4</td>\n",
       "      <td>1</td>\n",
       "      <td>2</td>\n",
       "      <td>4</td>\n",
       "      <td>1</td>\n",
       "      <td>1</td>\n",
       "      <td>76</td>\n",
       "      <td>78</td>\n",
       "      <td>75</td>\n",
       "      <td>76.333333</td>\n",
       "      <td>1</td>\n",
       "    </tr>\n",
       "  </tbody>\n",
       "</table>\n",
       "</div>"
      ],
      "text/plain": [
       "   Unnamed: 0  gender  social_group  parent_education  lunch  \\\n",
       "0           0       0             1                 1      1   \n",
       "1           1       0             2                 4      1   \n",
       "2           2       0             1                 3      1   \n",
       "3           3       1             0                 0      0   \n",
       "4           4       1             2                 4      1   \n",
       "\n",
       "   test_prep_course  math_score  read_score  write_score    average  grade  \n",
       "0                 1          72          72           74  72.666667      1  \n",
       "1                 0          69          90           88  82.333333      0  \n",
       "2                 1          90          95           93  92.666667      0  \n",
       "3                 1          47          57           44  49.333333      4  \n",
       "4                 1          76          78           75  76.333333      1  "
      ]
     },
     "metadata": {},
     "execution_count": 24
    }
   ],
   "metadata": {}
  },
  {
   "cell_type": "code",
   "execution_count": 25,
   "source": [
    "grade_labels = {\r\n",
    "    0:'A',\r\n",
    "    1:'B',\r\n",
    "    2:'C',\r\n",
    "    3:'D',\r\n",
    "    4:'E',\r\n",
    "    5:'F'\r\n",
    "}"
   ],
   "outputs": [],
   "metadata": {}
  },
  {
   "cell_type": "code",
   "execution_count": 26,
   "source": [
    "X = new_df.iloc[:,5:-2]\r\n",
    "X.values[:10]"
   ],
   "outputs": [
    {
     "output_type": "execute_result",
     "data": {
      "text/plain": [
       "array([[ 1, 72, 72, 74],\n",
       "       [ 0, 69, 90, 88],\n",
       "       [ 1, 90, 95, 93],\n",
       "       [ 1, 47, 57, 44],\n",
       "       [ 1, 76, 78, 75],\n",
       "       [ 1, 71, 83, 78],\n",
       "       [ 0, 88, 95, 92],\n",
       "       [ 1, 40, 43, 39],\n",
       "       [ 0, 64, 64, 67],\n",
       "       [ 1, 38, 60, 50]], dtype=int64)"
      ]
     },
     "metadata": {},
     "execution_count": 26
    }
   ],
   "metadata": {}
  },
  {
   "cell_type": "code",
   "execution_count": 27,
   "source": [
    "y = new_df.iloc[:,-1]\r\n",
    "y"
   ],
   "outputs": [
    {
     "output_type": "execute_result",
     "data": {
      "text/plain": [
       "0      1\n",
       "1      0\n",
       "2      0\n",
       "3      4\n",
       "4      1\n",
       "      ..\n",
       "995    0\n",
       "996    3\n",
       "997    2\n",
       "998    1\n",
       "999    0\n",
       "Name: grade, Length: 1000, dtype: int64"
      ]
     },
     "metadata": {},
     "execution_count": 27
    }
   ],
   "metadata": {}
  },
  {
   "cell_type": "code",
   "execution_count": 28,
   "source": [
    "X_train, X_test, y_train, y_test = train_test_split(X, y, test_size=0.2, random_state=0)\r\n",
    "regressor = LinearRegression()\r\n",
    "regressor.fit(X_train, y_train)\r\n",
    "print(regressor.intercept_)\r\n",
    "print(regressor.coef_)\r\n",
    "y_pred = regressor.predict(X_test)\r\n",
    "df = pd.DataFrame({'Actual': y_test, 'Predicted': y_pred})\r\n",
    "df\r\n",
    "poly_reg = PolynomialFeatures(degree=4)\r\n",
    "x_poly = poly_reg.fit_transform(X_train)\r\n",
    "pol_reg = LinearRegression()\r\n",
    "pol_reg.fit(x_poly,y_train)\r\n"
   ],
   "outputs": [
    {
     "output_type": "stream",
     "name": "stdout",
     "text": [
      "7.796636133335283\n",
      "[ 0.00645034 -0.02801381 -0.03181631 -0.02916363]\n"
     ]
    },
    {
     "output_type": "execute_result",
     "data": {
      "text/plain": [
       "LinearRegression()"
      ]
     },
     "metadata": {},
     "execution_count": 28
    }
   ],
   "metadata": {}
  },
  {
   "cell_type": "code",
   "execution_count": 29,
   "source": [
    "y_pred = list(map(lambda x: int(x.round()),y_pred))"
   ],
   "outputs": [],
   "metadata": {}
  },
  {
   "cell_type": "code",
   "execution_count": 30,
   "source": [
    "df = pd.DataFrame({'Actual': y_test, 'Predicted': y_pred})\r\n",
    "df\r\n"
   ],
   "outputs": [
    {
     "output_type": "execute_result",
     "data": {
      "text/html": [
       "<div>\n",
       "<style scoped>\n",
       "    .dataframe tbody tr th:only-of-type {\n",
       "        vertical-align: middle;\n",
       "    }\n",
       "\n",
       "    .dataframe tbody tr th {\n",
       "        vertical-align: top;\n",
       "    }\n",
       "\n",
       "    .dataframe thead th {\n",
       "        text-align: right;\n",
       "    }\n",
       "</style>\n",
       "<table border=\"1\" class=\"dataframe\">\n",
       "  <thead>\n",
       "    <tr style=\"text-align: right;\">\n",
       "      <th></th>\n",
       "      <th>Actual</th>\n",
       "      <th>Predicted</th>\n",
       "    </tr>\n",
       "  </thead>\n",
       "  <tbody>\n",
       "    <tr>\n",
       "      <th>993</th>\n",
       "      <td>2</td>\n",
       "      <td>2</td>\n",
       "    </tr>\n",
       "    <tr>\n",
       "      <th>859</th>\n",
       "      <td>1</td>\n",
       "      <td>1</td>\n",
       "    </tr>\n",
       "    <tr>\n",
       "      <th>298</th>\n",
       "      <td>4</td>\n",
       "      <td>4</td>\n",
       "    </tr>\n",
       "    <tr>\n",
       "      <th>553</th>\n",
       "      <td>2</td>\n",
       "      <td>2</td>\n",
       "    </tr>\n",
       "    <tr>\n",
       "      <th>672</th>\n",
       "      <td>1</td>\n",
       "      <td>1</td>\n",
       "    </tr>\n",
       "    <tr>\n",
       "      <th>...</th>\n",
       "      <td>...</td>\n",
       "      <td>...</td>\n",
       "    </tr>\n",
       "    <tr>\n",
       "      <th>679</th>\n",
       "      <td>2</td>\n",
       "      <td>2</td>\n",
       "    </tr>\n",
       "    <tr>\n",
       "      <th>722</th>\n",
       "      <td>0</td>\n",
       "      <td>0</td>\n",
       "    </tr>\n",
       "    <tr>\n",
       "      <th>215</th>\n",
       "      <td>0</td>\n",
       "      <td>1</td>\n",
       "    </tr>\n",
       "    <tr>\n",
       "      <th>653</th>\n",
       "      <td>2</td>\n",
       "      <td>2</td>\n",
       "    </tr>\n",
       "    <tr>\n",
       "      <th>150</th>\n",
       "      <td>2</td>\n",
       "      <td>2</td>\n",
       "    </tr>\n",
       "  </tbody>\n",
       "</table>\n",
       "<p>200 rows × 2 columns</p>\n",
       "</div>"
      ],
      "text/plain": [
       "     Actual  Predicted\n",
       "993       2          2\n",
       "859       1          1\n",
       "298       4          4\n",
       "553       2          2\n",
       "672       1          1\n",
       "..      ...        ...\n",
       "679       2          2\n",
       "722       0          0\n",
       "215       0          1\n",
       "653       2          2\n",
       "150       2          2\n",
       "\n",
       "[200 rows x 2 columns]"
      ]
     },
     "metadata": {},
     "execution_count": 30
    }
   ],
   "metadata": {}
  },
  {
   "cell_type": "code",
   "execution_count": 31,
   "source": [
    "\r\n",
    "y_pred = pol_reg.predict(poly_reg.fit_transform(X_test))\r\n",
    "y_pred = list(map(lambda x: int(x.round()),y_pred))\r\n",
    "df = pd.DataFrame({'Actual': y_test, 'Predicted': y_pred})\r\n",
    "df"
   ],
   "outputs": [
    {
     "output_type": "execute_result",
     "data": {
      "text/html": [
       "<div>\n",
       "<style scoped>\n",
       "    .dataframe tbody tr th:only-of-type {\n",
       "        vertical-align: middle;\n",
       "    }\n",
       "\n",
       "    .dataframe tbody tr th {\n",
       "        vertical-align: top;\n",
       "    }\n",
       "\n",
       "    .dataframe thead th {\n",
       "        text-align: right;\n",
       "    }\n",
       "</style>\n",
       "<table border=\"1\" class=\"dataframe\">\n",
       "  <thead>\n",
       "    <tr style=\"text-align: right;\">\n",
       "      <th></th>\n",
       "      <th>Actual</th>\n",
       "      <th>Predicted</th>\n",
       "    </tr>\n",
       "  </thead>\n",
       "  <tbody>\n",
       "    <tr>\n",
       "      <th>993</th>\n",
       "      <td>2</td>\n",
       "      <td>2</td>\n",
       "    </tr>\n",
       "    <tr>\n",
       "      <th>859</th>\n",
       "      <td>1</td>\n",
       "      <td>1</td>\n",
       "    </tr>\n",
       "    <tr>\n",
       "      <th>298</th>\n",
       "      <td>4</td>\n",
       "      <td>4</td>\n",
       "    </tr>\n",
       "    <tr>\n",
       "      <th>553</th>\n",
       "      <td>2</td>\n",
       "      <td>2</td>\n",
       "    </tr>\n",
       "    <tr>\n",
       "      <th>672</th>\n",
       "      <td>1</td>\n",
       "      <td>1</td>\n",
       "    </tr>\n",
       "    <tr>\n",
       "      <th>...</th>\n",
       "      <td>...</td>\n",
       "      <td>...</td>\n",
       "    </tr>\n",
       "    <tr>\n",
       "      <th>679</th>\n",
       "      <td>2</td>\n",
       "      <td>2</td>\n",
       "    </tr>\n",
       "    <tr>\n",
       "      <th>722</th>\n",
       "      <td>0</td>\n",
       "      <td>0</td>\n",
       "    </tr>\n",
       "    <tr>\n",
       "      <th>215</th>\n",
       "      <td>0</td>\n",
       "      <td>0</td>\n",
       "    </tr>\n",
       "    <tr>\n",
       "      <th>653</th>\n",
       "      <td>2</td>\n",
       "      <td>1</td>\n",
       "    </tr>\n",
       "    <tr>\n",
       "      <th>150</th>\n",
       "      <td>2</td>\n",
       "      <td>2</td>\n",
       "    </tr>\n",
       "  </tbody>\n",
       "</table>\n",
       "<p>200 rows × 2 columns</p>\n",
       "</div>"
      ],
      "text/plain": [
       "     Actual  Predicted\n",
       "993       2          2\n",
       "859       1          1\n",
       "298       4          4\n",
       "553       2          2\n",
       "672       1          1\n",
       "..      ...        ...\n",
       "679       2          2\n",
       "722       0          0\n",
       "215       0          0\n",
       "653       2          1\n",
       "150       2          2\n",
       "\n",
       "[200 rows x 2 columns]"
      ]
     },
     "metadata": {},
     "execution_count": 31
    }
   ],
   "metadata": {}
  },
  {
   "cell_type": "code",
   "execution_count": 32,
   "source": [
    "plt.pyplot.plot(X,y,color='red')\r\n",
    "plt.pyplot.plot(X_test,y_pred,color='blue')\r\n",
    "plt.pyplot.show()"
   ],
   "outputs": [
    {
     "output_type": "display_data",
     "data": {
      "image/png": "[encoded data removed]",
      "text/plain": [
       "<Figure size 432x288 with 1 Axes>"
      ]
     },
     "metadata": {
      "needs_background": "light"
     }
    }
   ],
   "metadata": {}
  },
  {
   "cell_type": "code",
   "execution_count": 33,
   "source": [
    "from sklearn import metrics\r\n",
    "print('Mean Absolute Error:', metrics.mean_absolute_error(y_test, y_pred))\r\n",
    "print('Mean Squared Error:', metrics.mean_squared_error(y_test, y_pred))\r\n",
    "print('Root Mean Squared Error:', np.sqrt(metrics.mean_squared_error(y_test, y_pred)))"
   ],
   "outputs": [
    {
     "output_type": "stream",
     "name": "stdout",
     "text": [
      "Mean Absolute Error: 0.1\n",
      "Mean Squared Error: 0.1\n",
      "Root Mean Squared Error: 0.31622776601683794\n"
     ]
    }
   ],
   "metadata": {}
  }
 ],
 "metadata": {
  "kernelspec": {
   "name": "python3",
   "display_name": "Python 3.9.4 64-bit ('3.9.4': pyenv)"
  },
  "language_info": {
   "name": "python",
   "version": "3.9.4",
   "mimetype": "text/x-python",
   "codemirror_mode": {
    "name": "ipython",
    "version": 3
   },
   "pygments_lexer": "ipython3",
   "nbconvert_exporter": "python",
   "file_extension": ".py"
  },
  "interpreter": {
   "hash": "bfe2aec174fb9e7ab720346f833c6bfa7139dd64ccf06b4b64aed8b45034ce7c"
  }
 },
 "nbformat": 4,
 "nbformat_minor": 2
}