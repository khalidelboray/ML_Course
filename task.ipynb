{
 "cells": [
  {
   "cell_type": "code",
   "execution_count": 407,
   "source": [
    "import matplotlib as plt\r\n",
    "import pandas as pd\r\n",
    "import seaborn as sns\r\n",
    "import plotly.graph_objects as go\r\n",
    "from sklearn.model_selection import train_test_split\r\n",
    "from sklearn.linear_model import LinearRegression\r\n",
    "from sklearn.preprocessing import PolynomialFeatures"
   ],
   "outputs": [],
   "metadata": {
    "collapsed": true
   }
  },
  {
   "cell_type": "code",
   "execution_count": 408,
   "source": [
    "stud_df = pd.read_csv('./data/StudentsPerformance.csv')"
   ],
   "outputs": [],
   "metadata": {}
  },
  {
   "cell_type": "code",
   "execution_count": 409,
   "source": [
    "stud_df"
   ],
   "outputs": [
    {
     "output_type": "execute_result",
     "data": {
      "text/html": [
       "<div>\n",
       "<style scoped>\n",
       "    .dataframe tbody tr th:only-of-type {\n",
       "        vertical-align: middle;\n",
       "    }\n",
       "\n",
       "    .dataframe tbody tr th {\n",
       "        vertical-align: top;\n",
       "    }\n",
       "\n",
       "    .dataframe thead th {\n",
       "        text-align: right;\n",
       "    }\n",
       "</style>\n",
       "<table border=\"1\" class=\"dataframe\">\n",
       "  <thead>\n",
       "    <tr style=\"text-align: right;\">\n",
       "      <th></th>\n",
       "      <th>gender</th>\n",
       "      <th>race/ethnicity</th>\n",
       "      <th>parental level of education</th>\n",
       "      <th>lunch</th>\n",
       "      <th>test preparation course</th>\n",
       "      <th>math score</th>\n",
       "      <th>reading score</th>\n",
       "      <th>writing score</th>\n",
       "    </tr>\n",
       "  </thead>\n",
       "  <tbody>\n",
       "    <tr>\n",
       "      <th>0</th>\n",
       "      <td>female</td>\n",
       "      <td>group B</td>\n",
       "      <td>bachelor's degree</td>\n",
       "      <td>standard</td>\n",
       "      <td>none</td>\n",
       "      <td>72</td>\n",
       "      <td>72</td>\n",
       "      <td>74</td>\n",
       "    </tr>\n",
       "    <tr>\n",
       "      <th>1</th>\n",
       "      <td>female</td>\n",
       "      <td>group C</td>\n",
       "      <td>some college</td>\n",
       "      <td>standard</td>\n",
       "      <td>completed</td>\n",
       "      <td>69</td>\n",
       "      <td>90</td>\n",
       "      <td>88</td>\n",
       "    </tr>\n",
       "    <tr>\n",
       "      <th>2</th>\n",
       "      <td>female</td>\n",
       "      <td>group B</td>\n",
       "      <td>master's degree</td>\n",
       "      <td>standard</td>\n",
       "      <td>none</td>\n",
       "      <td>90</td>\n",
       "      <td>95</td>\n",
       "      <td>93</td>\n",
       "    </tr>\n",
       "    <tr>\n",
       "      <th>3</th>\n",
       "      <td>male</td>\n",
       "      <td>group A</td>\n",
       "      <td>associate's degree</td>\n",
       "      <td>free/reduced</td>\n",
       "      <td>none</td>\n",
       "      <td>47</td>\n",
       "      <td>57</td>\n",
       "      <td>44</td>\n",
       "    </tr>\n",
       "    <tr>\n",
       "      <th>4</th>\n",
       "      <td>male</td>\n",
       "      <td>group C</td>\n",
       "      <td>some college</td>\n",
       "      <td>standard</td>\n",
       "      <td>none</td>\n",
       "      <td>76</td>\n",
       "      <td>78</td>\n",
       "      <td>75</td>\n",
       "    </tr>\n",
       "    <tr>\n",
       "      <th>...</th>\n",
       "      <td>...</td>\n",
       "      <td>...</td>\n",
       "      <td>...</td>\n",
       "      <td>...</td>\n",
       "      <td>...</td>\n",
       "      <td>...</td>\n",
       "      <td>...</td>\n",
       "      <td>...</td>\n",
       "    </tr>\n",
       "    <tr>\n",
       "      <th>995</th>\n",
       "      <td>female</td>\n",
       "      <td>group E</td>\n",
       "      <td>master's degree</td>\n",
       "      <td>standard</td>\n",
       "      <td>completed</td>\n",
       "      <td>88</td>\n",
       "      <td>99</td>\n",
       "      <td>95</td>\n",
       "    </tr>\n",
       "    <tr>\n",
       "      <th>996</th>\n",
       "      <td>male</td>\n",
       "      <td>group C</td>\n",
       "      <td>high school</td>\n",
       "      <td>free/reduced</td>\n",
       "      <td>none</td>\n",
       "      <td>62</td>\n",
       "      <td>55</td>\n",
       "      <td>55</td>\n",
       "    </tr>\n",
       "    <tr>\n",
       "      <th>997</th>\n",
       "      <td>female</td>\n",
       "      <td>group C</td>\n",
       "      <td>high school</td>\n",
       "      <td>free/reduced</td>\n",
       "      <td>completed</td>\n",
       "      <td>59</td>\n",
       "      <td>71</td>\n",
       "      <td>65</td>\n",
       "    </tr>\n",
       "    <tr>\n",
       "      <th>998</th>\n",
       "      <td>female</td>\n",
       "      <td>group D</td>\n",
       "      <td>some college</td>\n",
       "      <td>standard</td>\n",
       "      <td>completed</td>\n",
       "      <td>68</td>\n",
       "      <td>78</td>\n",
       "      <td>77</td>\n",
       "    </tr>\n",
       "    <tr>\n",
       "      <th>999</th>\n",
       "      <td>female</td>\n",
       "      <td>group D</td>\n",
       "      <td>some college</td>\n",
       "      <td>free/reduced</td>\n",
       "      <td>none</td>\n",
       "      <td>77</td>\n",
       "      <td>86</td>\n",
       "      <td>86</td>\n",
       "    </tr>\n",
       "  </tbody>\n",
       "</table>\n",
       "<p>1000 rows × 8 columns</p>\n",
       "</div>"
      ],
      "text/plain": [
       "     gender race/ethnicity parental level of education         lunch  \\\n",
       "0    female        group B           bachelor's degree      standard   \n",
       "1    female        group C                some college      standard   \n",
       "2    female        group B             master's degree      standard   \n",
       "3      male        group A          associate's degree  free/reduced   \n",
       "4      male        group C                some college      standard   \n",
       "..      ...            ...                         ...           ...   \n",
       "995  female        group E             master's degree      standard   \n",
       "996    male        group C                 high school  free/reduced   \n",
       "997  female        group C                 high school  free/reduced   \n",
       "998  female        group D                some college      standard   \n",
       "999  female        group D                some college  free/reduced   \n",
       "\n",
       "    test preparation course  math score  reading score  writing score  \n",
       "0                      none          72             72             74  \n",
       "1                 completed          69             90             88  \n",
       "2                      none          90             95             93  \n",
       "3                      none          47             57             44  \n",
       "4                      none          76             78             75  \n",
       "..                      ...         ...            ...            ...  \n",
       "995               completed          88             99             95  \n",
       "996                    none          62             55             55  \n",
       "997               completed          59             71             65  \n",
       "998               completed          68             78             77  \n",
       "999                    none          77             86             86  \n",
       "\n",
       "[1000 rows x 8 columns]"
      ]
     },
     "metadata": {},
     "execution_count": 409
    }
   ],
   "metadata": {}
  },
  {
   "cell_type": "code",
   "execution_count": 410,
   "source": [
    "stud_df.info()"
   ],
   "outputs": [
    {
     "output_type": "stream",
     "name": "stdout",
     "text": [
      "<class 'pandas.core.frame.DataFrame'>\n",
      "RangeIndex: 1000 entries, 0 to 999\n",
      "Data columns (total 8 columns):\n",
      " #   Column                       Non-Null Count  Dtype \n",
      "---  ------                       --------------  ----- \n",
      " 0   gender                       1000 non-null   object\n",
      " 1   race/ethnicity               1000 non-null   object\n",
      " 2   parental level of education  1000 non-null   object\n",
      " 3   lunch                        1000 non-null   object\n",
      " 4   test preparation course      1000 non-null   object\n",
      " 5   math score                   1000 non-null   int64 \n",
      " 6   reading score                1000 non-null   int64 \n",
      " 7   writing score                1000 non-null   int64 \n",
      "dtypes: int64(3), object(5)\n",
      "memory usage: 62.6+ KB\n"
     ]
    }
   ],
   "metadata": {}
  },
  {
   "cell_type": "code",
   "execution_count": 411,
   "source": [
    "stud_df = stud_df.rename(\r\n",
    "    columns= {\r\n",
    "        'gender':'gender',\r\n",
    "        'race/ethnicity':'social_group',\r\n",
    "        'parental level of education':'parent_education',\r\n",
    "        'lunch':'lunch',\r\n",
    "        'test preparation course':'test_prep_course',\r\n",
    "        'math score':'math_score',\r\n",
    "        'reading score':'read_score',\r\n",
    "        'writing score':'write_score'\r\n",
    "    }\r\n",
    ")"
   ],
   "outputs": [],
   "metadata": {}
  },
  {
   "cell_type": "code",
   "execution_count": 412,
   "source": [
    "stud_df.columns"
   ],
   "outputs": [
    {
     "output_type": "execute_result",
     "data": {
      "text/plain": [
       "Index(['gender', 'social_group', 'parent_education', 'lunch',\n",
       "       'test_prep_course', 'math_score', 'read_score', 'write_score'],\n",
       "      dtype='object')"
      ]
     },
     "metadata": {},
     "execution_count": 412
    }
   ],
   "metadata": {}
  },
  {
   "cell_type": "code",
   "execution_count": 413,
   "source": [
    "stud_df.info()"
   ],
   "outputs": [
    {
     "output_type": "stream",
     "name": "stdout",
     "text": [
      "<class 'pandas.core.frame.DataFrame'>\n",
      "RangeIndex: 1000 entries, 0 to 999\n",
      "Data columns (total 8 columns):\n",
      " #   Column            Non-Null Count  Dtype \n",
      "---  ------            --------------  ----- \n",
      " 0   gender            1000 non-null   object\n",
      " 1   social_group      1000 non-null   object\n",
      " 2   parent_education  1000 non-null   object\n",
      " 3   lunch             1000 non-null   object\n",
      " 4   test_prep_course  1000 non-null   object\n",
      " 5   math_score        1000 non-null   int64 \n",
      " 6   read_score        1000 non-null   int64 \n",
      " 7   write_score       1000 non-null   int64 \n",
      "dtypes: int64(3), object(5)\n",
      "memory usage: 62.6+ KB\n"
     ]
    }
   ],
   "metadata": {}
  },
  {
   "cell_type": "markdown",
   "source": [
    "# Adding Grade Column"
   ],
   "metadata": {}
  },
  {
   "cell_type": "code",
   "execution_count": 414,
   "source": [
    "def AverageToGrade(AverageScore):\r\n",
    "    if (AverageScore>=80): return \"A\"\r\n",
    "    if (AverageScore>=70): return \"B\"\r\n",
    "    if (AverageScore>=60): return \"C\"\r\n",
    "    if (AverageScore>=50): return \"D\"\r\n",
    "    if (AverageScore>=40): return \"E\"\r\n",
    "    else: return \"F\""
   ],
   "outputs": [],
   "metadata": {}
  },
  {
   "cell_type": "markdown",
   "source": [
    "## Setting average"
   ],
   "metadata": {}
  },
  {
   "cell_type": "code",
   "execution_count": 415,
   "source": [
    "stud_df[\"average\"]=stud_df[[\"math_score\", \"read_score\", \"write_score\"]].mean(axis=1)\r\n",
    "stud_df.head()"
   ],
   "outputs": [
    {
     "output_type": "execute_result",
     "data": {
      "text/html": [
       "<div>\n",
       "<style scoped>\n",
       "    .dataframe tbody tr th:only-of-type {\n",
       "        vertical-align: middle;\n",
       "    }\n",
       "\n",
       "    .dataframe tbody tr th {\n",
       "        vertical-align: top;\n",
       "    }\n",
       "\n",
       "    .dataframe thead th {\n",
       "        text-align: right;\n",
       "    }\n",
       "</style>\n",
       "<table border=\"1\" class=\"dataframe\">\n",
       "  <thead>\n",
       "    <tr style=\"text-align: right;\">\n",
       "      <th></th>\n",
       "      <th>gender</th>\n",
       "      <th>social_group</th>\n",
       "      <th>parent_education</th>\n",
       "      <th>lunch</th>\n",
       "      <th>test_prep_course</th>\n",
       "      <th>math_score</th>\n",
       "      <th>read_score</th>\n",
       "      <th>write_score</th>\n",
       "      <th>average</th>\n",
       "    </tr>\n",
       "  </thead>\n",
       "  <tbody>\n",
       "    <tr>\n",
       "      <th>0</th>\n",
       "      <td>female</td>\n",
       "      <td>group B</td>\n",
       "      <td>bachelor's degree</td>\n",
       "      <td>standard</td>\n",
       "      <td>none</td>\n",
       "      <td>72</td>\n",
       "      <td>72</td>\n",
       "      <td>74</td>\n",
       "      <td>72.666667</td>\n",
       "    </tr>\n",
       "    <tr>\n",
       "      <th>1</th>\n",
       "      <td>female</td>\n",
       "      <td>group C</td>\n",
       "      <td>some college</td>\n",
       "      <td>standard</td>\n",
       "      <td>completed</td>\n",
       "      <td>69</td>\n",
       "      <td>90</td>\n",
       "      <td>88</td>\n",
       "      <td>82.333333</td>\n",
       "    </tr>\n",
       "    <tr>\n",
       "      <th>2</th>\n",
       "      <td>female</td>\n",
       "      <td>group B</td>\n",
       "      <td>master's degree</td>\n",
       "      <td>standard</td>\n",
       "      <td>none</td>\n",
       "      <td>90</td>\n",
       "      <td>95</td>\n",
       "      <td>93</td>\n",
       "      <td>92.666667</td>\n",
       "    </tr>\n",
       "    <tr>\n",
       "      <th>3</th>\n",
       "      <td>male</td>\n",
       "      <td>group A</td>\n",
       "      <td>associate's degree</td>\n",
       "      <td>free/reduced</td>\n",
       "      <td>none</td>\n",
       "      <td>47</td>\n",
       "      <td>57</td>\n",
       "      <td>44</td>\n",
       "      <td>49.333333</td>\n",
       "    </tr>\n",
       "    <tr>\n",
       "      <th>4</th>\n",
       "      <td>male</td>\n",
       "      <td>group C</td>\n",
       "      <td>some college</td>\n",
       "      <td>standard</td>\n",
       "      <td>none</td>\n",
       "      <td>76</td>\n",
       "      <td>78</td>\n",
       "      <td>75</td>\n",
       "      <td>76.333333</td>\n",
       "    </tr>\n",
       "  </tbody>\n",
       "</table>\n",
       "</div>"
      ],
      "text/plain": [
       "   gender social_group    parent_education         lunch test_prep_course  \\\n",
       "0  female      group B   bachelor's degree      standard             none   \n",
       "1  female      group C        some college      standard        completed   \n",
       "2  female      group B     master's degree      standard             none   \n",
       "3    male      group A  associate's degree  free/reduced             none   \n",
       "4    male      group C        some college      standard             none   \n",
       "\n",
       "   math_score  read_score  write_score    average  \n",
       "0          72          72           74  72.666667  \n",
       "1          69          90           88  82.333333  \n",
       "2          90          95           93  92.666667  \n",
       "3          47          57           44  49.333333  \n",
       "4          76          78           75  76.333333  "
      ]
     },
     "metadata": {},
     "execution_count": 415
    }
   ],
   "metadata": {}
  },
  {
   "cell_type": "code",
   "execution_count": 416,
   "source": [
    "stud_df[\"grade\"]=stud_df.apply(lambda x: AverageToGrade(x[\"average\"]),axis=1)\r\n",
    "stud_df.head(20)"
   ],
   "outputs": [
    {
     "output_type": "execute_result",
     "data": {
      "text/html": [
       "<div>\n",
       "<style scoped>\n",
       "    .dataframe tbody tr th:only-of-type {\n",
       "        vertical-align: middle;\n",
       "    }\n",
       "\n",
       "    .dataframe tbody tr th {\n",
       "        vertical-align: top;\n",
       "    }\n",
       "\n",
       "    .dataframe thead th {\n",
       "        text-align: right;\n",
       "    }\n",
       "</style>\n",
       "<table border=\"1\" class=\"dataframe\">\n",
       "  <thead>\n",
       "    <tr style=\"text-align: right;\">\n",
       "      <th></th>\n",
       "      <th>gender</th>\n",
       "      <th>social_group</th>\n",
       "      <th>parent_education</th>\n",
       "      <th>lunch</th>\n",
       "      <th>test_prep_course</th>\n",
       "      <th>math_score</th>\n",
       "      <th>read_score</th>\n",
       "      <th>write_score</th>\n",
       "      <th>average</th>\n",
       "      <th>grade</th>\n",
       "    </tr>\n",
       "  </thead>\n",
       "  <tbody>\n",
       "    <tr>\n",
       "      <th>0</th>\n",
       "      <td>female</td>\n",
       "      <td>group B</td>\n",
       "      <td>bachelor's degree</td>\n",
       "      <td>standard</td>\n",
       "      <td>none</td>\n",
       "      <td>72</td>\n",
       "      <td>72</td>\n",
       "      <td>74</td>\n",
       "      <td>72.666667</td>\n",
       "      <td>B</td>\n",
       "    </tr>\n",
       "    <tr>\n",
       "      <th>1</th>\n",
       "      <td>female</td>\n",
       "      <td>group C</td>\n",
       "      <td>some college</td>\n",
       "      <td>standard</td>\n",
       "      <td>completed</td>\n",
       "      <td>69</td>\n",
       "      <td>90</td>\n",
       "      <td>88</td>\n",
       "      <td>82.333333</td>\n",
       "      <td>A</td>\n",
       "    </tr>\n",
       "    <tr>\n",
       "      <th>2</th>\n",
       "      <td>female</td>\n",
       "      <td>group B</td>\n",
       "      <td>master's degree</td>\n",
       "      <td>standard</td>\n",
       "      <td>none</td>\n",
       "      <td>90</td>\n",
       "      <td>95</td>\n",
       "      <td>93</td>\n",
       "      <td>92.666667</td>\n",
       "      <td>A</td>\n",
       "    </tr>\n",
       "    <tr>\n",
       "      <th>3</th>\n",
       "      <td>male</td>\n",
       "      <td>group A</td>\n",
       "      <td>associate's degree</td>\n",
       "      <td>free/reduced</td>\n",
       "      <td>none</td>\n",
       "      <td>47</td>\n",
       "      <td>57</td>\n",
       "      <td>44</td>\n",
       "      <td>49.333333</td>\n",
       "      <td>E</td>\n",
       "    </tr>\n",
       "    <tr>\n",
       "      <th>4</th>\n",
       "      <td>male</td>\n",
       "      <td>group C</td>\n",
       "      <td>some college</td>\n",
       "      <td>standard</td>\n",
       "      <td>none</td>\n",
       "      <td>76</td>\n",
       "      <td>78</td>\n",
       "      <td>75</td>\n",
       "      <td>76.333333</td>\n",
       "      <td>B</td>\n",
       "    </tr>\n",
       "    <tr>\n",
       "      <th>5</th>\n",
       "      <td>female</td>\n",
       "      <td>group B</td>\n",
       "      <td>associate's degree</td>\n",
       "      <td>standard</td>\n",
       "      <td>none</td>\n",
       "      <td>71</td>\n",
       "      <td>83</td>\n",
       "      <td>78</td>\n",
       "      <td>77.333333</td>\n",
       "      <td>B</td>\n",
       "    </tr>\n",
       "    <tr>\n",
       "      <th>6</th>\n",
       "      <td>female</td>\n",
       "      <td>group B</td>\n",
       "      <td>some college</td>\n",
       "      <td>standard</td>\n",
       "      <td>completed</td>\n",
       "      <td>88</td>\n",
       "      <td>95</td>\n",
       "      <td>92</td>\n",
       "      <td>91.666667</td>\n",
       "      <td>A</td>\n",
       "    </tr>\n",
       "    <tr>\n",
       "      <th>7</th>\n",
       "      <td>male</td>\n",
       "      <td>group B</td>\n",
       "      <td>some college</td>\n",
       "      <td>free/reduced</td>\n",
       "      <td>none</td>\n",
       "      <td>40</td>\n",
       "      <td>43</td>\n",
       "      <td>39</td>\n",
       "      <td>40.666667</td>\n",
       "      <td>E</td>\n",
       "    </tr>\n",
       "    <tr>\n",
       "      <th>8</th>\n",
       "      <td>male</td>\n",
       "      <td>group D</td>\n",
       "      <td>high school</td>\n",
       "      <td>free/reduced</td>\n",
       "      <td>completed</td>\n",
       "      <td>64</td>\n",
       "      <td>64</td>\n",
       "      <td>67</td>\n",
       "      <td>65.000000</td>\n",
       "      <td>C</td>\n",
       "    </tr>\n",
       "    <tr>\n",
       "      <th>9</th>\n",
       "      <td>female</td>\n",
       "      <td>group B</td>\n",
       "      <td>high school</td>\n",
       "      <td>free/reduced</td>\n",
       "      <td>none</td>\n",
       "      <td>38</td>\n",
       "      <td>60</td>\n",
       "      <td>50</td>\n",
       "      <td>49.333333</td>\n",
       "      <td>E</td>\n",
       "    </tr>\n",
       "    <tr>\n",
       "      <th>10</th>\n",
       "      <td>male</td>\n",
       "      <td>group C</td>\n",
       "      <td>associate's degree</td>\n",
       "      <td>standard</td>\n",
       "      <td>none</td>\n",
       "      <td>58</td>\n",
       "      <td>54</td>\n",
       "      <td>52</td>\n",
       "      <td>54.666667</td>\n",
       "      <td>D</td>\n",
       "    </tr>\n",
       "    <tr>\n",
       "      <th>11</th>\n",
       "      <td>male</td>\n",
       "      <td>group D</td>\n",
       "      <td>associate's degree</td>\n",
       "      <td>standard</td>\n",
       "      <td>none</td>\n",
       "      <td>40</td>\n",
       "      <td>52</td>\n",
       "      <td>43</td>\n",
       "      <td>45.000000</td>\n",
       "      <td>E</td>\n",
       "    </tr>\n",
       "    <tr>\n",
       "      <th>12</th>\n",
       "      <td>female</td>\n",
       "      <td>group B</td>\n",
       "      <td>high school</td>\n",
       "      <td>standard</td>\n",
       "      <td>none</td>\n",
       "      <td>65</td>\n",
       "      <td>81</td>\n",
       "      <td>73</td>\n",
       "      <td>73.000000</td>\n",
       "      <td>B</td>\n",
       "    </tr>\n",
       "    <tr>\n",
       "      <th>13</th>\n",
       "      <td>male</td>\n",
       "      <td>group A</td>\n",
       "      <td>some college</td>\n",
       "      <td>standard</td>\n",
       "      <td>completed</td>\n",
       "      <td>78</td>\n",
       "      <td>72</td>\n",
       "      <td>70</td>\n",
       "      <td>73.333333</td>\n",
       "      <td>B</td>\n",
       "    </tr>\n",
       "    <tr>\n",
       "      <th>14</th>\n",
       "      <td>female</td>\n",
       "      <td>group A</td>\n",
       "      <td>master's degree</td>\n",
       "      <td>standard</td>\n",
       "      <td>none</td>\n",
       "      <td>50</td>\n",
       "      <td>53</td>\n",
       "      <td>58</td>\n",
       "      <td>53.666667</td>\n",
       "      <td>D</td>\n",
       "    </tr>\n",
       "    <tr>\n",
       "      <th>15</th>\n",
       "      <td>female</td>\n",
       "      <td>group C</td>\n",
       "      <td>some high school</td>\n",
       "      <td>standard</td>\n",
       "      <td>none</td>\n",
       "      <td>69</td>\n",
       "      <td>75</td>\n",
       "      <td>78</td>\n",
       "      <td>74.000000</td>\n",
       "      <td>B</td>\n",
       "    </tr>\n",
       "    <tr>\n",
       "      <th>16</th>\n",
       "      <td>male</td>\n",
       "      <td>group C</td>\n",
       "      <td>high school</td>\n",
       "      <td>standard</td>\n",
       "      <td>none</td>\n",
       "      <td>88</td>\n",
       "      <td>89</td>\n",
       "      <td>86</td>\n",
       "      <td>87.666667</td>\n",
       "      <td>A</td>\n",
       "    </tr>\n",
       "    <tr>\n",
       "      <th>17</th>\n",
       "      <td>female</td>\n",
       "      <td>group B</td>\n",
       "      <td>some high school</td>\n",
       "      <td>free/reduced</td>\n",
       "      <td>none</td>\n",
       "      <td>18</td>\n",
       "      <td>32</td>\n",
       "      <td>28</td>\n",
       "      <td>26.000000</td>\n",
       "      <td>F</td>\n",
       "    </tr>\n",
       "    <tr>\n",
       "      <th>18</th>\n",
       "      <td>male</td>\n",
       "      <td>group C</td>\n",
       "      <td>master's degree</td>\n",
       "      <td>free/reduced</td>\n",
       "      <td>completed</td>\n",
       "      <td>46</td>\n",
       "      <td>42</td>\n",
       "      <td>46</td>\n",
       "      <td>44.666667</td>\n",
       "      <td>E</td>\n",
       "    </tr>\n",
       "    <tr>\n",
       "      <th>19</th>\n",
       "      <td>female</td>\n",
       "      <td>group C</td>\n",
       "      <td>associate's degree</td>\n",
       "      <td>free/reduced</td>\n",
       "      <td>none</td>\n",
       "      <td>54</td>\n",
       "      <td>58</td>\n",
       "      <td>61</td>\n",
       "      <td>57.666667</td>\n",
       "      <td>D</td>\n",
       "    </tr>\n",
       "  </tbody>\n",
       "</table>\n",
       "</div>"
      ],
      "text/plain": [
       "    gender social_group    parent_education         lunch test_prep_course  \\\n",
       "0   female      group B   bachelor's degree      standard             none   \n",
       "1   female      group C        some college      standard        completed   \n",
       "2   female      group B     master's degree      standard             none   \n",
       "3     male      group A  associate's degree  free/reduced             none   \n",
       "4     male      group C        some college      standard             none   \n",
       "5   female      group B  associate's degree      standard             none   \n",
       "6   female      group B        some college      standard        completed   \n",
       "7     male      group B        some college  free/reduced             none   \n",
       "8     male      group D         high school  free/reduced        completed   \n",
       "9   female      group B         high school  free/reduced             none   \n",
       "10    male      group C  associate's degree      standard             none   \n",
       "11    male      group D  associate's degree      standard             none   \n",
       "12  female      group B         high school      standard             none   \n",
       "13    male      group A        some college      standard        completed   \n",
       "14  female      group A     master's degree      standard             none   \n",
       "15  female      group C    some high school      standard             none   \n",
       "16    male      group C         high school      standard             none   \n",
       "17  female      group B    some high school  free/reduced             none   \n",
       "18    male      group C     master's degree  free/reduced        completed   \n",
       "19  female      group C  associate's degree  free/reduced             none   \n",
       "\n",
       "    math_score  read_score  write_score    average grade  \n",
       "0           72          72           74  72.666667     B  \n",
       "1           69          90           88  82.333333     A  \n",
       "2           90          95           93  92.666667     A  \n",
       "3           47          57           44  49.333333     E  \n",
       "4           76          78           75  76.333333     B  \n",
       "5           71          83           78  77.333333     B  \n",
       "6           88          95           92  91.666667     A  \n",
       "7           40          43           39  40.666667     E  \n",
       "8           64          64           67  65.000000     C  \n",
       "9           38          60           50  49.333333     E  \n",
       "10          58          54           52  54.666667     D  \n",
       "11          40          52           43  45.000000     E  \n",
       "12          65          81           73  73.000000     B  \n",
       "13          78          72           70  73.333333     B  \n",
       "14          50          53           58  53.666667     D  \n",
       "15          69          75           78  74.000000     B  \n",
       "16          88          89           86  87.666667     A  \n",
       "17          18          32           28  26.000000     F  \n",
       "18          46          42           46  44.666667     E  \n",
       "19          54          58           61  57.666667     D  "
      ]
     },
     "metadata": {},
     "execution_count": 416
    }
   ],
   "metadata": {}
  },
  {
   "cell_type": "code",
   "execution_count": 417,
   "source": [
    "sns.countplot(data=stud_df, x=stud_df[\"grade\"], hue=stud_df[\"gender\"])"
   ],
   "outputs": [
    {
     "output_type": "execute_result",
     "data": {
      "text/plain": [
       "<AxesSubplot:xlabel='grade', ylabel='count'>"
      ]
     },
     "metadata": {},
     "execution_count": 417
    },
    {
     "output_type": "display_data",
     "data": {
      "image/png": "[encoded data removed]",
      "image/svg+xml": "<?xml version=\"1.0\" encoding=\"utf-8\" standalone=\"no\"?>\r\n<!DOCTYPE svg PUBLIC \"-//W3C//DTD SVG 1.1//EN\"\r\n  \"http://www.w3.org/Graphics/SVG/1.1/DTD/svg11.dtd\">\r\n<svg height=\"262.19625pt\" version=\"1.1\" viewBox=\"0 0 388.965625 262.19625\" width=\"388.965625pt\" xmlns=\"http://www.w3.org/2000/svg\" xmlns:xlink=\"http://www.w3.org/1999/xlink\">\r\n <metadata>\r\n  <rdf:RDF xmlns:cc=\"http://creativecommons.org/ns#\" xmlns:dc=\"http://purl.org/dc/elements/1.1/\" xmlns:rdf=\"http://www.w3.org/1999/02/22-rdf-syntax-ns#\">\r\n   <cc:Work>\r\n    <dc:type rdf:resource=\"http://purl.org/dc/dcmitype/StillImage\"/>\r\n    <dc:date>2021-09-02T00:49:26.273924</dc:date>\r\n    <dc:format>image/svg+xml</dc:format>\r\n    <dc:creator>\r\n     <cc:Agent>\r\n      <dc:title>Matplotlib v3.4.2, https://matplotlib.org/</dc:title>\r\n     </cc:Agent>\r\n    </dc:creator>\r\n   </cc:Work>\r\n  </rdf:RDF>\r\n </metadata>\r\n <defs>\r\n  <style type=\"text/css\">*{stroke-linecap:butt;stroke-linejoin:round;}</style>\r\n </defs>\r\n <g id=\"figure_1\">\r\n  <g id=\"patch_1\">\r\n   <path d=\"M -0 262.19625 \r\nL 388.965625 262.19625 \r\nL 388.965625 0 \r\nL -0 0 \r\nz\r\n\" style=\"fill:none;\"/>\r\n  </g>\r\n  <g id=\"axes_1\">\r\n   <g id=\"patch_2\">\r\n    <path d=\"M 46.965625 224.64 \r\nL 381.765625 224.64 \r\nL 381.765625 7.2 \r\nL 46.965625 7.2 \r\nz\r\n\" style=\"fill:#ffffff;\"/>\r\n   </g>\r\n   <g id=\"patch_3\">\r\n    <path clip-path=\"url(#p6aa4c615ba)\" d=\"M 52.545625 224.64 \r\nL 74.865625 224.64 \r\nL 74.865625 17.554286 \r\nL 52.545625 17.554286 \r\nz\r\n\" style=\"fill:#3274a1;\"/>\r\n   </g>\r\n   <g id=\"patch_4\">\r\n    <path clip-path=\"url(#p6aa4c615ba)\" d=\"M 108.345625 224.64 \r\nL 130.665625 224.64 \r\nL 130.665625 61.732571 \r\nL 108.345625 61.732571 \r\nz\r\n\" style=\"fill:#3274a1;\"/>\r\n   </g>\r\n   <g id=\"patch_5\">\r\n    <path clip-path=\"url(#p6aa4c615ba)\" d=\"M 164.145625 224.64 \r\nL 186.465625 224.64 \r\nL 186.465625 192.886857 \r\nL 164.145625 192.886857 \r\nz\r\n\" style=\"fill:#3274a1;\"/>\r\n   </g>\r\n   <g id=\"patch_6\">\r\n    <path clip-path=\"url(#p6aa4c615ba)\" d=\"M 219.945625 224.64 \r\nL 242.265625 224.64 \r\nL 242.265625 50.688 \r\nL 219.945625 50.688 \r\nz\r\n\" style=\"fill:#3274a1;\"/>\r\n   </g>\r\n   <g id=\"patch_7\">\r\n    <path clip-path=\"url(#p6aa4c615ba)\" d=\"M 275.745625 224.64 \r\nL 298.065625 224.64 \r\nL 298.065625 107.291429 \r\nL 275.745625 107.291429 \r\nz\r\n\" style=\"fill:#3274a1;\"/>\r\n   </g>\r\n   <g id=\"patch_8\">\r\n    <path clip-path=\"url(#p6aa4c615ba)\" d=\"M 331.545625 224.64 \r\nL 353.865625 224.64 \r\nL 353.865625 202.550857 \r\nL 331.545625 202.550857 \r\nz\r\n\" style=\"fill:#3274a1;\"/>\r\n   </g>\r\n   <g id=\"patch_9\">\r\n    <path clip-path=\"url(#p6aa4c615ba)\" d=\"M 74.865625 224.64 \r\nL 97.185625 224.64 \r\nL 97.185625 71.396571 \r\nL 74.865625 71.396571 \r\nz\r\n\" style=\"fill:#e1812c;\"/>\r\n   </g>\r\n   <g id=\"patch_10\">\r\n    <path clip-path=\"url(#p6aa4c615ba)\" d=\"M 130.665625 224.64 \r\nL 152.985625 224.64 \r\nL 152.985625 114.194286 \r\nL 130.665625 114.194286 \r\nz\r\n\" style=\"fill:#e1812c;\"/>\r\n   </g>\r\n   <g id=\"patch_11\">\r\n    <path clip-path=\"url(#p6aa4c615ba)\" d=\"M 186.465625 224.64 \r\nL 208.785625 224.64 \r\nL 208.785625 155.611429 \r\nL 186.465625 155.611429 \r\nz\r\n\" style=\"fill:#e1812c;\"/>\r\n   </g>\r\n   <g id=\"patch_12\">\r\n    <path clip-path=\"url(#p6aa4c615ba)\" d=\"M 242.265625 224.64 \r\nL 264.585625 224.64 \r\nL 264.585625 45.165714 \r\nL 242.265625 45.165714 \r\nz\r\n\" style=\"fill:#e1812c;\"/>\r\n   </g>\r\n   <g id=\"patch_13\">\r\n    <path clip-path=\"url(#p6aa4c615ba)\" d=\"M 298.065625 224.64 \r\nL 320.385625 224.64 \r\nL 320.385625 90.724571 \r\nL 298.065625 90.724571 \r\nz\r\n\" style=\"fill:#e1812c;\"/>\r\n   </g>\r\n   <g id=\"patch_14\">\r\n    <path clip-path=\"url(#p6aa4c615ba)\" d=\"M 353.865625 224.64 \r\nL 376.185625 224.64 \r\nL 376.185625 205.312 \r\nL 353.865625 205.312 \r\nz\r\n\" style=\"fill:#e1812c;\"/>\r\n   </g>\r\n   <g id=\"matplotlib.axis_1\">\r\n    <g id=\"xtick_1\">\r\n     <g id=\"line2d_1\">\r\n      <defs>\r\n       <path d=\"M 0 0 \r\nL 0 3.5 \r\n\" id=\"m3341c50e2a\" style=\"stroke:#000000;stroke-width:0.8;\"/>\r\n      </defs>\r\n      <g>\r\n       <use style=\"stroke:#000000;stroke-width:0.8;\" x=\"74.865625\" xlink:href=\"#m3341c50e2a\" y=\"224.64\"/>\r\n      </g>\r\n     </g>\r\n     <g id=\"text_1\">\r\n      <!-- B -->\r\n      <g transform=\"translate(71.435156 239.238437)scale(0.1 -0.1)\">\r\n       <defs>\r\n        <path d=\"M 1259 2228 \r\nL 1259 519 \r\nL 2272 519 \r\nQ 2781 519 3026 730 \r\nQ 3272 941 3272 1375 \r\nQ 3272 1813 3026 2020 \r\nQ 2781 2228 2272 2228 \r\nL 1259 2228 \r\nz\r\nM 1259 4147 \r\nL 1259 2741 \r\nL 2194 2741 \r\nQ 2656 2741 2882 2914 \r\nQ 3109 3088 3109 3444 \r\nQ 3109 3797 2882 3972 \r\nQ 2656 4147 2194 4147 \r\nL 1259 4147 \r\nz\r\nM 628 4666 \r\nL 2241 4666 \r\nQ 2963 4666 3353 4366 \r\nQ 3744 4066 3744 3513 \r\nQ 3744 3084 3544 2831 \r\nQ 3344 2578 2956 2516 \r\nQ 3422 2416 3680 2098 \r\nQ 3938 1781 3938 1306 \r\nQ 3938 681 3513 340 \r\nQ 3088 0 2303 0 \r\nL 628 0 \r\nL 628 4666 \r\nz\r\n\" id=\"DejaVuSans-42\" transform=\"scale(0.015625)\"/>\r\n       </defs>\r\n       <use xlink:href=\"#DejaVuSans-42\"/>\r\n      </g>\r\n     </g>\r\n    </g>\r\n    <g id=\"xtick_2\">\r\n     <g id=\"line2d_2\">\r\n      <g>\r\n       <use style=\"stroke:#000000;stroke-width:0.8;\" x=\"130.665625\" xlink:href=\"#m3341c50e2a\" y=\"224.64\"/>\r\n      </g>\r\n     </g>\r\n     <g id=\"text_2\">\r\n      <!-- A -->\r\n      <g transform=\"translate(127.245312 239.238437)scale(0.1 -0.1)\">\r\n       <defs>\r\n        <path d=\"M 2188 4044 \r\nL 1331 1722 \r\nL 3047 1722 \r\nL 2188 4044 \r\nz\r\nM 1831 4666 \r\nL 2547 4666 \r\nL 4325 0 \r\nL 3669 0 \r\nL 3244 1197 \r\nL 1141 1197 \r\nL 716 0 \r\nL 50 0 \r\nL 1831 4666 \r\nz\r\n\" id=\"DejaVuSans-41\" transform=\"scale(0.015625)\"/>\r\n       </defs>\r\n       <use xlink:href=\"#DejaVuSans-41\"/>\r\n      </g>\r\n     </g>\r\n    </g>\r\n    <g id=\"xtick_3\">\r\n     <g id=\"line2d_3\">\r\n      <g>\r\n       <use style=\"stroke:#000000;stroke-width:0.8;\" x=\"186.465625\" xlink:href=\"#m3341c50e2a\" y=\"224.64\"/>\r\n      </g>\r\n     </g>\r\n     <g id=\"text_3\">\r\n      <!-- E -->\r\n      <g transform=\"translate(183.30625 239.238437)scale(0.1 -0.1)\">\r\n       <defs>\r\n        <path d=\"M 628 4666 \r\nL 3578 4666 \r\nL 3578 4134 \r\nL 1259 4134 \r\nL 1259 2753 \r\nL 3481 2753 \r\nL 3481 2222 \r\nL 1259 2222 \r\nL 1259 531 \r\nL 3634 531 \r\nL 3634 0 \r\nL 628 0 \r\nL 628 4666 \r\nz\r\n\" id=\"DejaVuSans-45\" transform=\"scale(0.015625)\"/>\r\n       </defs>\r\n       <use xlink:href=\"#DejaVuSans-45\"/>\r\n      </g>\r\n     </g>\r\n    </g>\r\n    <g id=\"xtick_4\">\r\n     <g id=\"line2d_4\">\r\n      <g>\r\n       <use style=\"stroke:#000000;stroke-width:0.8;\" x=\"242.265625\" xlink:href=\"#m3341c50e2a\" y=\"224.64\"/>\r\n      </g>\r\n     </g>\r\n     <g id=\"text_4\">\r\n      <!-- C -->\r\n      <g transform=\"translate(238.774219 239.238437)scale(0.1 -0.1)\">\r\n       <defs>\r\n        <path d=\"M 4122 4306 \r\nL 4122 3641 \r\nQ 3803 3938 3442 4084 \r\nQ 3081 4231 2675 4231 \r\nQ 1875 4231 1450 3742 \r\nQ 1025 3253 1025 2328 \r\nQ 1025 1406 1450 917 \r\nQ 1875 428 2675 428 \r\nQ 3081 428 3442 575 \r\nQ 3803 722 4122 1019 \r\nL 4122 359 \r\nQ 3791 134 3420 21 \r\nQ 3050 -91 2638 -91 \r\nQ 1578 -91 968 557 \r\nQ 359 1206 359 2328 \r\nQ 359 3453 968 4101 \r\nQ 1578 4750 2638 4750 \r\nQ 3056 4750 3426 4639 \r\nQ 3797 4528 4122 4306 \r\nz\r\n\" id=\"DejaVuSans-43\" transform=\"scale(0.015625)\"/>\r\n       </defs>\r\n       <use xlink:href=\"#DejaVuSans-43\"/>\r\n      </g>\r\n     </g>\r\n    </g>\r\n    <g id=\"xtick_5\">\r\n     <g id=\"line2d_5\">\r\n      <g>\r\n       <use style=\"stroke:#000000;stroke-width:0.8;\" x=\"298.065625\" xlink:href=\"#m3341c50e2a\" y=\"224.64\"/>\r\n      </g>\r\n     </g>\r\n     <g id=\"text_5\">\r\n      <!-- D -->\r\n      <g transform=\"translate(294.215625 239.238437)scale(0.1 -0.1)\">\r\n       <defs>\r\n        <path d=\"M 1259 4147 \r\nL 1259 519 \r\nL 2022 519 \r\nQ 2988 519 3436 956 \r\nQ 3884 1394 3884 2338 \r\nQ 3884 3275 3436 3711 \r\nQ 2988 4147 2022 4147 \r\nL 1259 4147 \r\nz\r\nM 628 4666 \r\nL 1925 4666 \r\nQ 3281 4666 3915 4102 \r\nQ 4550 3538 4550 2338 \r\nQ 4550 1131 3912 565 \r\nQ 3275 0 1925 0 \r\nL 628 0 \r\nL 628 4666 \r\nz\r\n\" id=\"DejaVuSans-44\" transform=\"scale(0.015625)\"/>\r\n       </defs>\r\n       <use xlink:href=\"#DejaVuSans-44\"/>\r\n      </g>\r\n     </g>\r\n    </g>\r\n    <g id=\"xtick_6\">\r\n     <g id=\"line2d_6\">\r\n      <g>\r\n       <use style=\"stroke:#000000;stroke-width:0.8;\" x=\"353.865625\" xlink:href=\"#m3341c50e2a\" y=\"224.64\"/>\r\n      </g>\r\n     </g>\r\n     <g id=\"text_6\">\r\n      <!-- F -->\r\n      <g transform=\"translate(350.989844 239.238437)scale(0.1 -0.1)\">\r\n       <defs>\r\n        <path d=\"M 628 4666 \r\nL 3309 4666 \r\nL 3309 4134 \r\nL 1259 4134 \r\nL 1259 2759 \r\nL 3109 2759 \r\nL 3109 2228 \r\nL 1259 2228 \r\nL 1259 0 \r\nL 628 0 \r\nL 628 4666 \r\nz\r\n\" id=\"DejaVuSans-46\" transform=\"scale(0.015625)\"/>\r\n       </defs>\r\n       <use xlink:href=\"#DejaVuSans-46\"/>\r\n      </g>\r\n     </g>\r\n    </g>\r\n    <g id=\"text_7\">\r\n     <!-- grade -->\r\n     <g transform=\"translate(199.821094 252.916562)scale(0.1 -0.1)\">\r\n      <defs>\r\n       <path d=\"M 2906 1791 \r\nQ 2906 2416 2648 2759 \r\nQ 2391 3103 1925 3103 \r\nQ 1463 3103 1205 2759 \r\nQ 947 2416 947 1791 \r\nQ 947 1169 1205 825 \r\nQ 1463 481 1925 481 \r\nQ 2391 481 2648 825 \r\nQ 2906 1169 2906 1791 \r\nz\r\nM 3481 434 \r\nQ 3481 -459 3084 -895 \r\nQ 2688 -1331 1869 -1331 \r\nQ 1566 -1331 1297 -1286 \r\nQ 1028 -1241 775 -1147 \r\nL 775 -588 \r\nQ 1028 -725 1275 -790 \r\nQ 1522 -856 1778 -856 \r\nQ 2344 -856 2625 -561 \r\nQ 2906 -266 2906 331 \r\nL 2906 616 \r\nQ 2728 306 2450 153 \r\nQ 2172 0 1784 0 \r\nQ 1141 0 747 490 \r\nQ 353 981 353 1791 \r\nQ 353 2603 747 3093 \r\nQ 1141 3584 1784 3584 \r\nQ 2172 3584 2450 3431 \r\nQ 2728 3278 2906 2969 \r\nL 2906 3500 \r\nL 3481 3500 \r\nL 3481 434 \r\nz\r\n\" id=\"DejaVuSans-67\" transform=\"scale(0.015625)\"/>\r\n       <path d=\"M 2631 2963 \r\nQ 2534 3019 2420 3045 \r\nQ 2306 3072 2169 3072 \r\nQ 1681 3072 1420 2755 \r\nQ 1159 2438 1159 1844 \r\nL 1159 0 \r\nL 581 0 \r\nL 581 3500 \r\nL 1159 3500 \r\nL 1159 2956 \r\nQ 1341 3275 1631 3429 \r\nQ 1922 3584 2338 3584 \r\nQ 2397 3584 2469 3576 \r\nQ 2541 3569 2628 3553 \r\nL 2631 2963 \r\nz\r\n\" id=\"DejaVuSans-72\" transform=\"scale(0.015625)\"/>\r\n       <path d=\"M 2194 1759 \r\nQ 1497 1759 1228 1600 \r\nQ 959 1441 959 1056 \r\nQ 959 750 1161 570 \r\nQ 1363 391 1709 391 \r\nQ 2188 391 2477 730 \r\nQ 2766 1069 2766 1631 \r\nL 2766 1759 \r\nL 2194 1759 \r\nz\r\nM 3341 1997 \r\nL 3341 0 \r\nL 2766 0 \r\nL 2766 531 \r\nQ 2569 213 2275 61 \r\nQ 1981 -91 1556 -91 \r\nQ 1019 -91 701 211 \r\nQ 384 513 384 1019 \r\nQ 384 1609 779 1909 \r\nQ 1175 2209 1959 2209 \r\nL 2766 2209 \r\nL 2766 2266 \r\nQ 2766 2663 2505 2880 \r\nQ 2244 3097 1772 3097 \r\nQ 1472 3097 1187 3025 \r\nQ 903 2953 641 2809 \r\nL 641 3341 \r\nQ 956 3463 1253 3523 \r\nQ 1550 3584 1831 3584 \r\nQ 2591 3584 2966 3190 \r\nQ 3341 2797 3341 1997 \r\nz\r\n\" id=\"DejaVuSans-61\" transform=\"scale(0.015625)\"/>\r\n       <path d=\"M 2906 2969 \r\nL 2906 4863 \r\nL 3481 4863 \r\nL 3481 0 \r\nL 2906 0 \r\nL 2906 525 \r\nQ 2725 213 2448 61 \r\nQ 2172 -91 1784 -91 \r\nQ 1150 -91 751 415 \r\nQ 353 922 353 1747 \r\nQ 353 2572 751 3078 \r\nQ 1150 3584 1784 3584 \r\nQ 2172 3584 2448 3432 \r\nQ 2725 3281 2906 2969 \r\nz\r\nM 947 1747 \r\nQ 947 1113 1208 752 \r\nQ 1469 391 1925 391 \r\nQ 2381 391 2643 752 \r\nQ 2906 1113 2906 1747 \r\nQ 2906 2381 2643 2742 \r\nQ 2381 3103 1925 3103 \r\nQ 1469 3103 1208 2742 \r\nQ 947 2381 947 1747 \r\nz\r\n\" id=\"DejaVuSans-64\" transform=\"scale(0.015625)\"/>\r\n       <path d=\"M 3597 1894 \r\nL 3597 1613 \r\nL 953 1613 \r\nQ 991 1019 1311 708 \r\nQ 1631 397 2203 397 \r\nQ 2534 397 2845 478 \r\nQ 3156 559 3463 722 \r\nL 3463 178 \r\nQ 3153 47 2828 -22 \r\nQ 2503 -91 2169 -91 \r\nQ 1331 -91 842 396 \r\nQ 353 884 353 1716 \r\nQ 353 2575 817 3079 \r\nQ 1281 3584 2069 3584 \r\nQ 2775 3584 3186 3129 \r\nQ 3597 2675 3597 1894 \r\nz\r\nM 3022 2063 \r\nQ 3016 2534 2758 2815 \r\nQ 2500 3097 2075 3097 \r\nQ 1594 3097 1305 2825 \r\nQ 1016 2553 972 2059 \r\nL 3022 2063 \r\nz\r\n\" id=\"DejaVuSans-65\" transform=\"scale(0.015625)\"/>\r\n      </defs>\r\n      <use xlink:href=\"#DejaVuSans-67\"/>\r\n      <use x=\"63.476562\" xlink:href=\"#DejaVuSans-72\"/>\r\n      <use x=\"104.589844\" xlink:href=\"#DejaVuSans-61\"/>\r\n      <use x=\"165.869141\" xlink:href=\"#DejaVuSans-64\"/>\r\n      <use x=\"229.345703\" xlink:href=\"#DejaVuSans-65\"/>\r\n     </g>\r\n    </g>\r\n   </g>\r\n   <g id=\"matplotlib.axis_2\">\r\n    <g id=\"ytick_1\">\r\n     <g id=\"line2d_7\">\r\n      <defs>\r\n       <path d=\"M 0 0 \r\nL -3.5 0 \r\n\" id=\"m35332d518b\" style=\"stroke:#000000;stroke-width:0.8;\"/>\r\n      </defs>\r\n      <g>\r\n       <use style=\"stroke:#000000;stroke-width:0.8;\" x=\"46.965625\" xlink:href=\"#m35332d518b\" y=\"224.64\"/>\r\n      </g>\r\n     </g>\r\n     <g id=\"text_8\">\r\n      <!-- 0 -->\r\n      <g transform=\"translate(33.603125 228.439219)scale(0.1 -0.1)\">\r\n       <defs>\r\n        <path d=\"M 2034 4250 \r\nQ 1547 4250 1301 3770 \r\nQ 1056 3291 1056 2328 \r\nQ 1056 1369 1301 889 \r\nQ 1547 409 2034 409 \r\nQ 2525 409 2770 889 \r\nQ 3016 1369 3016 2328 \r\nQ 3016 3291 2770 3770 \r\nQ 2525 4250 2034 4250 \r\nz\r\nM 2034 4750 \r\nQ 2819 4750 3233 4129 \r\nQ 3647 3509 3647 2328 \r\nQ 3647 1150 3233 529 \r\nQ 2819 -91 2034 -91 \r\nQ 1250 -91 836 529 \r\nQ 422 1150 422 2328 \r\nQ 422 3509 836 4129 \r\nQ 1250 4750 2034 4750 \r\nz\r\n\" id=\"DejaVuSans-30\" transform=\"scale(0.015625)\"/>\r\n       </defs>\r\n       <use xlink:href=\"#DejaVuSans-30\"/>\r\n      </g>\r\n     </g>\r\n    </g>\r\n    <g id=\"ytick_2\">\r\n     <g id=\"line2d_8\">\r\n      <g>\r\n       <use style=\"stroke:#000000;stroke-width:0.8;\" x=\"46.965625\" xlink:href=\"#m35332d518b\" y=\"197.028571\"/>\r\n      </g>\r\n     </g>\r\n     <g id=\"text_9\">\r\n      <!-- 20 -->\r\n      <g transform=\"translate(27.240625 200.82779)scale(0.1 -0.1)\">\r\n       <defs>\r\n        <path d=\"M 1228 531 \r\nL 3431 531 \r\nL 3431 0 \r\nL 469 0 \r\nL 469 531 \r\nQ 828 903 1448 1529 \r\nQ 2069 2156 2228 2338 \r\nQ 2531 2678 2651 2914 \r\nQ 2772 3150 2772 3378 \r\nQ 2772 3750 2511 3984 \r\nQ 2250 4219 1831 4219 \r\nQ 1534 4219 1204 4116 \r\nQ 875 4013 500 3803 \r\nL 500 4441 \r\nQ 881 4594 1212 4672 \r\nQ 1544 4750 1819 4750 \r\nQ 2544 4750 2975 4387 \r\nQ 3406 4025 3406 3419 \r\nQ 3406 3131 3298 2873 \r\nQ 3191 2616 2906 2266 \r\nQ 2828 2175 2409 1742 \r\nQ 1991 1309 1228 531 \r\nz\r\n\" id=\"DejaVuSans-32\" transform=\"scale(0.015625)\"/>\r\n       </defs>\r\n       <use xlink:href=\"#DejaVuSans-32\"/>\r\n       <use x=\"63.623047\" xlink:href=\"#DejaVuSans-30\"/>\r\n      </g>\r\n     </g>\r\n    </g>\r\n    <g id=\"ytick_3\">\r\n     <g id=\"line2d_9\">\r\n      <g>\r\n       <use style=\"stroke:#000000;stroke-width:0.8;\" x=\"46.965625\" xlink:href=\"#m35332d518b\" y=\"169.417143\"/>\r\n      </g>\r\n     </g>\r\n     <g id=\"text_10\">\r\n      <!-- 40 -->\r\n      <g transform=\"translate(27.240625 173.216362)scale(0.1 -0.1)\">\r\n       <defs>\r\n        <path d=\"M 2419 4116 \r\nL 825 1625 \r\nL 2419 1625 \r\nL 2419 4116 \r\nz\r\nM 2253 4666 \r\nL 3047 4666 \r\nL 3047 1625 \r\nL 3713 1625 \r\nL 3713 1100 \r\nL 3047 1100 \r\nL 3047 0 \r\nL 2419 0 \r\nL 2419 1100 \r\nL 313 1100 \r\nL 313 1709 \r\nL 2253 4666 \r\nz\r\n\" id=\"DejaVuSans-34\" transform=\"scale(0.015625)\"/>\r\n       </defs>\r\n       <use xlink:href=\"#DejaVuSans-34\"/>\r\n       <use x=\"63.623047\" xlink:href=\"#DejaVuSans-30\"/>\r\n      </g>\r\n     </g>\r\n    </g>\r\n    <g id=\"ytick_4\">\r\n     <g id=\"line2d_10\">\r\n      <g>\r\n       <use style=\"stroke:#000000;stroke-width:0.8;\" x=\"46.965625\" xlink:href=\"#m35332d518b\" y=\"141.805714\"/>\r\n      </g>\r\n     </g>\r\n     <g id=\"text_11\">\r\n      <!-- 60 -->\r\n      <g transform=\"translate(27.240625 145.604933)scale(0.1 -0.1)\">\r\n       <defs>\r\n        <path d=\"M 2113 2584 \r\nQ 1688 2584 1439 2293 \r\nQ 1191 2003 1191 1497 \r\nQ 1191 994 1439 701 \r\nQ 1688 409 2113 409 \r\nQ 2538 409 2786 701 \r\nQ 3034 994 3034 1497 \r\nQ 3034 2003 2786 2293 \r\nQ 2538 2584 2113 2584 \r\nz\r\nM 3366 4563 \r\nL 3366 3988 \r\nQ 3128 4100 2886 4159 \r\nQ 2644 4219 2406 4219 \r\nQ 1781 4219 1451 3797 \r\nQ 1122 3375 1075 2522 \r\nQ 1259 2794 1537 2939 \r\nQ 1816 3084 2150 3084 \r\nQ 2853 3084 3261 2657 \r\nQ 3669 2231 3669 1497 \r\nQ 3669 778 3244 343 \r\nQ 2819 -91 2113 -91 \r\nQ 1303 -91 875 529 \r\nQ 447 1150 447 2328 \r\nQ 447 3434 972 4092 \r\nQ 1497 4750 2381 4750 \r\nQ 2619 4750 2861 4703 \r\nQ 3103 4656 3366 4563 \r\nz\r\n\" id=\"DejaVuSans-36\" transform=\"scale(0.015625)\"/>\r\n       </defs>\r\n       <use xlink:href=\"#DejaVuSans-36\"/>\r\n       <use x=\"63.623047\" xlink:href=\"#DejaVuSans-30\"/>\r\n      </g>\r\n     </g>\r\n    </g>\r\n    <g id=\"ytick_5\">\r\n     <g id=\"line2d_11\">\r\n      <g>\r\n       <use style=\"stroke:#000000;stroke-width:0.8;\" x=\"46.965625\" xlink:href=\"#m35332d518b\" y=\"114.194286\"/>\r\n      </g>\r\n     </g>\r\n     <g id=\"text_12\">\r\n      <!-- 80 -->\r\n      <g transform=\"translate(27.240625 117.993504)scale(0.1 -0.1)\">\r\n       <defs>\r\n        <path d=\"M 2034 2216 \r\nQ 1584 2216 1326 1975 \r\nQ 1069 1734 1069 1313 \r\nQ 1069 891 1326 650 \r\nQ 1584 409 2034 409 \r\nQ 2484 409 2743 651 \r\nQ 3003 894 3003 1313 \r\nQ 3003 1734 2745 1975 \r\nQ 2488 2216 2034 2216 \r\nz\r\nM 1403 2484 \r\nQ 997 2584 770 2862 \r\nQ 544 3141 544 3541 \r\nQ 544 4100 942 4425 \r\nQ 1341 4750 2034 4750 \r\nQ 2731 4750 3128 4425 \r\nQ 3525 4100 3525 3541 \r\nQ 3525 3141 3298 2862 \r\nQ 3072 2584 2669 2484 \r\nQ 3125 2378 3379 2068 \r\nQ 3634 1759 3634 1313 \r\nQ 3634 634 3220 271 \r\nQ 2806 -91 2034 -91 \r\nQ 1263 -91 848 271 \r\nQ 434 634 434 1313 \r\nQ 434 1759 690 2068 \r\nQ 947 2378 1403 2484 \r\nz\r\nM 1172 3481 \r\nQ 1172 3119 1398 2916 \r\nQ 1625 2713 2034 2713 \r\nQ 2441 2713 2670 2916 \r\nQ 2900 3119 2900 3481 \r\nQ 2900 3844 2670 4047 \r\nQ 2441 4250 2034 4250 \r\nQ 1625 4250 1398 4047 \r\nQ 1172 3844 1172 3481 \r\nz\r\n\" id=\"DejaVuSans-38\" transform=\"scale(0.015625)\"/>\r\n       </defs>\r\n       <use xlink:href=\"#DejaVuSans-38\"/>\r\n       <use x=\"63.623047\" xlink:href=\"#DejaVuSans-30\"/>\r\n      </g>\r\n     </g>\r\n    </g>\r\n    <g id=\"ytick_6\">\r\n     <g id=\"line2d_12\">\r\n      <g>\r\n       <use style=\"stroke:#000000;stroke-width:0.8;\" x=\"46.965625\" xlink:href=\"#m35332d518b\" y=\"86.582857\"/>\r\n      </g>\r\n     </g>\r\n     <g id=\"text_13\">\r\n      <!-- 100 -->\r\n      <g transform=\"translate(20.878125 90.382076)scale(0.1 -0.1)\">\r\n       <defs>\r\n        <path d=\"M 794 531 \r\nL 1825 531 \r\nL 1825 4091 \r\nL 703 3866 \r\nL 703 4441 \r\nL 1819 4666 \r\nL 2450 4666 \r\nL 2450 531 \r\nL 3481 531 \r\nL 3481 0 \r\nL 794 0 \r\nL 794 531 \r\nz\r\n\" id=\"DejaVuSans-31\" transform=\"scale(0.015625)\"/>\r\n       </defs>\r\n       <use xlink:href=\"#DejaVuSans-31\"/>\r\n       <use x=\"63.623047\" xlink:href=\"#DejaVuSans-30\"/>\r\n       <use x=\"127.246094\" xlink:href=\"#DejaVuSans-30\"/>\r\n      </g>\r\n     </g>\r\n    </g>\r\n    <g id=\"ytick_7\">\r\n     <g id=\"line2d_13\">\r\n      <g>\r\n       <use style=\"stroke:#000000;stroke-width:0.8;\" x=\"46.965625\" xlink:href=\"#m35332d518b\" y=\"58.971429\"/>\r\n      </g>\r\n     </g>\r\n     <g id=\"text_14\">\r\n      <!-- 120 -->\r\n      <g transform=\"translate(20.878125 62.770647)scale(0.1 -0.1)\">\r\n       <use xlink:href=\"#DejaVuSans-31\"/>\r\n       <use x=\"63.623047\" xlink:href=\"#DejaVuSans-32\"/>\r\n       <use x=\"127.246094\" xlink:href=\"#DejaVuSans-30\"/>\r\n      </g>\r\n     </g>\r\n    </g>\r\n    <g id=\"ytick_8\">\r\n     <g id=\"line2d_14\">\r\n      <g>\r\n       <use style=\"stroke:#000000;stroke-width:0.8;\" x=\"46.965625\" xlink:href=\"#m35332d518b\" y=\"31.36\"/>\r\n      </g>\r\n     </g>\r\n     <g id=\"text_15\">\r\n      <!-- 140 -->\r\n      <g transform=\"translate(20.878125 35.159219)scale(0.1 -0.1)\">\r\n       <use xlink:href=\"#DejaVuSans-31\"/>\r\n       <use x=\"63.623047\" xlink:href=\"#DejaVuSans-34\"/>\r\n       <use x=\"127.246094\" xlink:href=\"#DejaVuSans-30\"/>\r\n      </g>\r\n     </g>\r\n    </g>\r\n    <g id=\"text_16\">\r\n     <!-- count -->\r\n     <g transform=\"translate(14.798438 130.02625)rotate(-90)scale(0.1 -0.1)\">\r\n      <defs>\r\n       <path d=\"M 3122 3366 \r\nL 3122 2828 \r\nQ 2878 2963 2633 3030 \r\nQ 2388 3097 2138 3097 \r\nQ 1578 3097 1268 2742 \r\nQ 959 2388 959 1747 \r\nQ 959 1106 1268 751 \r\nQ 1578 397 2138 397 \r\nQ 2388 397 2633 464 \r\nQ 2878 531 3122 666 \r\nL 3122 134 \r\nQ 2881 22 2623 -34 \r\nQ 2366 -91 2075 -91 \r\nQ 1284 -91 818 406 \r\nQ 353 903 353 1747 \r\nQ 353 2603 823 3093 \r\nQ 1294 3584 2113 3584 \r\nQ 2378 3584 2631 3529 \r\nQ 2884 3475 3122 3366 \r\nz\r\n\" id=\"DejaVuSans-63\" transform=\"scale(0.015625)\"/>\r\n       <path d=\"M 1959 3097 \r\nQ 1497 3097 1228 2736 \r\nQ 959 2375 959 1747 \r\nQ 959 1119 1226 758 \r\nQ 1494 397 1959 397 \r\nQ 2419 397 2687 759 \r\nQ 2956 1122 2956 1747 \r\nQ 2956 2369 2687 2733 \r\nQ 2419 3097 1959 3097 \r\nz\r\nM 1959 3584 \r\nQ 2709 3584 3137 3096 \r\nQ 3566 2609 3566 1747 \r\nQ 3566 888 3137 398 \r\nQ 2709 -91 1959 -91 \r\nQ 1206 -91 779 398 \r\nQ 353 888 353 1747 \r\nQ 353 2609 779 3096 \r\nQ 1206 3584 1959 3584 \r\nz\r\n\" id=\"DejaVuSans-6f\" transform=\"scale(0.015625)\"/>\r\n       <path d=\"M 544 1381 \r\nL 544 3500 \r\nL 1119 3500 \r\nL 1119 1403 \r\nQ 1119 906 1312 657 \r\nQ 1506 409 1894 409 \r\nQ 2359 409 2629 706 \r\nQ 2900 1003 2900 1516 \r\nL 2900 3500 \r\nL 3475 3500 \r\nL 3475 0 \r\nL 2900 0 \r\nL 2900 538 \r\nQ 2691 219 2414 64 \r\nQ 2138 -91 1772 -91 \r\nQ 1169 -91 856 284 \r\nQ 544 659 544 1381 \r\nz\r\nM 1991 3584 \r\nL 1991 3584 \r\nz\r\n\" id=\"DejaVuSans-75\" transform=\"scale(0.015625)\"/>\r\n       <path d=\"M 3513 2113 \r\nL 3513 0 \r\nL 2938 0 \r\nL 2938 2094 \r\nQ 2938 2591 2744 2837 \r\nQ 2550 3084 2163 3084 \r\nQ 1697 3084 1428 2787 \r\nQ 1159 2491 1159 1978 \r\nL 1159 0 \r\nL 581 0 \r\nL 581 3500 \r\nL 1159 3500 \r\nL 1159 2956 \r\nQ 1366 3272 1645 3428 \r\nQ 1925 3584 2291 3584 \r\nQ 2894 3584 3203 3211 \r\nQ 3513 2838 3513 2113 \r\nz\r\n\" id=\"DejaVuSans-6e\" transform=\"scale(0.015625)\"/>\r\n       <path d=\"M 1172 4494 \r\nL 1172 3500 \r\nL 2356 3500 \r\nL 2356 3053 \r\nL 1172 3053 \r\nL 1172 1153 \r\nQ 1172 725 1289 603 \r\nQ 1406 481 1766 481 \r\nL 2356 481 \r\nL 2356 0 \r\nL 1766 0 \r\nQ 1100 0 847 248 \r\nQ 594 497 594 1153 \r\nL 594 3053 \r\nL 172 3053 \r\nL 172 3500 \r\nL 594 3500 \r\nL 594 4494 \r\nL 1172 4494 \r\nz\r\n\" id=\"DejaVuSans-74\" transform=\"scale(0.015625)\"/>\r\n      </defs>\r\n      <use xlink:href=\"#DejaVuSans-63\"/>\r\n      <use x=\"54.980469\" xlink:href=\"#DejaVuSans-6f\"/>\r\n      <use x=\"116.162109\" xlink:href=\"#DejaVuSans-75\"/>\r\n      <use x=\"179.541016\" xlink:href=\"#DejaVuSans-6e\"/>\r\n      <use x=\"242.919922\" xlink:href=\"#DejaVuSans-74\"/>\r\n     </g>\r\n    </g>\r\n   </g>\r\n   <g id=\"patch_15\">\r\n    <path d=\"M 46.965625 224.64 \r\nL 46.965625 7.2 \r\n\" style=\"fill:none;stroke:#000000;stroke-linecap:square;stroke-linejoin:miter;stroke-width:0.8;\"/>\r\n   </g>\r\n   <g id=\"patch_16\">\r\n    <path d=\"M 381.765625 224.64 \r\nL 381.765625 7.2 \r\n\" style=\"fill:none;stroke:#000000;stroke-linecap:square;stroke-linejoin:miter;stroke-width:0.8;\"/>\r\n   </g>\r\n   <g id=\"patch_17\">\r\n    <path d=\"M 46.965625 224.64 \r\nL 381.765625 224.64 \r\n\" style=\"fill:none;stroke:#000000;stroke-linecap:square;stroke-linejoin:miter;stroke-width:0.8;\"/>\r\n   </g>\r\n   <g id=\"patch_18\">\r\n    <path d=\"M 46.965625 7.2 \r\nL 381.765625 7.2 \r\n\" style=\"fill:none;stroke:#000000;stroke-linecap:square;stroke-linejoin:miter;stroke-width:0.8;\"/>\r\n   </g>\r\n   <g id=\"legend_1\">\r\n    <g id=\"patch_19\">\r\n     <path d=\"M 308.292188 59.234375 \r\nL 374.765625 59.234375 \r\nQ 376.765625 59.234375 376.765625 57.234375 \r\nL 376.765625 14.2 \r\nQ 376.765625 12.2 374.765625 12.2 \r\nL 308.292188 12.2 \r\nQ 306.292188 12.2 306.292188 14.2 \r\nL 306.292188 57.234375 \r\nQ 306.292188 59.234375 308.292188 59.234375 \r\nz\r\n\" style=\"fill:#ffffff;opacity:0.8;stroke:#cccccc;stroke-linejoin:miter;\"/>\r\n    </g>\r\n    <g id=\"text_17\">\r\n     <!-- gender -->\r\n     <g transform=\"translate(323.803125 23.798437)scale(0.1 -0.1)\">\r\n      <use xlink:href=\"#DejaVuSans-67\"/>\r\n      <use x=\"63.476562\" xlink:href=\"#DejaVuSans-65\"/>\r\n      <use x=\"125\" xlink:href=\"#DejaVuSans-6e\"/>\r\n      <use x=\"188.378906\" xlink:href=\"#DejaVuSans-64\"/>\r\n      <use x=\"251.855469\" xlink:href=\"#DejaVuSans-65\"/>\r\n      <use x=\"313.378906\" xlink:href=\"#DejaVuSans-72\"/>\r\n     </g>\r\n    </g>\r\n    <g id=\"patch_20\">\r\n     <path d=\"M 310.292188 38.476562 \r\nL 330.292188 38.476562 \r\nL 330.292188 31.476562 \r\nL 310.292188 31.476562 \r\nz\r\n\" style=\"fill:#3274a1;\"/>\r\n    </g>\r\n    <g id=\"text_18\">\r\n     <!-- female -->\r\n     <g transform=\"translate(338.292188 38.476562)scale(0.1 -0.1)\">\r\n      <defs>\r\n       <path d=\"M 2375 4863 \r\nL 2375 4384 \r\nL 1825 4384 \r\nQ 1516 4384 1395 4259 \r\nQ 1275 4134 1275 3809 \r\nL 1275 3500 \r\nL 2222 3500 \r\nL 2222 3053 \r\nL 1275 3053 \r\nL 1275 0 \r\nL 697 0 \r\nL 697 3053 \r\nL 147 3053 \r\nL 147 3500 \r\nL 697 3500 \r\nL 697 3744 \r\nQ 697 4328 969 4595 \r\nQ 1241 4863 1831 4863 \r\nL 2375 4863 \r\nz\r\n\" id=\"DejaVuSans-66\" transform=\"scale(0.015625)\"/>\r\n       <path d=\"M 3328 2828 \r\nQ 3544 3216 3844 3400 \r\nQ 4144 3584 4550 3584 \r\nQ 5097 3584 5394 3201 \r\nQ 5691 2819 5691 2113 \r\nL 5691 0 \r\nL 5113 0 \r\nL 5113 2094 \r\nQ 5113 2597 4934 2840 \r\nQ 4756 3084 4391 3084 \r\nQ 3944 3084 3684 2787 \r\nQ 3425 2491 3425 1978 \r\nL 3425 0 \r\nL 2847 0 \r\nL 2847 2094 \r\nQ 2847 2600 2669 2842 \r\nQ 2491 3084 2119 3084 \r\nQ 1678 3084 1418 2786 \r\nQ 1159 2488 1159 1978 \r\nL 1159 0 \r\nL 581 0 \r\nL 581 3500 \r\nL 1159 3500 \r\nL 1159 2956 \r\nQ 1356 3278 1631 3431 \r\nQ 1906 3584 2284 3584 \r\nQ 2666 3584 2933 3390 \r\nQ 3200 3197 3328 2828 \r\nz\r\n\" id=\"DejaVuSans-6d\" transform=\"scale(0.015625)\"/>\r\n       <path d=\"M 603 4863 \r\nL 1178 4863 \r\nL 1178 0 \r\nL 603 0 \r\nL 603 4863 \r\nz\r\n\" id=\"DejaVuSans-6c\" transform=\"scale(0.015625)\"/>\r\n      </defs>\r\n      <use xlink:href=\"#DejaVuSans-66\"/>\r\n      <use x=\"35.205078\" xlink:href=\"#DejaVuSans-65\"/>\r\n      <use x=\"96.728516\" xlink:href=\"#DejaVuSans-6d\"/>\r\n      <use x=\"194.140625\" xlink:href=\"#DejaVuSans-61\"/>\r\n      <use x=\"255.419922\" xlink:href=\"#DejaVuSans-6c\"/>\r\n      <use x=\"283.203125\" xlink:href=\"#DejaVuSans-65\"/>\r\n     </g>\r\n    </g>\r\n    <g id=\"patch_21\">\r\n     <path d=\"M 310.292188 53.154687 \r\nL 330.292188 53.154687 \r\nL 330.292188 46.154687 \r\nL 310.292188 46.154687 \r\nz\r\n\" style=\"fill:#e1812c;\"/>\r\n    </g>\r\n    <g id=\"text_19\">\r\n     <!-- male -->\r\n     <g transform=\"translate(338.292188 53.154687)scale(0.1 -0.1)\">\r\n      <use xlink:href=\"#DejaVuSans-6d\"/>\r\n      <use x=\"97.412109\" xlink:href=\"#DejaVuSans-61\"/>\r\n      <use x=\"158.691406\" xlink:href=\"#DejaVuSans-6c\"/>\r\n      <use x=\"186.474609\" xlink:href=\"#DejaVuSans-65\"/>\r\n     </g>\r\n    </g>\r\n   </g>\r\n  </g>\r\n </g>\r\n <defs>\r\n  <clipPath id=\"p6aa4c615ba\">\r\n   <rect height=\"217.44\" width=\"334.8\" x=\"46.965625\" y=\"7.2\"/>\r\n  </clipPath>\r\n </defs>\r\n</svg>\r\n",
      "text/plain": [
       "<Figure size 432x288 with 1 Axes>"
      ]
     },
     "metadata": {
      "needs_background": "light"
     }
    }
   ],
   "metadata": {}
  },
  {
   "cell_type": "code",
   "execution_count": 418,
   "source": [
    "gender_mean = stud_df.groupby('gender')[['math_score','read_score','write_score','average']].mean().round(2)\r\n",
    "gender_mean"
   ],
   "outputs": [
    {
     "output_type": "execute_result",
     "data": {
      "text/html": [
       "<div>\n",
       "<style scoped>\n",
       "    .dataframe tbody tr th:only-of-type {\n",
       "        vertical-align: middle;\n",
       "    }\n",
       "\n",
       "    .dataframe tbody tr th {\n",
       "        vertical-align: top;\n",
       "    }\n",
       "\n",
       "    .dataframe thead th {\n",
       "        text-align: right;\n",
       "    }\n",
       "</style>\n",
       "<table border=\"1\" class=\"dataframe\">\n",
       "  <thead>\n",
       "    <tr style=\"text-align: right;\">\n",
       "      <th></th>\n",
       "      <th>math_score</th>\n",
       "      <th>read_score</th>\n",
       "      <th>write_score</th>\n",
       "      <th>average</th>\n",
       "    </tr>\n",
       "    <tr>\n",
       "      <th>gender</th>\n",
       "      <th></th>\n",
       "      <th></th>\n",
       "      <th></th>\n",
       "      <th></th>\n",
       "    </tr>\n",
       "  </thead>\n",
       "  <tbody>\n",
       "    <tr>\n",
       "      <th>female</th>\n",
       "      <td>63.63</td>\n",
       "      <td>72.61</td>\n",
       "      <td>72.47</td>\n",
       "      <td>69.57</td>\n",
       "    </tr>\n",
       "    <tr>\n",
       "      <th>male</th>\n",
       "      <td>68.73</td>\n",
       "      <td>65.47</td>\n",
       "      <td>63.31</td>\n",
       "      <td>65.84</td>\n",
       "    </tr>\n",
       "  </tbody>\n",
       "</table>\n",
       "</div>"
      ],
      "text/plain": [
       "        math_score  read_score  write_score  average\n",
       "gender                                              \n",
       "female       63.63       72.61        72.47    69.57\n",
       "male         68.73       65.47        63.31    65.84"
      ]
     },
     "metadata": {},
     "execution_count": 418
    }
   ],
   "metadata": {}
  },
  {
   "cell_type": "code",
   "execution_count": 419,
   "source": [
    "fig = go.Figure(data=[go.Table(\r\n",
    "    header=dict(values=['','Male', 'Female'],\r\n",
    "                line_color='darkslategray',\r\n",
    "                fill_color='lightskyblue',\r\n",
    "                align='center',\r\n",
    "               height=40,\r\n",
    "               font_size=20),\r\n",
    "    cells=dict(values=[gender_mean.T.index,\r\n",
    "                       gender_mean.T['male'],\r\n",
    "                       gender_mean.T['female']],\r\n",
    "               line_color='darkslategray',\r\n",
    "               fill_color='lightcyan',\r\n",
    "               align='center',\r\n",
    "              height=40,\r\n",
    "              font_size= 20))\r\n",
    "])\r\n",
    "\r\n",
    "fig.update_layout(width=800, height=400)\r\n",
    "fig.show()"
   ],
   "outputs": [
    {
     "output_type": "display_data",
     "data": {
      "application/vnd.plotly.v1+json": {
       "config": {
        "plotlyServerURL": "https://plot.ly"
       },
       "data": [
        {
         "cells": {
          "align": "center",
          "fill": {
           "color": "lightcyan"
          },
          "font": {
           "size": 20
          },
          "height": 40,
          "line": {
           "color": "darkslategray"
          },
          "values": [
           [
            "math_score",
            "read_score",
            "write_score",
            "average"
           ],
           [
            68.73,
            65.47,
            63.31,
            65.84
           ],
           [
            63.63,
            72.61,
            72.47,
            69.57
           ]
          ]
         },
         "header": {
          "align": "center",
          "fill": {
           "color": "lightskyblue"
          },
          "font": {
           "size": 20
          },
          "height": 40,
          "line": {
           "color": "darkslategray"
          },
          "values": [
           "",
           "Male",
           "Female"
          ]
         },
         "type": "table"
        }
       ],
       "layout": {
        "height": 400,
        "template": {
         "data": {
          "bar": [
           {
            "error_x": {
             "color": "#2a3f5f"
            },
            "error_y": {
             "color": "#2a3f5f"
            },
            "marker": {
             "line": {
              "color": "#E5ECF6",
              "width": 0.5
             },
             "pattern": {
              "fillmode": "overlay",
              "size": 10,
              "solidity": 0.2
             }
            },
            "type": "bar"
           }
          ],
          "barpolar": [
           {
            "marker": {
             "line": {
              "color": "#E5ECF6",
              "width": 0.5
             },
             "pattern": {
              "fillmode": "overlay",
              "size": 10,
              "solidity": 0.2
             }
            },
            "type": "barpolar"
           }
          ],
          "carpet": [
           {
            "aaxis": {
             "endlinecolor": "#2a3f5f",
             "gridcolor": "white",
             "linecolor": "white",
             "minorgridcolor": "white",
             "startlinecolor": "#2a3f5f"
            },
            "baxis": {
             "endlinecolor": "#2a3f5f",
             "gridcolor": "white",
             "linecolor": "white",
             "minorgridcolor": "white",
             "startlinecolor": "#2a3f5f"
            },
            "type": "carpet"
           }
          ],
          "choropleth": [
           {
            "colorbar": {
             "outlinewidth": 0,
             "ticks": ""
            },
            "type": "choropleth"
           }
          ],
          "contour": [
           {
            "colorbar": {
             "outlinewidth": 0,
             "ticks": ""
            },
            "colorscale": [
             [
              0,
              "#0d0887"
             ],
             [
              0.1111111111111111,
              "#46039f"
             ],
             [
              0.2222222222222222,
              "#7201a8"
             ],
             [
              0.3333333333333333,
              "#9c179e"
             ],
             [
              0.4444444444444444,
              "#bd3786"
             ],
             [
              0.5555555555555556,
              "#d8576b"
             ],
             [
              0.6666666666666666,
              "#ed7953"
             ],
             [
              0.7777777777777778,
              "#fb9f3a"
             ],
             [
              0.8888888888888888,
              "#fdca26"
             ],
             [
              1,
              "#f0f921"
             ]
            ],
            "type": "contour"
           }
          ],
          "contourcarpet": [
           {
            "colorbar": {
             "outlinewidth": 0,
             "ticks": ""
            },
            "type": "contourcarpet"
           }
          ],
          "heatmap": [
           {
            "colorbar": {
             "outlinewidth": 0,
             "ticks": ""
            },
            "colorscale": [
             [
              0,
              "#0d0887"
             ],
             [
              0.1111111111111111,
              "#46039f"
             ],
             [
              0.2222222222222222,
              "#7201a8"
             ],
             [
              0.3333333333333333,
              "#9c179e"
             ],
             [
              0.4444444444444444,
              "#bd3786"
             ],
             [
              0.5555555555555556,
              "#d8576b"
             ],
             [
              0.6666666666666666,
              "#ed7953"
             ],
             [
              0.7777777777777778,
              "#fb9f3a"
             ],
             [
              0.8888888888888888,
              "#fdca26"
             ],
             [
              1,
              "#f0f921"
             ]
            ],
            "type": "heatmap"
           }
          ],
          "heatmapgl": [
           {
            "colorbar": {
             "outlinewidth": 0,
             "ticks": ""
            },
            "colorscale": [
             [
              0,
              "#0d0887"
             ],
             [
              0.1111111111111111,
              "#46039f"
             ],
             [
              0.2222222222222222,
              "#7201a8"
             ],
             [
              0.3333333333333333,
              "#9c179e"
             ],
             [
              0.4444444444444444,
              "#bd3786"
             ],
             [
              0.5555555555555556,
              "#d8576b"
             ],
             [
              0.6666666666666666,
              "#ed7953"
             ],
             [
              0.7777777777777778,
              "#fb9f3a"
             ],
             [
              0.8888888888888888,
              "#fdca26"
             ],
             [
              1,
              "#f0f921"
             ]
            ],
            "type": "heatmapgl"
           }
          ],
          "histogram": [
           {
            "marker": {
             "pattern": {
              "fillmode": "overlay",
              "size": 10,
              "solidity": 0.2
             }
            },
            "type": "histogram"
           }
          ],
          "histogram2d": [
           {
            "colorbar": {
             "outlinewidth": 0,
             "ticks": ""
            },
            "colorscale": [
             [
              0,
              "#0d0887"
             ],
             [
              0.1111111111111111,
              "#46039f"
             ],
             [
              0.2222222222222222,
              "#7201a8"
             ],
             [
              0.3333333333333333,
              "#9c179e"
             ],
             [
              0.4444444444444444,
              "#bd3786"
             ],
             [
              0.5555555555555556,
              "#d8576b"
             ],
             [
              0.6666666666666666,
              "#ed7953"
             ],
             [
              0.7777777777777778,
              "#fb9f3a"
             ],
             [
              0.8888888888888888,
              "#fdca26"
             ],
             [
              1,
              "#f0f921"
             ]
            ],
            "type": "histogram2d"
           }
          ],
          "histogram2dcontour": [
           {
            "colorbar": {
             "outlinewidth": 0,
             "ticks": ""
            },
            "colorscale": [
             [
              0,
              "#0d0887"
             ],
             [
              0.1111111111111111,
              "#46039f"
             ],
             [
              0.2222222222222222,
              "#7201a8"
             ],
             [
              0.3333333333333333,
              "#9c179e"
             ],
             [
              0.4444444444444444,
              "#bd3786"
             ],
             [
              0.5555555555555556,
              "#d8576b"
             ],
             [
              0.6666666666666666,
              "#ed7953"
             ],
             [
              0.7777777777777778,
              "#fb9f3a"
             ],
             [
              0.8888888888888888,
              "#fdca26"
             ],
             [
              1,
              "#f0f921"
             ]
            ],
            "type": "histogram2dcontour"
           }
          ],
          "mesh3d": [
           {
            "colorbar": {
             "outlinewidth": 0,
             "ticks": ""
            },
            "type": "mesh3d"
           }
          ],
          "parcoords": [
           {
            "line": {
             "colorbar": {
              "outlinewidth": 0,
              "ticks": ""
             }
            },
            "type": "parcoords"
           }
          ],
          "pie": [
           {
            "automargin": true,
            "type": "pie"
           }
          ],
          "scatter": [
           {
            "marker": {
             "colorbar": {
              "outlinewidth": 0,
              "ticks": ""
             }
            },
            "type": "scatter"
           }
          ],
          "scatter3d": [
           {
            "line": {
             "colorbar": {
              "outlinewidth": 0,
              "ticks": ""
             }
            },
            "marker": {
             "colorbar": {
              "outlinewidth": 0,
              "ticks": ""
             }
            },
            "type": "scatter3d"
           }
          ],
          "scattercarpet": [
           {
            "marker": {
             "colorbar": {
              "outlinewidth": 0,
              "ticks": ""
             }
            },
            "type": "scattercarpet"
           }
          ],
          "scattergeo": [
           {
            "marker": {
             "colorbar": {
              "outlinewidth": 0,
              "ticks": ""
             }
            },
            "type": "scattergeo"
           }
          ],
          "scattergl": [
           {
            "marker": {
             "colorbar": {
              "outlinewidth": 0,
              "ticks": ""
             }
            },
            "type": "scattergl"
           }
          ],
          "scattermapbox": [
           {
            "marker": {
             "colorbar": {
              "outlinewidth": 0,
              "ticks": ""
             }
            },
            "type": "scattermapbox"
           }
          ],
          "scatterpolar": [
           {
            "marker": {
             "colorbar": {
              "outlinewidth": 0,
              "ticks": ""
             }
            },
            "type": "scatterpolar"
           }
          ],
          "scatterpolargl": [
           {
            "marker": {
             "colorbar": {
              "outlinewidth": 0,
              "ticks": ""
             }
            },
            "type": "scatterpolargl"
           }
          ],
          "scatterternary": [
           {
            "marker": {
             "colorbar": {
              "outlinewidth": 0,
              "ticks": ""
             }
            },
            "type": "scatterternary"
           }
          ],
          "surface": [
           {
            "colorbar": {
             "outlinewidth": 0,
             "ticks": ""
            },
            "colorscale": [
             [
              0,
              "#0d0887"
             ],
             [
              0.1111111111111111,
              "#46039f"
             ],
             [
              0.2222222222222222,
              "#7201a8"
             ],
             [
              0.3333333333333333,
              "#9c179e"
             ],
             [
              0.4444444444444444,
              "#bd3786"
             ],
             [
              0.5555555555555556,
              "#d8576b"
             ],
             [
              0.6666666666666666,
              "#ed7953"
             ],
             [
              0.7777777777777778,
              "#fb9f3a"
             ],
             [
              0.8888888888888888,
              "#fdca26"
             ],
             [
              1,
              "#f0f921"
             ]
            ],
            "type": "surface"
           }
          ],
          "table": [
           {
            "cells": {
             "fill": {
              "color": "#EBF0F8"
             },
             "line": {
              "color": "white"
             }
            },
            "header": {
             "fill": {
              "color": "#C8D4E3"
             },
             "line": {
              "color": "white"
             }
            },
            "type": "table"
           }
          ]
         },
         "layout": {
          "annotationdefaults": {
           "arrowcolor": "#2a3f5f",
           "arrowhead": 0,
           "arrowwidth": 1
          },
          "autotypenumbers": "strict",
          "coloraxis": {
           "colorbar": {
            "outlinewidth": 0,
            "ticks": ""
           }
          },
          "colorscale": {
           "diverging": [
            [
             0,
             "#8e0152"
            ],
            [
             0.1,
             "#c51b7d"
            ],
            [
             0.2,
             "#de77ae"
            ],
            [
             0.3,
             "#f1b6da"
            ],
            [
             0.4,
             "#fde0ef"
            ],
            [
             0.5,
             "#f7f7f7"
            ],
            [
             0.6,
             "#e6f5d0"
            ],
            [
             0.7,
             "#b8e186"
            ],
            [
             0.8,
             "#7fbc41"
            ],
            [
             0.9,
             "#4d9221"
            ],
            [
             1,
             "#276419"
            ]
           ],
           "sequential": [
            [
             0,
             "#0d0887"
            ],
            [
             0.1111111111111111,
             "#46039f"
            ],
            [
             0.2222222222222222,
             "#7201a8"
            ],
            [
             0.3333333333333333,
             "#9c179e"
            ],
            [
             0.4444444444444444,
             "#bd3786"
            ],
            [
             0.5555555555555556,
             "#d8576b"
            ],
            [
             0.6666666666666666,
             "#ed7953"
            ],
            [
             0.7777777777777778,
             "#fb9f3a"
            ],
            [
             0.8888888888888888,
             "#fdca26"
            ],
            [
             1,
             "#f0f921"
            ]
           ],
           "sequentialminus": [
            [
             0,
             "#0d0887"
            ],
            [
             0.1111111111111111,
             "#46039f"
            ],
            [
             0.2222222222222222,
             "#7201a8"
            ],
            [
             0.3333333333333333,
             "#9c179e"
            ],
            [
             0.4444444444444444,
             "#bd3786"
            ],
            [
             0.5555555555555556,
             "#d8576b"
            ],
            [
             0.6666666666666666,
             "#ed7953"
            ],
            [
             0.7777777777777778,
             "#fb9f3a"
            ],
            [
             0.8888888888888888,
             "#fdca26"
            ],
            [
             1,
             "#f0f921"
            ]
           ]
          },
          "colorway": [
           "#636efa",
           "#EF553B",
           "#00cc96",
           "#ab63fa",
           "#FFA15A",
           "#19d3f3",
           "#FF6692",
           "#B6E880",
           "#FF97FF",
           "#FECB52"
          ],
          "font": {
           "color": "#2a3f5f"
          },
          "geo": {
           "bgcolor": "white",
           "lakecolor": "white",
           "landcolor": "#E5ECF6",
           "showlakes": true,
           "showland": true,
           "subunitcolor": "white"
          },
          "hoverlabel": {
           "align": "left"
          },
          "hovermode": "closest",
          "mapbox": {
           "style": "light"
          },
          "paper_bgcolor": "white",
          "plot_bgcolor": "#E5ECF6",
          "polar": {
           "angularaxis": {
            "gridcolor": "white",
            "linecolor": "white",
            "ticks": ""
           },
           "bgcolor": "#E5ECF6",
           "radialaxis": {
            "gridcolor": "white",
            "linecolor": "white",
            "ticks": ""
           }
          },
          "scene": {
           "xaxis": {
            "backgroundcolor": "#E5ECF6",
            "gridcolor": "white",
            "gridwidth": 2,
            "linecolor": "white",
            "showbackground": true,
            "ticks": "",
            "zerolinecolor": "white"
           },
           "yaxis": {
            "backgroundcolor": "#E5ECF6",
            "gridcolor": "white",
            "gridwidth": 2,
            "linecolor": "white",
            "showbackground": true,
            "ticks": "",
            "zerolinecolor": "white"
           },
           "zaxis": {
            "backgroundcolor": "#E5ECF6",
            "gridcolor": "white",
            "gridwidth": 2,
            "linecolor": "white",
            "showbackground": true,
            "ticks": "",
            "zerolinecolor": "white"
           }
          },
          "shapedefaults": {
           "line": {
            "color": "#2a3f5f"
           }
          },
          "ternary": {
           "aaxis": {
            "gridcolor": "white",
            "linecolor": "white",
            "ticks": ""
           },
           "baxis": {
            "gridcolor": "white",
            "linecolor": "white",
            "ticks": ""
           },
           "bgcolor": "#E5ECF6",
           "caxis": {
            "gridcolor": "white",
            "linecolor": "white",
            "ticks": ""
           }
          },
          "title": {
           "x": 0.05
          },
          "xaxis": {
           "automargin": true,
           "gridcolor": "white",
           "linecolor": "white",
           "ticks": "",
           "title": {
            "standoff": 15
           },
           "zerolinecolor": "white",
           "zerolinewidth": 2
          },
          "yaxis": {
           "automargin": true,
           "gridcolor": "white",
           "linecolor": "white",
           "ticks": "",
           "title": {
            "standoff": 15
           },
           "zerolinecolor": "white",
           "zerolinewidth": 2
          }
         }
        },
        "width": 800
       }
      }
     },
     "metadata": {}
    }
   ],
   "metadata": {}
  },
  {
   "cell_type": "code",
   "execution_count": 420,
   "source": [
    "sns.displot(stud_df, x=\"math_score\", hue=\"gender\", kind=\"kde\", fill =\"true\")\r\n",
    "print(\"Average: %d\" % stud_df['math_score'].median())"
   ],
   "outputs": [
    {
     "output_type": "stream",
     "name": "stdout",
     "text": [
      "Average: 66\n"
     ]
    },
    {
     "output_type": "display_data",
     "data": {
      "image/png": "[encoded data removed]",
      "image/svg+xml": "<?xml version=\"1.0\" encoding=\"utf-8\" standalone=\"no\"?>\r\n<!DOCTYPE svg PUBLIC \"-//W3C//DTD SVG 1.1//EN\"\r\n  \"http://www.w3.org/Graphics/SVG/1.1/DTD/svg11.dtd\">\r\n<svg height=\"351.528125pt\" version=\"1.1\" viewBox=\"0 0 428.90625 351.528125\" width=\"428.90625pt\" xmlns=\"http://www.w3.org/2000/svg\" xmlns:xlink=\"http://www.w3.org/1999/xlink\">\r\n <metadata>\r\n  <rdf:RDF xmlns:cc=\"http://creativecommons.org/ns#\" xmlns:dc=\"http://purl.org/dc/elements/1.1/\" xmlns:rdf=\"http://www.w3.org/1999/02/22-rdf-syntax-ns#\">\r\n   <cc:Work>\r\n    <dc:type rdf:resource=\"http://purl.org/dc/dcmitype/StillImage\"/>\r\n    <dc:date>2021-09-02T00:49:26.679575</dc:date>\r\n    <dc:format>image/svg+xml</dc:format>\r\n    <dc:creator>\r\n     <cc:Agent>\r\n      <dc:title>Matplotlib v3.4.2, https://matplotlib.org/</dc:title>\r\n     </cc:Agent>\r\n    </dc:creator>\r\n   </cc:Work>\r\n  </rdf:RDF>\r\n </metadata>\r\n <defs>\r\n  <style type=\"text/css\">*{stroke-linecap:butt;stroke-linejoin:round;}</style>\r\n </defs>\r\n <g id=\"figure_1\">\r\n  <g id=\"patch_1\">\r\n   <path d=\"M 0 351.528125 \r\nL 428.90625 351.528125 \r\nL 428.90625 0 \r\nL 0 0 \r\nz\r\n\" style=\"fill:none;\"/>\r\n  </g>\r\n  <g id=\"axes_1\">\r\n   <g id=\"patch_2\">\r\n    <path d=\"M 56.50625 313.69375 \r\nL 341.10125 313.69375 \r\nL 341.10125 7.2 \r\nL 56.50625 7.2 \r\nz\r\n\" style=\"fill:#ffffff;\"/>\r\n   </g>\r\n   <g id=\"PolyCollection_1\">\r\n    <defs>\r\n     <path d=\"M 126.234647 -37.870966 \r\nL 126.234647 -37.834375 \r\nL 127.241193 -37.834375 \r\nL 128.24774 -37.834375 \r\nL 129.254287 -37.834375 \r\nL 130.260834 -37.834375 \r\nL 131.26738 -37.834375 \r\nL 132.273927 -37.834375 \r\nL 133.280474 -37.834375 \r\nL 134.287021 -37.834375 \r\nL 135.293567 -37.834375 \r\nL 136.300114 -37.834375 \r\nL 137.306661 -37.834375 \r\nL 138.313207 -37.834375 \r\nL 139.319754 -37.834375 \r\nL 140.326301 -37.834375 \r\nL 141.332848 -37.834375 \r\nL 142.339394 -37.834375 \r\nL 143.345941 -37.834375 \r\nL 144.352488 -37.834375 \r\nL 145.359035 -37.834375 \r\nL 146.365581 -37.834375 \r\nL 147.372128 -37.834375 \r\nL 148.378675 -37.834375 \r\nL 149.385222 -37.834375 \r\nL 150.391768 -37.834375 \r\nL 151.398315 -37.834375 \r\nL 152.404862 -37.834375 \r\nL 153.411408 -37.834375 \r\nL 154.417955 -37.834375 \r\nL 155.424502 -37.834375 \r\nL 156.431049 -37.834375 \r\nL 157.437595 -37.834375 \r\nL 158.444142 -37.834375 \r\nL 159.450689 -37.834375 \r\nL 160.457236 -37.834375 \r\nL 161.463782 -37.834375 \r\nL 162.470329 -37.834375 \r\nL 163.476876 -37.834375 \r\nL 164.483422 -37.834375 \r\nL 165.489969 -37.834375 \r\nL 166.496516 -37.834375 \r\nL 167.503063 -37.834375 \r\nL 168.509609 -37.834375 \r\nL 169.516156 -37.834375 \r\nL 170.522703 -37.834375 \r\nL 171.52925 -37.834375 \r\nL 172.535796 -37.834375 \r\nL 173.542343 -37.834375 \r\nL 174.54889 -37.834375 \r\nL 175.555436 -37.834375 \r\nL 176.561983 -37.834375 \r\nL 177.56853 -37.834375 \r\nL 178.575077 -37.834375 \r\nL 179.581623 -37.834375 \r\nL 180.58817 -37.834375 \r\nL 181.594717 -37.834375 \r\nL 182.601264 -37.834375 \r\nL 183.60781 -37.834375 \r\nL 184.614357 -37.834375 \r\nL 185.620904 -37.834375 \r\nL 186.62745 -37.834375 \r\nL 187.633997 -37.834375 \r\nL 188.640544 -37.834375 \r\nL 189.647091 -37.834375 \r\nL 190.653637 -37.834375 \r\nL 191.660184 -37.834375 \r\nL 192.666731 -37.834375 \r\nL 193.673278 -37.834375 \r\nL 194.679824 -37.834375 \r\nL 195.686371 -37.834375 \r\nL 196.692918 -37.834375 \r\nL 197.699464 -37.834375 \r\nL 198.706011 -37.834375 \r\nL 199.712558 -37.834375 \r\nL 200.719105 -37.834375 \r\nL 201.725651 -37.834375 \r\nL 202.732198 -37.834375 \r\nL 203.738745 -37.834375 \r\nL 204.745292 -37.834375 \r\nL 205.751838 -37.834375 \r\nL 206.758385 -37.834375 \r\nL 207.764932 -37.834375 \r\nL 208.771479 -37.834375 \r\nL 209.778025 -37.834375 \r\nL 210.784572 -37.834375 \r\nL 211.791119 -37.834375 \r\nL 212.797665 -37.834375 \r\nL 213.804212 -37.834375 \r\nL 214.810759 -37.834375 \r\nL 215.817306 -37.834375 \r\nL 216.823852 -37.834375 \r\nL 217.830399 -37.834375 \r\nL 218.836946 -37.834375 \r\nL 219.843493 -37.834375 \r\nL 220.850039 -37.834375 \r\nL 221.856586 -37.834375 \r\nL 222.863133 -37.834375 \r\nL 223.869679 -37.834375 \r\nL 224.876226 -37.834375 \r\nL 225.882773 -37.834375 \r\nL 226.88932 -37.834375 \r\nL 227.895866 -37.834375 \r\nL 228.902413 -37.834375 \r\nL 229.90896 -37.834375 \r\nL 230.915507 -37.834375 \r\nL 231.922053 -37.834375 \r\nL 232.9286 -37.834375 \r\nL 233.935147 -37.834375 \r\nL 234.941693 -37.834375 \r\nL 235.94824 -37.834375 \r\nL 236.954787 -37.834375 \r\nL 237.961334 -37.834375 \r\nL 238.96788 -37.834375 \r\nL 239.974427 -37.834375 \r\nL 240.980974 -37.834375 \r\nL 241.987521 -37.834375 \r\nL 242.994067 -37.834375 \r\nL 244.000614 -37.834375 \r\nL 245.007161 -37.834375 \r\nL 246.013707 -37.834375 \r\nL 247.020254 -37.834375 \r\nL 248.026801 -37.834375 \r\nL 249.033348 -37.834375 \r\nL 250.039894 -37.834375 \r\nL 251.046441 -37.834375 \r\nL 252.052988 -37.834375 \r\nL 253.059535 -37.834375 \r\nL 254.066081 -37.834375 \r\nL 255.072628 -37.834375 \r\nL 256.079175 -37.834375 \r\nL 257.085721 -37.834375 \r\nL 258.092268 -37.834375 \r\nL 259.098815 -37.834375 \r\nL 260.105362 -37.834375 \r\nL 261.111908 -37.834375 \r\nL 262.118455 -37.834375 \r\nL 263.125002 -37.834375 \r\nL 264.131549 -37.834375 \r\nL 265.138095 -37.834375 \r\nL 266.144642 -37.834375 \r\nL 267.151189 -37.834375 \r\nL 268.157736 -37.834375 \r\nL 269.164282 -37.834375 \r\nL 270.170829 -37.834375 \r\nL 271.177376 -37.834375 \r\nL 272.183922 -37.834375 \r\nL 273.190469 -37.834375 \r\nL 274.197016 -37.834375 \r\nL 275.203563 -37.834375 \r\nL 276.210109 -37.834375 \r\nL 277.216656 -37.834375 \r\nL 278.223203 -37.834375 \r\nL 279.22975 -37.834375 \r\nL 280.236296 -37.834375 \r\nL 281.242843 -37.834375 \r\nL 282.24939 -37.834375 \r\nL 283.255936 -37.834375 \r\nL 284.262483 -37.834375 \r\nL 285.26903 -37.834375 \r\nL 286.275577 -37.834375 \r\nL 287.282123 -37.834375 \r\nL 288.28867 -37.834375 \r\nL 289.295217 -37.834375 \r\nL 290.301764 -37.834375 \r\nL 291.30831 -37.834375 \r\nL 292.314857 -37.834375 \r\nL 293.321404 -37.834375 \r\nL 294.32795 -37.834375 \r\nL 295.334497 -37.834375 \r\nL 296.341044 -37.834375 \r\nL 297.347591 -37.834375 \r\nL 298.354137 -37.834375 \r\nL 299.360684 -37.834375 \r\nL 300.367231 -37.834375 \r\nL 301.373778 -37.834375 \r\nL 302.380324 -37.834375 \r\nL 303.386871 -37.834375 \r\nL 304.393418 -37.834375 \r\nL 305.399964 -37.834375 \r\nL 306.406511 -37.834375 \r\nL 307.413058 -37.834375 \r\nL 308.419605 -37.834375 \r\nL 309.426151 -37.834375 \r\nL 310.432698 -37.834375 \r\nL 311.439245 -37.834375 \r\nL 312.445792 -37.834375 \r\nL 313.452338 -37.834375 \r\nL 314.458885 -37.834375 \r\nL 315.465432 -37.834375 \r\nL 316.471978 -37.834375 \r\nL 317.478525 -37.834375 \r\nL 318.485072 -37.834375 \r\nL 319.491619 -37.834375 \r\nL 320.498165 -37.834375 \r\nL 321.504712 -37.834375 \r\nL 322.511259 -37.834375 \r\nL 323.517806 -37.834375 \r\nL 324.524352 -37.834375 \r\nL 325.530899 -37.834375 \r\nL 326.537446 -37.834375 \r\nL 326.537446 -37.952427 \r\nL 326.537446 -37.952427 \r\nL 325.530899 -38.004 \r\nL 324.524352 -38.074965 \r\nL 323.517806 -38.171249 \r\nL 322.511259 -38.300059 \r\nL 321.504712 -38.469984 \r\nL 320.498165 -38.691026 \r\nL 319.491619 -38.97457 \r\nL 318.485072 -39.333251 \r\nL 317.478525 -39.780719 \r\nL 316.471978 -40.331278 \r\nL 315.465432 -40.99942 \r\nL 314.458885 -41.799253 \r\nL 313.452338 -42.743851 \r\nL 312.445792 -43.844574 \r\nL 311.439245 -45.110414 \r\nL 310.432698 -46.547406 \r\nL 309.426151 -48.158198 \r\nL 308.419605 -49.941822 \r\nL 307.413058 -51.89372 \r\nL 306.406511 -54.006058 \r\nL 305.399964 -56.268332 \r\nL 304.393418 -58.668249 \r\nL 303.386871 -61.192826 \r\nL 302.380324 -63.829621 \r\nL 301.373778 -66.568012 \r\nL 300.367231 -69.400377 \r\nL 299.360684 -72.323082 \r\nL 298.354137 -75.337153 \r\nL 297.347591 -78.448534 \r\nL 296.341044 -81.667889 \r\nL 295.334497 -85.009919 \r\nL 294.32795 -88.492219 \r\nL 293.321404 -92.133747 \r\nL 292.314857 -95.953024 \r\nL 291.30831 -99.966187 \r\nL 290.301764 -104.185088 \r\nL 289.295217 -108.61559 \r\nL 288.28867 -113.256226 \r\nL 287.282123 -118.097383 \r\nL 286.275577 -123.12108 \r\nL 285.26903 -128.301432 \r\nL 284.262483 -133.605764 \r\nL 283.255936 -138.996333 \r\nL 282.24939 -144.432519 \r\nL 281.242843 -149.873314 \r\nL 280.236296 -155.279899 \r\nL 279.22975 -160.618062 \r\nL 278.223203 -165.860236 \r\nL 277.216656 -170.986951 \r\nL 276.210109 -175.987546 \r\nL 275.203563 -180.860061 \r\nL 274.197016 -185.610312 \r\nL 273.190469 -190.250233 \r\nL 272.183922 -194.795669 \r\nL 271.177376 -199.263851 \r\nL 270.170829 -203.670832 \r\nL 269.164282 -208.029163 \r\nL 268.157736 -212.346081 \r\nL 267.151189 -216.622402 \r\nL 266.144642 -220.85222 \r\nL 265.138095 -225.023459 \r\nL 264.131549 -229.119158 \r\nL 263.125002 -233.119338 \r\nL 262.118455 -237.003195 \r\nL 261.111908 -240.751342 \r\nL 260.105362 -244.347834 \r\nL 259.098815 -247.781716 \r\nL 258.092268 -251.047935 \r\nL 257.085721 -254.147514 \r\nL 256.079175 -257.086999 \r\nL 255.072628 -259.87725 \r\nL 254.066081 -262.531768 \r\nL 253.059535 -265.064742 \r\nL 252.052988 -267.489059 \r\nL 251.046441 -269.814521 \r\nL 250.039894 -272.046443 \r\nL 249.033348 -274.184804 \r\nL 248.026801 -276.224025 \r\nL 247.020254 -278.153401 \r\nL 246.013707 -279.958133 \r\nL 245.007161 -281.620861 \r\nL 244.000614 -283.123532 \r\nL 242.994067 -284.449407 \r\nL 241.987521 -285.584991 \r\nL 240.980974 -286.521669 \r\nL 239.974427 -287.256845 \r\nL 238.96788 -287.794412 \r\nL 237.961334 -288.144467 \r\nL 236.954787 -288.322212 \r\nL 235.94824 -288.346129 \r\nL 234.941693 -288.235544 \r\nL 233.935147 -288.007827 \r\nL 232.9286 -287.675521 \r\nL 231.922053 -287.243717 \r\nL 230.915507 -286.708024 \r\nL 229.90896 -286.053418 \r\nL 228.902413 -285.254176 \r\nL 227.895866 -284.275009 \r\nL 226.88932 -283.073356 \r\nL 225.882773 -281.602655 \r\nL 224.876226 -279.816329 \r\nL 223.869679 -277.67206 \r\nL 222.863133 -275.135952 \r\nL 221.856586 -272.186114 \r\nL 220.850039 -268.815313 \r\nL 219.843493 -265.032385 \r\nL 218.836946 -260.862283 \r\nL 217.830399 -256.344754 \r\nL 216.823852 -251.531795 \r\nL 215.817306 -246.484161 \r\nL 214.810759 -241.267301 \r\nL 213.804212 -235.947117 \r\nL 212.797665 -230.585948 \r\nL 211.791119 -225.239138 \r\nL 210.784572 -219.952431 \r\nL 209.778025 -214.760363 \r\nL 208.771479 -209.685656 \r\nL 207.764932 -204.739581 \r\nL 206.758385 -199.923078 \r\nL 205.751838 -195.228474 \r\nL 204.745292 -190.641507 \r\nL 203.738745 -186.143478 \r\nL 202.732198 -181.713304 \r\nL 201.725651 -177.329363 \r\nL 200.719105 -172.97103 \r\nL 199.712558 -168.619889 \r\nL 198.706011 -164.260639 \r\nL 197.699464 -159.881721 \r\nL 196.692918 -155.475727 \r\nL 195.686371 -151.03962 \r\nL 194.679824 -146.574795 \r\nL 193.673278 -142.086977 \r\nL 192.666731 -137.585957 \r\nL 191.660184 -133.085144 \r\nL 190.653637 -128.600919 \r\nL 189.647091 -124.151812 \r\nL 188.640544 -119.757516 \r\nL 187.633997 -115.437812 \r\nL 186.62745 -111.211479 \r\nL 185.620904 -107.095285 \r\nL 184.614357 -103.103163 \r\nL 183.60781 -99.245653 \r\nL 182.601264 -95.529674 \r\nL 181.594717 -91.958649 \r\nL 180.58817 -88.532954 \r\nL 179.581623 -85.250656 \r\nL 178.575077 -82.108423 \r\nL 177.56853 -79.102506 \r\nL 176.561983 -76.229679 \r\nL 175.555436 -73.488008 \r\nL 174.54889 -70.877372 \r\nL 173.542343 -68.399686 \r\nL 172.535796 -66.058777 \r\nL 171.52925 -63.859971 \r\nL 170.522703 -61.809408 \r\nL 169.516156 -59.913186 \r\nL 168.509609 -58.176418 \r\nL 167.503063 -56.602308 \r\nL 166.496516 -55.191344 \r\nL 165.489969 -53.940683 \r\nL 164.483422 -52.843794 \r\nL 163.476876 -51.890396 \r\nL 162.470329 -51.066697 \r\nL 161.463782 -50.355914 \r\nL 160.457236 -49.739032 \r\nL 159.450689 -49.195744 \r\nL 158.444142 -48.705481 \r\nL 157.437595 -48.24847 \r\nL 156.431049 -47.806716 \r\nL 155.424502 -47.364849 \r\nL 154.417955 -46.910772 \r\nL 153.411408 -46.436056 \r\nL 152.404862 -45.936084 \r\nL 151.398315 -45.409935 \r\nL 150.391768 -44.860028 \r\nL 149.385222 -44.291584 \r\nL 148.378675 -43.711945 \r\nL 147.372128 -43.129834 \r\nL 146.365581 -42.554589 \r\nL 145.359035 -41.995456 \r\nL 144.352488 -41.460979 \r\nL 143.345941 -40.95851 \r\nL 142.339394 -40.493879 \r\nL 141.332848 -40.071207 \r\nL 140.326301 -39.69287 \r\nL 139.319754 -39.359577 \r\nL 138.313207 -39.070558 \r\nL 137.306661 -38.823806 \r\nL 136.300114 -38.616358 \r\nL 135.293567 -38.444595 \r\nL 134.287021 -38.304509 \r\nL 133.280474 -38.191959 \r\nL 132.273927 -38.102865 \r\nL 131.26738 -38.033375 \r\nL 130.260834 -37.979964 \r\nL 129.254287 -37.939507 \r\nL 128.24774 -37.909305 \r\nL 127.241193 -37.887083 \r\nL 126.234647 -37.870966 \r\nz\r\n\" id=\"ma71912b978\" style=\"stroke:#ff7f0e;\"/>\r\n    </defs>\r\n    <g clip-path=\"url(#p6b153e2766)\">\r\n     <use style=\"fill:#ff7f0e;fill-opacity:0.25;stroke:#ff7f0e;\" x=\"0\" xlink:href=\"#ma71912b978\" y=\"351.528125\"/>\r\n    </g>\r\n   </g>\r\n   <g id=\"PolyCollection_2\">\r\n    <defs>\r\n     <path d=\"M 69.442386 -37.855206 \r\nL 69.442386 -37.834375 \r\nL 70.742501 -37.834375 \r\nL 72.042615 -37.834375 \r\nL 73.342729 -37.834375 \r\nL 74.642843 -37.834375 \r\nL 75.942957 -37.834375 \r\nL 77.243072 -37.834375 \r\nL 78.543186 -37.834375 \r\nL 79.8433 -37.834375 \r\nL 81.143414 -37.834375 \r\nL 82.443528 -37.834375 \r\nL 83.743643 -37.834375 \r\nL 85.043757 -37.834375 \r\nL 86.343871 -37.834375 \r\nL 87.643985 -37.834375 \r\nL 88.944099 -37.834375 \r\nL 90.244214 -37.834375 \r\nL 91.544328 -37.834375 \r\nL 92.844442 -37.834375 \r\nL 94.144556 -37.834375 \r\nL 95.444671 -37.834375 \r\nL 96.744785 -37.834375 \r\nL 98.044899 -37.834375 \r\nL 99.345013 -37.834375 \r\nL 100.645127 -37.834375 \r\nL 101.945242 -37.834375 \r\nL 103.245356 -37.834375 \r\nL 104.54547 -37.834375 \r\nL 105.845584 -37.834375 \r\nL 107.145698 -37.834375 \r\nL 108.445813 -37.834375 \r\nL 109.745927 -37.834375 \r\nL 111.046041 -37.834375 \r\nL 112.346155 -37.834375 \r\nL 113.646269 -37.834375 \r\nL 114.946384 -37.834375 \r\nL 116.246498 -37.834375 \r\nL 117.546612 -37.834375 \r\nL 118.846726 -37.834375 \r\nL 120.14684 -37.834375 \r\nL 121.446955 -37.834375 \r\nL 122.747069 -37.834375 \r\nL 124.047183 -37.834375 \r\nL 125.347297 -37.834375 \r\nL 126.647411 -37.834375 \r\nL 127.947526 -37.834375 \r\nL 129.24764 -37.834375 \r\nL 130.547754 -37.834375 \r\nL 131.847868 -37.834375 \r\nL 133.147983 -37.834375 \r\nL 134.448097 -37.834375 \r\nL 135.748211 -37.834375 \r\nL 137.048325 -37.834375 \r\nL 138.348439 -37.834375 \r\nL 139.648554 -37.834375 \r\nL 140.948668 -37.834375 \r\nL 142.248782 -37.834375 \r\nL 143.548896 -37.834375 \r\nL 144.84901 -37.834375 \r\nL 146.149125 -37.834375 \r\nL 147.449239 -37.834375 \r\nL 148.749353 -37.834375 \r\nL 150.049467 -37.834375 \r\nL 151.349581 -37.834375 \r\nL 152.649696 -37.834375 \r\nL 153.94981 -37.834375 \r\nL 155.249924 -37.834375 \r\nL 156.550038 -37.834375 \r\nL 157.850152 -37.834375 \r\nL 159.150267 -37.834375 \r\nL 160.450381 -37.834375 \r\nL 161.750495 -37.834375 \r\nL 163.050609 -37.834375 \r\nL 164.350724 -37.834375 \r\nL 165.650838 -37.834375 \r\nL 166.950952 -37.834375 \r\nL 168.251066 -37.834375 \r\nL 169.55118 -37.834375 \r\nL 170.851295 -37.834375 \r\nL 172.151409 -37.834375 \r\nL 173.451523 -37.834375 \r\nL 174.751637 -37.834375 \r\nL 176.051751 -37.834375 \r\nL 177.351866 -37.834375 \r\nL 178.65198 -37.834375 \r\nL 179.952094 -37.834375 \r\nL 181.252208 -37.834375 \r\nL 182.552322 -37.834375 \r\nL 183.852437 -37.834375 \r\nL 185.152551 -37.834375 \r\nL 186.452665 -37.834375 \r\nL 187.752779 -37.834375 \r\nL 189.052893 -37.834375 \r\nL 190.353008 -37.834375 \r\nL 191.653122 -37.834375 \r\nL 192.953236 -37.834375 \r\nL 194.25335 -37.834375 \r\nL 195.553464 -37.834375 \r\nL 196.853579 -37.834375 \r\nL 198.153693 -37.834375 \r\nL 199.453807 -37.834375 \r\nL 200.753921 -37.834375 \r\nL 202.054036 -37.834375 \r\nL 203.35415 -37.834375 \r\nL 204.654264 -37.834375 \r\nL 205.954378 -37.834375 \r\nL 207.254492 -37.834375 \r\nL 208.554607 -37.834375 \r\nL 209.854721 -37.834375 \r\nL 211.154835 -37.834375 \r\nL 212.454949 -37.834375 \r\nL 213.755063 -37.834375 \r\nL 215.055178 -37.834375 \r\nL 216.355292 -37.834375 \r\nL 217.655406 -37.834375 \r\nL 218.95552 -37.834375 \r\nL 220.255634 -37.834375 \r\nL 221.555749 -37.834375 \r\nL 222.855863 -37.834375 \r\nL 224.155977 -37.834375 \r\nL 225.456091 -37.834375 \r\nL 226.756205 -37.834375 \r\nL 228.05632 -37.834375 \r\nL 229.356434 -37.834375 \r\nL 230.656548 -37.834375 \r\nL 231.956662 -37.834375 \r\nL 233.256776 -37.834375 \r\nL 234.556891 -37.834375 \r\nL 235.857005 -37.834375 \r\nL 237.157119 -37.834375 \r\nL 238.457233 -37.834375 \r\nL 239.757348 -37.834375 \r\nL 241.057462 -37.834375 \r\nL 242.357576 -37.834375 \r\nL 243.65769 -37.834375 \r\nL 244.957804 -37.834375 \r\nL 246.257919 -37.834375 \r\nL 247.558033 -37.834375 \r\nL 248.858147 -37.834375 \r\nL 250.158261 -37.834375 \r\nL 251.458375 -37.834375 \r\nL 252.75849 -37.834375 \r\nL 254.058604 -37.834375 \r\nL 255.358718 -37.834375 \r\nL 256.658832 -37.834375 \r\nL 257.958946 -37.834375 \r\nL 259.259061 -37.834375 \r\nL 260.559175 -37.834375 \r\nL 261.859289 -37.834375 \r\nL 263.159403 -37.834375 \r\nL 264.459517 -37.834375 \r\nL 265.759632 -37.834375 \r\nL 267.059746 -37.834375 \r\nL 268.35986 -37.834375 \r\nL 269.659974 -37.834375 \r\nL 270.960089 -37.834375 \r\nL 272.260203 -37.834375 \r\nL 273.560317 -37.834375 \r\nL 274.860431 -37.834375 \r\nL 276.160545 -37.834375 \r\nL 277.46066 -37.834375 \r\nL 278.760774 -37.834375 \r\nL 280.060888 -37.834375 \r\nL 281.361002 -37.834375 \r\nL 282.661116 -37.834375 \r\nL 283.961231 -37.834375 \r\nL 285.261345 -37.834375 \r\nL 286.561459 -37.834375 \r\nL 287.861573 -37.834375 \r\nL 289.161687 -37.834375 \r\nL 290.461802 -37.834375 \r\nL 291.761916 -37.834375 \r\nL 293.06203 -37.834375 \r\nL 294.362144 -37.834375 \r\nL 295.662258 -37.834375 \r\nL 296.962373 -37.834375 \r\nL 298.262487 -37.834375 \r\nL 299.562601 -37.834375 \r\nL 300.862715 -37.834375 \r\nL 302.162829 -37.834375 \r\nL 303.462944 -37.834375 \r\nL 304.763058 -37.834375 \r\nL 306.063172 -37.834375 \r\nL 307.363286 -37.834375 \r\nL 308.663401 -37.834375 \r\nL 309.963515 -37.834375 \r\nL 311.263629 -37.834375 \r\nL 312.563743 -37.834375 \r\nL 313.863857 -37.834375 \r\nL 315.163972 -37.834375 \r\nL 316.464086 -37.834375 \r\nL 317.7642 -37.834375 \r\nL 319.064314 -37.834375 \r\nL 320.364428 -37.834375 \r\nL 321.664543 -37.834375 \r\nL 322.964657 -37.834375 \r\nL 324.264771 -37.834375 \r\nL 325.564885 -37.834375 \r\nL 326.864999 -37.834375 \r\nL 328.165114 -37.834375 \r\nL 328.165114 -37.929404 \r\nL 328.165114 -37.929404 \r\nL 326.864999 -37.981849 \r\nL 325.564885 -38.058871 \r\nL 324.264771 -38.169639 \r\nL 322.964657 -38.325631 \r\nL 321.664543 -38.540752 \r\nL 320.364428 -38.831268 \r\nL 319.064314 -39.215478 \r\nL 317.7642 -39.713102 \r\nL 316.464086 -40.34434 \r\nL 315.163972 -41.12864 \r\nL 313.863857 -42.083236 \r\nL 312.563743 -43.221591 \r\nL 311.263629 -44.551892 \r\nL 309.963515 -46.075823 \r\nL 308.663401 -47.787782 \r\nL 307.363286 -49.674728 \r\nL 306.063172 -51.716746 \r\nL 304.763058 -53.888354 \r\nL 303.462944 -56.160458 \r\nL 302.162829 -58.502775 \r\nL 300.862715 -60.886474 \r\nL 299.562601 -63.286733 \r\nL 298.262487 -65.684952 \r\nL 296.962373 -68.070353 \r\nL 295.662258 -70.440856 \r\nL 294.362144 -72.803147 \r\nL 293.06203 -75.172006 \r\nL 291.761916 -77.569024 \r\nL 290.461802 -80.020886 \r\nL 289.161687 -82.55745 \r\nL 287.861573 -85.209817 \r\nL 286.561459 -88.008572 \r\nL 285.261345 -90.982337 \r\nL 283.961231 -94.156722 \r\nL 282.661116 -97.553715 \r\nL 281.361002 -101.191497 \r\nL 280.060888 -105.084642 \r\nL 278.760774 -109.244591 \r\nL 277.46066 -113.680279 \r\nL 276.160545 -118.398774 \r\nL 274.860431 -123.405753 \r\nL 273.560317 -128.705694 \r\nL 272.260203 -134.301663 \r\nL 270.960089 -140.19466 \r\nL 269.659974 -146.382542 \r\nL 268.35986 -152.858618 \r\nL 267.059746 -159.61008 \r\nL 265.759632 -166.6165 \r\nL 264.459517 -173.848624 \r\nL 263.159403 -181.267743 \r\nL 261.859289 -188.825875 \r\nL 260.559175 -196.466931 \r\nL 259.259061 -204.128964 \r\nL 257.958946 -211.74747 \r\nL 256.658832 -219.259563 \r\nL 255.358718 -226.608669 \r\nL 254.058604 -233.749251 \r\nL 252.75849 -240.650954 \r\nL 251.458375 -247.30149 \r\nL 250.158261 -253.707675 \r\nL 248.858147 -259.894136 \r\nL 247.558033 -265.899515 \r\nL 246.257919 -271.770296 \r\nL 244.957804 -277.552793 \r\nL 243.65769 -283.284147 \r\nL 242.357576 -288.983469 \r\nL 241.057462 -294.644338 \r\nL 239.757348 -300.229818 \r\nL 238.457233 -305.670863 \r\nL 237.157119 -310.868569 \r\nL 235.857005 -315.700218 \r\nL 234.556891 -320.028492 \r\nL 233.256776 -323.712823 \r\nL 231.956662 -326.621486 \r\nL 230.656548 -328.643002 \r\nL 229.356434 -329.69552 \r\nL 228.05632 -329.733185 \r\nL 226.756205 -328.74897 \r\nL 225.456091 -326.773953 \r\nL 224.155977 -323.873447 \r\nL 222.855863 -320.140774 \r\nL 221.555749 -315.689568 \r\nL 220.255634 -310.64551 \r\nL 218.95552 -305.138258 \r\nL 217.655406 -299.294087 \r\nL 216.355292 -293.229553 \r\nL 215.055178 -287.046335 \r\nL 213.755063 -280.8273 \r\nL 212.454949 -274.633855 \r\nL 211.154835 -268.50467 \r\nL 209.854721 -262.45588 \r\nL 208.554607 -256.48287 \r\nL 207.254492 -250.563649 \r\nL 205.954378 -244.66363 \r\nL 204.654264 -238.741487 \r\nL 203.35415 -232.755493 \r\nL 202.054036 -226.669679 \r\nL 200.753921 -220.459073 \r\nL 199.453807 -214.113409 \r\nL 198.153693 -207.638864 \r\nL 196.853579 -201.057702 \r\nL 195.553464 -194.40595 \r\nL 194.25335 -187.729561 \r\nL 192.953236 -181.079667 \r\nL 191.653122 -174.50763 \r\nL 190.353008 -168.06055 \r\nL 189.052893 -161.777782 \r\nL 187.752779 -155.688777 \r\nL 186.452665 -149.81235 \r\nL 185.152551 -144.157265 \r\nL 183.852437 -138.72382 \r\nL 182.552322 -133.50605 \r\nL 181.252208 -128.494126 \r\nL 179.952094 -123.676572 \r\nL 178.65198 -119.042038 \r\nL 177.351866 -114.580493 \r\nL 176.051751 -110.283823 \r\nL 174.751637 -106.145949 \r\nL 173.451523 -102.162618 \r\nL 172.151409 -98.331044 \r\nL 170.851295 -94.64957 \r\nL 169.55118 -91.117428 \r\nL 168.251066 -87.734632 \r\nL 166.950952 -84.50198 \r\nL 165.650838 -81.421074 \r\nL 164.350724 -78.49428 \r\nL 163.050609 -75.724555 \r\nL 161.750495 -73.115106 \r\nL 160.450381 -70.668893 \r\nL 159.150267 -68.388024 \r\nL 157.850152 -66.273124 \r\nL 156.550038 -64.32278 \r\nL 155.249924 -62.533115 \r\nL 153.94981 -60.897587 \r\nL 152.649696 -59.406991 \r\nL 151.349581 -58.0497 \r\nL 150.049467 -56.812077 \r\nL 148.749353 -55.679028 \r\nL 147.449239 -54.634637 \r\nL 146.149125 -53.66283 \r\nL 144.84901 -52.748035 \r\nL 143.548896 -51.875806 \r\nL 142.248782 -51.033391 \r\nL 140.948668 -50.21023 \r\nL 139.648554 -49.398373 \r\nL 138.348439 -48.592798 \r\nL 137.048325 -47.791595 \r\nL 135.748211 -46.996003 \r\nL 134.448097 -46.210265 \r\nL 133.147983 -45.441278 \r\nL 131.847868 -44.698023 \r\nL 130.547754 -43.99082 \r\nL 129.24764 -43.330415 \r\nL 127.947526 -42.726999 \r\nL 126.647411 -42.189235 \r\nL 125.347297 -41.7234 \r\nL 124.047183 -41.332744 \r\nL 122.747069 -41.017147 \r\nL 121.446955 -40.773118 \r\nL 120.14684 -40.594143 \r\nL 118.846726 -40.471342 \r\nL 117.546612 -40.394344 \r\nL 116.246498 -40.352273 \r\nL 114.946384 -40.334702 \r\nL 113.646269 -40.332451 \r\nL 112.346155 -40.338133 \r\nL 111.046041 -40.346386 \r\nL 109.745927 -40.353778 \r\nL 108.445813 -40.358437 \r\nL 107.145698 -40.359497 \r\nL 105.845584 -40.356468 \r\nL 104.54547 -40.348664 \r\nL 103.245356 -40.334797 \r\nL 101.945242 -40.312794 \r\nL 100.645127 -40.27988 \r\nL 99.345013 -40.232886 \r\nL 98.044899 -40.168719 \r\nL 96.744785 -40.084899 \r\nL 95.444671 -39.98004 \r\nL 94.144556 -39.854214 \r\nL 92.844442 -39.709098 \r\nL 91.544328 -39.547915 \r\nL 90.244214 -39.375156 \r\nL 88.944099 -39.196153 \r\nL 87.643985 -39.016569 \r\nL 86.343871 -38.841871 \r\nL 85.043757 -38.676888 \r\nL 83.743643 -38.525462 \r\nL 82.443528 -38.390268 \r\nL 81.143414 -38.272761 \r\nL 79.8433 -38.173261 \r\nL 78.543186 -38.091134 \r\nL 77.243072 -38.02502 \r\nL 75.942957 -37.973088 \r\nL 74.642843 -37.933271 \r\nL 73.342729 -37.90346 \r\nL 72.042615 -37.881659 \r\nL 70.742501 -37.866083 \r\nL 69.442386 -37.855206 \r\nz\r\n\" id=\"m6c13f7269d\" style=\"stroke:#1f77b4;\"/>\r\n    </defs>\r\n    <g clip-path=\"url(#p6b153e2766)\">\r\n     <use style=\"fill:#1f77b4;fill-opacity:0.25;stroke:#1f77b4;\" x=\"0\" xlink:href=\"#m6c13f7269d\" y=\"351.528125\"/>\r\n    </g>\r\n   </g>\r\n   <g id=\"matplotlib.axis_1\">\r\n    <g id=\"xtick_1\">\r\n     <g id=\"line2d_1\">\r\n      <defs>\r\n       <path d=\"M 0 0 \r\nL 0 3.5 \r\n\" id=\"m07ec2a471d\" style=\"stroke:#000000;stroke-width:0.8;\"/>\r\n      </defs>\r\n      <g>\r\n       <use style=\"stroke:#000000;stroke-width:0.8;\" x=\"96.647097\" xlink:href=\"#m07ec2a471d\" y=\"313.69375\"/>\r\n      </g>\r\n     </g>\r\n     <g id=\"text_1\">\r\n      <!-- 0 -->\r\n      <g transform=\"translate(93.465847 328.292187)scale(0.1 -0.1)\">\r\n       <defs>\r\n        <path d=\"M 2034 4250 \r\nQ 1547 4250 1301 3770 \r\nQ 1056 3291 1056 2328 \r\nQ 1056 1369 1301 889 \r\nQ 1547 409 2034 409 \r\nQ 2525 409 2770 889 \r\nQ 3016 1369 3016 2328 \r\nQ 3016 3291 2770 3770 \r\nQ 2525 4250 2034 4250 \r\nz\r\nM 2034 4750 \r\nQ 2819 4750 3233 4129 \r\nQ 3647 3509 3647 2328 \r\nQ 3647 1150 3233 529 \r\nQ 2819 -91 2034 -91 \r\nQ 1250 -91 836 529 \r\nQ 422 1150 422 2328 \r\nQ 422 3509 836 4129 \r\nQ 1250 4750 2034 4750 \r\nz\r\n\" id=\"DejaVuSans-30\" transform=\"scale(0.015625)\"/>\r\n       </defs>\r\n       <use xlink:href=\"#DejaVuSans-30\"/>\r\n      </g>\r\n     </g>\r\n    </g>\r\n    <g id=\"xtick_2\">\r\n     <g id=\"line2d_2\">\r\n      <g>\r\n       <use style=\"stroke:#000000;stroke-width:0.8;\" x=\"137.509758\" xlink:href=\"#m07ec2a471d\" y=\"313.69375\"/>\r\n      </g>\r\n     </g>\r\n     <g id=\"text_2\">\r\n      <!-- 20 -->\r\n      <g transform=\"translate(131.147258 328.292187)scale(0.1 -0.1)\">\r\n       <defs>\r\n        <path d=\"M 1228 531 \r\nL 3431 531 \r\nL 3431 0 \r\nL 469 0 \r\nL 469 531 \r\nQ 828 903 1448 1529 \r\nQ 2069 2156 2228 2338 \r\nQ 2531 2678 2651 2914 \r\nQ 2772 3150 2772 3378 \r\nQ 2772 3750 2511 3984 \r\nQ 2250 4219 1831 4219 \r\nQ 1534 4219 1204 4116 \r\nQ 875 4013 500 3803 \r\nL 500 4441 \r\nQ 881 4594 1212 4672 \r\nQ 1544 4750 1819 4750 \r\nQ 2544 4750 2975 4387 \r\nQ 3406 4025 3406 3419 \r\nQ 3406 3131 3298 2873 \r\nQ 3191 2616 2906 2266 \r\nQ 2828 2175 2409 1742 \r\nQ 1991 1309 1228 531 \r\nz\r\n\" id=\"DejaVuSans-32\" transform=\"scale(0.015625)\"/>\r\n       </defs>\r\n       <use xlink:href=\"#DejaVuSans-32\"/>\r\n       <use x=\"63.623047\" xlink:href=\"#DejaVuSans-30\"/>\r\n      </g>\r\n     </g>\r\n    </g>\r\n    <g id=\"xtick_3\">\r\n     <g id=\"line2d_3\">\r\n      <g>\r\n       <use style=\"stroke:#000000;stroke-width:0.8;\" x=\"178.372419\" xlink:href=\"#m07ec2a471d\" y=\"313.69375\"/>\r\n      </g>\r\n     </g>\r\n     <g id=\"text_3\">\r\n      <!-- 40 -->\r\n      <g transform=\"translate(172.009919 328.292187)scale(0.1 -0.1)\">\r\n       <defs>\r\n        <path d=\"M 2419 4116 \r\nL 825 1625 \r\nL 2419 1625 \r\nL 2419 4116 \r\nz\r\nM 2253 4666 \r\nL 3047 4666 \r\nL 3047 1625 \r\nL 3713 1625 \r\nL 3713 1100 \r\nL 3047 1100 \r\nL 3047 0 \r\nL 2419 0 \r\nL 2419 1100 \r\nL 313 1100 \r\nL 313 1709 \r\nL 2253 4666 \r\nz\r\n\" id=\"DejaVuSans-34\" transform=\"scale(0.015625)\"/>\r\n       </defs>\r\n       <use xlink:href=\"#DejaVuSans-34\"/>\r\n       <use x=\"63.623047\" xlink:href=\"#DejaVuSans-30\"/>\r\n      </g>\r\n     </g>\r\n    </g>\r\n    <g id=\"xtick_4\">\r\n     <g id=\"line2d_4\">\r\n      <g>\r\n       <use style=\"stroke:#000000;stroke-width:0.8;\" x=\"219.235081\" xlink:href=\"#m07ec2a471d\" y=\"313.69375\"/>\r\n      </g>\r\n     </g>\r\n     <g id=\"text_4\">\r\n      <!-- 60 -->\r\n      <g transform=\"translate(212.872581 328.292187)scale(0.1 -0.1)\">\r\n       <defs>\r\n        <path d=\"M 2113 2584 \r\nQ 1688 2584 1439 2293 \r\nQ 1191 2003 1191 1497 \r\nQ 1191 994 1439 701 \r\nQ 1688 409 2113 409 \r\nQ 2538 409 2786 701 \r\nQ 3034 994 3034 1497 \r\nQ 3034 2003 2786 2293 \r\nQ 2538 2584 2113 2584 \r\nz\r\nM 3366 4563 \r\nL 3366 3988 \r\nQ 3128 4100 2886 4159 \r\nQ 2644 4219 2406 4219 \r\nQ 1781 4219 1451 3797 \r\nQ 1122 3375 1075 2522 \r\nQ 1259 2794 1537 2939 \r\nQ 1816 3084 2150 3084 \r\nQ 2853 3084 3261 2657 \r\nQ 3669 2231 3669 1497 \r\nQ 3669 778 3244 343 \r\nQ 2819 -91 2113 -91 \r\nQ 1303 -91 875 529 \r\nQ 447 1150 447 2328 \r\nQ 447 3434 972 4092 \r\nQ 1497 4750 2381 4750 \r\nQ 2619 4750 2861 4703 \r\nQ 3103 4656 3366 4563 \r\nz\r\n\" id=\"DejaVuSans-36\" transform=\"scale(0.015625)\"/>\r\n       </defs>\r\n       <use xlink:href=\"#DejaVuSans-36\"/>\r\n       <use x=\"63.623047\" xlink:href=\"#DejaVuSans-30\"/>\r\n      </g>\r\n     </g>\r\n    </g>\r\n    <g id=\"xtick_5\">\r\n     <g id=\"line2d_5\">\r\n      <g>\r\n       <use style=\"stroke:#000000;stroke-width:0.8;\" x=\"260.097742\" xlink:href=\"#m07ec2a471d\" y=\"313.69375\"/>\r\n      </g>\r\n     </g>\r\n     <g id=\"text_5\">\r\n      <!-- 80 -->\r\n      <g transform=\"translate(253.735242 328.292187)scale(0.1 -0.1)\">\r\n       <defs>\r\n        <path d=\"M 2034 2216 \r\nQ 1584 2216 1326 1975 \r\nQ 1069 1734 1069 1313 \r\nQ 1069 891 1326 650 \r\nQ 1584 409 2034 409 \r\nQ 2484 409 2743 651 \r\nQ 3003 894 3003 1313 \r\nQ 3003 1734 2745 1975 \r\nQ 2488 2216 2034 2216 \r\nz\r\nM 1403 2484 \r\nQ 997 2584 770 2862 \r\nQ 544 3141 544 3541 \r\nQ 544 4100 942 4425 \r\nQ 1341 4750 2034 4750 \r\nQ 2731 4750 3128 4425 \r\nQ 3525 4100 3525 3541 \r\nQ 3525 3141 3298 2862 \r\nQ 3072 2584 2669 2484 \r\nQ 3125 2378 3379 2068 \r\nQ 3634 1759 3634 1313 \r\nQ 3634 634 3220 271 \r\nQ 2806 -91 2034 -91 \r\nQ 1263 -91 848 271 \r\nQ 434 634 434 1313 \r\nQ 434 1759 690 2068 \r\nQ 947 2378 1403 2484 \r\nz\r\nM 1172 3481 \r\nQ 1172 3119 1398 2916 \r\nQ 1625 2713 2034 2713 \r\nQ 2441 2713 2670 2916 \r\nQ 2900 3119 2900 3481 \r\nQ 2900 3844 2670 4047 \r\nQ 2441 4250 2034 4250 \r\nQ 1625 4250 1398 4047 \r\nQ 1172 3844 1172 3481 \r\nz\r\n\" id=\"DejaVuSans-38\" transform=\"scale(0.015625)\"/>\r\n       </defs>\r\n       <use xlink:href=\"#DejaVuSans-38\"/>\r\n       <use x=\"63.623047\" xlink:href=\"#DejaVuSans-30\"/>\r\n      </g>\r\n     </g>\r\n    </g>\r\n    <g id=\"xtick_6\">\r\n     <g id=\"line2d_6\">\r\n      <g>\r\n       <use style=\"stroke:#000000;stroke-width:0.8;\" x=\"300.960403\" xlink:href=\"#m07ec2a471d\" y=\"313.69375\"/>\r\n      </g>\r\n     </g>\r\n     <g id=\"text_6\">\r\n      <!-- 100 -->\r\n      <g transform=\"translate(291.416653 328.292187)scale(0.1 -0.1)\">\r\n       <defs>\r\n        <path d=\"M 794 531 \r\nL 1825 531 \r\nL 1825 4091 \r\nL 703 3866 \r\nL 703 4441 \r\nL 1819 4666 \r\nL 2450 4666 \r\nL 2450 531 \r\nL 3481 531 \r\nL 3481 0 \r\nL 794 0 \r\nL 794 531 \r\nz\r\n\" id=\"DejaVuSans-31\" transform=\"scale(0.015625)\"/>\r\n       </defs>\r\n       <use xlink:href=\"#DejaVuSans-31\"/>\r\n       <use x=\"63.623047\" xlink:href=\"#DejaVuSans-30\"/>\r\n       <use x=\"127.246094\" xlink:href=\"#DejaVuSans-30\"/>\r\n      </g>\r\n     </g>\r\n    </g>\r\n    <g id=\"text_7\">\r\n     <!-- math_score -->\r\n     <g transform=\"translate(169.807656 341.970312)scale(0.1 -0.1)\">\r\n      <defs>\r\n       <path d=\"M 3328 2828 \r\nQ 3544 3216 3844 3400 \r\nQ 4144 3584 4550 3584 \r\nQ 5097 3584 5394 3201 \r\nQ 5691 2819 5691 2113 \r\nL 5691 0 \r\nL 5113 0 \r\nL 5113 2094 \r\nQ 5113 2597 4934 2840 \r\nQ 4756 3084 4391 3084 \r\nQ 3944 3084 3684 2787 \r\nQ 3425 2491 3425 1978 \r\nL 3425 0 \r\nL 2847 0 \r\nL 2847 2094 \r\nQ 2847 2600 2669 2842 \r\nQ 2491 3084 2119 3084 \r\nQ 1678 3084 1418 2786 \r\nQ 1159 2488 1159 1978 \r\nL 1159 0 \r\nL 581 0 \r\nL 581 3500 \r\nL 1159 3500 \r\nL 1159 2956 \r\nQ 1356 3278 1631 3431 \r\nQ 1906 3584 2284 3584 \r\nQ 2666 3584 2933 3390 \r\nQ 3200 3197 3328 2828 \r\nz\r\n\" id=\"DejaVuSans-6d\" transform=\"scale(0.015625)\"/>\r\n       <path d=\"M 2194 1759 \r\nQ 1497 1759 1228 1600 \r\nQ 959 1441 959 1056 \r\nQ 959 750 1161 570 \r\nQ 1363 391 1709 391 \r\nQ 2188 391 2477 730 \r\nQ 2766 1069 2766 1631 \r\nL 2766 1759 \r\nL 2194 1759 \r\nz\r\nM 3341 1997 \r\nL 3341 0 \r\nL 2766 0 \r\nL 2766 531 \r\nQ 2569 213 2275 61 \r\nQ 1981 -91 1556 -91 \r\nQ 1019 -91 701 211 \r\nQ 384 513 384 1019 \r\nQ 384 1609 779 1909 \r\nQ 1175 2209 1959 2209 \r\nL 2766 2209 \r\nL 2766 2266 \r\nQ 2766 2663 2505 2880 \r\nQ 2244 3097 1772 3097 \r\nQ 1472 3097 1187 3025 \r\nQ 903 2953 641 2809 \r\nL 641 3341 \r\nQ 956 3463 1253 3523 \r\nQ 1550 3584 1831 3584 \r\nQ 2591 3584 2966 3190 \r\nQ 3341 2797 3341 1997 \r\nz\r\n\" id=\"DejaVuSans-61\" transform=\"scale(0.015625)\"/>\r\n       <path d=\"M 1172 4494 \r\nL 1172 3500 \r\nL 2356 3500 \r\nL 2356 3053 \r\nL 1172 3053 \r\nL 1172 1153 \r\nQ 1172 725 1289 603 \r\nQ 1406 481 1766 481 \r\nL 2356 481 \r\nL 2356 0 \r\nL 1766 0 \r\nQ 1100 0 847 248 \r\nQ 594 497 594 1153 \r\nL 594 3053 \r\nL 172 3053 \r\nL 172 3500 \r\nL 594 3500 \r\nL 594 4494 \r\nL 1172 4494 \r\nz\r\n\" id=\"DejaVuSans-74\" transform=\"scale(0.015625)\"/>\r\n       <path d=\"M 3513 2113 \r\nL 3513 0 \r\nL 2938 0 \r\nL 2938 2094 \r\nQ 2938 2591 2744 2837 \r\nQ 2550 3084 2163 3084 \r\nQ 1697 3084 1428 2787 \r\nQ 1159 2491 1159 1978 \r\nL 1159 0 \r\nL 581 0 \r\nL 581 4863 \r\nL 1159 4863 \r\nL 1159 2956 \r\nQ 1366 3272 1645 3428 \r\nQ 1925 3584 2291 3584 \r\nQ 2894 3584 3203 3211 \r\nQ 3513 2838 3513 2113 \r\nz\r\n\" id=\"DejaVuSans-68\" transform=\"scale(0.015625)\"/>\r\n       <path d=\"M 3263 -1063 \r\nL 3263 -1509 \r\nL -63 -1509 \r\nL -63 -1063 \r\nL 3263 -1063 \r\nz\r\n\" id=\"DejaVuSans-5f\" transform=\"scale(0.015625)\"/>\r\n       <path d=\"M 2834 3397 \r\nL 2834 2853 \r\nQ 2591 2978 2328 3040 \r\nQ 2066 3103 1784 3103 \r\nQ 1356 3103 1142 2972 \r\nQ 928 2841 928 2578 \r\nQ 928 2378 1081 2264 \r\nQ 1234 2150 1697 2047 \r\nL 1894 2003 \r\nQ 2506 1872 2764 1633 \r\nQ 3022 1394 3022 966 \r\nQ 3022 478 2636 193 \r\nQ 2250 -91 1575 -91 \r\nQ 1294 -91 989 -36 \r\nQ 684 19 347 128 \r\nL 347 722 \r\nQ 666 556 975 473 \r\nQ 1284 391 1588 391 \r\nQ 1994 391 2212 530 \r\nQ 2431 669 2431 922 \r\nQ 2431 1156 2273 1281 \r\nQ 2116 1406 1581 1522 \r\nL 1381 1569 \r\nQ 847 1681 609 1914 \r\nQ 372 2147 372 2553 \r\nQ 372 3047 722 3315 \r\nQ 1072 3584 1716 3584 \r\nQ 2034 3584 2315 3537 \r\nQ 2597 3491 2834 3397 \r\nz\r\n\" id=\"DejaVuSans-73\" transform=\"scale(0.015625)\"/>\r\n       <path d=\"M 3122 3366 \r\nL 3122 2828 \r\nQ 2878 2963 2633 3030 \r\nQ 2388 3097 2138 3097 \r\nQ 1578 3097 1268 2742 \r\nQ 959 2388 959 1747 \r\nQ 959 1106 1268 751 \r\nQ 1578 397 2138 397 \r\nQ 2388 397 2633 464 \r\nQ 2878 531 3122 666 \r\nL 3122 134 \r\nQ 2881 22 2623 -34 \r\nQ 2366 -91 2075 -91 \r\nQ 1284 -91 818 406 \r\nQ 353 903 353 1747 \r\nQ 353 2603 823 3093 \r\nQ 1294 3584 2113 3584 \r\nQ 2378 3584 2631 3529 \r\nQ 2884 3475 3122 3366 \r\nz\r\n\" id=\"DejaVuSans-63\" transform=\"scale(0.015625)\"/>\r\n       <path d=\"M 1959 3097 \r\nQ 1497 3097 1228 2736 \r\nQ 959 2375 959 1747 \r\nQ 959 1119 1226 758 \r\nQ 1494 397 1959 397 \r\nQ 2419 397 2687 759 \r\nQ 2956 1122 2956 1747 \r\nQ 2956 2369 2687 2733 \r\nQ 2419 3097 1959 3097 \r\nz\r\nM 1959 3584 \r\nQ 2709 3584 3137 3096 \r\nQ 3566 2609 3566 1747 \r\nQ 3566 888 3137 398 \r\nQ 2709 -91 1959 -91 \r\nQ 1206 -91 779 398 \r\nQ 353 888 353 1747 \r\nQ 353 2609 779 3096 \r\nQ 1206 3584 1959 3584 \r\nz\r\n\" id=\"DejaVuSans-6f\" transform=\"scale(0.015625)\"/>\r\n       <path d=\"M 2631 2963 \r\nQ 2534 3019 2420 3045 \r\nQ 2306 3072 2169 3072 \r\nQ 1681 3072 1420 2755 \r\nQ 1159 2438 1159 1844 \r\nL 1159 0 \r\nL 581 0 \r\nL 581 3500 \r\nL 1159 3500 \r\nL 1159 2956 \r\nQ 1341 3275 1631 3429 \r\nQ 1922 3584 2338 3584 \r\nQ 2397 3584 2469 3576 \r\nQ 2541 3569 2628 3553 \r\nL 2631 2963 \r\nz\r\n\" id=\"DejaVuSans-72\" transform=\"scale(0.015625)\"/>\r\n       <path d=\"M 3597 1894 \r\nL 3597 1613 \r\nL 953 1613 \r\nQ 991 1019 1311 708 \r\nQ 1631 397 2203 397 \r\nQ 2534 397 2845 478 \r\nQ 3156 559 3463 722 \r\nL 3463 178 \r\nQ 3153 47 2828 -22 \r\nQ 2503 -91 2169 -91 \r\nQ 1331 -91 842 396 \r\nQ 353 884 353 1716 \r\nQ 353 2575 817 3079 \r\nQ 1281 3584 2069 3584 \r\nQ 2775 3584 3186 3129 \r\nQ 3597 2675 3597 1894 \r\nz\r\nM 3022 2063 \r\nQ 3016 2534 2758 2815 \r\nQ 2500 3097 2075 3097 \r\nQ 1594 3097 1305 2825 \r\nQ 1016 2553 972 2059 \r\nL 3022 2063 \r\nz\r\n\" id=\"DejaVuSans-65\" transform=\"scale(0.015625)\"/>\r\n      </defs>\r\n      <use xlink:href=\"#DejaVuSans-6d\"/>\r\n      <use x=\"97.412109\" xlink:href=\"#DejaVuSans-61\"/>\r\n      <use x=\"158.691406\" xlink:href=\"#DejaVuSans-74\"/>\r\n      <use x=\"197.900391\" xlink:href=\"#DejaVuSans-68\"/>\r\n      <use x=\"261.279297\" xlink:href=\"#DejaVuSans-5f\"/>\r\n      <use x=\"311.279297\" xlink:href=\"#DejaVuSans-73\"/>\r\n      <use x=\"363.378906\" xlink:href=\"#DejaVuSans-63\"/>\r\n      <use x=\"418.359375\" xlink:href=\"#DejaVuSans-6f\"/>\r\n      <use x=\"479.541016\" xlink:href=\"#DejaVuSans-72\"/>\r\n      <use x=\"518.404297\" xlink:href=\"#DejaVuSans-65\"/>\r\n     </g>\r\n    </g>\r\n   </g>\r\n   <g id=\"matplotlib.axis_2\">\r\n    <g id=\"ytick_1\">\r\n     <g id=\"line2d_7\">\r\n      <defs>\r\n       <path d=\"M 0 0 \r\nL -3.5 0 \r\n\" id=\"md3dc6daf75\" style=\"stroke:#000000;stroke-width:0.8;\"/>\r\n      </defs>\r\n      <g>\r\n       <use style=\"stroke:#000000;stroke-width:0.8;\" x=\"56.50625\" xlink:href=\"#md3dc6daf75\" y=\"313.69375\"/>\r\n      </g>\r\n     </g>\r\n     <g id=\"text_8\">\r\n      <!-- 0.000 -->\r\n      <g transform=\"translate(20.878125 317.492969)scale(0.1 -0.1)\">\r\n       <defs>\r\n        <path d=\"M 684 794 \r\nL 1344 794 \r\nL 1344 0 \r\nL 684 0 \r\nL 684 794 \r\nz\r\n\" id=\"DejaVuSans-2e\" transform=\"scale(0.015625)\"/>\r\n       </defs>\r\n       <use xlink:href=\"#DejaVuSans-30\"/>\r\n       <use x=\"63.623047\" xlink:href=\"#DejaVuSans-2e\"/>\r\n       <use x=\"95.410156\" xlink:href=\"#DejaVuSans-30\"/>\r\n       <use x=\"159.033203\" xlink:href=\"#DejaVuSans-30\"/>\r\n       <use x=\"222.65625\" xlink:href=\"#DejaVuSans-30\"/>\r\n      </g>\r\n     </g>\r\n    </g>\r\n    <g id=\"ytick_2\">\r\n     <g id=\"line2d_8\">\r\n      <g>\r\n       <use style=\"stroke:#000000;stroke-width:0.8;\" x=\"56.50625\" xlink:href=\"#md3dc6daf75\" y=\"272.006008\"/>\r\n      </g>\r\n     </g>\r\n     <g id=\"text_9\">\r\n      <!-- 0.002 -->\r\n      <g transform=\"translate(20.878125 275.805227)scale(0.1 -0.1)\">\r\n       <use xlink:href=\"#DejaVuSans-30\"/>\r\n       <use x=\"63.623047\" xlink:href=\"#DejaVuSans-2e\"/>\r\n       <use x=\"95.410156\" xlink:href=\"#DejaVuSans-30\"/>\r\n       <use x=\"159.033203\" xlink:href=\"#DejaVuSans-30\"/>\r\n       <use x=\"222.65625\" xlink:href=\"#DejaVuSans-32\"/>\r\n      </g>\r\n     </g>\r\n    </g>\r\n    <g id=\"ytick_3\">\r\n     <g id=\"line2d_9\">\r\n      <g>\r\n       <use style=\"stroke:#000000;stroke-width:0.8;\" x=\"56.50625\" xlink:href=\"#md3dc6daf75\" y=\"230.318267\"/>\r\n      </g>\r\n     </g>\r\n     <g id=\"text_10\">\r\n      <!-- 0.004 -->\r\n      <g transform=\"translate(20.878125 234.117486)scale(0.1 -0.1)\">\r\n       <use xlink:href=\"#DejaVuSans-30\"/>\r\n       <use x=\"63.623047\" xlink:href=\"#DejaVuSans-2e\"/>\r\n       <use x=\"95.410156\" xlink:href=\"#DejaVuSans-30\"/>\r\n       <use x=\"159.033203\" xlink:href=\"#DejaVuSans-30\"/>\r\n       <use x=\"222.65625\" xlink:href=\"#DejaVuSans-34\"/>\r\n      </g>\r\n     </g>\r\n    </g>\r\n    <g id=\"ytick_4\">\r\n     <g id=\"line2d_10\">\r\n      <g>\r\n       <use style=\"stroke:#000000;stroke-width:0.8;\" x=\"56.50625\" xlink:href=\"#md3dc6daf75\" y=\"188.630525\"/>\r\n      </g>\r\n     </g>\r\n     <g id=\"text_11\">\r\n      <!-- 0.006 -->\r\n      <g transform=\"translate(20.878125 192.429744)scale(0.1 -0.1)\">\r\n       <use xlink:href=\"#DejaVuSans-30\"/>\r\n       <use x=\"63.623047\" xlink:href=\"#DejaVuSans-2e\"/>\r\n       <use x=\"95.410156\" xlink:href=\"#DejaVuSans-30\"/>\r\n       <use x=\"159.033203\" xlink:href=\"#DejaVuSans-30\"/>\r\n       <use x=\"222.65625\" xlink:href=\"#DejaVuSans-36\"/>\r\n      </g>\r\n     </g>\r\n    </g>\r\n    <g id=\"ytick_5\">\r\n     <g id=\"line2d_11\">\r\n      <g>\r\n       <use style=\"stroke:#000000;stroke-width:0.8;\" x=\"56.50625\" xlink:href=\"#md3dc6daf75\" y=\"146.942784\"/>\r\n      </g>\r\n     </g>\r\n     <g id=\"text_12\">\r\n      <!-- 0.008 -->\r\n      <g transform=\"translate(20.878125 150.742002)scale(0.1 -0.1)\">\r\n       <use xlink:href=\"#DejaVuSans-30\"/>\r\n       <use x=\"63.623047\" xlink:href=\"#DejaVuSans-2e\"/>\r\n       <use x=\"95.410156\" xlink:href=\"#DejaVuSans-30\"/>\r\n       <use x=\"159.033203\" xlink:href=\"#DejaVuSans-30\"/>\r\n       <use x=\"222.65625\" xlink:href=\"#DejaVuSans-38\"/>\r\n      </g>\r\n     </g>\r\n    </g>\r\n    <g id=\"ytick_6\">\r\n     <g id=\"line2d_12\">\r\n      <g>\r\n       <use style=\"stroke:#000000;stroke-width:0.8;\" x=\"56.50625\" xlink:href=\"#md3dc6daf75\" y=\"105.255042\"/>\r\n      </g>\r\n     </g>\r\n     <g id=\"text_13\">\r\n      <!-- 0.010 -->\r\n      <g transform=\"translate(20.878125 109.054261)scale(0.1 -0.1)\">\r\n       <use xlink:href=\"#DejaVuSans-30\"/>\r\n       <use x=\"63.623047\" xlink:href=\"#DejaVuSans-2e\"/>\r\n       <use x=\"95.410156\" xlink:href=\"#DejaVuSans-30\"/>\r\n       <use x=\"159.033203\" xlink:href=\"#DejaVuSans-31\"/>\r\n       <use x=\"222.65625\" xlink:href=\"#DejaVuSans-30\"/>\r\n      </g>\r\n     </g>\r\n    </g>\r\n    <g id=\"ytick_7\">\r\n     <g id=\"line2d_13\">\r\n      <g>\r\n       <use style=\"stroke:#000000;stroke-width:0.8;\" x=\"56.50625\" xlink:href=\"#md3dc6daf75\" y=\"63.5673\"/>\r\n      </g>\r\n     </g>\r\n     <g id=\"text_14\">\r\n      <!-- 0.012 -->\r\n      <g transform=\"translate(20.878125 67.366519)scale(0.1 -0.1)\">\r\n       <use xlink:href=\"#DejaVuSans-30\"/>\r\n       <use x=\"63.623047\" xlink:href=\"#DejaVuSans-2e\"/>\r\n       <use x=\"95.410156\" xlink:href=\"#DejaVuSans-30\"/>\r\n       <use x=\"159.033203\" xlink:href=\"#DejaVuSans-31\"/>\r\n       <use x=\"222.65625\" xlink:href=\"#DejaVuSans-32\"/>\r\n      </g>\r\n     </g>\r\n    </g>\r\n    <g id=\"ytick_8\">\r\n     <g id=\"line2d_14\">\r\n      <g>\r\n       <use style=\"stroke:#000000;stroke-width:0.8;\" x=\"56.50625\" xlink:href=\"#md3dc6daf75\" y=\"21.879559\"/>\r\n      </g>\r\n     </g>\r\n     <g id=\"text_15\">\r\n      <!-- 0.014 -->\r\n      <g transform=\"translate(20.878125 25.678778)scale(0.1 -0.1)\">\r\n       <use xlink:href=\"#DejaVuSans-30\"/>\r\n       <use x=\"63.623047\" xlink:href=\"#DejaVuSans-2e\"/>\r\n       <use x=\"95.410156\" xlink:href=\"#DejaVuSans-30\"/>\r\n       <use x=\"159.033203\" xlink:href=\"#DejaVuSans-31\"/>\r\n       <use x=\"222.65625\" xlink:href=\"#DejaVuSans-34\"/>\r\n      </g>\r\n     </g>\r\n    </g>\r\n    <g id=\"text_16\">\r\n     <!-- Density -->\r\n     <g transform=\"translate(14.798438 179.455469)rotate(-90)scale(0.1 -0.1)\">\r\n      <defs>\r\n       <path d=\"M 1259 4147 \r\nL 1259 519 \r\nL 2022 519 \r\nQ 2988 519 3436 956 \r\nQ 3884 1394 3884 2338 \r\nQ 3884 3275 3436 3711 \r\nQ 2988 4147 2022 4147 \r\nL 1259 4147 \r\nz\r\nM 628 4666 \r\nL 1925 4666 \r\nQ 3281 4666 3915 4102 \r\nQ 4550 3538 4550 2338 \r\nQ 4550 1131 3912 565 \r\nQ 3275 0 1925 0 \r\nL 628 0 \r\nL 628 4666 \r\nz\r\n\" id=\"DejaVuSans-44\" transform=\"scale(0.015625)\"/>\r\n       <path d=\"M 3513 2113 \r\nL 3513 0 \r\nL 2938 0 \r\nL 2938 2094 \r\nQ 2938 2591 2744 2837 \r\nQ 2550 3084 2163 3084 \r\nQ 1697 3084 1428 2787 \r\nQ 1159 2491 1159 1978 \r\nL 1159 0 \r\nL 581 0 \r\nL 581 3500 \r\nL 1159 3500 \r\nL 1159 2956 \r\nQ 1366 3272 1645 3428 \r\nQ 1925 3584 2291 3584 \r\nQ 2894 3584 3203 3211 \r\nQ 3513 2838 3513 2113 \r\nz\r\n\" id=\"DejaVuSans-6e\" transform=\"scale(0.015625)\"/>\r\n       <path d=\"M 603 3500 \r\nL 1178 3500 \r\nL 1178 0 \r\nL 603 0 \r\nL 603 3500 \r\nz\r\nM 603 4863 \r\nL 1178 4863 \r\nL 1178 4134 \r\nL 603 4134 \r\nL 603 4863 \r\nz\r\n\" id=\"DejaVuSans-69\" transform=\"scale(0.015625)\"/>\r\n       <path d=\"M 2059 -325 \r\nQ 1816 -950 1584 -1140 \r\nQ 1353 -1331 966 -1331 \r\nL 506 -1331 \r\nL 506 -850 \r\nL 844 -850 \r\nQ 1081 -850 1212 -737 \r\nQ 1344 -625 1503 -206 \r\nL 1606 56 \r\nL 191 3500 \r\nL 800 3500 \r\nL 1894 763 \r\nL 2988 3500 \r\nL 3597 3500 \r\nL 2059 -325 \r\nz\r\n\" id=\"DejaVuSans-79\" transform=\"scale(0.015625)\"/>\r\n      </defs>\r\n      <use xlink:href=\"#DejaVuSans-44\"/>\r\n      <use x=\"77.001953\" xlink:href=\"#DejaVuSans-65\"/>\r\n      <use x=\"138.525391\" xlink:href=\"#DejaVuSans-6e\"/>\r\n      <use x=\"201.904297\" xlink:href=\"#DejaVuSans-73\"/>\r\n      <use x=\"254.003906\" xlink:href=\"#DejaVuSans-69\"/>\r\n      <use x=\"281.787109\" xlink:href=\"#DejaVuSans-74\"/>\r\n      <use x=\"320.996094\" xlink:href=\"#DejaVuSans-79\"/>\r\n     </g>\r\n    </g>\r\n   </g>\r\n   <g id=\"patch_3\">\r\n    <path d=\"M 56.50625 313.69375 \r\nL 56.50625 7.2 \r\n\" style=\"fill:none;stroke:#000000;stroke-linecap:square;stroke-linejoin:miter;stroke-width:0.8;\"/>\r\n   </g>\r\n   <g id=\"patch_4\">\r\n    <path d=\"M 56.50625 313.69375 \r\nL 341.10125 313.69375 \r\n\" style=\"fill:none;stroke:#000000;stroke-linecap:square;stroke-linejoin:miter;stroke-width:0.8;\"/>\r\n   </g>\r\n  </g>\r\n  <g id=\"legend_1\">\r\n   <g id=\"text_17\">\r\n    <!-- gender -->\r\n    <g transform=\"translate(370.94375 163.845312)scale(0.1 -0.1)\">\r\n     <defs>\r\n      <path d=\"M 2906 1791 \r\nQ 2906 2416 2648 2759 \r\nQ 2391 3103 1925 3103 \r\nQ 1463 3103 1205 2759 \r\nQ 947 2416 947 1791 \r\nQ 947 1169 1205 825 \r\nQ 1463 481 1925 481 \r\nQ 2391 481 2648 825 \r\nQ 2906 1169 2906 1791 \r\nz\r\nM 3481 434 \r\nQ 3481 -459 3084 -895 \r\nQ 2688 -1331 1869 -1331 \r\nQ 1566 -1331 1297 -1286 \r\nQ 1028 -1241 775 -1147 \r\nL 775 -588 \r\nQ 1028 -725 1275 -790 \r\nQ 1522 -856 1778 -856 \r\nQ 2344 -856 2625 -561 \r\nQ 2906 -266 2906 331 \r\nL 2906 616 \r\nQ 2728 306 2450 153 \r\nQ 2172 0 1784 0 \r\nQ 1141 0 747 490 \r\nQ 353 981 353 1791 \r\nQ 353 2603 747 3093 \r\nQ 1141 3584 1784 3584 \r\nQ 2172 3584 2450 3431 \r\nQ 2728 3278 2906 2969 \r\nL 2906 3500 \r\nL 3481 3500 \r\nL 3481 434 \r\nz\r\n\" id=\"DejaVuSans-67\" transform=\"scale(0.015625)\"/>\r\n      <path d=\"M 2906 2969 \r\nL 2906 4863 \r\nL 3481 4863 \r\nL 3481 0 \r\nL 2906 0 \r\nL 2906 525 \r\nQ 2725 213 2448 61 \r\nQ 2172 -91 1784 -91 \r\nQ 1150 -91 751 415 \r\nQ 353 922 353 1747 \r\nQ 353 2572 751 3078 \r\nQ 1150 3584 1784 3584 \r\nQ 2172 3584 2448 3432 \r\nQ 2725 3281 2906 2969 \r\nz\r\nM 947 1747 \r\nQ 947 1113 1208 752 \r\nQ 1469 391 1925 391 \r\nQ 2381 391 2643 752 \r\nQ 2906 1113 2906 1747 \r\nQ 2906 2381 2643 2742 \r\nQ 2381 3103 1925 3103 \r\nQ 1469 3103 1208 2742 \r\nQ 947 2381 947 1747 \r\nz\r\n\" id=\"DejaVuSans-64\" transform=\"scale(0.015625)\"/>\r\n     </defs>\r\n     <use xlink:href=\"#DejaVuSans-67\"/>\r\n     <use x=\"63.476562\" xlink:href=\"#DejaVuSans-65\"/>\r\n     <use x=\"125\" xlink:href=\"#DejaVuSans-6e\"/>\r\n     <use x=\"188.378906\" xlink:href=\"#DejaVuSans-64\"/>\r\n     <use x=\"251.855469\" xlink:href=\"#DejaVuSans-65\"/>\r\n     <use x=\"313.378906\" xlink:href=\"#DejaVuSans-72\"/>\r\n    </g>\r\n   </g>\r\n   <g id=\"patch_5\">\r\n    <path d=\"M 357.432813 178.523437 \r\nL 377.432813 178.523437 \r\nL 377.432813 171.523437 \r\nL 357.432813 171.523437 \r\nz\r\n\" style=\"fill:#1f77b4;fill-opacity:0.25;stroke:#1f77b4;stroke-linejoin:miter;\"/>\r\n   </g>\r\n   <g id=\"text_18\">\r\n    <!-- female -->\r\n    <g transform=\"translate(385.432813 178.523437)scale(0.1 -0.1)\">\r\n     <defs>\r\n      <path d=\"M 2375 4863 \r\nL 2375 4384 \r\nL 1825 4384 \r\nQ 1516 4384 1395 4259 \r\nQ 1275 4134 1275 3809 \r\nL 1275 3500 \r\nL 2222 3500 \r\nL 2222 3053 \r\nL 1275 3053 \r\nL 1275 0 \r\nL 697 0 \r\nL 697 3053 \r\nL 147 3053 \r\nL 147 3500 \r\nL 697 3500 \r\nL 697 3744 \r\nQ 697 4328 969 4595 \r\nQ 1241 4863 1831 4863 \r\nL 2375 4863 \r\nz\r\n\" id=\"DejaVuSans-66\" transform=\"scale(0.015625)\"/>\r\n      <path d=\"M 603 4863 \r\nL 1178 4863 \r\nL 1178 0 \r\nL 603 0 \r\nL 603 4863 \r\nz\r\n\" id=\"DejaVuSans-6c\" transform=\"scale(0.015625)\"/>\r\n     </defs>\r\n     <use xlink:href=\"#DejaVuSans-66\"/>\r\n     <use x=\"35.205078\" xlink:href=\"#DejaVuSans-65\"/>\r\n     <use x=\"96.728516\" xlink:href=\"#DejaVuSans-6d\"/>\r\n     <use x=\"194.140625\" xlink:href=\"#DejaVuSans-61\"/>\r\n     <use x=\"255.419922\" xlink:href=\"#DejaVuSans-6c\"/>\r\n     <use x=\"283.203125\" xlink:href=\"#DejaVuSans-65\"/>\r\n    </g>\r\n   </g>\r\n   <g id=\"patch_6\">\r\n    <path d=\"M 357.432813 193.201562 \r\nL 377.432813 193.201562 \r\nL 377.432813 186.201562 \r\nL 357.432813 186.201562 \r\nz\r\n\" style=\"fill:#ff7f0e;fill-opacity:0.25;stroke:#ff7f0e;stroke-linejoin:miter;\"/>\r\n   </g>\r\n   <g id=\"text_19\">\r\n    <!-- male -->\r\n    <g transform=\"translate(385.432813 193.201562)scale(0.1 -0.1)\">\r\n     <use xlink:href=\"#DejaVuSans-6d\"/>\r\n     <use x=\"97.412109\" xlink:href=\"#DejaVuSans-61\"/>\r\n     <use x=\"158.691406\" xlink:href=\"#DejaVuSans-6c\"/>\r\n     <use x=\"186.474609\" xlink:href=\"#DejaVuSans-65\"/>\r\n    </g>\r\n   </g>\r\n  </g>\r\n </g>\r\n <defs>\r\n  <clipPath id=\"p6b153e2766\">\r\n   <rect height=\"306.49375\" width=\"284.595\" x=\"56.50625\" y=\"7.2\"/>\r\n  </clipPath>\r\n </defs>\r\n</svg>\r\n",
      "text/plain": [
       "<Figure size 430.5x360 with 1 Axes>"
      ]
     },
     "metadata": {
      "needs_background": "light"
     }
    }
   ],
   "metadata": {}
  },
  {
   "cell_type": "code",
   "execution_count": 421,
   "source": [
    "gender_mean.reset_index(inplace=True)\r\n",
    "fig = plt.pyplot.figure()\r\n",
    "gs = fig.add_gridspec(4, hspace=0)\r\n",
    "\r\n",
    "figure, axes = plt.pyplot.subplots(1, 4, sharex=True, sharey=True, figsize=(18,6))\r\n",
    "figure.suptitle('Mean Score Visualize by Gender')\r\n",
    "sns.barplot(x='gender', y='math_score', data=gender_mean,palette='pastel', ax=axes[0])\r\n",
    "axes[0].set_title('Math Score')\r\n",
    "sns.barplot(x='gender', y='read_score', data=gender_mean,palette='pastel', ax=axes[1])\r\n",
    "axes[1].set_title('Reading Score')\r\n",
    "sns.barplot(x='gender', y='write_score', data=gender_mean,palette='pastel', ax=axes[2])\r\n",
    "axes[2].set_title('Writing Score')\r\n",
    "sns.barplot(x='gender', y='average', data=gender_mean,palette='pastel', ax=axes[3])\r\n",
    "axes[3].set_title('Average Score')\r\n"
   ],
   "outputs": [
    {
     "output_type": "execute_result",
     "data": {
      "text/plain": [
       "Text(0.5, 1.0, 'Average Score')"
      ]
     },
     "metadata": {},
     "execution_count": 421
    },
    {
     "output_type": "display_data",
     "data": {
      "text/plain": [
       "<Figure size 432x288 with 0 Axes>"
      ]
     },
     "metadata": {}
    },
    {
     "output_type": "display_data",
     "data": {
      "image/png": "[encoded data removed]",
      "image/svg+xml": "<?xml version=\"1.0\" encoding=\"utf-8\" standalone=\"no\"?>\r\n<!DOCTYPE svg PUBLIC \"-//W3C//DTD SVG 1.1//EN\"\r\n  \"http://www.w3.org/Graphics/SVG/1.1/DTD/svg11.dtd\">\r\n<svg height=\"414.11625pt\" version=\"1.1\" viewBox=\"0 0 1052.48125 414.11625\" width=\"1052.48125pt\" xmlns=\"http://www.w3.org/2000/svg\" xmlns:xlink=\"http://www.w3.org/1999/xlink\">\r\n <metadata>\r\n  <rdf:RDF xmlns:cc=\"http://creativecommons.org/ns#\" xmlns:dc=\"http://purl.org/dc/elements/1.1/\" xmlns:rdf=\"http://www.w3.org/1999/02/22-rdf-syntax-ns#\">\r\n   <cc:Work>\r\n    <dc:type rdf:resource=\"http://purl.org/dc/dcmitype/StillImage\"/>\r\n    <dc:date>2021-09-02T00:49:27.269036</dc:date>\r\n    <dc:format>image/svg+xml</dc:format>\r\n    <dc:creator>\r\n     <cc:Agent>\r\n      <dc:title>Matplotlib v3.4.2, https://matplotlib.org/</dc:title>\r\n     </cc:Agent>\r\n    </dc:creator>\r\n   </cc:Work>\r\n  </rdf:RDF>\r\n </metadata>\r\n <defs>\r\n  <style type=\"text/css\">*{stroke-linecap:butt;stroke-linejoin:round;}</style>\r\n </defs>\r\n <g id=\"figure_1\">\r\n  <g id=\"patch_1\">\r\n   <path d=\"M 0 414.11625 \r\nL 1052.48125 414.11625 \r\nL 1052.48125 0 \r\nL 0 0 \r\nz\r\n\" style=\"fill:none;\"/>\r\n  </g>\r\n  <g id=\"axes_1\">\r\n   <g id=\"patch_2\">\r\n    <path d=\"M 40.88125 376.56 \r\nL 259.229076 376.56 \r\nL 259.229076 50.4 \r\nL 40.88125 50.4 \r\nz\r\n\" style=\"fill:#ffffff;\"/>\r\n   </g>\r\n   <g id=\"patch_3\">\r\n    <path clip-path=\"url(#p36cfd20677)\" d=\"M 51.798641 376.56 \r\nL 139.137772 376.56 \r\nL 139.137772 104.348239 \r\nL 51.798641 104.348239 \r\nz\r\n\" style=\"fill:#abc9ea;\"/>\r\n   </g>\r\n   <g id=\"patch_4\">\r\n    <path clip-path=\"url(#p36cfd20677)\" d=\"M 160.972554 376.56 \r\nL 248.311685 376.56 \r\nL 248.311685 82.530228 \r\nL 160.972554 82.530228 \r\nz\r\n\" style=\"fill:#efb792;\"/>\r\n   </g>\r\n   <g id=\"matplotlib.axis_1\">\r\n    <g id=\"xtick_1\">\r\n     <g id=\"line2d_1\">\r\n      <defs>\r\n       <path d=\"M 0 0 \r\nL 0 3.5 \r\n\" id=\"mc90104f8e1\" style=\"stroke:#000000;stroke-width:0.8;\"/>\r\n      </defs>\r\n      <g>\r\n       <use style=\"stroke:#000000;stroke-width:0.8;\" x=\"95.468207\" xlink:href=\"#mc90104f8e1\" y=\"376.56\"/>\r\n      </g>\r\n     </g>\r\n     <g id=\"text_1\">\r\n      <!-- female -->\r\n      <g transform=\"translate(78.231488 391.158437)scale(0.1 -0.1)\">\r\n       <defs>\r\n        <path d=\"M 2375 4863 \r\nL 2375 4384 \r\nL 1825 4384 \r\nQ 1516 4384 1395 4259 \r\nQ 1275 4134 1275 3809 \r\nL 1275 3500 \r\nL 2222 3500 \r\nL 2222 3053 \r\nL 1275 3053 \r\nL 1275 0 \r\nL 697 0 \r\nL 697 3053 \r\nL 147 3053 \r\nL 147 3500 \r\nL 697 3500 \r\nL 697 3744 \r\nQ 697 4328 969 4595 \r\nQ 1241 4863 1831 4863 \r\nL 2375 4863 \r\nz\r\n\" id=\"DejaVuSans-66\" transform=\"scale(0.015625)\"/>\r\n        <path d=\"M 3597 1894 \r\nL 3597 1613 \r\nL 953 1613 \r\nQ 991 1019 1311 708 \r\nQ 1631 397 2203 397 \r\nQ 2534 397 2845 478 \r\nQ 3156 559 3463 722 \r\nL 3463 178 \r\nQ 3153 47 2828 -22 \r\nQ 2503 -91 2169 -91 \r\nQ 1331 -91 842 396 \r\nQ 353 884 353 1716 \r\nQ 353 2575 817 3079 \r\nQ 1281 3584 2069 3584 \r\nQ 2775 3584 3186 3129 \r\nQ 3597 2675 3597 1894 \r\nz\r\nM 3022 2063 \r\nQ 3016 2534 2758 2815 \r\nQ 2500 3097 2075 3097 \r\nQ 1594 3097 1305 2825 \r\nQ 1016 2553 972 2059 \r\nL 3022 2063 \r\nz\r\n\" id=\"DejaVuSans-65\" transform=\"scale(0.015625)\"/>\r\n        <path d=\"M 3328 2828 \r\nQ 3544 3216 3844 3400 \r\nQ 4144 3584 4550 3584 \r\nQ 5097 3584 5394 3201 \r\nQ 5691 2819 5691 2113 \r\nL 5691 0 \r\nL 5113 0 \r\nL 5113 2094 \r\nQ 5113 2597 4934 2840 \r\nQ 4756 3084 4391 3084 \r\nQ 3944 3084 3684 2787 \r\nQ 3425 2491 3425 1978 \r\nL 3425 0 \r\nL 2847 0 \r\nL 2847 2094 \r\nQ 2847 2600 2669 2842 \r\nQ 2491 3084 2119 3084 \r\nQ 1678 3084 1418 2786 \r\nQ 1159 2488 1159 1978 \r\nL 1159 0 \r\nL 581 0 \r\nL 581 3500 \r\nL 1159 3500 \r\nL 1159 2956 \r\nQ 1356 3278 1631 3431 \r\nQ 1906 3584 2284 3584 \r\nQ 2666 3584 2933 3390 \r\nQ 3200 3197 3328 2828 \r\nz\r\n\" id=\"DejaVuSans-6d\" transform=\"scale(0.015625)\"/>\r\n        <path d=\"M 2194 1759 \r\nQ 1497 1759 1228 1600 \r\nQ 959 1441 959 1056 \r\nQ 959 750 1161 570 \r\nQ 1363 391 1709 391 \r\nQ 2188 391 2477 730 \r\nQ 2766 1069 2766 1631 \r\nL 2766 1759 \r\nL 2194 1759 \r\nz\r\nM 3341 1997 \r\nL 3341 0 \r\nL 2766 0 \r\nL 2766 531 \r\nQ 2569 213 2275 61 \r\nQ 1981 -91 1556 -91 \r\nQ 1019 -91 701 211 \r\nQ 384 513 384 1019 \r\nQ 384 1609 779 1909 \r\nQ 1175 2209 1959 2209 \r\nL 2766 2209 \r\nL 2766 2266 \r\nQ 2766 2663 2505 2880 \r\nQ 2244 3097 1772 3097 \r\nQ 1472 3097 1187 3025 \r\nQ 903 2953 641 2809 \r\nL 641 3341 \r\nQ 956 3463 1253 3523 \r\nQ 1550 3584 1831 3584 \r\nQ 2591 3584 2966 3190 \r\nQ 3341 2797 3341 1997 \r\nz\r\n\" id=\"DejaVuSans-61\" transform=\"scale(0.015625)\"/>\r\n        <path d=\"M 603 4863 \r\nL 1178 4863 \r\nL 1178 0 \r\nL 603 0 \r\nL 603 4863 \r\nz\r\n\" id=\"DejaVuSans-6c\" transform=\"scale(0.015625)\"/>\r\n       </defs>\r\n       <use xlink:href=\"#DejaVuSans-66\"/>\r\n       <use x=\"35.205078\" xlink:href=\"#DejaVuSans-65\"/>\r\n       <use x=\"96.728516\" xlink:href=\"#DejaVuSans-6d\"/>\r\n       <use x=\"194.140625\" xlink:href=\"#DejaVuSans-61\"/>\r\n       <use x=\"255.419922\" xlink:href=\"#DejaVuSans-6c\"/>\r\n       <use x=\"283.203125\" xlink:href=\"#DejaVuSans-65\"/>\r\n      </g>\r\n     </g>\r\n    </g>\r\n    <g id=\"xtick_2\">\r\n     <g id=\"line2d_2\">\r\n      <g>\r\n       <use style=\"stroke:#000000;stroke-width:0.8;\" x=\"204.64212\" xlink:href=\"#mc90104f8e1\" y=\"376.56\"/>\r\n      </g>\r\n     </g>\r\n     <g id=\"text_2\">\r\n      <!-- male -->\r\n      <g transform=\"translate(192.24212 391.158437)scale(0.1 -0.1)\">\r\n       <use xlink:href=\"#DejaVuSans-6d\"/>\r\n       <use x=\"97.412109\" xlink:href=\"#DejaVuSans-61\"/>\r\n       <use x=\"158.691406\" xlink:href=\"#DejaVuSans-6c\"/>\r\n       <use x=\"186.474609\" xlink:href=\"#DejaVuSans-65\"/>\r\n      </g>\r\n     </g>\r\n    </g>\r\n    <g id=\"text_3\">\r\n     <!-- gender -->\r\n     <g transform=\"translate(132.329382 404.836562)scale(0.1 -0.1)\">\r\n      <defs>\r\n       <path d=\"M 2906 1791 \r\nQ 2906 2416 2648 2759 \r\nQ 2391 3103 1925 3103 \r\nQ 1463 3103 1205 2759 \r\nQ 947 2416 947 1791 \r\nQ 947 1169 1205 825 \r\nQ 1463 481 1925 481 \r\nQ 2391 481 2648 825 \r\nQ 2906 1169 2906 1791 \r\nz\r\nM 3481 434 \r\nQ 3481 -459 3084 -895 \r\nQ 2688 -1331 1869 -1331 \r\nQ 1566 -1331 1297 -1286 \r\nQ 1028 -1241 775 -1147 \r\nL 775 -588 \r\nQ 1028 -725 1275 -790 \r\nQ 1522 -856 1778 -856 \r\nQ 2344 -856 2625 -561 \r\nQ 2906 -266 2906 331 \r\nL 2906 616 \r\nQ 2728 306 2450 153 \r\nQ 2172 0 1784 0 \r\nQ 1141 0 747 490 \r\nQ 353 981 353 1791 \r\nQ 353 2603 747 3093 \r\nQ 1141 3584 1784 3584 \r\nQ 2172 3584 2450 3431 \r\nQ 2728 3278 2906 2969 \r\nL 2906 3500 \r\nL 3481 3500 \r\nL 3481 434 \r\nz\r\n\" id=\"DejaVuSans-67\" transform=\"scale(0.015625)\"/>\r\n       <path d=\"M 3513 2113 \r\nL 3513 0 \r\nL 2938 0 \r\nL 2938 2094 \r\nQ 2938 2591 2744 2837 \r\nQ 2550 3084 2163 3084 \r\nQ 1697 3084 1428 2787 \r\nQ 1159 2491 1159 1978 \r\nL 1159 0 \r\nL 581 0 \r\nL 581 3500 \r\nL 1159 3500 \r\nL 1159 2956 \r\nQ 1366 3272 1645 3428 \r\nQ 1925 3584 2291 3584 \r\nQ 2894 3584 3203 3211 \r\nQ 3513 2838 3513 2113 \r\nz\r\n\" id=\"DejaVuSans-6e\" transform=\"scale(0.015625)\"/>\r\n       <path d=\"M 2906 2969 \r\nL 2906 4863 \r\nL 3481 4863 \r\nL 3481 0 \r\nL 2906 0 \r\nL 2906 525 \r\nQ 2725 213 2448 61 \r\nQ 2172 -91 1784 -91 \r\nQ 1150 -91 751 415 \r\nQ 353 922 353 1747 \r\nQ 353 2572 751 3078 \r\nQ 1150 3584 1784 3584 \r\nQ 2172 3584 2448 3432 \r\nQ 2725 3281 2906 2969 \r\nz\r\nM 947 1747 \r\nQ 947 1113 1208 752 \r\nQ 1469 391 1925 391 \r\nQ 2381 391 2643 752 \r\nQ 2906 1113 2906 1747 \r\nQ 2906 2381 2643 2742 \r\nQ 2381 3103 1925 3103 \r\nQ 1469 3103 1208 2742 \r\nQ 947 2381 947 1747 \r\nz\r\n\" id=\"DejaVuSans-64\" transform=\"scale(0.015625)\"/>\r\n       <path d=\"M 2631 2963 \r\nQ 2534 3019 2420 3045 \r\nQ 2306 3072 2169 3072 \r\nQ 1681 3072 1420 2755 \r\nQ 1159 2438 1159 1844 \r\nL 1159 0 \r\nL 581 0 \r\nL 581 3500 \r\nL 1159 3500 \r\nL 1159 2956 \r\nQ 1341 3275 1631 3429 \r\nQ 1922 3584 2338 3584 \r\nQ 2397 3584 2469 3576 \r\nQ 2541 3569 2628 3553 \r\nL 2631 2963 \r\nz\r\n\" id=\"DejaVuSans-72\" transform=\"scale(0.015625)\"/>\r\n      </defs>\r\n      <use xlink:href=\"#DejaVuSans-67\"/>\r\n      <use x=\"63.476562\" xlink:href=\"#DejaVuSans-65\"/>\r\n      <use x=\"125\" xlink:href=\"#DejaVuSans-6e\"/>\r\n      <use x=\"188.378906\" xlink:href=\"#DejaVuSans-64\"/>\r\n      <use x=\"251.855469\" xlink:href=\"#DejaVuSans-65\"/>\r\n      <use x=\"313.378906\" xlink:href=\"#DejaVuSans-72\"/>\r\n     </g>\r\n    </g>\r\n   </g>\r\n   <g id=\"matplotlib.axis_2\">\r\n    <g id=\"ytick_1\">\r\n     <g id=\"line2d_3\">\r\n      <defs>\r\n       <path d=\"M 0 0 \r\nL -3.5 0 \r\n\" id=\"m8e2ff69f31\" style=\"stroke:#000000;stroke-width:0.8;\"/>\r\n      </defs>\r\n      <g>\r\n       <use style=\"stroke:#000000;stroke-width:0.8;\" x=\"40.88125\" xlink:href=\"#m8e2ff69f31\" y=\"376.56\"/>\r\n      </g>\r\n     </g>\r\n     <g id=\"text_4\">\r\n      <!-- 0 -->\r\n      <g transform=\"translate(27.51875 380.359219)scale(0.1 -0.1)\">\r\n       <defs>\r\n        <path d=\"M 2034 4250 \r\nQ 1547 4250 1301 3770 \r\nQ 1056 3291 1056 2328 \r\nQ 1056 1369 1301 889 \r\nQ 1547 409 2034 409 \r\nQ 2525 409 2770 889 \r\nQ 3016 1369 3016 2328 \r\nQ 3016 3291 2770 3770 \r\nQ 2525 4250 2034 4250 \r\nz\r\nM 2034 4750 \r\nQ 2819 4750 3233 4129 \r\nQ 3647 3509 3647 2328 \r\nQ 3647 1150 3233 529 \r\nQ 2819 -91 2034 -91 \r\nQ 1250 -91 836 529 \r\nQ 422 1150 422 2328 \r\nQ 422 3509 836 4129 \r\nQ 1250 4750 2034 4750 \r\nz\r\n\" id=\"DejaVuSans-30\" transform=\"scale(0.015625)\"/>\r\n       </defs>\r\n       <use xlink:href=\"#DejaVuSans-30\"/>\r\n      </g>\r\n     </g>\r\n    </g>\r\n    <g id=\"ytick_2\">\r\n     <g id=\"line2d_4\">\r\n      <g>\r\n       <use style=\"stroke:#000000;stroke-width:0.8;\" x=\"40.88125\" xlink:href=\"#m8e2ff69f31\" y=\"333.779588\"/>\r\n      </g>\r\n     </g>\r\n     <g id=\"text_5\">\r\n      <!-- 10 -->\r\n      <g transform=\"translate(21.15625 337.578807)scale(0.1 -0.1)\">\r\n       <defs>\r\n        <path d=\"M 794 531 \r\nL 1825 531 \r\nL 1825 4091 \r\nL 703 3866 \r\nL 703 4441 \r\nL 1819 4666 \r\nL 2450 4666 \r\nL 2450 531 \r\nL 3481 531 \r\nL 3481 0 \r\nL 794 0 \r\nL 794 531 \r\nz\r\n\" id=\"DejaVuSans-31\" transform=\"scale(0.015625)\"/>\r\n       </defs>\r\n       <use xlink:href=\"#DejaVuSans-31\"/>\r\n       <use x=\"63.623047\" xlink:href=\"#DejaVuSans-30\"/>\r\n      </g>\r\n     </g>\r\n    </g>\r\n    <g id=\"ytick_3\">\r\n     <g id=\"line2d_5\">\r\n      <g>\r\n       <use style=\"stroke:#000000;stroke-width:0.8;\" x=\"40.88125\" xlink:href=\"#m8e2ff69f31\" y=\"290.999176\"/>\r\n      </g>\r\n     </g>\r\n     <g id=\"text_6\">\r\n      <!-- 20 -->\r\n      <g transform=\"translate(21.15625 294.798395)scale(0.1 -0.1)\">\r\n       <defs>\r\n        <path d=\"M 1228 531 \r\nL 3431 531 \r\nL 3431 0 \r\nL 469 0 \r\nL 469 531 \r\nQ 828 903 1448 1529 \r\nQ 2069 2156 2228 2338 \r\nQ 2531 2678 2651 2914 \r\nQ 2772 3150 2772 3378 \r\nQ 2772 3750 2511 3984 \r\nQ 2250 4219 1831 4219 \r\nQ 1534 4219 1204 4116 \r\nQ 875 4013 500 3803 \r\nL 500 4441 \r\nQ 881 4594 1212 4672 \r\nQ 1544 4750 1819 4750 \r\nQ 2544 4750 2975 4387 \r\nQ 3406 4025 3406 3419 \r\nQ 3406 3131 3298 2873 \r\nQ 3191 2616 2906 2266 \r\nQ 2828 2175 2409 1742 \r\nQ 1991 1309 1228 531 \r\nz\r\n\" id=\"DejaVuSans-32\" transform=\"scale(0.015625)\"/>\r\n       </defs>\r\n       <use xlink:href=\"#DejaVuSans-32\"/>\r\n       <use x=\"63.623047\" xlink:href=\"#DejaVuSans-30\"/>\r\n      </g>\r\n     </g>\r\n    </g>\r\n    <g id=\"ytick_4\">\r\n     <g id=\"line2d_6\">\r\n      <g>\r\n       <use style=\"stroke:#000000;stroke-width:0.8;\" x=\"40.88125\" xlink:href=\"#m8e2ff69f31\" y=\"248.218764\"/>\r\n      </g>\r\n     </g>\r\n     <g id=\"text_7\">\r\n      <!-- 30 -->\r\n      <g transform=\"translate(21.15625 252.017983)scale(0.1 -0.1)\">\r\n       <defs>\r\n        <path d=\"M 2597 2516 \r\nQ 3050 2419 3304 2112 \r\nQ 3559 1806 3559 1356 \r\nQ 3559 666 3084 287 \r\nQ 2609 -91 1734 -91 \r\nQ 1441 -91 1130 -33 \r\nQ 819 25 488 141 \r\nL 488 750 \r\nQ 750 597 1062 519 \r\nQ 1375 441 1716 441 \r\nQ 2309 441 2620 675 \r\nQ 2931 909 2931 1356 \r\nQ 2931 1769 2642 2001 \r\nQ 2353 2234 1838 2234 \r\nL 1294 2234 \r\nL 1294 2753 \r\nL 1863 2753 \r\nQ 2328 2753 2575 2939 \r\nQ 2822 3125 2822 3475 \r\nQ 2822 3834 2567 4026 \r\nQ 2313 4219 1838 4219 \r\nQ 1578 4219 1281 4162 \r\nQ 984 4106 628 3988 \r\nL 628 4550 \r\nQ 988 4650 1302 4700 \r\nQ 1616 4750 1894 4750 \r\nQ 2613 4750 3031 4423 \r\nQ 3450 4097 3450 3541 \r\nQ 3450 3153 3228 2886 \r\nQ 3006 2619 2597 2516 \r\nz\r\n\" id=\"DejaVuSans-33\" transform=\"scale(0.015625)\"/>\r\n       </defs>\r\n       <use xlink:href=\"#DejaVuSans-33\"/>\r\n       <use x=\"63.623047\" xlink:href=\"#DejaVuSans-30\"/>\r\n      </g>\r\n     </g>\r\n    </g>\r\n    <g id=\"ytick_5\">\r\n     <g id=\"line2d_7\">\r\n      <g>\r\n       <use style=\"stroke:#000000;stroke-width:0.8;\" x=\"40.88125\" xlink:href=\"#m8e2ff69f31\" y=\"205.438352\"/>\r\n      </g>\r\n     </g>\r\n     <g id=\"text_8\">\r\n      <!-- 40 -->\r\n      <g transform=\"translate(21.15625 209.237571)scale(0.1 -0.1)\">\r\n       <defs>\r\n        <path d=\"M 2419 4116 \r\nL 825 1625 \r\nL 2419 1625 \r\nL 2419 4116 \r\nz\r\nM 2253 4666 \r\nL 3047 4666 \r\nL 3047 1625 \r\nL 3713 1625 \r\nL 3713 1100 \r\nL 3047 1100 \r\nL 3047 0 \r\nL 2419 0 \r\nL 2419 1100 \r\nL 313 1100 \r\nL 313 1709 \r\nL 2253 4666 \r\nz\r\n\" id=\"DejaVuSans-34\" transform=\"scale(0.015625)\"/>\r\n       </defs>\r\n       <use xlink:href=\"#DejaVuSans-34\"/>\r\n       <use x=\"63.623047\" xlink:href=\"#DejaVuSans-30\"/>\r\n      </g>\r\n     </g>\r\n    </g>\r\n    <g id=\"ytick_6\">\r\n     <g id=\"line2d_8\">\r\n      <g>\r\n       <use style=\"stroke:#000000;stroke-width:0.8;\" x=\"40.88125\" xlink:href=\"#m8e2ff69f31\" y=\"162.65794\"/>\r\n      </g>\r\n     </g>\r\n     <g id=\"text_9\">\r\n      <!-- 50 -->\r\n      <g transform=\"translate(21.15625 166.457159)scale(0.1 -0.1)\">\r\n       <defs>\r\n        <path d=\"M 691 4666 \r\nL 3169 4666 \r\nL 3169 4134 \r\nL 1269 4134 \r\nL 1269 2991 \r\nQ 1406 3038 1543 3061 \r\nQ 1681 3084 1819 3084 \r\nQ 2600 3084 3056 2656 \r\nQ 3513 2228 3513 1497 \r\nQ 3513 744 3044 326 \r\nQ 2575 -91 1722 -91 \r\nQ 1428 -91 1123 -41 \r\nQ 819 9 494 109 \r\nL 494 744 \r\nQ 775 591 1075 516 \r\nQ 1375 441 1709 441 \r\nQ 2250 441 2565 725 \r\nQ 2881 1009 2881 1497 \r\nQ 2881 1984 2565 2268 \r\nQ 2250 2553 1709 2553 \r\nQ 1456 2553 1204 2497 \r\nQ 953 2441 691 2322 \r\nL 691 4666 \r\nz\r\n\" id=\"DejaVuSans-35\" transform=\"scale(0.015625)\"/>\r\n       </defs>\r\n       <use xlink:href=\"#DejaVuSans-35\"/>\r\n       <use x=\"63.623047\" xlink:href=\"#DejaVuSans-30\"/>\r\n      </g>\r\n     </g>\r\n    </g>\r\n    <g id=\"ytick_7\">\r\n     <g id=\"line2d_9\">\r\n      <g>\r\n       <use style=\"stroke:#000000;stroke-width:0.8;\" x=\"40.88125\" xlink:href=\"#m8e2ff69f31\" y=\"119.877528\"/>\r\n      </g>\r\n     </g>\r\n     <g id=\"text_10\">\r\n      <!-- 60 -->\r\n      <g transform=\"translate(21.15625 123.676747)scale(0.1 -0.1)\">\r\n       <defs>\r\n        <path d=\"M 2113 2584 \r\nQ 1688 2584 1439 2293 \r\nQ 1191 2003 1191 1497 \r\nQ 1191 994 1439 701 \r\nQ 1688 409 2113 409 \r\nQ 2538 409 2786 701 \r\nQ 3034 994 3034 1497 \r\nQ 3034 2003 2786 2293 \r\nQ 2538 2584 2113 2584 \r\nz\r\nM 3366 4563 \r\nL 3366 3988 \r\nQ 3128 4100 2886 4159 \r\nQ 2644 4219 2406 4219 \r\nQ 1781 4219 1451 3797 \r\nQ 1122 3375 1075 2522 \r\nQ 1259 2794 1537 2939 \r\nQ 1816 3084 2150 3084 \r\nQ 2853 3084 3261 2657 \r\nQ 3669 2231 3669 1497 \r\nQ 3669 778 3244 343 \r\nQ 2819 -91 2113 -91 \r\nQ 1303 -91 875 529 \r\nQ 447 1150 447 2328 \r\nQ 447 3434 972 4092 \r\nQ 1497 4750 2381 4750 \r\nQ 2619 4750 2861 4703 \r\nQ 3103 4656 3366 4563 \r\nz\r\n\" id=\"DejaVuSans-36\" transform=\"scale(0.015625)\"/>\r\n       </defs>\r\n       <use xlink:href=\"#DejaVuSans-36\"/>\r\n       <use x=\"63.623047\" xlink:href=\"#DejaVuSans-30\"/>\r\n      </g>\r\n     </g>\r\n    </g>\r\n    <g id=\"ytick_8\">\r\n     <g id=\"line2d_10\">\r\n      <g>\r\n       <use style=\"stroke:#000000;stroke-width:0.8;\" x=\"40.88125\" xlink:href=\"#m8e2ff69f31\" y=\"77.097116\"/>\r\n      </g>\r\n     </g>\r\n     <g id=\"text_11\">\r\n      <!-- 70 -->\r\n      <g transform=\"translate(21.15625 80.896335)scale(0.1 -0.1)\">\r\n       <defs>\r\n        <path d=\"M 525 4666 \r\nL 3525 4666 \r\nL 3525 4397 \r\nL 1831 0 \r\nL 1172 0 \r\nL 2766 4134 \r\nL 525 4134 \r\nL 525 4666 \r\nz\r\n\" id=\"DejaVuSans-37\" transform=\"scale(0.015625)\"/>\r\n       </defs>\r\n       <use xlink:href=\"#DejaVuSans-37\"/>\r\n       <use x=\"63.623047\" xlink:href=\"#DejaVuSans-30\"/>\r\n      </g>\r\n     </g>\r\n    </g>\r\n    <g id=\"text_12\">\r\n     <!-- math_score -->\r\n     <g transform=\"translate(14.798438 242.476094)rotate(-90)scale(0.1 -0.1)\">\r\n      <defs>\r\n       <path d=\"M 1172 4494 \r\nL 1172 3500 \r\nL 2356 3500 \r\nL 2356 3053 \r\nL 1172 3053 \r\nL 1172 1153 \r\nQ 1172 725 1289 603 \r\nQ 1406 481 1766 481 \r\nL 2356 481 \r\nL 2356 0 \r\nL 1766 0 \r\nQ 1100 0 847 248 \r\nQ 594 497 594 1153 \r\nL 594 3053 \r\nL 172 3053 \r\nL 172 3500 \r\nL 594 3500 \r\nL 594 4494 \r\nL 1172 4494 \r\nz\r\n\" id=\"DejaVuSans-74\" transform=\"scale(0.015625)\"/>\r\n       <path d=\"M 3513 2113 \r\nL 3513 0 \r\nL 2938 0 \r\nL 2938 2094 \r\nQ 2938 2591 2744 2837 \r\nQ 2550 3084 2163 3084 \r\nQ 1697 3084 1428 2787 \r\nQ 1159 2491 1159 1978 \r\nL 1159 0 \r\nL 581 0 \r\nL 581 4863 \r\nL 1159 4863 \r\nL 1159 2956 \r\nQ 1366 3272 1645 3428 \r\nQ 1925 3584 2291 3584 \r\nQ 2894 3584 3203 3211 \r\nQ 3513 2838 3513 2113 \r\nz\r\n\" id=\"DejaVuSans-68\" transform=\"scale(0.015625)\"/>\r\n       <path d=\"M 3263 -1063 \r\nL 3263 -1509 \r\nL -63 -1509 \r\nL -63 -1063 \r\nL 3263 -1063 \r\nz\r\n\" id=\"DejaVuSans-5f\" transform=\"scale(0.015625)\"/>\r\n       <path d=\"M 2834 3397 \r\nL 2834 2853 \r\nQ 2591 2978 2328 3040 \r\nQ 2066 3103 1784 3103 \r\nQ 1356 3103 1142 2972 \r\nQ 928 2841 928 2578 \r\nQ 928 2378 1081 2264 \r\nQ 1234 2150 1697 2047 \r\nL 1894 2003 \r\nQ 2506 1872 2764 1633 \r\nQ 3022 1394 3022 966 \r\nQ 3022 478 2636 193 \r\nQ 2250 -91 1575 -91 \r\nQ 1294 -91 989 -36 \r\nQ 684 19 347 128 \r\nL 347 722 \r\nQ 666 556 975 473 \r\nQ 1284 391 1588 391 \r\nQ 1994 391 2212 530 \r\nQ 2431 669 2431 922 \r\nQ 2431 1156 2273 1281 \r\nQ 2116 1406 1581 1522 \r\nL 1381 1569 \r\nQ 847 1681 609 1914 \r\nQ 372 2147 372 2553 \r\nQ 372 3047 722 3315 \r\nQ 1072 3584 1716 3584 \r\nQ 2034 3584 2315 3537 \r\nQ 2597 3491 2834 3397 \r\nz\r\n\" id=\"DejaVuSans-73\" transform=\"scale(0.015625)\"/>\r\n       <path d=\"M 3122 3366 \r\nL 3122 2828 \r\nQ 2878 2963 2633 3030 \r\nQ 2388 3097 2138 3097 \r\nQ 1578 3097 1268 2742 \r\nQ 959 2388 959 1747 \r\nQ 959 1106 1268 751 \r\nQ 1578 397 2138 397 \r\nQ 2388 397 2633 464 \r\nQ 2878 531 3122 666 \r\nL 3122 134 \r\nQ 2881 22 2623 -34 \r\nQ 2366 -91 2075 -91 \r\nQ 1284 -91 818 406 \r\nQ 353 903 353 1747 \r\nQ 353 2603 823 3093 \r\nQ 1294 3584 2113 3584 \r\nQ 2378 3584 2631 3529 \r\nQ 2884 3475 3122 3366 \r\nz\r\n\" id=\"DejaVuSans-63\" transform=\"scale(0.015625)\"/>\r\n       <path d=\"M 1959 3097 \r\nQ 1497 3097 1228 2736 \r\nQ 959 2375 959 1747 \r\nQ 959 1119 1226 758 \r\nQ 1494 397 1959 397 \r\nQ 2419 397 2687 759 \r\nQ 2956 1122 2956 1747 \r\nQ 2956 2369 2687 2733 \r\nQ 2419 3097 1959 3097 \r\nz\r\nM 1959 3584 \r\nQ 2709 3584 3137 3096 \r\nQ 3566 2609 3566 1747 \r\nQ 3566 888 3137 398 \r\nQ 2709 -91 1959 -91 \r\nQ 1206 -91 779 398 \r\nQ 353 888 353 1747 \r\nQ 353 2609 779 3096 \r\nQ 1206 3584 1959 3584 \r\nz\r\n\" id=\"DejaVuSans-6f\" transform=\"scale(0.015625)\"/>\r\n      </defs>\r\n      <use xlink:href=\"#DejaVuSans-6d\"/>\r\n      <use x=\"97.412109\" xlink:href=\"#DejaVuSans-61\"/>\r\n      <use x=\"158.691406\" xlink:href=\"#DejaVuSans-74\"/>\r\n      <use x=\"197.900391\" xlink:href=\"#DejaVuSans-68\"/>\r\n      <use x=\"261.279297\" xlink:href=\"#DejaVuSans-5f\"/>\r\n      <use x=\"311.279297\" xlink:href=\"#DejaVuSans-73\"/>\r\n      <use x=\"363.378906\" xlink:href=\"#DejaVuSans-63\"/>\r\n      <use x=\"418.359375\" xlink:href=\"#DejaVuSans-6f\"/>\r\n      <use x=\"479.541016\" xlink:href=\"#DejaVuSans-72\"/>\r\n      <use x=\"518.404297\" xlink:href=\"#DejaVuSans-65\"/>\r\n     </g>\r\n    </g>\r\n   </g>\r\n   <g id=\"line2d_11\">\r\n    <path clip-path=\"url(#p36cfd20677)\" style=\"fill:none;stroke:#424242;stroke-linecap:square;stroke-width:2.7;\"/>\r\n   </g>\r\n   <g id=\"line2d_12\">\r\n    <path clip-path=\"url(#p36cfd20677)\" style=\"fill:none;stroke:#424242;stroke-linecap:square;stroke-width:2.7;\"/>\r\n   </g>\r\n   <g id=\"patch_5\">\r\n    <path d=\"M 40.88125 376.56 \r\nL 40.88125 50.4 \r\n\" style=\"fill:none;stroke:#000000;stroke-linecap:square;stroke-linejoin:miter;stroke-width:0.8;\"/>\r\n   </g>\r\n   <g id=\"patch_6\">\r\n    <path d=\"M 259.229076 376.56 \r\nL 259.229076 50.4 \r\n\" style=\"fill:none;stroke:#000000;stroke-linecap:square;stroke-linejoin:miter;stroke-width:0.8;\"/>\r\n   </g>\r\n   <g id=\"patch_7\">\r\n    <path d=\"M 40.88125 376.56 \r\nL 259.229076 376.56 \r\n\" style=\"fill:none;stroke:#000000;stroke-linecap:square;stroke-linejoin:miter;stroke-width:0.8;\"/>\r\n   </g>\r\n   <g id=\"patch_8\">\r\n    <path d=\"M 40.88125 50.4 \r\nL 259.229076 50.4 \r\n\" style=\"fill:none;stroke:#000000;stroke-linecap:square;stroke-linejoin:miter;stroke-width:0.8;\"/>\r\n   </g>\r\n   <g id=\"text_13\">\r\n    <!-- Math Score -->\r\n    <g transform=\"translate(116.337038 44.4)scale(0.12 -0.12)\">\r\n     <defs>\r\n      <path d=\"M 628 4666 \r\nL 1569 4666 \r\nL 2759 1491 \r\nL 3956 4666 \r\nL 4897 4666 \r\nL 4897 0 \r\nL 4281 0 \r\nL 4281 4097 \r\nL 3078 897 \r\nL 2444 897 \r\nL 1241 4097 \r\nL 1241 0 \r\nL 628 0 \r\nL 628 4666 \r\nz\r\n\" id=\"DejaVuSans-4d\" transform=\"scale(0.015625)\"/>\r\n      <path id=\"DejaVuSans-20\" transform=\"scale(0.015625)\"/>\r\n      <path d=\"M 3425 4513 \r\nL 3425 3897 \r\nQ 3066 4069 2747 4153 \r\nQ 2428 4238 2131 4238 \r\nQ 1616 4238 1336 4038 \r\nQ 1056 3838 1056 3469 \r\nQ 1056 3159 1242 3001 \r\nQ 1428 2844 1947 2747 \r\nL 2328 2669 \r\nQ 3034 2534 3370 2195 \r\nQ 3706 1856 3706 1288 \r\nQ 3706 609 3251 259 \r\nQ 2797 -91 1919 -91 \r\nQ 1588 -91 1214 -16 \r\nQ 841 59 441 206 \r\nL 441 856 \r\nQ 825 641 1194 531 \r\nQ 1563 422 1919 422 \r\nQ 2459 422 2753 634 \r\nQ 3047 847 3047 1241 \r\nQ 3047 1584 2836 1778 \r\nQ 2625 1972 2144 2069 \r\nL 1759 2144 \r\nQ 1053 2284 737 2584 \r\nQ 422 2884 422 3419 \r\nQ 422 4038 858 4394 \r\nQ 1294 4750 2059 4750 \r\nQ 2388 4750 2728 4690 \r\nQ 3069 4631 3425 4513 \r\nz\r\n\" id=\"DejaVuSans-53\" transform=\"scale(0.015625)\"/>\r\n     </defs>\r\n     <use xlink:href=\"#DejaVuSans-4d\"/>\r\n     <use x=\"86.279297\" xlink:href=\"#DejaVuSans-61\"/>\r\n     <use x=\"147.558594\" xlink:href=\"#DejaVuSans-74\"/>\r\n     <use x=\"186.767578\" xlink:href=\"#DejaVuSans-68\"/>\r\n     <use x=\"250.146484\" xlink:href=\"#DejaVuSans-20\"/>\r\n     <use x=\"281.933594\" xlink:href=\"#DejaVuSans-53\"/>\r\n     <use x=\"345.410156\" xlink:href=\"#DejaVuSans-63\"/>\r\n     <use x=\"400.390625\" xlink:href=\"#DejaVuSans-6f\"/>\r\n     <use x=\"461.572266\" xlink:href=\"#DejaVuSans-72\"/>\r\n     <use x=\"500.435547\" xlink:href=\"#DejaVuSans-65\"/>\r\n    </g>\r\n   </g>\r\n  </g>\r\n  <g id=\"axes_2\">\r\n   <g id=\"patch_9\">\r\n    <path d=\"M 302.898641 376.56 \r\nL 521.246467 376.56 \r\nL 521.246467 50.4 \r\nL 302.898641 50.4 \r\nz\r\n\" style=\"fill:#ffffff;\"/>\r\n   </g>\r\n   <g id=\"patch_10\">\r\n    <path clip-path=\"url(#p78c5fba2d2)\" d=\"M 313.816033 376.56 \r\nL 401.155163 376.56 \r\nL 401.155163 65.931429 \r\nL 313.816033 65.931429 \r\nz\r\n\" style=\"fill:#abc9ea;\"/>\r\n   </g>\r\n   <g id=\"patch_11\">\r\n    <path clip-path=\"url(#p78c5fba2d2)\" d=\"M 422.989946 376.56 \r\nL 510.329076 376.56 \r\nL 510.329076 96.476643 \r\nL 422.989946 96.476643 \r\nz\r\n\" style=\"fill:#efb792;\"/>\r\n   </g>\r\n   <g id=\"matplotlib.axis_3\">\r\n    <g id=\"xtick_3\">\r\n     <g id=\"line2d_13\">\r\n      <g>\r\n       <use style=\"stroke:#000000;stroke-width:0.8;\" x=\"357.485598\" xlink:href=\"#mc90104f8e1\" y=\"376.56\"/>\r\n      </g>\r\n     </g>\r\n     <g id=\"text_14\">\r\n      <!-- female -->\r\n      <g transform=\"translate(340.248879 391.158437)scale(0.1 -0.1)\">\r\n       <use xlink:href=\"#DejaVuSans-66\"/>\r\n       <use x=\"35.205078\" xlink:href=\"#DejaVuSans-65\"/>\r\n       <use x=\"96.728516\" xlink:href=\"#DejaVuSans-6d\"/>\r\n       <use x=\"194.140625\" xlink:href=\"#DejaVuSans-61\"/>\r\n       <use x=\"255.419922\" xlink:href=\"#DejaVuSans-6c\"/>\r\n       <use x=\"283.203125\" xlink:href=\"#DejaVuSans-65\"/>\r\n      </g>\r\n     </g>\r\n    </g>\r\n    <g id=\"xtick_4\">\r\n     <g id=\"line2d_14\">\r\n      <g>\r\n       <use style=\"stroke:#000000;stroke-width:0.8;\" x=\"466.659511\" xlink:href=\"#mc90104f8e1\" y=\"376.56\"/>\r\n      </g>\r\n     </g>\r\n     <g id=\"text_15\">\r\n      <!-- male -->\r\n      <g transform=\"translate(454.259511 391.158437)scale(0.1 -0.1)\">\r\n       <use xlink:href=\"#DejaVuSans-6d\"/>\r\n       <use x=\"97.412109\" xlink:href=\"#DejaVuSans-61\"/>\r\n       <use x=\"158.691406\" xlink:href=\"#DejaVuSans-6c\"/>\r\n       <use x=\"186.474609\" xlink:href=\"#DejaVuSans-65\"/>\r\n      </g>\r\n     </g>\r\n    </g>\r\n    <g id=\"text_16\">\r\n     <!-- gender -->\r\n     <g transform=\"translate(394.346773 404.836562)scale(0.1 -0.1)\">\r\n      <use xlink:href=\"#DejaVuSans-67\"/>\r\n      <use x=\"63.476562\" xlink:href=\"#DejaVuSans-65\"/>\r\n      <use x=\"125\" xlink:href=\"#DejaVuSans-6e\"/>\r\n      <use x=\"188.378906\" xlink:href=\"#DejaVuSans-64\"/>\r\n      <use x=\"251.855469\" xlink:href=\"#DejaVuSans-65\"/>\r\n      <use x=\"313.378906\" xlink:href=\"#DejaVuSans-72\"/>\r\n     </g>\r\n    </g>\r\n   </g>\r\n   <g id=\"matplotlib.axis_4\">\r\n    <g id=\"ytick_9\">\r\n     <g id=\"line2d_15\">\r\n      <g>\r\n       <use style=\"stroke:#000000;stroke-width:0.8;\" x=\"302.898641\" xlink:href=\"#m8e2ff69f31\" y=\"376.56\"/>\r\n      </g>\r\n     </g>\r\n    </g>\r\n    <g id=\"ytick_10\">\r\n     <g id=\"line2d_16\">\r\n      <g>\r\n       <use style=\"stroke:#000000;stroke-width:0.8;\" x=\"302.898641\" xlink:href=\"#m8e2ff69f31\" y=\"333.779588\"/>\r\n      </g>\r\n     </g>\r\n    </g>\r\n    <g id=\"ytick_11\">\r\n     <g id=\"line2d_17\">\r\n      <g>\r\n       <use style=\"stroke:#000000;stroke-width:0.8;\" x=\"302.898641\" xlink:href=\"#m8e2ff69f31\" y=\"290.999176\"/>\r\n      </g>\r\n     </g>\r\n    </g>\r\n    <g id=\"ytick_12\">\r\n     <g id=\"line2d_18\">\r\n      <g>\r\n       <use style=\"stroke:#000000;stroke-width:0.8;\" x=\"302.898641\" xlink:href=\"#m8e2ff69f31\" y=\"248.218764\"/>\r\n      </g>\r\n     </g>\r\n    </g>\r\n    <g id=\"ytick_13\">\r\n     <g id=\"line2d_19\">\r\n      <g>\r\n       <use style=\"stroke:#000000;stroke-width:0.8;\" x=\"302.898641\" xlink:href=\"#m8e2ff69f31\" y=\"205.438352\"/>\r\n      </g>\r\n     </g>\r\n    </g>\r\n    <g id=\"ytick_14\">\r\n     <g id=\"line2d_20\">\r\n      <g>\r\n       <use style=\"stroke:#000000;stroke-width:0.8;\" x=\"302.898641\" xlink:href=\"#m8e2ff69f31\" y=\"162.65794\"/>\r\n      </g>\r\n     </g>\r\n    </g>\r\n    <g id=\"ytick_15\">\r\n     <g id=\"line2d_21\">\r\n      <g>\r\n       <use style=\"stroke:#000000;stroke-width:0.8;\" x=\"302.898641\" xlink:href=\"#m8e2ff69f31\" y=\"119.877528\"/>\r\n      </g>\r\n     </g>\r\n    </g>\r\n    <g id=\"ytick_16\">\r\n     <g id=\"line2d_22\">\r\n      <g>\r\n       <use style=\"stroke:#000000;stroke-width:0.8;\" x=\"302.898641\" xlink:href=\"#m8e2ff69f31\" y=\"77.097116\"/>\r\n      </g>\r\n     </g>\r\n    </g>\r\n    <g id=\"text_17\">\r\n     <!-- read_score -->\r\n     <g transform=\"translate(296.540829 240.670625)rotate(-90)scale(0.1 -0.1)\">\r\n      <use xlink:href=\"#DejaVuSans-72\"/>\r\n      <use x=\"38.863281\" xlink:href=\"#DejaVuSans-65\"/>\r\n      <use x=\"100.386719\" xlink:href=\"#DejaVuSans-61\"/>\r\n      <use x=\"161.666016\" xlink:href=\"#DejaVuSans-64\"/>\r\n      <use x=\"225.142578\" xlink:href=\"#DejaVuSans-5f\"/>\r\n      <use x=\"275.142578\" xlink:href=\"#DejaVuSans-73\"/>\r\n      <use x=\"327.242188\" xlink:href=\"#DejaVuSans-63\"/>\r\n      <use x=\"382.222656\" xlink:href=\"#DejaVuSans-6f\"/>\r\n      <use x=\"443.404297\" xlink:href=\"#DejaVuSans-72\"/>\r\n      <use x=\"482.267578\" xlink:href=\"#DejaVuSans-65\"/>\r\n     </g>\r\n    </g>\r\n   </g>\r\n   <g id=\"line2d_23\">\r\n    <path clip-path=\"url(#p78c5fba2d2)\" style=\"fill:none;stroke:#424242;stroke-linecap:square;stroke-width:2.7;\"/>\r\n   </g>\r\n   <g id=\"line2d_24\">\r\n    <path clip-path=\"url(#p78c5fba2d2)\" style=\"fill:none;stroke:#424242;stroke-linecap:square;stroke-width:2.7;\"/>\r\n   </g>\r\n   <g id=\"patch_12\">\r\n    <path d=\"M 302.898641 376.56 \r\nL 302.898641 50.4 \r\n\" style=\"fill:none;stroke:#000000;stroke-linecap:square;stroke-linejoin:miter;stroke-width:0.8;\"/>\r\n   </g>\r\n   <g id=\"patch_13\">\r\n    <path d=\"M 521.246467 376.56 \r\nL 521.246467 50.4 \r\n\" style=\"fill:none;stroke:#000000;stroke-linecap:square;stroke-linejoin:miter;stroke-width:0.8;\"/>\r\n   </g>\r\n   <g id=\"patch_14\">\r\n    <path d=\"M 302.898641 376.56 \r\nL 521.246467 376.56 \r\n\" style=\"fill:none;stroke:#000000;stroke-linecap:square;stroke-linejoin:miter;stroke-width:0.8;\"/>\r\n   </g>\r\n   <g id=\"patch_15\">\r\n    <path d=\"M 302.898641 50.4 \r\nL 521.246467 50.4 \r\n\" style=\"fill:none;stroke:#000000;stroke-linecap:square;stroke-linejoin:miter;stroke-width:0.8;\"/>\r\n   </g>\r\n   <g id=\"text_18\">\r\n    <!-- Reading Score -->\r\n    <g transform=\"translate(369.007554 44.4)scale(0.12 -0.12)\">\r\n     <defs>\r\n      <path d=\"M 2841 2188 \r\nQ 3044 2119 3236 1894 \r\nQ 3428 1669 3622 1275 \r\nL 4263 0 \r\nL 3584 0 \r\nL 2988 1197 \r\nQ 2756 1666 2539 1819 \r\nQ 2322 1972 1947 1972 \r\nL 1259 1972 \r\nL 1259 0 \r\nL 628 0 \r\nL 628 4666 \r\nL 2053 4666 \r\nQ 2853 4666 3247 4331 \r\nQ 3641 3997 3641 3322 \r\nQ 3641 2881 3436 2590 \r\nQ 3231 2300 2841 2188 \r\nz\r\nM 1259 4147 \r\nL 1259 2491 \r\nL 2053 2491 \r\nQ 2509 2491 2742 2702 \r\nQ 2975 2913 2975 3322 \r\nQ 2975 3731 2742 3939 \r\nQ 2509 4147 2053 4147 \r\nL 1259 4147 \r\nz\r\n\" id=\"DejaVuSans-52\" transform=\"scale(0.015625)\"/>\r\n      <path d=\"M 603 3500 \r\nL 1178 3500 \r\nL 1178 0 \r\nL 603 0 \r\nL 603 3500 \r\nz\r\nM 603 4863 \r\nL 1178 4863 \r\nL 1178 4134 \r\nL 603 4134 \r\nL 603 4863 \r\nz\r\n\" id=\"DejaVuSans-69\" transform=\"scale(0.015625)\"/>\r\n     </defs>\r\n     <use xlink:href=\"#DejaVuSans-52\"/>\r\n     <use x=\"64.982422\" xlink:href=\"#DejaVuSans-65\"/>\r\n     <use x=\"126.505859\" xlink:href=\"#DejaVuSans-61\"/>\r\n     <use x=\"187.785156\" xlink:href=\"#DejaVuSans-64\"/>\r\n     <use x=\"251.261719\" xlink:href=\"#DejaVuSans-69\"/>\r\n     <use x=\"279.044922\" xlink:href=\"#DejaVuSans-6e\"/>\r\n     <use x=\"342.423828\" xlink:href=\"#DejaVuSans-67\"/>\r\n     <use x=\"405.900391\" xlink:href=\"#DejaVuSans-20\"/>\r\n     <use x=\"437.6875\" xlink:href=\"#DejaVuSans-53\"/>\r\n     <use x=\"501.164062\" xlink:href=\"#DejaVuSans-63\"/>\r\n     <use x=\"556.144531\" xlink:href=\"#DejaVuSans-6f\"/>\r\n     <use x=\"617.326172\" xlink:href=\"#DejaVuSans-72\"/>\r\n     <use x=\"656.189453\" xlink:href=\"#DejaVuSans-65\"/>\r\n    </g>\r\n   </g>\r\n  </g>\r\n  <g id=\"axes_3\">\r\n   <g id=\"patch_16\">\r\n    <path d=\"M 564.916033 376.56 \r\nL 783.263859 376.56 \r\nL 783.263859 50.4 \r\nL 564.916033 50.4 \r\nz\r\n\" style=\"fill:#ffffff;\"/>\r\n   </g>\r\n   <g id=\"patch_17\">\r\n    <path clip-path=\"url(#pd4edf61329)\" d=\"M 575.833424 376.56 \r\nL 663.172554 376.56 \r\nL 663.172554 66.530354 \r\nL 575.833424 66.530354 \r\nz\r\n\" style=\"fill:#abc9ea;\"/>\r\n   </g>\r\n   <g id=\"patch_18\">\r\n    <path clip-path=\"url(#pd4edf61329)\" d=\"M 685.007337 376.56 \r\nL 772.346467 376.56 \r\nL 772.346467 105.717212 \r\nL 685.007337 105.717212 \r\nz\r\n\" style=\"fill:#efb792;\"/>\r\n   </g>\r\n   <g id=\"matplotlib.axis_5\">\r\n    <g id=\"xtick_5\">\r\n     <g id=\"line2d_25\">\r\n      <g>\r\n       <use style=\"stroke:#000000;stroke-width:0.8;\" x=\"619.502989\" xlink:href=\"#mc90104f8e1\" y=\"376.56\"/>\r\n      </g>\r\n     </g>\r\n     <g id=\"text_19\">\r\n      <!-- female -->\r\n      <g transform=\"translate(602.26627 391.158437)scale(0.1 -0.1)\">\r\n       <use xlink:href=\"#DejaVuSans-66\"/>\r\n       <use x=\"35.205078\" xlink:href=\"#DejaVuSans-65\"/>\r\n       <use x=\"96.728516\" xlink:href=\"#DejaVuSans-6d\"/>\r\n       <use x=\"194.140625\" xlink:href=\"#DejaVuSans-61\"/>\r\n       <use x=\"255.419922\" xlink:href=\"#DejaVuSans-6c\"/>\r\n       <use x=\"283.203125\" xlink:href=\"#DejaVuSans-65\"/>\r\n      </g>\r\n     </g>\r\n    </g>\r\n    <g id=\"xtick_6\">\r\n     <g id=\"line2d_26\">\r\n      <g>\r\n       <use style=\"stroke:#000000;stroke-width:0.8;\" x=\"728.676902\" xlink:href=\"#mc90104f8e1\" y=\"376.56\"/>\r\n      </g>\r\n     </g>\r\n     <g id=\"text_20\">\r\n      <!-- male -->\r\n      <g transform=\"translate(716.276902 391.158437)scale(0.1 -0.1)\">\r\n       <use xlink:href=\"#DejaVuSans-6d\"/>\r\n       <use x=\"97.412109\" xlink:href=\"#DejaVuSans-61\"/>\r\n       <use x=\"158.691406\" xlink:href=\"#DejaVuSans-6c\"/>\r\n       <use x=\"186.474609\" xlink:href=\"#DejaVuSans-65\"/>\r\n      </g>\r\n     </g>\r\n    </g>\r\n    <g id=\"text_21\">\r\n     <!-- gender -->\r\n     <g transform=\"translate(656.364164 404.836562)scale(0.1 -0.1)\">\r\n      <use xlink:href=\"#DejaVuSans-67\"/>\r\n      <use x=\"63.476562\" xlink:href=\"#DejaVuSans-65\"/>\r\n      <use x=\"125\" xlink:href=\"#DejaVuSans-6e\"/>\r\n      <use x=\"188.378906\" xlink:href=\"#DejaVuSans-64\"/>\r\n      <use x=\"251.855469\" xlink:href=\"#DejaVuSans-65\"/>\r\n      <use x=\"313.378906\" xlink:href=\"#DejaVuSans-72\"/>\r\n     </g>\r\n    </g>\r\n   </g>\r\n   <g id=\"matplotlib.axis_6\">\r\n    <g id=\"ytick_17\">\r\n     <g id=\"line2d_27\">\r\n      <g>\r\n       <use style=\"stroke:#000000;stroke-width:0.8;\" x=\"564.916033\" xlink:href=\"#m8e2ff69f31\" y=\"376.56\"/>\r\n      </g>\r\n     </g>\r\n    </g>\r\n    <g id=\"ytick_18\">\r\n     <g id=\"line2d_28\">\r\n      <g>\r\n       <use style=\"stroke:#000000;stroke-width:0.8;\" x=\"564.916033\" xlink:href=\"#m8e2ff69f31\" y=\"333.779588\"/>\r\n      </g>\r\n     </g>\r\n    </g>\r\n    <g id=\"ytick_19\">\r\n     <g id=\"line2d_29\">\r\n      <g>\r\n       <use style=\"stroke:#000000;stroke-width:0.8;\" x=\"564.916033\" xlink:href=\"#m8e2ff69f31\" y=\"290.999176\"/>\r\n      </g>\r\n     </g>\r\n    </g>\r\n    <g id=\"ytick_20\">\r\n     <g id=\"line2d_30\">\r\n      <g>\r\n       <use style=\"stroke:#000000;stroke-width:0.8;\" x=\"564.916033\" xlink:href=\"#m8e2ff69f31\" y=\"248.218764\"/>\r\n      </g>\r\n     </g>\r\n    </g>\r\n    <g id=\"ytick_21\">\r\n     <g id=\"line2d_31\">\r\n      <g>\r\n       <use style=\"stroke:#000000;stroke-width:0.8;\" x=\"564.916033\" xlink:href=\"#m8e2ff69f31\" y=\"205.438352\"/>\r\n      </g>\r\n     </g>\r\n    </g>\r\n    <g id=\"ytick_22\">\r\n     <g id=\"line2d_32\">\r\n      <g>\r\n       <use style=\"stroke:#000000;stroke-width:0.8;\" x=\"564.916033\" xlink:href=\"#m8e2ff69f31\" y=\"162.65794\"/>\r\n      </g>\r\n     </g>\r\n    </g>\r\n    <g id=\"ytick_23\">\r\n     <g id=\"line2d_33\">\r\n      <g>\r\n       <use style=\"stroke:#000000;stroke-width:0.8;\" x=\"564.916033\" xlink:href=\"#m8e2ff69f31\" y=\"119.877528\"/>\r\n      </g>\r\n     </g>\r\n    </g>\r\n    <g id=\"ytick_24\">\r\n     <g id=\"line2d_34\">\r\n      <g>\r\n       <use style=\"stroke:#000000;stroke-width:0.8;\" x=\"564.916033\" xlink:href=\"#m8e2ff69f31\" y=\"77.097116\"/>\r\n      </g>\r\n     </g>\r\n    </g>\r\n    <g id=\"text_22\">\r\n     <!-- write_score -->\r\n     <g transform=\"translate(558.55822 241.983125)rotate(-90)scale(0.1 -0.1)\">\r\n      <defs>\r\n       <path d=\"M 269 3500 \r\nL 844 3500 \r\nL 1563 769 \r\nL 2278 3500 \r\nL 2956 3500 \r\nL 3675 769 \r\nL 4391 3500 \r\nL 4966 3500 \r\nL 4050 0 \r\nL 3372 0 \r\nL 2619 2869 \r\nL 1863 0 \r\nL 1184 0 \r\nL 269 3500 \r\nz\r\n\" id=\"DejaVuSans-77\" transform=\"scale(0.015625)\"/>\r\n      </defs>\r\n      <use xlink:href=\"#DejaVuSans-77\"/>\r\n      <use x=\"81.787109\" xlink:href=\"#DejaVuSans-72\"/>\r\n      <use x=\"122.900391\" xlink:href=\"#DejaVuSans-69\"/>\r\n      <use x=\"150.683594\" xlink:href=\"#DejaVuSans-74\"/>\r\n      <use x=\"189.892578\" xlink:href=\"#DejaVuSans-65\"/>\r\n      <use x=\"251.416016\" xlink:href=\"#DejaVuSans-5f\"/>\r\n      <use x=\"301.416016\" xlink:href=\"#DejaVuSans-73\"/>\r\n      <use x=\"353.515625\" xlink:href=\"#DejaVuSans-63\"/>\r\n      <use x=\"408.496094\" xlink:href=\"#DejaVuSans-6f\"/>\r\n      <use x=\"469.677734\" xlink:href=\"#DejaVuSans-72\"/>\r\n      <use x=\"508.541016\" xlink:href=\"#DejaVuSans-65\"/>\r\n     </g>\r\n    </g>\r\n   </g>\r\n   <g id=\"line2d_35\">\r\n    <path clip-path=\"url(#pd4edf61329)\" style=\"fill:none;stroke:#424242;stroke-linecap:square;stroke-width:2.7;\"/>\r\n   </g>\r\n   <g id=\"line2d_36\">\r\n    <path clip-path=\"url(#pd4edf61329)\" style=\"fill:none;stroke:#424242;stroke-linecap:square;stroke-width:2.7;\"/>\r\n   </g>\r\n   <g id=\"patch_19\">\r\n    <path d=\"M 564.916033 376.56 \r\nL 564.916033 50.4 \r\n\" style=\"fill:none;stroke:#000000;stroke-linecap:square;stroke-linejoin:miter;stroke-width:0.8;\"/>\r\n   </g>\r\n   <g id=\"patch_20\">\r\n    <path d=\"M 783.263859 376.56 \r\nL 783.263859 50.4 \r\n\" style=\"fill:none;stroke:#000000;stroke-linecap:square;stroke-linejoin:miter;stroke-width:0.8;\"/>\r\n   </g>\r\n   <g id=\"patch_21\">\r\n    <path d=\"M 564.916033 376.56 \r\nL 783.263859 376.56 \r\n\" style=\"fill:none;stroke:#000000;stroke-linecap:square;stroke-linejoin:miter;stroke-width:0.8;\"/>\r\n   </g>\r\n   <g id=\"patch_22\">\r\n    <path d=\"M 564.916033 50.4 \r\nL 783.263859 50.4 \r\n\" style=\"fill:none;stroke:#000000;stroke-linecap:square;stroke-linejoin:miter;stroke-width:0.8;\"/>\r\n   </g>\r\n   <g id=\"text_23\">\r\n    <!-- Writing Score -->\r\n    <g transform=\"translate(633.953696 44.4)scale(0.12 -0.12)\">\r\n     <defs>\r\n      <path d=\"M 213 4666 \r\nL 850 4666 \r\nL 1831 722 \r\nL 2809 4666 \r\nL 3519 4666 \r\nL 4500 722 \r\nL 5478 4666 \r\nL 6119 4666 \r\nL 4947 0 \r\nL 4153 0 \r\nL 3169 4050 \r\nL 2175 0 \r\nL 1381 0 \r\nL 213 4666 \r\nz\r\n\" id=\"DejaVuSans-57\" transform=\"scale(0.015625)\"/>\r\n     </defs>\r\n     <use xlink:href=\"#DejaVuSans-57\"/>\r\n     <use x=\"94.376953\" xlink:href=\"#DejaVuSans-72\"/>\r\n     <use x=\"135.490234\" xlink:href=\"#DejaVuSans-69\"/>\r\n     <use x=\"163.273438\" xlink:href=\"#DejaVuSans-74\"/>\r\n     <use x=\"202.482422\" xlink:href=\"#DejaVuSans-69\"/>\r\n     <use x=\"230.265625\" xlink:href=\"#DejaVuSans-6e\"/>\r\n     <use x=\"293.644531\" xlink:href=\"#DejaVuSans-67\"/>\r\n     <use x=\"357.121094\" xlink:href=\"#DejaVuSans-20\"/>\r\n     <use x=\"388.908203\" xlink:href=\"#DejaVuSans-53\"/>\r\n     <use x=\"452.384766\" xlink:href=\"#DejaVuSans-63\"/>\r\n     <use x=\"507.365234\" xlink:href=\"#DejaVuSans-6f\"/>\r\n     <use x=\"568.546875\" xlink:href=\"#DejaVuSans-72\"/>\r\n     <use x=\"607.410156\" xlink:href=\"#DejaVuSans-65\"/>\r\n    </g>\r\n   </g>\r\n  </g>\r\n  <g id=\"axes_4\">\r\n   <g id=\"patch_23\">\r\n    <path d=\"M 826.933424 376.56 \r\nL 1045.28125 376.56 \r\nL 1045.28125 50.4 \r\nL 826.933424 50.4 \r\nz\r\n\" style=\"fill:#ffffff;\"/>\r\n   </g>\r\n   <g id=\"patch_24\">\r\n    <path clip-path=\"url(#pdb70a76243)\" d=\"M 837.850815 376.56 \r\nL 925.189946 376.56 \r\nL 925.189946 78.936674 \r\nL 837.850815 78.936674 \r\nz\r\n\" style=\"fill:#abc9ea;\"/>\r\n   </g>\r\n   <g id=\"patch_25\">\r\n    <path clip-path=\"url(#pdb70a76243)\" d=\"M 947.024728 376.56 \r\nL 1034.363859 376.56 \r\nL 1034.363859 94.893767 \r\nL 947.024728 94.893767 \r\nz\r\n\" style=\"fill:#efb792;\"/>\r\n   </g>\r\n   <g id=\"matplotlib.axis_7\">\r\n    <g id=\"xtick_7\">\r\n     <g id=\"line2d_37\">\r\n      <g>\r\n       <use style=\"stroke:#000000;stroke-width:0.8;\" x=\"881.52038\" xlink:href=\"#mc90104f8e1\" y=\"376.56\"/>\r\n      </g>\r\n     </g>\r\n     <g id=\"text_24\">\r\n      <!-- female -->\r\n      <g transform=\"translate(864.283662 391.158437)scale(0.1 -0.1)\">\r\n       <use xlink:href=\"#DejaVuSans-66\"/>\r\n       <use x=\"35.205078\" xlink:href=\"#DejaVuSans-65\"/>\r\n       <use x=\"96.728516\" xlink:href=\"#DejaVuSans-6d\"/>\r\n       <use x=\"194.140625\" xlink:href=\"#DejaVuSans-61\"/>\r\n       <use x=\"255.419922\" xlink:href=\"#DejaVuSans-6c\"/>\r\n       <use x=\"283.203125\" xlink:href=\"#DejaVuSans-65\"/>\r\n      </g>\r\n     </g>\r\n    </g>\r\n    <g id=\"xtick_8\">\r\n     <g id=\"line2d_38\">\r\n      <g>\r\n       <use style=\"stroke:#000000;stroke-width:0.8;\" x=\"990.694293\" xlink:href=\"#mc90104f8e1\" y=\"376.56\"/>\r\n      </g>\r\n     </g>\r\n     <g id=\"text_25\">\r\n      <!-- male -->\r\n      <g transform=\"translate(978.294293 391.158437)scale(0.1 -0.1)\">\r\n       <use xlink:href=\"#DejaVuSans-6d\"/>\r\n       <use x=\"97.412109\" xlink:href=\"#DejaVuSans-61\"/>\r\n       <use x=\"158.691406\" xlink:href=\"#DejaVuSans-6c\"/>\r\n       <use x=\"186.474609\" xlink:href=\"#DejaVuSans-65\"/>\r\n      </g>\r\n     </g>\r\n    </g>\r\n    <g id=\"text_26\">\r\n     <!-- gender -->\r\n     <g transform=\"translate(918.381556 404.836562)scale(0.1 -0.1)\">\r\n      <use xlink:href=\"#DejaVuSans-67\"/>\r\n      <use x=\"63.476562\" xlink:href=\"#DejaVuSans-65\"/>\r\n      <use x=\"125\" xlink:href=\"#DejaVuSans-6e\"/>\r\n      <use x=\"188.378906\" xlink:href=\"#DejaVuSans-64\"/>\r\n      <use x=\"251.855469\" xlink:href=\"#DejaVuSans-65\"/>\r\n      <use x=\"313.378906\" xlink:href=\"#DejaVuSans-72\"/>\r\n     </g>\r\n    </g>\r\n   </g>\r\n   <g id=\"matplotlib.axis_8\">\r\n    <g id=\"ytick_25\">\r\n     <g id=\"line2d_39\">\r\n      <g>\r\n       <use style=\"stroke:#000000;stroke-width:0.8;\" x=\"826.933424\" xlink:href=\"#m8e2ff69f31\" y=\"376.56\"/>\r\n      </g>\r\n     </g>\r\n    </g>\r\n    <g id=\"ytick_26\">\r\n     <g id=\"line2d_40\">\r\n      <g>\r\n       <use style=\"stroke:#000000;stroke-width:0.8;\" x=\"826.933424\" xlink:href=\"#m8e2ff69f31\" y=\"333.779588\"/>\r\n      </g>\r\n     </g>\r\n    </g>\r\n    <g id=\"ytick_27\">\r\n     <g id=\"line2d_41\">\r\n      <g>\r\n       <use style=\"stroke:#000000;stroke-width:0.8;\" x=\"826.933424\" xlink:href=\"#m8e2ff69f31\" y=\"290.999176\"/>\r\n      </g>\r\n     </g>\r\n    </g>\r\n    <g id=\"ytick_28\">\r\n     <g id=\"line2d_42\">\r\n      <g>\r\n       <use style=\"stroke:#000000;stroke-width:0.8;\" x=\"826.933424\" xlink:href=\"#m8e2ff69f31\" y=\"248.218764\"/>\r\n      </g>\r\n     </g>\r\n    </g>\r\n    <g id=\"ytick_29\">\r\n     <g id=\"line2d_43\">\r\n      <g>\r\n       <use style=\"stroke:#000000;stroke-width:0.8;\" x=\"826.933424\" xlink:href=\"#m8e2ff69f31\" y=\"205.438352\"/>\r\n      </g>\r\n     </g>\r\n    </g>\r\n    <g id=\"ytick_30\">\r\n     <g id=\"line2d_44\">\r\n      <g>\r\n       <use style=\"stroke:#000000;stroke-width:0.8;\" x=\"826.933424\" xlink:href=\"#m8e2ff69f31\" y=\"162.65794\"/>\r\n      </g>\r\n     </g>\r\n    </g>\r\n    <g id=\"ytick_31\">\r\n     <g id=\"line2d_45\">\r\n      <g>\r\n       <use style=\"stroke:#000000;stroke-width:0.8;\" x=\"826.933424\" xlink:href=\"#m8e2ff69f31\" y=\"119.877528\"/>\r\n      </g>\r\n     </g>\r\n    </g>\r\n    <g id=\"ytick_32\">\r\n     <g id=\"line2d_46\">\r\n      <g>\r\n       <use style=\"stroke:#000000;stroke-width:0.8;\" x=\"826.933424\" xlink:href=\"#m8e2ff69f31\" y=\"77.097116\"/>\r\n      </g>\r\n     </g>\r\n    </g>\r\n    <g id=\"text_27\">\r\n     <!-- average -->\r\n     <g transform=\"translate(820.853736 233.950312)rotate(-90)scale(0.1 -0.1)\">\r\n      <defs>\r\n       <path d=\"M 191 3500 \r\nL 800 3500 \r\nL 1894 563 \r\nL 2988 3500 \r\nL 3597 3500 \r\nL 2284 0 \r\nL 1503 0 \r\nL 191 3500 \r\nz\r\n\" id=\"DejaVuSans-76\" transform=\"scale(0.015625)\"/>\r\n      </defs>\r\n      <use xlink:href=\"#DejaVuSans-61\"/>\r\n      <use x=\"61.279297\" xlink:href=\"#DejaVuSans-76\"/>\r\n      <use x=\"120.458984\" xlink:href=\"#DejaVuSans-65\"/>\r\n      <use x=\"181.982422\" xlink:href=\"#DejaVuSans-72\"/>\r\n      <use x=\"223.095703\" xlink:href=\"#DejaVuSans-61\"/>\r\n      <use x=\"284.375\" xlink:href=\"#DejaVuSans-67\"/>\r\n      <use x=\"347.851562\" xlink:href=\"#DejaVuSans-65\"/>\r\n     </g>\r\n    </g>\r\n   </g>\r\n   <g id=\"line2d_47\">\r\n    <path clip-path=\"url(#pdb70a76243)\" style=\"fill:none;stroke:#424242;stroke-linecap:square;stroke-width:2.7;\"/>\r\n   </g>\r\n   <g id=\"line2d_48\">\r\n    <path clip-path=\"url(#pdb70a76243)\" style=\"fill:none;stroke:#424242;stroke-linecap:square;stroke-width:2.7;\"/>\r\n   </g>\r\n   <g id=\"patch_26\">\r\n    <path d=\"M 826.933424 376.56 \r\nL 826.933424 50.4 \r\n\" style=\"fill:none;stroke:#000000;stroke-linecap:square;stroke-linejoin:miter;stroke-width:0.8;\"/>\r\n   </g>\r\n   <g id=\"patch_27\">\r\n    <path d=\"M 1045.28125 376.56 \r\nL 1045.28125 50.4 \r\n\" style=\"fill:none;stroke:#000000;stroke-linecap:square;stroke-linejoin:miter;stroke-width:0.8;\"/>\r\n   </g>\r\n   <g id=\"patch_28\">\r\n    <path d=\"M 826.933424 376.56 \r\nL 1045.28125 376.56 \r\n\" style=\"fill:none;stroke:#000000;stroke-linecap:square;stroke-linejoin:miter;stroke-width:0.8;\"/>\r\n   </g>\r\n   <g id=\"patch_29\">\r\n    <path d=\"M 826.933424 50.4 \r\nL 1045.28125 50.4 \r\n\" style=\"fill:none;stroke:#000000;stroke-linecap:square;stroke-linejoin:miter;stroke-width:0.8;\"/>\r\n   </g>\r\n   <g id=\"text_28\">\r\n    <!-- Average Score -->\r\n    <g transform=\"translate(892.758274 44.4)scale(0.12 -0.12)\">\r\n     <defs>\r\n      <path d=\"M 2188 4044 \r\nL 1331 1722 \r\nL 3047 1722 \r\nL 2188 4044 \r\nz\r\nM 1831 4666 \r\nL 2547 4666 \r\nL 4325 0 \r\nL 3669 0 \r\nL 3244 1197 \r\nL 1141 1197 \r\nL 716 0 \r\nL 50 0 \r\nL 1831 4666 \r\nz\r\n\" id=\"DejaVuSans-41\" transform=\"scale(0.015625)\"/>\r\n     </defs>\r\n     <use xlink:href=\"#DejaVuSans-41\"/>\r\n     <use x=\"62.533203\" xlink:href=\"#DejaVuSans-76\"/>\r\n     <use x=\"121.712891\" xlink:href=\"#DejaVuSans-65\"/>\r\n     <use x=\"183.236328\" xlink:href=\"#DejaVuSans-72\"/>\r\n     <use x=\"224.349609\" xlink:href=\"#DejaVuSans-61\"/>\r\n     <use x=\"285.628906\" xlink:href=\"#DejaVuSans-67\"/>\r\n     <use x=\"349.105469\" xlink:href=\"#DejaVuSans-65\"/>\r\n     <use x=\"410.628906\" xlink:href=\"#DejaVuSans-20\"/>\r\n     <use x=\"442.416016\" xlink:href=\"#DejaVuSans-53\"/>\r\n     <use x=\"505.892578\" xlink:href=\"#DejaVuSans-63\"/>\r\n     <use x=\"560.873047\" xlink:href=\"#DejaVuSans-6f\"/>\r\n     <use x=\"622.054688\" xlink:href=\"#DejaVuSans-72\"/>\r\n     <use x=\"660.917969\" xlink:href=\"#DejaVuSans-65\"/>\r\n    </g>\r\n   </g>\r\n  </g>\r\n  <g id=\"text_29\">\r\n   <!-- Mean Score Visualize by Gender -->\r\n   <g transform=\"translate(430.215625 16.318125)scale(0.12 -0.12)\">\r\n    <defs>\r\n     <path d=\"M 1831 0 \r\nL 50 4666 \r\nL 709 4666 \r\nL 2188 738 \r\nL 3669 4666 \r\nL 4325 4666 \r\nL 2547 0 \r\nL 1831 0 \r\nz\r\n\" id=\"DejaVuSans-56\" transform=\"scale(0.015625)\"/>\r\n     <path d=\"M 544 1381 \r\nL 544 3500 \r\nL 1119 3500 \r\nL 1119 1403 \r\nQ 1119 906 1312 657 \r\nQ 1506 409 1894 409 \r\nQ 2359 409 2629 706 \r\nQ 2900 1003 2900 1516 \r\nL 2900 3500 \r\nL 3475 3500 \r\nL 3475 0 \r\nL 2900 0 \r\nL 2900 538 \r\nQ 2691 219 2414 64 \r\nQ 2138 -91 1772 -91 \r\nQ 1169 -91 856 284 \r\nQ 544 659 544 1381 \r\nz\r\nM 1991 3584 \r\nL 1991 3584 \r\nz\r\n\" id=\"DejaVuSans-75\" transform=\"scale(0.015625)\"/>\r\n     <path d=\"M 353 3500 \r\nL 3084 3500 \r\nL 3084 2975 \r\nL 922 459 \r\nL 3084 459 \r\nL 3084 0 \r\nL 275 0 \r\nL 275 525 \r\nL 2438 3041 \r\nL 353 3041 \r\nL 353 3500 \r\nz\r\n\" id=\"DejaVuSans-7a\" transform=\"scale(0.015625)\"/>\r\n     <path d=\"M 3116 1747 \r\nQ 3116 2381 2855 2742 \r\nQ 2594 3103 2138 3103 \r\nQ 1681 3103 1420 2742 \r\nQ 1159 2381 1159 1747 \r\nQ 1159 1113 1420 752 \r\nQ 1681 391 2138 391 \r\nQ 2594 391 2855 752 \r\nQ 3116 1113 3116 1747 \r\nz\r\nM 1159 2969 \r\nQ 1341 3281 1617 3432 \r\nQ 1894 3584 2278 3584 \r\nQ 2916 3584 3314 3078 \r\nQ 3713 2572 3713 1747 \r\nQ 3713 922 3314 415 \r\nQ 2916 -91 2278 -91 \r\nQ 1894 -91 1617 61 \r\nQ 1341 213 1159 525 \r\nL 1159 0 \r\nL 581 0 \r\nL 581 4863 \r\nL 1159 4863 \r\nL 1159 2969 \r\nz\r\n\" id=\"DejaVuSans-62\" transform=\"scale(0.015625)\"/>\r\n     <path d=\"M 2059 -325 \r\nQ 1816 -950 1584 -1140 \r\nQ 1353 -1331 966 -1331 \r\nL 506 -1331 \r\nL 506 -850 \r\nL 844 -850 \r\nQ 1081 -850 1212 -737 \r\nQ 1344 -625 1503 -206 \r\nL 1606 56 \r\nL 191 3500 \r\nL 800 3500 \r\nL 1894 763 \r\nL 2988 3500 \r\nL 3597 3500 \r\nL 2059 -325 \r\nz\r\n\" id=\"DejaVuSans-79\" transform=\"scale(0.015625)\"/>\r\n     <path d=\"M 3809 666 \r\nL 3809 1919 \r\nL 2778 1919 \r\nL 2778 2438 \r\nL 4434 2438 \r\nL 4434 434 \r\nQ 4069 175 3628 42 \r\nQ 3188 -91 2688 -91 \r\nQ 1594 -91 976 548 \r\nQ 359 1188 359 2328 \r\nQ 359 3472 976 4111 \r\nQ 1594 4750 2688 4750 \r\nQ 3144 4750 3555 4637 \r\nQ 3966 4525 4313 4306 \r\nL 4313 3634 \r\nQ 3963 3931 3569 4081 \r\nQ 3175 4231 2741 4231 \r\nQ 1884 4231 1454 3753 \r\nQ 1025 3275 1025 2328 \r\nQ 1025 1384 1454 906 \r\nQ 1884 428 2741 428 \r\nQ 3075 428 3337 486 \r\nQ 3600 544 3809 666 \r\nz\r\n\" id=\"DejaVuSans-47\" transform=\"scale(0.015625)\"/>\r\n    </defs>\r\n    <use xlink:href=\"#DejaVuSans-4d\"/>\r\n    <use x=\"86.279297\" xlink:href=\"#DejaVuSans-65\"/>\r\n    <use x=\"147.802734\" xlink:href=\"#DejaVuSans-61\"/>\r\n    <use x=\"209.082031\" xlink:href=\"#DejaVuSans-6e\"/>\r\n    <use x=\"272.460938\" xlink:href=\"#DejaVuSans-20\"/>\r\n    <use x=\"304.248047\" xlink:href=\"#DejaVuSans-53\"/>\r\n    <use x=\"367.724609\" xlink:href=\"#DejaVuSans-63\"/>\r\n    <use x=\"422.705078\" xlink:href=\"#DejaVuSans-6f\"/>\r\n    <use x=\"483.886719\" xlink:href=\"#DejaVuSans-72\"/>\r\n    <use x=\"522.75\" xlink:href=\"#DejaVuSans-65\"/>\r\n    <use x=\"584.273438\" xlink:href=\"#DejaVuSans-20\"/>\r\n    <use x=\"616.060547\" xlink:href=\"#DejaVuSans-56\"/>\r\n    <use x=\"682.21875\" xlink:href=\"#DejaVuSans-69\"/>\r\n    <use x=\"710.001953\" xlink:href=\"#DejaVuSans-73\"/>\r\n    <use x=\"762.101562\" xlink:href=\"#DejaVuSans-75\"/>\r\n    <use x=\"825.480469\" xlink:href=\"#DejaVuSans-61\"/>\r\n    <use x=\"886.759766\" xlink:href=\"#DejaVuSans-6c\"/>\r\n    <use x=\"914.542969\" xlink:href=\"#DejaVuSans-69\"/>\r\n    <use x=\"942.326172\" xlink:href=\"#DejaVuSans-7a\"/>\r\n    <use x=\"994.816406\" xlink:href=\"#DejaVuSans-65\"/>\r\n    <use x=\"1056.339844\" xlink:href=\"#DejaVuSans-20\"/>\r\n    <use x=\"1088.126953\" xlink:href=\"#DejaVuSans-62\"/>\r\n    <use x=\"1151.603516\" xlink:href=\"#DejaVuSans-79\"/>\r\n    <use x=\"1210.783203\" xlink:href=\"#DejaVuSans-20\"/>\r\n    <use x=\"1242.570312\" xlink:href=\"#DejaVuSans-47\"/>\r\n    <use x=\"1320.060547\" xlink:href=\"#DejaVuSans-65\"/>\r\n    <use x=\"1381.583984\" xlink:href=\"#DejaVuSans-6e\"/>\r\n    <use x=\"1444.962891\" xlink:href=\"#DejaVuSans-64\"/>\r\n    <use x=\"1508.439453\" xlink:href=\"#DejaVuSans-65\"/>\r\n    <use x=\"1569.962891\" xlink:href=\"#DejaVuSans-72\"/>\r\n   </g>\r\n  </g>\r\n </g>\r\n <defs>\r\n  <clipPath id=\"p36cfd20677\">\r\n   <rect height=\"326.16\" width=\"218.347826\" x=\"40.88125\" y=\"50.4\"/>\r\n  </clipPath>\r\n  <clipPath id=\"p78c5fba2d2\">\r\n   <rect height=\"326.16\" width=\"218.347826\" x=\"302.898641\" y=\"50.4\"/>\r\n  </clipPath>\r\n  <clipPath id=\"pd4edf61329\">\r\n   <rect height=\"326.16\" width=\"218.347826\" x=\"564.916033\" y=\"50.4\"/>\r\n  </clipPath>\r\n  <clipPath id=\"pdb70a76243\">\r\n   <rect height=\"326.16\" width=\"218.347826\" x=\"826.933424\" y=\"50.4\"/>\r\n  </clipPath>\r\n </defs>\r\n</svg>\r\n",
      "text/plain": [
       "<Figure size 1296x432 with 4 Axes>"
      ]
     },
     "metadata": {
      "needs_background": "light"
     }
    }
   ],
   "metadata": {}
  },
  {
   "cell_type": "markdown",
   "source": [
    "# Explore Categorical Variables\r\n"
   ],
   "metadata": {}
  },
  {
   "cell_type": "code",
   "execution_count": 422,
   "source": [
    "unique_df = pd.DataFrame(columns=['VariableName','UniqueValues'])\r\n",
    "object_columns = list(\r\n",
    "        filter(\r\n",
    "            lambda col: str(stud_df[col[1]].dtype) == 'object' , enumerate(stud_df.columns) \r\n",
    "        )\r\n",
    "    )\r\n",
    "object_columns"
   ],
   "outputs": [
    {
     "output_type": "execute_result",
     "data": {
      "text/plain": [
       "[(0, 'gender'),\n",
       " (1, 'social_group'),\n",
       " (2, 'parent_education'),\n",
       " (3, 'lunch'),\n",
       " (4, 'test_prep_course'),\n",
       " (9, 'grade')]"
      ]
     },
     "metadata": {},
     "execution_count": 422
    }
   ],
   "metadata": {}
  },
  {
   "cell_type": "code",
   "execution_count": 423,
   "source": [
    "for col in object_columns:\r\n",
    "    unique_df.loc[col[0],['VariableName','UniqueValues']] = [col[1], \", \".join(stud_df[col[1]].unique())]"
   ],
   "outputs": [],
   "metadata": {}
  },
  {
   "cell_type": "code",
   "execution_count": 424,
   "source": [
    "pd.options.display.max_colwidth = 100\r\n",
    "\r\n",
    "unique_df"
   ],
   "outputs": [
    {
     "output_type": "execute_result",
     "data": {
      "text/html": [
       "<div>\n",
       "<style scoped>\n",
       "    .dataframe tbody tr th:only-of-type {\n",
       "        vertical-align: middle;\n",
       "    }\n",
       "\n",
       "    .dataframe tbody tr th {\n",
       "        vertical-align: top;\n",
       "    }\n",
       "\n",
       "    .dataframe thead th {\n",
       "        text-align: right;\n",
       "    }\n",
       "</style>\n",
       "<table border=\"1\" class=\"dataframe\">\n",
       "  <thead>\n",
       "    <tr style=\"text-align: right;\">\n",
       "      <th></th>\n",
       "      <th>VariableName</th>\n",
       "      <th>UniqueValues</th>\n",
       "    </tr>\n",
       "  </thead>\n",
       "  <tbody>\n",
       "    <tr>\n",
       "      <th>0</th>\n",
       "      <td>gender</td>\n",
       "      <td>female, male</td>\n",
       "    </tr>\n",
       "    <tr>\n",
       "      <th>1</th>\n",
       "      <td>social_group</td>\n",
       "      <td>group B, group C, group A, group D, group E</td>\n",
       "    </tr>\n",
       "    <tr>\n",
       "      <th>2</th>\n",
       "      <td>parent_education</td>\n",
       "      <td>bachelor's degree, some college, master's degree, associate's degree, high school, some high school</td>\n",
       "    </tr>\n",
       "    <tr>\n",
       "      <th>3</th>\n",
       "      <td>lunch</td>\n",
       "      <td>standard, free/reduced</td>\n",
       "    </tr>\n",
       "    <tr>\n",
       "      <th>4</th>\n",
       "      <td>test_prep_course</td>\n",
       "      <td>none, completed</td>\n",
       "    </tr>\n",
       "    <tr>\n",
       "      <th>9</th>\n",
       "      <td>grade</td>\n",
       "      <td>B, A, E, C, D, F</td>\n",
       "    </tr>\n",
       "  </tbody>\n",
       "</table>\n",
       "</div>"
      ],
      "text/plain": [
       "       VariableName  \\\n",
       "0            gender   \n",
       "1      social_group   \n",
       "2  parent_education   \n",
       "3             lunch   \n",
       "4  test_prep_course   \n",
       "9             grade   \n",
       "\n",
       "                                                                                          UniqueValues  \n",
       "0                                                                                         female, male  \n",
       "1                                                          group B, group C, group A, group D, group E  \n",
       "2  bachelor's degree, some college, master's degree, associate's degree, high school, some high school  \n",
       "3                                                                               standard, free/reduced  \n",
       "4                                                                                      none, completed  \n",
       "9                                                                                     B, A, E, C, D, F  "
      ]
     },
     "metadata": {},
     "execution_count": 424
    }
   ],
   "metadata": {}
  },
  {
   "cell_type": "code",
   "execution_count": 425,
   "source": [
    "stud_df.describe()"
   ],
   "outputs": [
    {
     "output_type": "execute_result",
     "data": {
      "text/html": [
       "<div>\n",
       "<style scoped>\n",
       "    .dataframe tbody tr th:only-of-type {\n",
       "        vertical-align: middle;\n",
       "    }\n",
       "\n",
       "    .dataframe tbody tr th {\n",
       "        vertical-align: top;\n",
       "    }\n",
       "\n",
       "    .dataframe thead th {\n",
       "        text-align: right;\n",
       "    }\n",
       "</style>\n",
       "<table border=\"1\" class=\"dataframe\">\n",
       "  <thead>\n",
       "    <tr style=\"text-align: right;\">\n",
       "      <th></th>\n",
       "      <th>math_score</th>\n",
       "      <th>read_score</th>\n",
       "      <th>write_score</th>\n",
       "      <th>average</th>\n",
       "    </tr>\n",
       "  </thead>\n",
       "  <tbody>\n",
       "    <tr>\n",
       "      <th>count</th>\n",
       "      <td>1000.00000</td>\n",
       "      <td>1000.000000</td>\n",
       "      <td>1000.000000</td>\n",
       "      <td>1000.000000</td>\n",
       "    </tr>\n",
       "    <tr>\n",
       "      <th>mean</th>\n",
       "      <td>66.08900</td>\n",
       "      <td>69.169000</td>\n",
       "      <td>68.054000</td>\n",
       "      <td>67.770667</td>\n",
       "    </tr>\n",
       "    <tr>\n",
       "      <th>std</th>\n",
       "      <td>15.16308</td>\n",
       "      <td>14.600192</td>\n",
       "      <td>15.195657</td>\n",
       "      <td>14.257326</td>\n",
       "    </tr>\n",
       "    <tr>\n",
       "      <th>min</th>\n",
       "      <td>0.00000</td>\n",
       "      <td>17.000000</td>\n",
       "      <td>10.000000</td>\n",
       "      <td>9.000000</td>\n",
       "    </tr>\n",
       "    <tr>\n",
       "      <th>25%</th>\n",
       "      <td>57.00000</td>\n",
       "      <td>59.000000</td>\n",
       "      <td>57.750000</td>\n",
       "      <td>58.333333</td>\n",
       "    </tr>\n",
       "    <tr>\n",
       "      <th>50%</th>\n",
       "      <td>66.00000</td>\n",
       "      <td>70.000000</td>\n",
       "      <td>69.000000</td>\n",
       "      <td>68.333333</td>\n",
       "    </tr>\n",
       "    <tr>\n",
       "      <th>75%</th>\n",
       "      <td>77.00000</td>\n",
       "      <td>79.000000</td>\n",
       "      <td>79.000000</td>\n",
       "      <td>77.666667</td>\n",
       "    </tr>\n",
       "    <tr>\n",
       "      <th>max</th>\n",
       "      <td>100.00000</td>\n",
       "      <td>100.000000</td>\n",
       "      <td>100.000000</td>\n",
       "      <td>100.000000</td>\n",
       "    </tr>\n",
       "  </tbody>\n",
       "</table>\n",
       "</div>"
      ],
      "text/plain": [
       "       math_score   read_score  write_score      average\n",
       "count  1000.00000  1000.000000  1000.000000  1000.000000\n",
       "mean     66.08900    69.169000    68.054000    67.770667\n",
       "std      15.16308    14.600192    15.195657    14.257326\n",
       "min       0.00000    17.000000    10.000000     9.000000\n",
       "25%      57.00000    59.000000    57.750000    58.333333\n",
       "50%      66.00000    70.000000    69.000000    68.333333\n",
       "75%      77.00000    79.000000    79.000000    77.666667\n",
       "max     100.00000   100.000000   100.000000   100.000000"
      ]
     },
     "metadata": {},
     "execution_count": 425
    }
   ],
   "metadata": {}
  },
  {
   "cell_type": "code",
   "execution_count": 426,
   "source": [
    "stud_df.describe(include='all')\r\n"
   ],
   "outputs": [
    {
     "output_type": "execute_result",
     "data": {
      "text/html": [
       "<div>\n",
       "<style scoped>\n",
       "    .dataframe tbody tr th:only-of-type {\n",
       "        vertical-align: middle;\n",
       "    }\n",
       "\n",
       "    .dataframe tbody tr th {\n",
       "        vertical-align: top;\n",
       "    }\n",
       "\n",
       "    .dataframe thead th {\n",
       "        text-align: right;\n",
       "    }\n",
       "</style>\n",
       "<table border=\"1\" class=\"dataframe\">\n",
       "  <thead>\n",
       "    <tr style=\"text-align: right;\">\n",
       "      <th></th>\n",
       "      <th>gender</th>\n",
       "      <th>social_group</th>\n",
       "      <th>parent_education</th>\n",
       "      <th>lunch</th>\n",
       "      <th>test_prep_course</th>\n",
       "      <th>math_score</th>\n",
       "      <th>read_score</th>\n",
       "      <th>write_score</th>\n",
       "      <th>average</th>\n",
       "      <th>grade</th>\n",
       "    </tr>\n",
       "  </thead>\n",
       "  <tbody>\n",
       "    <tr>\n",
       "      <th>count</th>\n",
       "      <td>1000</td>\n",
       "      <td>1000</td>\n",
       "      <td>1000</td>\n",
       "      <td>1000</td>\n",
       "      <td>1000</td>\n",
       "      <td>1000.00000</td>\n",
       "      <td>1000.000000</td>\n",
       "      <td>1000.000000</td>\n",
       "      <td>1000.000000</td>\n",
       "      <td>1000</td>\n",
       "    </tr>\n",
       "    <tr>\n",
       "      <th>unique</th>\n",
       "      <td>2</td>\n",
       "      <td>5</td>\n",
       "      <td>6</td>\n",
       "      <td>2</td>\n",
       "      <td>2</td>\n",
       "      <td>NaN</td>\n",
       "      <td>NaN</td>\n",
       "      <td>NaN</td>\n",
       "      <td>NaN</td>\n",
       "      <td>6</td>\n",
       "    </tr>\n",
       "    <tr>\n",
       "      <th>top</th>\n",
       "      <td>female</td>\n",
       "      <td>group C</td>\n",
       "      <td>some college</td>\n",
       "      <td>standard</td>\n",
       "      <td>none</td>\n",
       "      <td>NaN</td>\n",
       "      <td>NaN</td>\n",
       "      <td>NaN</td>\n",
       "      <td>NaN</td>\n",
       "      <td>B</td>\n",
       "    </tr>\n",
       "    <tr>\n",
       "      <th>freq</th>\n",
       "      <td>518</td>\n",
       "      <td>319</td>\n",
       "      <td>226</td>\n",
       "      <td>645</td>\n",
       "      <td>642</td>\n",
       "      <td>NaN</td>\n",
       "      <td>NaN</td>\n",
       "      <td>NaN</td>\n",
       "      <td>NaN</td>\n",
       "      <td>261</td>\n",
       "    </tr>\n",
       "    <tr>\n",
       "      <th>mean</th>\n",
       "      <td>NaN</td>\n",
       "      <td>NaN</td>\n",
       "      <td>NaN</td>\n",
       "      <td>NaN</td>\n",
       "      <td>NaN</td>\n",
       "      <td>66.08900</td>\n",
       "      <td>69.169000</td>\n",
       "      <td>68.054000</td>\n",
       "      <td>67.770667</td>\n",
       "      <td>NaN</td>\n",
       "    </tr>\n",
       "    <tr>\n",
       "      <th>std</th>\n",
       "      <td>NaN</td>\n",
       "      <td>NaN</td>\n",
       "      <td>NaN</td>\n",
       "      <td>NaN</td>\n",
       "      <td>NaN</td>\n",
       "      <td>15.16308</td>\n",
       "      <td>14.600192</td>\n",
       "      <td>15.195657</td>\n",
       "      <td>14.257326</td>\n",
       "      <td>NaN</td>\n",
       "    </tr>\n",
       "    <tr>\n",
       "      <th>min</th>\n",
       "      <td>NaN</td>\n",
       "      <td>NaN</td>\n",
       "      <td>NaN</td>\n",
       "      <td>NaN</td>\n",
       "      <td>NaN</td>\n",
       "      <td>0.00000</td>\n",
       "      <td>17.000000</td>\n",
       "      <td>10.000000</td>\n",
       "      <td>9.000000</td>\n",
       "      <td>NaN</td>\n",
       "    </tr>\n",
       "    <tr>\n",
       "      <th>25%</th>\n",
       "      <td>NaN</td>\n",
       "      <td>NaN</td>\n",
       "      <td>NaN</td>\n",
       "      <td>NaN</td>\n",
       "      <td>NaN</td>\n",
       "      <td>57.00000</td>\n",
       "      <td>59.000000</td>\n",
       "      <td>57.750000</td>\n",
       "      <td>58.333333</td>\n",
       "      <td>NaN</td>\n",
       "    </tr>\n",
       "    <tr>\n",
       "      <th>50%</th>\n",
       "      <td>NaN</td>\n",
       "      <td>NaN</td>\n",
       "      <td>NaN</td>\n",
       "      <td>NaN</td>\n",
       "      <td>NaN</td>\n",
       "      <td>66.00000</td>\n",
       "      <td>70.000000</td>\n",
       "      <td>69.000000</td>\n",
       "      <td>68.333333</td>\n",
       "      <td>NaN</td>\n",
       "    </tr>\n",
       "    <tr>\n",
       "      <th>75%</th>\n",
       "      <td>NaN</td>\n",
       "      <td>NaN</td>\n",
       "      <td>NaN</td>\n",
       "      <td>NaN</td>\n",
       "      <td>NaN</td>\n",
       "      <td>77.00000</td>\n",
       "      <td>79.000000</td>\n",
       "      <td>79.000000</td>\n",
       "      <td>77.666667</td>\n",
       "      <td>NaN</td>\n",
       "    </tr>\n",
       "    <tr>\n",
       "      <th>max</th>\n",
       "      <td>NaN</td>\n",
       "      <td>NaN</td>\n",
       "      <td>NaN</td>\n",
       "      <td>NaN</td>\n",
       "      <td>NaN</td>\n",
       "      <td>100.00000</td>\n",
       "      <td>100.000000</td>\n",
       "      <td>100.000000</td>\n",
       "      <td>100.000000</td>\n",
       "      <td>NaN</td>\n",
       "    </tr>\n",
       "  </tbody>\n",
       "</table>\n",
       "</div>"
      ],
      "text/plain": [
       "        gender social_group parent_education     lunch test_prep_course  \\\n",
       "count     1000         1000             1000      1000             1000   \n",
       "unique       2            5                6         2                2   \n",
       "top     female      group C     some college  standard             none   \n",
       "freq       518          319              226       645              642   \n",
       "mean       NaN          NaN              NaN       NaN              NaN   \n",
       "std        NaN          NaN              NaN       NaN              NaN   \n",
       "min        NaN          NaN              NaN       NaN              NaN   \n",
       "25%        NaN          NaN              NaN       NaN              NaN   \n",
       "50%        NaN          NaN              NaN       NaN              NaN   \n",
       "75%        NaN          NaN              NaN       NaN              NaN   \n",
       "max        NaN          NaN              NaN       NaN              NaN   \n",
       "\n",
       "        math_score   read_score  write_score      average grade  \n",
       "count   1000.00000  1000.000000  1000.000000  1000.000000  1000  \n",
       "unique         NaN          NaN          NaN          NaN     6  \n",
       "top            NaN          NaN          NaN          NaN     B  \n",
       "freq           NaN          NaN          NaN          NaN   261  \n",
       "mean      66.08900    69.169000    68.054000    67.770667   NaN  \n",
       "std       15.16308    14.600192    15.195657    14.257326   NaN  \n",
       "min        0.00000    17.000000    10.000000     9.000000   NaN  \n",
       "25%       57.00000    59.000000    57.750000    58.333333   NaN  \n",
       "50%       66.00000    70.000000    69.000000    68.333333   NaN  \n",
       "75%       77.00000    79.000000    79.000000    77.666667   NaN  \n",
       "max      100.00000   100.000000   100.000000   100.000000   NaN  "
      ]
     },
     "metadata": {},
     "execution_count": 426
    }
   ],
   "metadata": {}
  },
  {
   "cell_type": "markdown",
   "source": [
    "# Lebeling Categorical Variables\r\n",
    "## social_group\r\n",
    "\r\n",
    "0 ---> group A\r\n",
    "\r\n",
    "1 ---> group B\r\n",
    "\r\n",
    "2 ---> group C\r\n",
    "\r\n",
    "3 ---> group D\r\n",
    "\r\n",
    "4 ---> group E\r\n",
    "\r\n",
    "## parent_education\r\n",
    "\r\n",
    "0 ---> associate's degree\r\n",
    "\r\n",
    "1 ---> bachelor's degree\r\n",
    "\r\n",
    "2 ---> high school\r\n",
    "\r\n",
    "3 ---> master's degree\r\n",
    "\r\n",
    "4 ---> some college\r\n",
    "\r\n",
    "5 ---> some high school\r\n",
    "\r\n",
    "## Gender\r\n",
    "\r\n",
    "0 ---> female\r\n",
    "\r\n",
    "1 ---> male\r\n",
    "\r\n",
    "## Grade\r\n",
    "A ---> 0\r\n",
    "B ---> 1\r\n",
    "C ---> 2\r\n",
    "D ---> 3\r\n",
    "E ---> 4"
   ],
   "metadata": {}
  },
  {
   "cell_type": "code",
   "execution_count": 427,
   "source": [
    "from sklearn.preprocessing import LabelEncoder\r\n",
    "for col in object_columns:\r\n",
    "    lbl = LabelEncoder()\r\n",
    "    lbl.fit(list(stud_df[col[1]].values))\r\n",
    "    stud_df[col[1]] = lbl.transform(stud_df[col[1]].values)\r\n",
    "        \r\n",
    "stud_df.head(10).style.background_gradient(cmap = 'Set2') \r\n",
    "stud_df.describe()"
   ],
   "outputs": [
    {
     "output_type": "execute_result",
     "data": {
      "text/html": [
       "<div>\n",
       "<style scoped>\n",
       "    .dataframe tbody tr th:only-of-type {\n",
       "        vertical-align: middle;\n",
       "    }\n",
       "\n",
       "    .dataframe tbody tr th {\n",
       "        vertical-align: top;\n",
       "    }\n",
       "\n",
       "    .dataframe thead th {\n",
       "        text-align: right;\n",
       "    }\n",
       "</style>\n",
       "<table border=\"1\" class=\"dataframe\">\n",
       "  <thead>\n",
       "    <tr style=\"text-align: right;\">\n",
       "      <th></th>\n",
       "      <th>gender</th>\n",
       "      <th>social_group</th>\n",
       "      <th>parent_education</th>\n",
       "      <th>lunch</th>\n",
       "      <th>test_prep_course</th>\n",
       "      <th>math_score</th>\n",
       "      <th>read_score</th>\n",
       "      <th>write_score</th>\n",
       "      <th>average</th>\n",
       "      <th>grade</th>\n",
       "    </tr>\n",
       "  </thead>\n",
       "  <tbody>\n",
       "    <tr>\n",
       "      <th>count</th>\n",
       "      <td>1000.000000</td>\n",
       "      <td>1000.000000</td>\n",
       "      <td>1000.000000</td>\n",
       "      <td>1000.000000</td>\n",
       "      <td>1000.000000</td>\n",
       "      <td>1000.00000</td>\n",
       "      <td>1000.000000</td>\n",
       "      <td>1000.000000</td>\n",
       "      <td>1000.000000</td>\n",
       "      <td>1000.000000</td>\n",
       "    </tr>\n",
       "    <tr>\n",
       "      <th>mean</th>\n",
       "      <td>0.482000</td>\n",
       "      <td>2.174000</td>\n",
       "      <td>2.486000</td>\n",
       "      <td>0.645000</td>\n",
       "      <td>0.642000</td>\n",
       "      <td>66.08900</td>\n",
       "      <td>69.169000</td>\n",
       "      <td>68.054000</td>\n",
       "      <td>67.770667</td>\n",
       "      <td>1.761000</td>\n",
       "    </tr>\n",
       "    <tr>\n",
       "      <th>std</th>\n",
       "      <td>0.499926</td>\n",
       "      <td>1.157179</td>\n",
       "      <td>1.829522</td>\n",
       "      <td>0.478753</td>\n",
       "      <td>0.479652</td>\n",
       "      <td>15.16308</td>\n",
       "      <td>14.600192</td>\n",
       "      <td>15.195657</td>\n",
       "      <td>14.257326</td>\n",
       "      <td>1.319705</td>\n",
       "    </tr>\n",
       "    <tr>\n",
       "      <th>min</th>\n",
       "      <td>0.000000</td>\n",
       "      <td>0.000000</td>\n",
       "      <td>0.000000</td>\n",
       "      <td>0.000000</td>\n",
       "      <td>0.000000</td>\n",
       "      <td>0.00000</td>\n",
       "      <td>17.000000</td>\n",
       "      <td>10.000000</td>\n",
       "      <td>9.000000</td>\n",
       "      <td>0.000000</td>\n",
       "    </tr>\n",
       "    <tr>\n",
       "      <th>25%</th>\n",
       "      <td>0.000000</td>\n",
       "      <td>1.000000</td>\n",
       "      <td>1.000000</td>\n",
       "      <td>0.000000</td>\n",
       "      <td>0.000000</td>\n",
       "      <td>57.00000</td>\n",
       "      <td>59.000000</td>\n",
       "      <td>57.750000</td>\n",
       "      <td>58.333333</td>\n",
       "      <td>1.000000</td>\n",
       "    </tr>\n",
       "    <tr>\n",
       "      <th>50%</th>\n",
       "      <td>0.000000</td>\n",
       "      <td>2.000000</td>\n",
       "      <td>2.000000</td>\n",
       "      <td>1.000000</td>\n",
       "      <td>1.000000</td>\n",
       "      <td>66.00000</td>\n",
       "      <td>70.000000</td>\n",
       "      <td>69.000000</td>\n",
       "      <td>68.333333</td>\n",
       "      <td>2.000000</td>\n",
       "    </tr>\n",
       "    <tr>\n",
       "      <th>75%</th>\n",
       "      <td>1.000000</td>\n",
       "      <td>3.000000</td>\n",
       "      <td>4.000000</td>\n",
       "      <td>1.000000</td>\n",
       "      <td>1.000000</td>\n",
       "      <td>77.00000</td>\n",
       "      <td>79.000000</td>\n",
       "      <td>79.000000</td>\n",
       "      <td>77.666667</td>\n",
       "      <td>3.000000</td>\n",
       "    </tr>\n",
       "    <tr>\n",
       "      <th>max</th>\n",
       "      <td>1.000000</td>\n",
       "      <td>4.000000</td>\n",
       "      <td>5.000000</td>\n",
       "      <td>1.000000</td>\n",
       "      <td>1.000000</td>\n",
       "      <td>100.00000</td>\n",
       "      <td>100.000000</td>\n",
       "      <td>100.000000</td>\n",
       "      <td>100.000000</td>\n",
       "      <td>5.000000</td>\n",
       "    </tr>\n",
       "  </tbody>\n",
       "</table>\n",
       "</div>"
      ],
      "text/plain": [
       "            gender  social_group  parent_education        lunch  \\\n",
       "count  1000.000000   1000.000000       1000.000000  1000.000000   \n",
       "mean      0.482000      2.174000          2.486000     0.645000   \n",
       "std       0.499926      1.157179          1.829522     0.478753   \n",
       "min       0.000000      0.000000          0.000000     0.000000   \n",
       "25%       0.000000      1.000000          1.000000     0.000000   \n",
       "50%       0.000000      2.000000          2.000000     1.000000   \n",
       "75%       1.000000      3.000000          4.000000     1.000000   \n",
       "max       1.000000      4.000000          5.000000     1.000000   \n",
       "\n",
       "       test_prep_course  math_score   read_score  write_score      average  \\\n",
       "count       1000.000000  1000.00000  1000.000000  1000.000000  1000.000000   \n",
       "mean           0.642000    66.08900    69.169000    68.054000    67.770667   \n",
       "std            0.479652    15.16308    14.600192    15.195657    14.257326   \n",
       "min            0.000000     0.00000    17.000000    10.000000     9.000000   \n",
       "25%            0.000000    57.00000    59.000000    57.750000    58.333333   \n",
       "50%            1.000000    66.00000    70.000000    69.000000    68.333333   \n",
       "75%            1.000000    77.00000    79.000000    79.000000    77.666667   \n",
       "max            1.000000   100.00000   100.000000   100.000000   100.000000   \n",
       "\n",
       "             grade  \n",
       "count  1000.000000  \n",
       "mean      1.761000  \n",
       "std       1.319705  \n",
       "min       0.000000  \n",
       "25%       1.000000  \n",
       "50%       2.000000  \n",
       "75%       3.000000  \n",
       "max       5.000000  "
      ]
     },
     "metadata": {},
     "execution_count": 427
    }
   ],
   "metadata": {}
  },
  {
   "cell_type": "code",
   "execution_count": 428,
   "source": [
    "stud_df.head(11).style.background_gradient(cmap = 'Set2') "
   ],
   "outputs": [
    {
     "output_type": "execute_result",
     "data": {
      "text/html": [
       "<style  type=\"text/css\" >\n",
       "#T_06403_row0_col0,#T_06403_row1_col0,#T_06403_row1_col4,#T_06403_row1_col9,#T_06403_row2_col0,#T_06403_row2_col9,#T_06403_row3_col1,#T_06403_row3_col2,#T_06403_row3_col3,#T_06403_row3_col7,#T_06403_row5_col0,#T_06403_row5_col2,#T_06403_row6_col0,#T_06403_row6_col4,#T_06403_row6_col9,#T_06403_row7_col3,#T_06403_row7_col5,#T_06403_row7_col6,#T_06403_row7_col7,#T_06403_row7_col8,#T_06403_row8_col3,#T_06403_row8_col4,#T_06403_row9_col0,#T_06403_row9_col3,#T_06403_row9_col5,#T_06403_row10_col2{\n",
       "            background-color:  #66c2a5;\n",
       "            color:  #000000;\n",
       "        }#T_06403_row0_col1,#T_06403_row0_col2,#T_06403_row0_col9,#T_06403_row2_col1,#T_06403_row3_col6,#T_06403_row4_col9,#T_06403_row5_col1,#T_06403_row5_col9,#T_06403_row6_col1,#T_06403_row7_col1,#T_06403_row9_col1,#T_06403_row9_col6,#T_06403_row10_col8{\n",
       "            background-color:  #8da0cb;\n",
       "            color:  #000000;\n",
       "        }#T_06403_row0_col3,#T_06403_row0_col4,#T_06403_row1_col2,#T_06403_row1_col3,#T_06403_row1_col6,#T_06403_row1_col7,#T_06403_row2_col3,#T_06403_row2_col4,#T_06403_row2_col5,#T_06403_row2_col6,#T_06403_row2_col7,#T_06403_row2_col8,#T_06403_row3_col0,#T_06403_row3_col4,#T_06403_row3_col9,#T_06403_row4_col0,#T_06403_row4_col2,#T_06403_row4_col3,#T_06403_row4_col4,#T_06403_row5_col3,#T_06403_row5_col4,#T_06403_row6_col2,#T_06403_row6_col3,#T_06403_row6_col5,#T_06403_row6_col6,#T_06403_row6_col7,#T_06403_row6_col8,#T_06403_row7_col0,#T_06403_row7_col2,#T_06403_row7_col4,#T_06403_row7_col9,#T_06403_row8_col0,#T_06403_row8_col1,#T_06403_row9_col4,#T_06403_row9_col9,#T_06403_row10_col0,#T_06403_row10_col3,#T_06403_row10_col4{\n",
       "            background-color:  #b3b3b3;\n",
       "            color:  #000000;\n",
       "        }#T_06403_row0_col5,#T_06403_row0_col7,#T_06403_row1_col1,#T_06403_row4_col1,#T_06403_row4_col5,#T_06403_row4_col6,#T_06403_row4_col7,#T_06403_row4_col8,#T_06403_row5_col5,#T_06403_row5_col7,#T_06403_row5_col8,#T_06403_row10_col1{\n",
       "            background-color:  #ffd92f;\n",
       "            color:  #000000;\n",
       "        }#T_06403_row0_col6,#T_06403_row0_col8,#T_06403_row1_col5,#T_06403_row8_col2,#T_06403_row8_col5,#T_06403_row8_col7,#T_06403_row8_col9,#T_06403_row9_col2{\n",
       "            background-color:  #a6d854;\n",
       "            color:  #000000;\n",
       "        }#T_06403_row1_col8,#T_06403_row2_col2,#T_06403_row5_col6,#T_06403_row10_col9{\n",
       "            background-color:  #e5c494;\n",
       "            color:  #000000;\n",
       "        }#T_06403_row3_col5,#T_06403_row3_col8,#T_06403_row9_col7,#T_06403_row9_col8,#T_06403_row10_col6,#T_06403_row10_col7{\n",
       "            background-color:  #fc8d62;\n",
       "            color:  #000000;\n",
       "        }#T_06403_row8_col6,#T_06403_row8_col8,#T_06403_row10_col5{\n",
       "            background-color:  #e78ac3;\n",
       "            color:  #000000;\n",
       "        }</style><table id=\"T_06403_\" ><thead>    <tr>        <th class=\"blank level0\" ></th>        <th class=\"col_heading level0 col0\" >gender</th>        <th class=\"col_heading level0 col1\" >social_group</th>        <th class=\"col_heading level0 col2\" >parent_education</th>        <th class=\"col_heading level0 col3\" >lunch</th>        <th class=\"col_heading level0 col4\" >test_prep_course</th>        <th class=\"col_heading level0 col5\" >math_score</th>        <th class=\"col_heading level0 col6\" >read_score</th>        <th class=\"col_heading level0 col7\" >write_score</th>        <th class=\"col_heading level0 col8\" >average</th>        <th class=\"col_heading level0 col9\" >grade</th>    </tr></thead><tbody>\n",
       "                <tr>\n",
       "                        <th id=\"T_06403_level0_row0\" class=\"row_heading level0 row0\" >0</th>\n",
       "                        <td id=\"T_06403_row0_col0\" class=\"data row0 col0\" >0</td>\n",
       "                        <td id=\"T_06403_row0_col1\" class=\"data row0 col1\" >1</td>\n",
       "                        <td id=\"T_06403_row0_col2\" class=\"data row0 col2\" >1</td>\n",
       "                        <td id=\"T_06403_row0_col3\" class=\"data row0 col3\" >1</td>\n",
       "                        <td id=\"T_06403_row0_col4\" class=\"data row0 col4\" >1</td>\n",
       "                        <td id=\"T_06403_row0_col5\" class=\"data row0 col5\" >72</td>\n",
       "                        <td id=\"T_06403_row0_col6\" class=\"data row0 col6\" >72</td>\n",
       "                        <td id=\"T_06403_row0_col7\" class=\"data row0 col7\" >74</td>\n",
       "                        <td id=\"T_06403_row0_col8\" class=\"data row0 col8\" >72.666667</td>\n",
       "                        <td id=\"T_06403_row0_col9\" class=\"data row0 col9\" >1</td>\n",
       "            </tr>\n",
       "            <tr>\n",
       "                        <th id=\"T_06403_level0_row1\" class=\"row_heading level0 row1\" >1</th>\n",
       "                        <td id=\"T_06403_row1_col0\" class=\"data row1 col0\" >0</td>\n",
       "                        <td id=\"T_06403_row1_col1\" class=\"data row1 col1\" >2</td>\n",
       "                        <td id=\"T_06403_row1_col2\" class=\"data row1 col2\" >4</td>\n",
       "                        <td id=\"T_06403_row1_col3\" class=\"data row1 col3\" >1</td>\n",
       "                        <td id=\"T_06403_row1_col4\" class=\"data row1 col4\" >0</td>\n",
       "                        <td id=\"T_06403_row1_col5\" class=\"data row1 col5\" >69</td>\n",
       "                        <td id=\"T_06403_row1_col6\" class=\"data row1 col6\" >90</td>\n",
       "                        <td id=\"T_06403_row1_col7\" class=\"data row1 col7\" >88</td>\n",
       "                        <td id=\"T_06403_row1_col8\" class=\"data row1 col8\" >82.333333</td>\n",
       "                        <td id=\"T_06403_row1_col9\" class=\"data row1 col9\" >0</td>\n",
       "            </tr>\n",
       "            <tr>\n",
       "                        <th id=\"T_06403_level0_row2\" class=\"row_heading level0 row2\" >2</th>\n",
       "                        <td id=\"T_06403_row2_col0\" class=\"data row2 col0\" >0</td>\n",
       "                        <td id=\"T_06403_row2_col1\" class=\"data row2 col1\" >1</td>\n",
       "                        <td id=\"T_06403_row2_col2\" class=\"data row2 col2\" >3</td>\n",
       "                        <td id=\"T_06403_row2_col3\" class=\"data row2 col3\" >1</td>\n",
       "                        <td id=\"T_06403_row2_col4\" class=\"data row2 col4\" >1</td>\n",
       "                        <td id=\"T_06403_row2_col5\" class=\"data row2 col5\" >90</td>\n",
       "                        <td id=\"T_06403_row2_col6\" class=\"data row2 col6\" >95</td>\n",
       "                        <td id=\"T_06403_row2_col7\" class=\"data row2 col7\" >93</td>\n",
       "                        <td id=\"T_06403_row2_col8\" class=\"data row2 col8\" >92.666667</td>\n",
       "                        <td id=\"T_06403_row2_col9\" class=\"data row2 col9\" >0</td>\n",
       "            </tr>\n",
       "            <tr>\n",
       "                        <th id=\"T_06403_level0_row3\" class=\"row_heading level0 row3\" >3</th>\n",
       "                        <td id=\"T_06403_row3_col0\" class=\"data row3 col0\" >1</td>\n",
       "                        <td id=\"T_06403_row3_col1\" class=\"data row3 col1\" >0</td>\n",
       "                        <td id=\"T_06403_row3_col2\" class=\"data row3 col2\" >0</td>\n",
       "                        <td id=\"T_06403_row3_col3\" class=\"data row3 col3\" >0</td>\n",
       "                        <td id=\"T_06403_row3_col4\" class=\"data row3 col4\" >1</td>\n",
       "                        <td id=\"T_06403_row3_col5\" class=\"data row3 col5\" >47</td>\n",
       "                        <td id=\"T_06403_row3_col6\" class=\"data row3 col6\" >57</td>\n",
       "                        <td id=\"T_06403_row3_col7\" class=\"data row3 col7\" >44</td>\n",
       "                        <td id=\"T_06403_row3_col8\" class=\"data row3 col8\" >49.333333</td>\n",
       "                        <td id=\"T_06403_row3_col9\" class=\"data row3 col9\" >4</td>\n",
       "            </tr>\n",
       "            <tr>\n",
       "                        <th id=\"T_06403_level0_row4\" class=\"row_heading level0 row4\" >4</th>\n",
       "                        <td id=\"T_06403_row4_col0\" class=\"data row4 col0\" >1</td>\n",
       "                        <td id=\"T_06403_row4_col1\" class=\"data row4 col1\" >2</td>\n",
       "                        <td id=\"T_06403_row4_col2\" class=\"data row4 col2\" >4</td>\n",
       "                        <td id=\"T_06403_row4_col3\" class=\"data row4 col3\" >1</td>\n",
       "                        <td id=\"T_06403_row4_col4\" class=\"data row4 col4\" >1</td>\n",
       "                        <td id=\"T_06403_row4_col5\" class=\"data row4 col5\" >76</td>\n",
       "                        <td id=\"T_06403_row4_col6\" class=\"data row4 col6\" >78</td>\n",
       "                        <td id=\"T_06403_row4_col7\" class=\"data row4 col7\" >75</td>\n",
       "                        <td id=\"T_06403_row4_col8\" class=\"data row4 col8\" >76.333333</td>\n",
       "                        <td id=\"T_06403_row4_col9\" class=\"data row4 col9\" >1</td>\n",
       "            </tr>\n",
       "            <tr>\n",
       "                        <th id=\"T_06403_level0_row5\" class=\"row_heading level0 row5\" >5</th>\n",
       "                        <td id=\"T_06403_row5_col0\" class=\"data row5 col0\" >0</td>\n",
       "                        <td id=\"T_06403_row5_col1\" class=\"data row5 col1\" >1</td>\n",
       "                        <td id=\"T_06403_row5_col2\" class=\"data row5 col2\" >0</td>\n",
       "                        <td id=\"T_06403_row5_col3\" class=\"data row5 col3\" >1</td>\n",
       "                        <td id=\"T_06403_row5_col4\" class=\"data row5 col4\" >1</td>\n",
       "                        <td id=\"T_06403_row5_col5\" class=\"data row5 col5\" >71</td>\n",
       "                        <td id=\"T_06403_row5_col6\" class=\"data row5 col6\" >83</td>\n",
       "                        <td id=\"T_06403_row5_col7\" class=\"data row5 col7\" >78</td>\n",
       "                        <td id=\"T_06403_row5_col8\" class=\"data row5 col8\" >77.333333</td>\n",
       "                        <td id=\"T_06403_row5_col9\" class=\"data row5 col9\" >1</td>\n",
       "            </tr>\n",
       "            <tr>\n",
       "                        <th id=\"T_06403_level0_row6\" class=\"row_heading level0 row6\" >6</th>\n",
       "                        <td id=\"T_06403_row6_col0\" class=\"data row6 col0\" >0</td>\n",
       "                        <td id=\"T_06403_row6_col1\" class=\"data row6 col1\" >1</td>\n",
       "                        <td id=\"T_06403_row6_col2\" class=\"data row6 col2\" >4</td>\n",
       "                        <td id=\"T_06403_row6_col3\" class=\"data row6 col3\" >1</td>\n",
       "                        <td id=\"T_06403_row6_col4\" class=\"data row6 col4\" >0</td>\n",
       "                        <td id=\"T_06403_row6_col5\" class=\"data row6 col5\" >88</td>\n",
       "                        <td id=\"T_06403_row6_col6\" class=\"data row6 col6\" >95</td>\n",
       "                        <td id=\"T_06403_row6_col7\" class=\"data row6 col7\" >92</td>\n",
       "                        <td id=\"T_06403_row6_col8\" class=\"data row6 col8\" >91.666667</td>\n",
       "                        <td id=\"T_06403_row6_col9\" class=\"data row6 col9\" >0</td>\n",
       "            </tr>\n",
       "            <tr>\n",
       "                        <th id=\"T_06403_level0_row7\" class=\"row_heading level0 row7\" >7</th>\n",
       "                        <td id=\"T_06403_row7_col0\" class=\"data row7 col0\" >1</td>\n",
       "                        <td id=\"T_06403_row7_col1\" class=\"data row7 col1\" >1</td>\n",
       "                        <td id=\"T_06403_row7_col2\" class=\"data row7 col2\" >4</td>\n",
       "                        <td id=\"T_06403_row7_col3\" class=\"data row7 col3\" >0</td>\n",
       "                        <td id=\"T_06403_row7_col4\" class=\"data row7 col4\" >1</td>\n",
       "                        <td id=\"T_06403_row7_col5\" class=\"data row7 col5\" >40</td>\n",
       "                        <td id=\"T_06403_row7_col6\" class=\"data row7 col6\" >43</td>\n",
       "                        <td id=\"T_06403_row7_col7\" class=\"data row7 col7\" >39</td>\n",
       "                        <td id=\"T_06403_row7_col8\" class=\"data row7 col8\" >40.666667</td>\n",
       "                        <td id=\"T_06403_row7_col9\" class=\"data row7 col9\" >4</td>\n",
       "            </tr>\n",
       "            <tr>\n",
       "                        <th id=\"T_06403_level0_row8\" class=\"row_heading level0 row8\" >8</th>\n",
       "                        <td id=\"T_06403_row8_col0\" class=\"data row8 col0\" >1</td>\n",
       "                        <td id=\"T_06403_row8_col1\" class=\"data row8 col1\" >3</td>\n",
       "                        <td id=\"T_06403_row8_col2\" class=\"data row8 col2\" >2</td>\n",
       "                        <td id=\"T_06403_row8_col3\" class=\"data row8 col3\" >0</td>\n",
       "                        <td id=\"T_06403_row8_col4\" class=\"data row8 col4\" >0</td>\n",
       "                        <td id=\"T_06403_row8_col5\" class=\"data row8 col5\" >64</td>\n",
       "                        <td id=\"T_06403_row8_col6\" class=\"data row8 col6\" >64</td>\n",
       "                        <td id=\"T_06403_row8_col7\" class=\"data row8 col7\" >67</td>\n",
       "                        <td id=\"T_06403_row8_col8\" class=\"data row8 col8\" >65.000000</td>\n",
       "                        <td id=\"T_06403_row8_col9\" class=\"data row8 col9\" >2</td>\n",
       "            </tr>\n",
       "            <tr>\n",
       "                        <th id=\"T_06403_level0_row9\" class=\"row_heading level0 row9\" >9</th>\n",
       "                        <td id=\"T_06403_row9_col0\" class=\"data row9 col0\" >0</td>\n",
       "                        <td id=\"T_06403_row9_col1\" class=\"data row9 col1\" >1</td>\n",
       "                        <td id=\"T_06403_row9_col2\" class=\"data row9 col2\" >2</td>\n",
       "                        <td id=\"T_06403_row9_col3\" class=\"data row9 col3\" >0</td>\n",
       "                        <td id=\"T_06403_row9_col4\" class=\"data row9 col4\" >1</td>\n",
       "                        <td id=\"T_06403_row9_col5\" class=\"data row9 col5\" >38</td>\n",
       "                        <td id=\"T_06403_row9_col6\" class=\"data row9 col6\" >60</td>\n",
       "                        <td id=\"T_06403_row9_col7\" class=\"data row9 col7\" >50</td>\n",
       "                        <td id=\"T_06403_row9_col8\" class=\"data row9 col8\" >49.333333</td>\n",
       "                        <td id=\"T_06403_row9_col9\" class=\"data row9 col9\" >4</td>\n",
       "            </tr>\n",
       "            <tr>\n",
       "                        <th id=\"T_06403_level0_row10\" class=\"row_heading level0 row10\" >10</th>\n",
       "                        <td id=\"T_06403_row10_col0\" class=\"data row10 col0\" >1</td>\n",
       "                        <td id=\"T_06403_row10_col1\" class=\"data row10 col1\" >2</td>\n",
       "                        <td id=\"T_06403_row10_col2\" class=\"data row10 col2\" >0</td>\n",
       "                        <td id=\"T_06403_row10_col3\" class=\"data row10 col3\" >1</td>\n",
       "                        <td id=\"T_06403_row10_col4\" class=\"data row10 col4\" >1</td>\n",
       "                        <td id=\"T_06403_row10_col5\" class=\"data row10 col5\" >58</td>\n",
       "                        <td id=\"T_06403_row10_col6\" class=\"data row10 col6\" >54</td>\n",
       "                        <td id=\"T_06403_row10_col7\" class=\"data row10 col7\" >52</td>\n",
       "                        <td id=\"T_06403_row10_col8\" class=\"data row10 col8\" >54.666667</td>\n",
       "                        <td id=\"T_06403_row10_col9\" class=\"data row10 col9\" >3</td>\n",
       "            </tr>\n",
       "    </tbody></table>"
      ],
      "text/plain": [
       "<pandas.io.formats.style.Styler at 0x1e4823e25e0>"
      ]
     },
     "metadata": {},
     "execution_count": 428
    }
   ],
   "metadata": {}
  },
  {
   "cell_type": "code",
   "execution_count": 429,
   "source": [
    "stud_df.to_csv('./data/new_dataset.csv')"
   ],
   "outputs": [],
   "metadata": {}
  },
  {
   "cell_type": "code",
   "execution_count": 430,
   "source": [
    "new_df = pd.read_csv('./data/new_dataset.csv')\r\n",
    "print(new_df.shape)\r\n",
    "new_df.head()"
   ],
   "outputs": [
    {
     "output_type": "stream",
     "name": "stdout",
     "text": [
      "(1000, 11)\n"
     ]
    },
    {
     "output_type": "execute_result",
     "data": {
      "text/html": [
       "<div>\n",
       "<style scoped>\n",
       "    .dataframe tbody tr th:only-of-type {\n",
       "        vertical-align: middle;\n",
       "    }\n",
       "\n",
       "    .dataframe tbody tr th {\n",
       "        vertical-align: top;\n",
       "    }\n",
       "\n",
       "    .dataframe thead th {\n",
       "        text-align: right;\n",
       "    }\n",
       "</style>\n",
       "<table border=\"1\" class=\"dataframe\">\n",
       "  <thead>\n",
       "    <tr style=\"text-align: right;\">\n",
       "      <th></th>\n",
       "      <th>Unnamed: 0</th>\n",
       "      <th>gender</th>\n",
       "      <th>social_group</th>\n",
       "      <th>parent_education</th>\n",
       "      <th>lunch</th>\n",
       "      <th>test_prep_course</th>\n",
       "      <th>math_score</th>\n",
       "      <th>read_score</th>\n",
       "      <th>write_score</th>\n",
       "      <th>average</th>\n",
       "      <th>grade</th>\n",
       "    </tr>\n",
       "  </thead>\n",
       "  <tbody>\n",
       "    <tr>\n",
       "      <th>0</th>\n",
       "      <td>0</td>\n",
       "      <td>0</td>\n",
       "      <td>1</td>\n",
       "      <td>1</td>\n",
       "      <td>1</td>\n",
       "      <td>1</td>\n",
       "      <td>72</td>\n",
       "      <td>72</td>\n",
       "      <td>74</td>\n",
       "      <td>72.666667</td>\n",
       "      <td>1</td>\n",
       "    </tr>\n",
       "    <tr>\n",
       "      <th>1</th>\n",
       "      <td>1</td>\n",
       "      <td>0</td>\n",
       "      <td>2</td>\n",
       "      <td>4</td>\n",
       "      <td>1</td>\n",
       "      <td>0</td>\n",
       "      <td>69</td>\n",
       "      <td>90</td>\n",
       "      <td>88</td>\n",
       "      <td>82.333333</td>\n",
       "      <td>0</td>\n",
       "    </tr>\n",
       "    <tr>\n",
       "      <th>2</th>\n",
       "      <td>2</td>\n",
       "      <td>0</td>\n",
       "      <td>1</td>\n",
       "      <td>3</td>\n",
       "      <td>1</td>\n",
       "      <td>1</td>\n",
       "      <td>90</td>\n",
       "      <td>95</td>\n",
       "      <td>93</td>\n",
       "      <td>92.666667</td>\n",
       "      <td>0</td>\n",
       "    </tr>\n",
       "    <tr>\n",
       "      <th>3</th>\n",
       "      <td>3</td>\n",
       "      <td>1</td>\n",
       "      <td>0</td>\n",
       "      <td>0</td>\n",
       "      <td>0</td>\n",
       "      <td>1</td>\n",
       "      <td>47</td>\n",
       "      <td>57</td>\n",
       "      <td>44</td>\n",
       "      <td>49.333333</td>\n",
       "      <td>4</td>\n",
       "    </tr>\n",
       "    <tr>\n",
       "      <th>4</th>\n",
       "      <td>4</td>\n",
       "      <td>1</td>\n",
       "      <td>2</td>\n",
       "      <td>4</td>\n",
       "      <td>1</td>\n",
       "      <td>1</td>\n",
       "      <td>76</td>\n",
       "      <td>78</td>\n",
       "      <td>75</td>\n",
       "      <td>76.333333</td>\n",
       "      <td>1</td>\n",
       "    </tr>\n",
       "  </tbody>\n",
       "</table>\n",
       "</div>"
      ],
      "text/plain": [
       "   Unnamed: 0  gender  social_group  parent_education  lunch  \\\n",
       "0           0       0             1                 1      1   \n",
       "1           1       0             2                 4      1   \n",
       "2           2       0             1                 3      1   \n",
       "3           3       1             0                 0      0   \n",
       "4           4       1             2                 4      1   \n",
       "\n",
       "   test_prep_course  math_score  read_score  write_score    average  grade  \n",
       "0                 1          72          72           74  72.666667      1  \n",
       "1                 0          69          90           88  82.333333      0  \n",
       "2                 1          90          95           93  92.666667      0  \n",
       "3                 1          47          57           44  49.333333      4  \n",
       "4                 1          76          78           75  76.333333      1  "
      ]
     },
     "metadata": {},
     "execution_count": 430
    }
   ],
   "metadata": {}
  },
  {
   "cell_type": "code",
   "execution_count": 431,
   "source": [
    "grade_labels = {\r\n",
    "    0:'A',\r\n",
    "    1:'B',\r\n",
    "    2:'C',\r\n",
    "    3:'D',\r\n",
    "    4:'E',\r\n",
    "    5:'F'\r\n",
    "}"
   ],
   "outputs": [],
   "metadata": {}
  },
  {
   "cell_type": "code",
   "execution_count": 432,
   "source": [
    "X = new_df.iloc[:,5:-2]\r\n",
    "X.values[:10]"
   ],
   "outputs": [
    {
     "output_type": "execute_result",
     "data": {
      "text/plain": [
       "array([[ 1, 72, 72, 74],\n",
       "       [ 0, 69, 90, 88],\n",
       "       [ 1, 90, 95, 93],\n",
       "       [ 1, 47, 57, 44],\n",
       "       [ 1, 76, 78, 75],\n",
       "       [ 1, 71, 83, 78],\n",
       "       [ 0, 88, 95, 92],\n",
       "       [ 1, 40, 43, 39],\n",
       "       [ 0, 64, 64, 67],\n",
       "       [ 1, 38, 60, 50]], dtype=int64)"
      ]
     },
     "metadata": {},
     "execution_count": 432
    }
   ],
   "metadata": {}
  },
  {
   "cell_type": "code",
   "execution_count": 433,
   "source": [
    "y = new_df.iloc[:,-1]\r\n",
    "y"
   ],
   "outputs": [
    {
     "output_type": "execute_result",
     "data": {
      "text/plain": [
       "0      1\n",
       "1      0\n",
       "2      0\n",
       "3      4\n",
       "4      1\n",
       "      ..\n",
       "995    0\n",
       "996    3\n",
       "997    2\n",
       "998    1\n",
       "999    0\n",
       "Name: grade, Length: 1000, dtype: int64"
      ]
     },
     "metadata": {},
     "execution_count": 433
    }
   ],
   "metadata": {}
  },
  {
   "cell_type": "code",
   "execution_count": 440,
   "source": [
    "X_train, X_test, y_train, y_test = train_test_split(X, y, test_size=0.2, random_state=0)\r\n",
    "regressor = LinearRegression()\r\n",
    "regressor.fit(X_train, y_train)\r\n",
    "print(regressor.intercept_)\r\n",
    "print(regressor.coef_)\r\n",
    "y_pred = regressor.predict(X_test)\r\n",
    "df = pd.DataFrame({'Actual': y_test, 'Predicted': y_pred})\r\n",
    "df\r\n",
    "poly_reg = PolynomialFeatures(degree=4)\r\n",
    "x_poly = poly_reg.fit_transform(X_train)\r\n",
    "pol_reg = LinearRegression()\r\n",
    "pol_reg.fit(x_poly,y_train)\r\n"
   ],
   "outputs": [
    {
     "output_type": "stream",
     "name": "stdout",
     "text": [
      "7.796636133335283\n",
      "[ 0.00645034 -0.02801381 -0.03181631 -0.02916363]\n"
     ]
    },
    {
     "output_type": "execute_result",
     "data": {
      "text/plain": [
       "LinearRegression()"
      ]
     },
     "metadata": {},
     "execution_count": 440
    }
   ],
   "metadata": {}
  },
  {
   "cell_type": "code",
   "execution_count": 441,
   "source": [
    "y_pred = list(map(lambda x: int(x.round()),y_pred))"
   ],
   "outputs": [],
   "metadata": {}
  },
  {
   "cell_type": "code",
   "execution_count": 442,
   "source": [
    "df = pd.DataFrame({'Actual': y_test, 'Predicted': y_pred})\r\n",
    "df\r\n"
   ],
   "outputs": [
    {
     "output_type": "execute_result",
     "data": {
      "text/html": [
       "<div>\n",
       "<style scoped>\n",
       "    .dataframe tbody tr th:only-of-type {\n",
       "        vertical-align: middle;\n",
       "    }\n",
       "\n",
       "    .dataframe tbody tr th {\n",
       "        vertical-align: top;\n",
       "    }\n",
       "\n",
       "    .dataframe thead th {\n",
       "        text-align: right;\n",
       "    }\n",
       "</style>\n",
       "<table border=\"1\" class=\"dataframe\">\n",
       "  <thead>\n",
       "    <tr style=\"text-align: right;\">\n",
       "      <th></th>\n",
       "      <th>Actual</th>\n",
       "      <th>Predicted</th>\n",
       "    </tr>\n",
       "  </thead>\n",
       "  <tbody>\n",
       "    <tr>\n",
       "      <th>993</th>\n",
       "      <td>2</td>\n",
       "      <td>2</td>\n",
       "    </tr>\n",
       "    <tr>\n",
       "      <th>859</th>\n",
       "      <td>1</td>\n",
       "      <td>1</td>\n",
       "    </tr>\n",
       "    <tr>\n",
       "      <th>298</th>\n",
       "      <td>4</td>\n",
       "      <td>4</td>\n",
       "    </tr>\n",
       "    <tr>\n",
       "      <th>553</th>\n",
       "      <td>2</td>\n",
       "      <td>2</td>\n",
       "    </tr>\n",
       "    <tr>\n",
       "      <th>672</th>\n",
       "      <td>1</td>\n",
       "      <td>1</td>\n",
       "    </tr>\n",
       "    <tr>\n",
       "      <th>...</th>\n",
       "      <td>...</td>\n",
       "      <td>...</td>\n",
       "    </tr>\n",
       "    <tr>\n",
       "      <th>679</th>\n",
       "      <td>2</td>\n",
       "      <td>2</td>\n",
       "    </tr>\n",
       "    <tr>\n",
       "      <th>722</th>\n",
       "      <td>0</td>\n",
       "      <td>0</td>\n",
       "    </tr>\n",
       "    <tr>\n",
       "      <th>215</th>\n",
       "      <td>0</td>\n",
       "      <td>1</td>\n",
       "    </tr>\n",
       "    <tr>\n",
       "      <th>653</th>\n",
       "      <td>2</td>\n",
       "      <td>2</td>\n",
       "    </tr>\n",
       "    <tr>\n",
       "      <th>150</th>\n",
       "      <td>2</td>\n",
       "      <td>2</td>\n",
       "    </tr>\n",
       "  </tbody>\n",
       "</table>\n",
       "<p>200 rows × 2 columns</p>\n",
       "</div>"
      ],
      "text/plain": [
       "     Actual  Predicted\n",
       "993       2          2\n",
       "859       1          1\n",
       "298       4          4\n",
       "553       2          2\n",
       "672       1          1\n",
       "..      ...        ...\n",
       "679       2          2\n",
       "722       0          0\n",
       "215       0          1\n",
       "653       2          2\n",
       "150       2          2\n",
       "\n",
       "[200 rows x 2 columns]"
      ]
     },
     "metadata": {},
     "execution_count": 442
    }
   ],
   "metadata": {}
  },
  {
   "cell_type": "code",
   "execution_count": 444,
   "source": [
    "\r\n",
    "y_pred = pol_reg.predict(poly_reg.fit_transform(X_test))\r\n",
    "y_pred = list(map(lambda x: int(x.round()),y_pred))\r\n",
    "df = pd.DataFrame({'Actual': y_test, 'Predicted': y_pred})\r\n",
    "df"
   ],
   "outputs": [
    {
     "output_type": "execute_result",
     "data": {
      "text/html": [
       "<div>\n",
       "<style scoped>\n",
       "    .dataframe tbody tr th:only-of-type {\n",
       "        vertical-align: middle;\n",
       "    }\n",
       "\n",
       "    .dataframe tbody tr th {\n",
       "        vertical-align: top;\n",
       "    }\n",
       "\n",
       "    .dataframe thead th {\n",
       "        text-align: right;\n",
       "    }\n",
       "</style>\n",
       "<table border=\"1\" class=\"dataframe\">\n",
       "  <thead>\n",
       "    <tr style=\"text-align: right;\">\n",
       "      <th></th>\n",
       "      <th>Actual</th>\n",
       "      <th>Predicted</th>\n",
       "    </tr>\n",
       "  </thead>\n",
       "  <tbody>\n",
       "    <tr>\n",
       "      <th>993</th>\n",
       "      <td>2</td>\n",
       "      <td>2</td>\n",
       "    </tr>\n",
       "    <tr>\n",
       "      <th>859</th>\n",
       "      <td>1</td>\n",
       "      <td>1</td>\n",
       "    </tr>\n",
       "    <tr>\n",
       "      <th>298</th>\n",
       "      <td>4</td>\n",
       "      <td>4</td>\n",
       "    </tr>\n",
       "    <tr>\n",
       "      <th>553</th>\n",
       "      <td>2</td>\n",
       "      <td>2</td>\n",
       "    </tr>\n",
       "    <tr>\n",
       "      <th>672</th>\n",
       "      <td>1</td>\n",
       "      <td>1</td>\n",
       "    </tr>\n",
       "    <tr>\n",
       "      <th>...</th>\n",
       "      <td>...</td>\n",
       "      <td>...</td>\n",
       "    </tr>\n",
       "    <tr>\n",
       "      <th>679</th>\n",
       "      <td>2</td>\n",
       "      <td>2</td>\n",
       "    </tr>\n",
       "    <tr>\n",
       "      <th>722</th>\n",
       "      <td>0</td>\n",
       "      <td>0</td>\n",
       "    </tr>\n",
       "    <tr>\n",
       "      <th>215</th>\n",
       "      <td>0</td>\n",
       "      <td>0</td>\n",
       "    </tr>\n",
       "    <tr>\n",
       "      <th>653</th>\n",
       "      <td>2</td>\n",
       "      <td>1</td>\n",
       "    </tr>\n",
       "    <tr>\n",
       "      <th>150</th>\n",
       "      <td>2</td>\n",
       "      <td>2</td>\n",
       "    </tr>\n",
       "  </tbody>\n",
       "</table>\n",
       "<p>200 rows × 2 columns</p>\n",
       "</div>"
      ],
      "text/plain": [
       "     Actual  Predicted\n",
       "993       2          2\n",
       "859       1          1\n",
       "298       4          4\n",
       "553       2          2\n",
       "672       1          1\n",
       "..      ...        ...\n",
       "679       2          2\n",
       "722       0          0\n",
       "215       0          0\n",
       "653       2          1\n",
       "150       2          2\n",
       "\n",
       "[200 rows x 2 columns]"
      ]
     },
     "metadata": {},
     "execution_count": 444
    }
   ],
   "metadata": {}
  },
  {
   "cell_type": "code",
   "execution_count": 451,
   "source": [
    "plt.pyplot.plot(X,y,color='red')\r\n",
    "plt.pyplot.plot(X_test,y_pred,color='blue')\r\n",
    "plt.pyplot.show()"
   ],
   "outputs": [
    {
     "output_type": "display_data",
     "data": {
      "image/png": "[encoded data removed]",
      "image/svg+xml": "<?xml version=\"1.0\" encoding=\"utf-8\" standalone=\"no\"?>\r\n<!DOCTYPE svg PUBLIC \"-//W3C//DTD SVG 1.1//EN\"\r\n  \"http://www.w3.org/Graphics/SVG/1.1/DTD/svg11.dtd\">\r\n<svg height=\"248.518125pt\" version=\"1.1\" viewBox=\"0 0 362.5625 248.518125\" width=\"362.5625pt\" xmlns=\"http://www.w3.org/2000/svg\" xmlns:xlink=\"http://www.w3.org/1999/xlink\">\r\n <metadata>\r\n  <rdf:RDF xmlns:cc=\"http://creativecommons.org/ns#\" xmlns:dc=\"http://purl.org/dc/elements/1.1/\" xmlns:rdf=\"http://www.w3.org/1999/02/22-rdf-syntax-ns#\">\r\n   <cc:Work>\r\n    <dc:type rdf:resource=\"http://purl.org/dc/dcmitype/StillImage\"/>\r\n    <dc:date>2021-09-02T00:56:17.446594</dc:date>\r\n    <dc:format>image/svg+xml</dc:format>\r\n    <dc:creator>\r\n     <cc:Agent>\r\n      <dc:title>Matplotlib v3.4.2, https://matplotlib.org/</dc:title>\r\n     </cc:Agent>\r\n    </dc:creator>\r\n   </cc:Work>\r\n  </rdf:RDF>\r\n </metadata>\r\n <defs>\r\n  <style type=\"text/css\">*{stroke-linecap:butt;stroke-linejoin:round;}</style>\r\n </defs>\r\n <g id=\"figure_1\">\r\n  <g id=\"patch_1\">\r\n   <path d=\"M 0 248.518125 \r\nL 362.5625 248.518125 \r\nL 362.5625 0 \r\nL 0 0 \r\nz\r\n\" style=\"fill:none;\"/>\r\n  </g>\r\n  <g id=\"axes_1\">\r\n   <g id=\"patch_2\">\r\n    <path d=\"M 20.5625 224.64 \r\nL 355.3625 224.64 \r\nL 355.3625 7.2 \r\nL 20.5625 7.2 \r\nz\r\n\" style=\"fill:#ffffff;\"/>\r\n   </g>\r\n   <g id=\"matplotlib.axis_1\">\r\n    <g id=\"xtick_1\">\r\n     <g id=\"line2d_1\">\r\n      <defs>\r\n       <path d=\"M 0 0 \r\nL 0 3.5 \r\n\" id=\"m1774877b96\" style=\"stroke:#000000;stroke-width:0.8;\"/>\r\n      </defs>\r\n      <g>\r\n       <use style=\"stroke:#000000;stroke-width:0.8;\" x=\"35.780682\" xlink:href=\"#m1774877b96\" y=\"224.64\"/>\r\n      </g>\r\n     </g>\r\n     <g id=\"text_1\">\r\n      <!-- 0 -->\r\n      <g transform=\"translate(32.599432 239.238437)scale(0.1 -0.1)\">\r\n       <defs>\r\n        <path d=\"M 2034 4250 \r\nQ 1547 4250 1301 3770 \r\nQ 1056 3291 1056 2328 \r\nQ 1056 1369 1301 889 \r\nQ 1547 409 2034 409 \r\nQ 2525 409 2770 889 \r\nQ 3016 1369 3016 2328 \r\nQ 3016 3291 2770 3770 \r\nQ 2525 4250 2034 4250 \r\nz\r\nM 2034 4750 \r\nQ 2819 4750 3233 4129 \r\nQ 3647 3509 3647 2328 \r\nQ 3647 1150 3233 529 \r\nQ 2819 -91 2034 -91 \r\nQ 1250 -91 836 529 \r\nQ 422 1150 422 2328 \r\nQ 422 3509 836 4129 \r\nQ 1250 4750 2034 4750 \r\nz\r\n\" id=\"DejaVuSans-30\" transform=\"scale(0.015625)\"/>\r\n       </defs>\r\n       <use xlink:href=\"#DejaVuSans-30\"/>\r\n      </g>\r\n     </g>\r\n    </g>\r\n    <g id=\"xtick_2\">\r\n     <g id=\"line2d_2\">\r\n      <g>\r\n       <use style=\"stroke:#000000;stroke-width:0.8;\" x=\"96.653409\" xlink:href=\"#m1774877b96\" y=\"224.64\"/>\r\n      </g>\r\n     </g>\r\n     <g id=\"text_2\">\r\n      <!-- 20 -->\r\n      <g transform=\"translate(90.290909 239.238437)scale(0.1 -0.1)\">\r\n       <defs>\r\n        <path d=\"M 1228 531 \r\nL 3431 531 \r\nL 3431 0 \r\nL 469 0 \r\nL 469 531 \r\nQ 828 903 1448 1529 \r\nQ 2069 2156 2228 2338 \r\nQ 2531 2678 2651 2914 \r\nQ 2772 3150 2772 3378 \r\nQ 2772 3750 2511 3984 \r\nQ 2250 4219 1831 4219 \r\nQ 1534 4219 1204 4116 \r\nQ 875 4013 500 3803 \r\nL 500 4441 \r\nQ 881 4594 1212 4672 \r\nQ 1544 4750 1819 4750 \r\nQ 2544 4750 2975 4387 \r\nQ 3406 4025 3406 3419 \r\nQ 3406 3131 3298 2873 \r\nQ 3191 2616 2906 2266 \r\nQ 2828 2175 2409 1742 \r\nQ 1991 1309 1228 531 \r\nz\r\n\" id=\"DejaVuSans-32\" transform=\"scale(0.015625)\"/>\r\n       </defs>\r\n       <use xlink:href=\"#DejaVuSans-32\"/>\r\n       <use x=\"63.623047\" xlink:href=\"#DejaVuSans-30\"/>\r\n      </g>\r\n     </g>\r\n    </g>\r\n    <g id=\"xtick_3\">\r\n     <g id=\"line2d_3\">\r\n      <g>\r\n       <use style=\"stroke:#000000;stroke-width:0.8;\" x=\"157.526136\" xlink:href=\"#m1774877b96\" y=\"224.64\"/>\r\n      </g>\r\n     </g>\r\n     <g id=\"text_3\">\r\n      <!-- 40 -->\r\n      <g transform=\"translate(151.163636 239.238437)scale(0.1 -0.1)\">\r\n       <defs>\r\n        <path d=\"M 2419 4116 \r\nL 825 1625 \r\nL 2419 1625 \r\nL 2419 4116 \r\nz\r\nM 2253 4666 \r\nL 3047 4666 \r\nL 3047 1625 \r\nL 3713 1625 \r\nL 3713 1100 \r\nL 3047 1100 \r\nL 3047 0 \r\nL 2419 0 \r\nL 2419 1100 \r\nL 313 1100 \r\nL 313 1709 \r\nL 2253 4666 \r\nz\r\n\" id=\"DejaVuSans-34\" transform=\"scale(0.015625)\"/>\r\n       </defs>\r\n       <use xlink:href=\"#DejaVuSans-34\"/>\r\n       <use x=\"63.623047\" xlink:href=\"#DejaVuSans-30\"/>\r\n      </g>\r\n     </g>\r\n    </g>\r\n    <g id=\"xtick_4\">\r\n     <g id=\"line2d_4\">\r\n      <g>\r\n       <use style=\"stroke:#000000;stroke-width:0.8;\" x=\"218.398864\" xlink:href=\"#m1774877b96\" y=\"224.64\"/>\r\n      </g>\r\n     </g>\r\n     <g id=\"text_4\">\r\n      <!-- 60 -->\r\n      <g transform=\"translate(212.036364 239.238437)scale(0.1 -0.1)\">\r\n       <defs>\r\n        <path d=\"M 2113 2584 \r\nQ 1688 2584 1439 2293 \r\nQ 1191 2003 1191 1497 \r\nQ 1191 994 1439 701 \r\nQ 1688 409 2113 409 \r\nQ 2538 409 2786 701 \r\nQ 3034 994 3034 1497 \r\nQ 3034 2003 2786 2293 \r\nQ 2538 2584 2113 2584 \r\nz\r\nM 3366 4563 \r\nL 3366 3988 \r\nQ 3128 4100 2886 4159 \r\nQ 2644 4219 2406 4219 \r\nQ 1781 4219 1451 3797 \r\nQ 1122 3375 1075 2522 \r\nQ 1259 2794 1537 2939 \r\nQ 1816 3084 2150 3084 \r\nQ 2853 3084 3261 2657 \r\nQ 3669 2231 3669 1497 \r\nQ 3669 778 3244 343 \r\nQ 2819 -91 2113 -91 \r\nQ 1303 -91 875 529 \r\nQ 447 1150 447 2328 \r\nQ 447 3434 972 4092 \r\nQ 1497 4750 2381 4750 \r\nQ 2619 4750 2861 4703 \r\nQ 3103 4656 3366 4563 \r\nz\r\n\" id=\"DejaVuSans-36\" transform=\"scale(0.015625)\"/>\r\n       </defs>\r\n       <use xlink:href=\"#DejaVuSans-36\"/>\r\n       <use x=\"63.623047\" xlink:href=\"#DejaVuSans-30\"/>\r\n      </g>\r\n     </g>\r\n    </g>\r\n    <g id=\"xtick_5\">\r\n     <g id=\"line2d_5\">\r\n      <g>\r\n       <use style=\"stroke:#000000;stroke-width:0.8;\" x=\"279.271591\" xlink:href=\"#m1774877b96\" y=\"224.64\"/>\r\n      </g>\r\n     </g>\r\n     <g id=\"text_5\">\r\n      <!-- 80 -->\r\n      <g transform=\"translate(272.909091 239.238437)scale(0.1 -0.1)\">\r\n       <defs>\r\n        <path d=\"M 2034 2216 \r\nQ 1584 2216 1326 1975 \r\nQ 1069 1734 1069 1313 \r\nQ 1069 891 1326 650 \r\nQ 1584 409 2034 409 \r\nQ 2484 409 2743 651 \r\nQ 3003 894 3003 1313 \r\nQ 3003 1734 2745 1975 \r\nQ 2488 2216 2034 2216 \r\nz\r\nM 1403 2484 \r\nQ 997 2584 770 2862 \r\nQ 544 3141 544 3541 \r\nQ 544 4100 942 4425 \r\nQ 1341 4750 2034 4750 \r\nQ 2731 4750 3128 4425 \r\nQ 3525 4100 3525 3541 \r\nQ 3525 3141 3298 2862 \r\nQ 3072 2584 2669 2484 \r\nQ 3125 2378 3379 2068 \r\nQ 3634 1759 3634 1313 \r\nQ 3634 634 3220 271 \r\nQ 2806 -91 2034 -91 \r\nQ 1263 -91 848 271 \r\nQ 434 634 434 1313 \r\nQ 434 1759 690 2068 \r\nQ 947 2378 1403 2484 \r\nz\r\nM 1172 3481 \r\nQ 1172 3119 1398 2916 \r\nQ 1625 2713 2034 2713 \r\nQ 2441 2713 2670 2916 \r\nQ 2900 3119 2900 3481 \r\nQ 2900 3844 2670 4047 \r\nQ 2441 4250 2034 4250 \r\nQ 1625 4250 1398 4047 \r\nQ 1172 3844 1172 3481 \r\nz\r\n\" id=\"DejaVuSans-38\" transform=\"scale(0.015625)\"/>\r\n       </defs>\r\n       <use xlink:href=\"#DejaVuSans-38\"/>\r\n       <use x=\"63.623047\" xlink:href=\"#DejaVuSans-30\"/>\r\n      </g>\r\n     </g>\r\n    </g>\r\n    <g id=\"xtick_6\">\r\n     <g id=\"line2d_6\">\r\n      <g>\r\n       <use style=\"stroke:#000000;stroke-width:0.8;\" x=\"340.144318\" xlink:href=\"#m1774877b96\" y=\"224.64\"/>\r\n      </g>\r\n     </g>\r\n     <g id=\"text_6\">\r\n      <!-- 100 -->\r\n      <g transform=\"translate(330.600568 239.238437)scale(0.1 -0.1)\">\r\n       <defs>\r\n        <path d=\"M 794 531 \r\nL 1825 531 \r\nL 1825 4091 \r\nL 703 3866 \r\nL 703 4441 \r\nL 1819 4666 \r\nL 2450 4666 \r\nL 2450 531 \r\nL 3481 531 \r\nL 3481 0 \r\nL 794 0 \r\nL 794 531 \r\nz\r\n\" id=\"DejaVuSans-31\" transform=\"scale(0.015625)\"/>\r\n       </defs>\r\n       <use xlink:href=\"#DejaVuSans-31\"/>\r\n       <use x=\"63.623047\" xlink:href=\"#DejaVuSans-30\"/>\r\n       <use x=\"127.246094\" xlink:href=\"#DejaVuSans-30\"/>\r\n      </g>\r\n     </g>\r\n    </g>\r\n   </g>\r\n   <g id=\"matplotlib.axis_2\">\r\n    <g id=\"ytick_1\">\r\n     <g id=\"line2d_7\">\r\n      <defs>\r\n       <path d=\"M 0 0 \r\nL -3.5 0 \r\n\" id=\"m052185dc30\" style=\"stroke:#000000;stroke-width:0.8;\"/>\r\n      </defs>\r\n      <g>\r\n       <use style=\"stroke:#000000;stroke-width:0.8;\" x=\"20.5625\" xlink:href=\"#m052185dc30\" y=\"214.756364\"/>\r\n      </g>\r\n     </g>\r\n     <g id=\"text_7\">\r\n      <!-- 0 -->\r\n      <g transform=\"translate(7.2 218.555582)scale(0.1 -0.1)\">\r\n       <use xlink:href=\"#DejaVuSans-30\"/>\r\n      </g>\r\n     </g>\r\n    </g>\r\n    <g id=\"ytick_2\">\r\n     <g id=\"line2d_8\">\r\n      <g>\r\n       <use style=\"stroke:#000000;stroke-width:0.8;\" x=\"20.5625\" xlink:href=\"#m052185dc30\" y=\"181.810909\"/>\r\n      </g>\r\n     </g>\r\n     <g id=\"text_8\">\r\n      <!-- 1 -->\r\n      <g transform=\"translate(7.2 185.610128)scale(0.1 -0.1)\">\r\n       <use xlink:href=\"#DejaVuSans-31\"/>\r\n      </g>\r\n     </g>\r\n    </g>\r\n    <g id=\"ytick_3\">\r\n     <g id=\"line2d_9\">\r\n      <g>\r\n       <use style=\"stroke:#000000;stroke-width:0.8;\" x=\"20.5625\" xlink:href=\"#m052185dc30\" y=\"148.865455\"/>\r\n      </g>\r\n     </g>\r\n     <g id=\"text_9\">\r\n      <!-- 2 -->\r\n      <g transform=\"translate(7.2 152.664673)scale(0.1 -0.1)\">\r\n       <use xlink:href=\"#DejaVuSans-32\"/>\r\n      </g>\r\n     </g>\r\n    </g>\r\n    <g id=\"ytick_4\">\r\n     <g id=\"line2d_10\">\r\n      <g>\r\n       <use style=\"stroke:#000000;stroke-width:0.8;\" x=\"20.5625\" xlink:href=\"#m052185dc30\" y=\"115.92\"/>\r\n      </g>\r\n     </g>\r\n     <g id=\"text_10\">\r\n      <!-- 3 -->\r\n      <g transform=\"translate(7.2 119.719219)scale(0.1 -0.1)\">\r\n       <defs>\r\n        <path d=\"M 2597 2516 \r\nQ 3050 2419 3304 2112 \r\nQ 3559 1806 3559 1356 \r\nQ 3559 666 3084 287 \r\nQ 2609 -91 1734 -91 \r\nQ 1441 -91 1130 -33 \r\nQ 819 25 488 141 \r\nL 488 750 \r\nQ 750 597 1062 519 \r\nQ 1375 441 1716 441 \r\nQ 2309 441 2620 675 \r\nQ 2931 909 2931 1356 \r\nQ 2931 1769 2642 2001 \r\nQ 2353 2234 1838 2234 \r\nL 1294 2234 \r\nL 1294 2753 \r\nL 1863 2753 \r\nQ 2328 2753 2575 2939 \r\nQ 2822 3125 2822 3475 \r\nQ 2822 3834 2567 4026 \r\nQ 2313 4219 1838 4219 \r\nQ 1578 4219 1281 4162 \r\nQ 984 4106 628 3988 \r\nL 628 4550 \r\nQ 988 4650 1302 4700 \r\nQ 1616 4750 1894 4750 \r\nQ 2613 4750 3031 4423 \r\nQ 3450 4097 3450 3541 \r\nQ 3450 3153 3228 2886 \r\nQ 3006 2619 2597 2516 \r\nz\r\n\" id=\"DejaVuSans-33\" transform=\"scale(0.015625)\"/>\r\n       </defs>\r\n       <use xlink:href=\"#DejaVuSans-33\"/>\r\n      </g>\r\n     </g>\r\n    </g>\r\n    <g id=\"ytick_5\">\r\n     <g id=\"line2d_11\">\r\n      <g>\r\n       <use style=\"stroke:#000000;stroke-width:0.8;\" x=\"20.5625\" xlink:href=\"#m052185dc30\" y=\"82.974545\"/>\r\n      </g>\r\n     </g>\r\n     <g id=\"text_11\">\r\n      <!-- 4 -->\r\n      <g transform=\"translate(7.2 86.773764)scale(0.1 -0.1)\">\r\n       <use xlink:href=\"#DejaVuSans-34\"/>\r\n      </g>\r\n     </g>\r\n    </g>\r\n    <g id=\"ytick_6\">\r\n     <g id=\"line2d_12\">\r\n      <g>\r\n       <use style=\"stroke:#000000;stroke-width:0.8;\" x=\"20.5625\" xlink:href=\"#m052185dc30\" y=\"50.029091\"/>\r\n      </g>\r\n     </g>\r\n     <g id=\"text_12\">\r\n      <!-- 5 -->\r\n      <g transform=\"translate(7.2 53.82831)scale(0.1 -0.1)\">\r\n       <defs>\r\n        <path d=\"M 691 4666 \r\nL 3169 4666 \r\nL 3169 4134 \r\nL 1269 4134 \r\nL 1269 2991 \r\nQ 1406 3038 1543 3061 \r\nQ 1681 3084 1819 3084 \r\nQ 2600 3084 3056 2656 \r\nQ 3513 2228 3513 1497 \r\nQ 3513 744 3044 326 \r\nQ 2575 -91 1722 -91 \r\nQ 1428 -91 1123 -41 \r\nQ 819 9 494 109 \r\nL 494 744 \r\nQ 775 591 1075 516 \r\nQ 1375 441 1709 441 \r\nQ 2250 441 2565 725 \r\nQ 2881 1009 2881 1497 \r\nQ 2881 1984 2565 2268 \r\nQ 2250 2553 1709 2553 \r\nQ 1456 2553 1204 2497 \r\nQ 953 2441 691 2322 \r\nL 691 4666 \r\nz\r\n\" id=\"DejaVuSans-35\" transform=\"scale(0.015625)\"/>\r\n       </defs>\r\n       <use xlink:href=\"#DejaVuSans-35\"/>\r\n      </g>\r\n     </g>\r\n    </g>\r\n    <g id=\"ytick_7\">\r\n     <g id=\"line2d_13\">\r\n      <g>\r\n       <use style=\"stroke:#000000;stroke-width:0.8;\" x=\"20.5625\" xlink:href=\"#m052185dc30\" y=\"17.083636\"/>\r\n      </g>\r\n     </g>\r\n     <g id=\"text_13\">\r\n      <!-- 6 -->\r\n      <g transform=\"translate(7.2 20.882855)scale(0.1 -0.1)\">\r\n       <use xlink:href=\"#DejaVuSans-36\"/>\r\n      </g>\r\n     </g>\r\n    </g>\r\n   </g>\r\n   <g id=\"line2d_14\">\r\n    <path clip-path=\"url(#pff1b1d578e)\" d=\"M 38.824318 181.810909 \r\nL 35.780682 214.756364 \r\nL 38.824318 214.756364 \r\nL 38.824318 82.974545 \r\nL 38.824318 181.810909 \r\nL 35.780682 214.756364 \r\nL 38.824318 82.974545 \r\nL 35.780682 148.865455 \r\nL 38.824318 82.974545 \r\nL 38.824318 181.810909 \r\nL 35.780682 181.810909 \r\nL 38.824318 115.92 \r\nL 38.824318 214.756364 \r\nL 38.824318 50.029091 \r\nL 35.780682 82.974545 \r\nL 38.824318 115.92 \r\nL 38.824318 148.865455 \r\nL 35.780682 181.810909 \r\nL 38.824318 115.92 \r\nL 38.824318 181.810909 \r\nL 35.780682 181.810909 \r\nL 38.824318 181.810909 \r\nL 38.824318 82.974545 \r\nL 38.824318 214.756364 \r\nL 35.780682 214.756364 \r\nL 38.824318 181.810909 \r\nL 38.824318 115.92 \r\nL 35.780682 214.756364 \r\nL 38.824318 115.92 \r\nL 38.824318 148.865455 \r\nL 38.824318 115.92 \r\nL 35.780682 148.865455 \r\nL 35.780682 148.865455 \r\nL 38.824318 181.810909 \r\nL 35.780682 148.865455 \r\nL 35.780682 214.756364 \r\nL 38.824318 115.92 \r\nL 35.780682 181.810909 \r\nL 38.824318 82.974545 \r\nL 38.824318 214.756364 \r\nL 35.780682 214.756364 \r\nL 38.824318 50.029091 \r\nL 35.780682 214.756364 \r\nL 38.824318 115.92 \r\nL 35.780682 115.92 \r\nL 38.824318 50.029091 \r\nL 35.780682 181.810909 \r\nL 38.824318 50.029091 \r\nL 38.824318 181.810909 \r\nL 38.824318 115.92 \r\nL 35.780682 148.865455 \r\nL 35.780682 148.865455 \r\nL 38.824318 82.974545 \r\nL 38.824318 115.92 \r\nL 38.824318 50.029091 \r\nL 35.780682 181.810909 \r\nL 35.780682 148.865455 \r\nL 38.824318 148.865455 \r\nL 38.824318 82.974545 \r\nL 38.824318 82.974545 \r\nL 35.780682 115.92 \r\nL 38.824318 148.865455 \r\nL 38.824318 50.029091 \r\nL 38.824318 214.756364 \r\nL 38.824318 181.810909 \r\nL 35.780682 82.974545 \r\nL 38.824318 214.756364 \r\nL 35.780682 214.756364 \r\nL 35.780682 148.865455 \r\nL 35.780682 148.865455 \r\nL 38.824318 148.865455 \r\nL 38.824318 148.865455 \r\nL 38.824318 181.810909 \r\nL 35.780682 181.810909 \r\nL 38.824318 214.756364 \r\nL 35.780682 115.92 \r\nL 35.780682 214.756364 \r\nL 38.824318 148.865455 \r\nL 38.824318 214.756364 \r\nL 35.780682 148.865455 \r\nL 38.824318 148.865455 \r\nL 38.824318 148.865455 \r\nL 35.780682 214.756364 \r\nL 38.824318 115.92 \r\nL 35.780682 214.756364 \r\nL 38.824318 181.810909 \r\nL 38.824318 214.756364 \r\nL 38.824318 115.92 \r\nL 38.824318 148.865455 \r\nL 35.780682 214.756364 \r\nL 35.780682 214.756364 \r\nL 38.824318 115.92 \r\nL 38.824318 214.756364 \r\nL 38.824318 148.865455 \r\nL 35.780682 181.810909 \r\nL 38.824318 181.810909 \r\nL 38.824318 115.92 \r\nL 38.824318 214.756364 \r\nL 35.780682 82.974545 \r\nL 35.780682 214.756364 \r\nL 35.780682 181.810909 \r\nL 38.824318 115.92 \r\nL 35.780682 82.974545 \r\nL 38.824318 148.865455 \r\nL 38.824318 148.865455 \r\nL 35.780682 148.865455 \r\nL 38.824318 181.810909 \r\nL 38.824318 148.865455 \r\nL 35.780682 115.92 \r\nL 38.824318 82.974545 \r\nL 38.824318 214.756364 \r\nL 38.824318 50.029091 \r\nL 38.824318 148.865455 \r\nL 35.780682 181.810909 \r\nL 35.780682 214.756364 \r\nL 35.780682 148.865455 \r\nL 38.824318 181.810909 \r\nL 35.780682 148.865455 \r\nL 38.824318 115.92 \r\nL 38.824318 148.865455 \r\nL 35.780682 214.756364 \r\nL 35.780682 181.810909 \r\nL 38.824318 148.865455 \r\nL 35.780682 181.810909 \r\nL 35.780682 214.756364 \r\nL 38.824318 115.92 \r\nL 38.824318 115.92 \r\nL 38.824318 214.756364 \r\nL 35.780682 214.756364 \r\nL 35.780682 115.92 \r\nL 35.780682 181.810909 \r\nL 38.824318 214.756364 \r\nL 38.824318 214.756364 \r\nL 38.824318 148.865455 \r\nL 35.780682 82.974545 \r\nL 35.780682 214.756364 \r\nL 35.780682 148.865455 \r\nL 38.824318 115.92 \r\nL 38.824318 82.974545 \r\nL 38.824318 148.865455 \r\nL 35.780682 82.974545 \r\nL 35.780682 148.865455 \r\nL 38.824318 181.810909 \r\nL 35.780682 148.865455 \r\nL 38.824318 82.974545 \r\nL 38.824318 214.756364 \r\nL 38.824318 148.865455 \r\nL 35.780682 181.810909 \r\nL 38.824318 148.865455 \r\nL 35.780682 148.865455 \r\nL 35.780682 181.810909 \r\nL 38.824318 115.92 \r\nL 35.780682 148.865455 \r\nL 38.824318 115.92 \r\nL 38.824318 181.810909 \r\nL 35.780682 181.810909 \r\nL 38.824318 181.810909 \r\nL 38.824318 82.974545 \r\nL 35.780682 181.810909 \r\nL 38.824318 148.865455 \r\nL 35.780682 181.810909 \r\nL 38.824318 181.810909 \r\nL 38.824318 148.865455 \r\nL 35.780682 181.810909 \r\nL 38.824318 50.029091 \r\nL 38.824318 115.92 \r\nL 35.780682 115.92 \r\nL 35.780682 214.756364 \r\nL 35.780682 214.756364 \r\nL 38.824318 50.029091 \r\nL 38.824318 181.810909 \r\nL 35.780682 115.92 \r\nL 35.780682 148.865455 \r\nL 38.824318 214.756364 \r\nL 38.824318 148.865455 \r\nL 38.824318 214.756364 \r\nL 35.780682 148.865455 \r\nL 38.824318 115.92 \r\nL 38.824318 181.810909 \r\nL 38.824318 148.865455 \r\nL 35.780682 214.756364 \r\nL 38.824318 148.865455 \r\nL 38.824318 82.974545 \r\nL 38.824318 214.756364 \r\nL 35.780682 214.756364 \r\nL 38.824318 181.810909 \r\nL 38.824318 148.865455 \r\nL 35.780682 148.865455 \r\nL 38.824318 115.92 \r\nL 38.824318 214.756364 \r\nL 35.780682 148.865455 \r\nL 38.824318 214.756364 \r\nL 38.824318 115.92 \r\nL 38.824318 181.810909 \r\nL 35.780682 148.865455 \r\nL 38.824318 148.865455 \r\nL 38.824318 148.865455 \r\nL 35.780682 82.974545 \r\nL 38.824318 181.810909 \r\nL 35.780682 148.865455 \r\nL 38.824318 181.810909 \r\nL 38.824318 115.92 \r\nL 38.824318 148.865455 \r\nL 35.780682 181.810909 \r\nL 38.824318 181.810909 \r\nL 35.780682 181.810909 \r\nL 38.824318 82.974545 \r\nL 38.824318 214.756364 \r\nL 38.824318 181.810909 \r\nL 35.780682 214.756364 \r\nL 38.824318 181.810909 \r\nL 38.824318 82.974545 \r\nL 38.824318 148.865455 \r\nL 35.780682 214.756364 \r\nL 38.824318 181.810909 \r\nL 35.780682 214.756364 \r\nL 35.780682 148.865455 \r\nL 38.824318 181.810909 \r\nL 38.824318 82.974545 \r\nL 38.824318 181.810909 \r\nL 35.780682 181.810909 \r\nL 38.824318 82.974545 \r\nL 35.780682 214.756364 \r\nL 35.780682 214.756364 \r\nL 38.824318 181.810909 \r\nL 38.824318 181.810909 \r\nL 35.780682 181.810909 \r\nL 38.824318 181.810909 \r\nL 35.780682 148.865455 \r\nL 38.824318 181.810909 \r\nL 35.780682 181.810909 \r\nL 38.824318 148.865455 \r\nL 35.780682 82.974545 \r\nL 35.780682 181.810909 \r\nL 35.780682 82.974545 \r\nL 38.824318 214.756364 \r\nL 35.780682 214.756364 \r\nL 38.824318 115.92 \r\nL 35.780682 181.810909 \r\nL 38.824318 181.810909 \r\nL 35.780682 181.810909 \r\nL 38.824318 148.865455 \r\nL 35.780682 214.756364 \r\nL 38.824318 82.974545 \r\nL 38.824318 181.810909 \r\nL 38.824318 148.865455 \r\nL 35.780682 148.865455 \r\nL 38.824318 148.865455 \r\nL 35.780682 214.756364 \r\nL 38.824318 181.810909 \r\nL 38.824318 148.865455 \r\nL 38.824318 148.865455 \r\nL 35.780682 181.810909 \r\nL 38.824318 214.756364 \r\nL 38.824318 50.029091 \r\nL 35.780682 181.810909 \r\nL 38.824318 82.974545 \r\nL 38.824318 148.865455 \r\nL 38.824318 50.029091 \r\nL 35.780682 115.92 \r\nL 38.824318 214.756364 \r\nL 38.824318 214.756364 \r\nL 38.824318 148.865455 \r\nL 35.780682 181.810909 \r\nL 38.824318 82.974545 \r\nL 38.824318 50.029091 \r\nL 35.780682 115.92 \r\nL 38.824318 115.92 \r\nL 38.824318 148.865455 \r\nL 35.780682 181.810909 \r\nL 35.780682 148.865455 \r\nL 38.824318 181.810909 \r\nL 38.824318 181.810909 \r\nL 38.824318 148.865455 \r\nL 35.780682 214.756364 \r\nL 38.824318 181.810909 \r\nL 38.824318 181.810909 \r\nL 38.824318 115.92 \r\nL 35.780682 181.810909 \r\nL 38.824318 115.92 \r\nL 38.824318 148.865455 \r\nL 38.824318 148.865455 \r\nL 35.780682 115.92 \r\nL 38.824318 148.865455 \r\nL 38.824318 214.756364 \r\nL 38.824318 115.92 \r\nL 35.780682 214.756364 \r\nL 38.824318 115.92 \r\nL 38.824318 50.029091 \r\nL 38.824318 115.92 \r\nL 35.780682 115.92 \r\nL 35.780682 148.865455 \r\nL 38.824318 148.865455 \r\nL 38.824318 115.92 \r\nL 38.824318 214.756364 \r\nL 38.824318 181.810909 \r\nL 35.780682 148.865455 \r\nL 38.824318 181.810909 \r\nL 35.780682 214.756364 \r\nL 38.824318 148.865455 \r\nL 38.824318 82.974545 \r\nL 38.824318 214.756364 \r\nL 35.780682 214.756364 \r\nL 38.824318 181.810909 \r\nL 38.824318 148.865455 \r\nL 38.824318 214.756364 \r\nL 35.780682 214.756364 \r\nL 38.824318 181.810909 \r\nL 38.824318 82.974545 \r\nL 38.824318 181.810909 \r\nL 35.780682 148.865455 \r\nL 38.824318 181.810909 \r\nL 35.780682 115.92 \r\nL 35.780682 181.810909 \r\nL 38.824318 82.974545 \r\nL 38.824318 214.756364 \r\nL 38.824318 115.92 \r\nL 35.780682 148.865455 \r\nL 38.824318 82.974545 \r\nL 38.824318 115.92 \r\nL 35.780682 214.756364 \r\nL 38.824318 115.92 \r\nL 38.824318 148.865455 \r\nL 35.780682 148.865455 \r\nL 38.824318 181.810909 \r\nL 35.780682 115.92 \r\nL 35.780682 214.756364 \r\nL 35.780682 214.756364 \r\nL 38.824318 148.865455 \r\nL 35.780682 148.865455 \r\nL 35.780682 148.865455 \r\nL 38.824318 181.810909 \r\nL 35.780682 181.810909 \r\nL 38.824318 181.810909 \r\nL 38.824318 148.865455 \r\nL 35.780682 115.92 \r\nL 35.780682 214.756364 \r\nL 35.780682 181.810909 \r\nL 38.824318 50.029091 \r\nL 38.824318 214.756364 \r\nL 38.824318 148.865455 \r\nL 35.780682 115.92 \r\nL 38.824318 148.865455 \r\nL 38.824318 181.810909 \r\nL 38.824318 115.92 \r\nL 35.780682 214.756364 \r\nL 35.780682 181.810909 \r\nL 38.824318 181.810909 \r\nL 38.824318 148.865455 \r\nL 38.824318 181.810909 \r\nL 35.780682 181.810909 \r\nL 38.824318 148.865455 \r\nL 35.780682 214.756364 \r\nL 38.824318 82.974545 \r\nL 38.824318 181.810909 \r\nL 35.780682 181.810909 \r\nL 38.824318 214.756364 \r\nL 38.824318 82.974545 \r\nL 38.824318 214.756364 \r\nL 35.780682 148.865455 \r\nL 38.824318 115.92 \r\nL 38.824318 115.92 \r\nL 38.824318 214.756364 \r\nL 35.780682 148.865455 \r\nL 38.824318 214.756364 \r\nL 38.824318 50.029091 \r\nL 35.780682 148.865455 \r\nL 35.780682 214.756364 \r\nL 38.824318 214.756364 \r\nL 35.780682 214.756364 \r\nL 38.824318 148.865455 \r\nL 35.780682 181.810909 \r\nL 38.824318 148.865455 \r\nL 35.780682 214.756364 \r\nL 35.780682 148.865455 \r\nL 38.824318 181.810909 \r\nL 38.824318 148.865455 \r\nL 38.824318 181.810909 \r\nL 35.780682 181.810909 \r\nL 38.824318 115.92 \r\nL 38.824318 181.810909 \r\nL 38.824318 148.865455 \r\nL 35.780682 115.92 \r\nL 35.780682 214.756364 \r\nL 38.824318 181.810909 \r\nL 38.824318 148.865455 \r\nL 38.824318 214.756364 \r\nL 38.824318 148.865455 \r\nL 35.780682 148.865455 \r\nL 38.824318 115.92 \r\nL 35.780682 181.810909 \r\nL 38.824318 148.865455 \r\nL 38.824318 181.810909 \r\nL 38.824318 181.810909 \r\nL 35.780682 214.756364 \r\nL 38.824318 115.92 \r\nL 38.824318 115.92 \r\nL 38.824318 214.756364 \r\nL 38.824318 115.92 \r\nL 35.780682 115.92 \r\nL 35.780682 214.756364 \r\nL 35.780682 214.756364 \r\nL 38.824318 214.756364 \r\nL 35.780682 181.810909 \r\nL 35.780682 181.810909 \r\nL 38.824318 115.92 \r\nL 38.824318 214.756364 \r\nL 38.824318 115.92 \r\nL 35.780682 115.92 \r\nL 38.824318 148.865455 \r\nL 35.780682 115.92 \r\nL 38.824318 82.974545 \r\nL 38.824318 50.029091 \r\nL 38.824318 148.865455 \r\nL 35.780682 148.865455 \r\nL 38.824318 115.92 \r\nL 35.780682 148.865455 \r\nL 35.780682 214.756364 \r\nL 35.780682 115.92 \r\nL 38.824318 115.92 \r\nL 35.780682 181.810909 \r\nL 35.780682 214.756364 \r\nL 35.780682 214.756364 \r\nL 38.824318 181.810909 \r\nL 38.824318 214.756364 \r\nL 38.824318 148.865455 \r\nL 35.780682 214.756364 \r\nL 35.780682 214.756364 \r\nL 35.780682 148.865455 \r\nL 38.824318 148.865455 \r\nL 38.824318 181.810909 \r\nL 38.824318 181.810909 \r\nL 35.780682 214.756364 \r\nL 38.824318 82.974545 \r\nL 38.824318 148.865455 \r\nL 38.824318 50.029091 \r\nL 35.780682 148.865455 \r\nL 38.824318 148.865455 \r\nL 38.824318 148.865455 \r\nL 35.780682 181.810909 \r\nL 38.824318 181.810909 \r\nL 35.780682 214.756364 \r\nL 35.780682 181.810909 \r\nL 38.824318 82.974545 \r\nL 38.824318 82.974545 \r\nL 35.780682 214.756364 \r\nL 35.780682 181.810909 \r\nL 38.824318 115.92 \r\nL 38.824318 148.865455 \r\nL 35.780682 181.810909 \r\nL 38.824318 214.756364 \r\nL 38.824318 115.92 \r\nL 35.780682 148.865455 \r\nL 38.824318 181.810909 \r\nL 35.780682 82.974545 \r\nL 35.780682 115.92 \r\nL 38.824318 214.756364 \r\nL 35.780682 115.92 \r\nL 38.824318 148.865455 \r\nL 38.824318 214.756364 \r\nL 38.824318 181.810909 \r\nL 35.780682 181.810909 \r\nL 38.824318 181.810909 \r\nL 38.824318 115.92 \r\nL 38.824318 181.810909 \r\nL 35.780682 214.756364 \r\nL 35.780682 148.865455 \r\nL 38.824318 50.029091 \r\nL 38.824318 181.810909 \r\nL 38.824318 115.92 \r\nL 35.780682 214.756364 \r\nL 38.824318 148.865455 \r\nL 38.824318 214.756364 \r\nL 38.824318 115.92 \r\nL 38.824318 148.865455 \r\nL 35.780682 148.865455 \r\nL 38.824318 148.865455 \r\nL 35.780682 214.756364 \r\nL 38.824318 181.810909 \r\nL 38.824318 214.756364 \r\nL 38.824318 82.974545 \r\nL 38.824318 214.756364 \r\nL 35.780682 148.865455 \r\nL 38.824318 115.92 \r\nL 38.824318 148.865455 \r\nL 35.780682 115.92 \r\nL 35.780682 214.756364 \r\nL 38.824318 148.865455 \r\nL 35.780682 214.756364 \r\nL 35.780682 148.865455 \r\nL 38.824318 115.92 \r\nL 38.824318 115.92 \r\nL 35.780682 115.92 \r\nL 38.824318 148.865455 \r\nL 38.824318 148.865455 \r\nL 35.780682 181.810909 \r\nL 38.824318 214.756364 \r\nL 38.824318 214.756364 \r\nL 38.824318 148.865455 \r\nL 35.780682 181.810909 \r\nL 35.780682 214.756364 \r\nL 38.824318 181.810909 \r\nL 38.824318 181.810909 \r\nL 38.824318 82.974545 \r\nL 35.780682 214.756364 \r\nL 38.824318 181.810909 \r\nL 35.780682 181.810909 \r\nL 38.824318 148.865455 \r\nL 38.824318 148.865455 \r\nL 38.824318 115.92 \r\nL 35.780682 181.810909 \r\nL 35.780682 115.92 \r\nL 35.780682 214.756364 \r\nL 35.780682 148.865455 \r\nL 38.824318 181.810909 \r\nL 38.824318 115.92 \r\nL 38.824318 214.756364 \r\nL 38.824318 148.865455 \r\nL 35.780682 115.92 \r\nL 35.780682 148.865455 \r\nL 38.824318 214.756364 \r\nL 38.824318 148.865455 \r\nL 35.780682 181.810909 \r\nL 38.824318 181.810909 \r\nL 38.824318 115.92 \r\nL 38.824318 181.810909 \r\nL 35.780682 181.810909 \r\nL 35.780682 181.810909 \r\nL 35.780682 148.865455 \r\nL 35.780682 181.810909 \r\nL 38.824318 181.810909 \r\nL 38.824318 115.92 \r\nL 35.780682 50.029091 \r\nL 35.780682 214.756364 \r\nL 35.780682 181.810909 \r\nL 38.824318 181.810909 \r\nL 38.824318 115.92 \r\nL 38.824318 214.756364 \r\nL 38.824318 181.810909 \r\nL 35.780682 181.810909 \r\nL 38.824318 181.810909 \r\nL 38.824318 115.92 \r\nL 38.824318 214.756364 \r\nL 35.780682 214.756364 \r\nL 38.824318 148.865455 \r\nL 35.780682 181.810909 \r\nL 38.824318 148.865455 \r\nL 35.780682 214.756364 \r\nL 38.824318 148.865455 \r\nL 35.780682 148.865455 \r\nL 38.824318 148.865455 \r\nL 38.824318 50.029091 \r\nL 38.824318 214.756364 \r\nL 35.780682 115.92 \r\nL 35.780682 214.756364 \r\nL 35.780682 214.756364 \r\nL 38.824318 214.756364 \r\nL 38.824318 214.756364 \r\nL 35.780682 148.865455 \r\nL 35.780682 214.756364 \r\nL 35.780682 214.756364 \r\nL 38.824318 181.810909 \r\nL 35.780682 214.756364 \r\nL 38.824318 148.865455 \r\nL 35.780682 115.92 \r\nL 35.780682 214.756364 \r\nL 38.824318 82.974545 \r\nL 38.824318 82.974545 \r\nL 35.780682 181.810909 \r\nL 35.780682 181.810909 \r\nL 35.780682 115.92 \r\nL 38.824318 214.756364 \r\nL 38.824318 82.974545 \r\nL 35.780682 181.810909 \r\nL 38.824318 82.974545 \r\nL 35.780682 214.756364 \r\nL 38.824318 82.974545 \r\nL 38.824318 214.756364 \r\nL 35.780682 148.865455 \r\nL 38.824318 181.810909 \r\nL 38.824318 115.92 \r\nL 38.824318 214.756364 \r\nL 35.780682 148.865455 \r\nL 38.824318 115.92 \r\nL 38.824318 181.810909 \r\nL 38.824318 115.92 \r\nL 35.780682 214.756364 \r\nL 35.780682 148.865455 \r\nL 38.824318 148.865455 \r\nL 35.780682 181.810909 \r\nL 35.780682 214.756364 \r\nL 38.824318 115.92 \r\nL 38.824318 214.756364 \r\nL 38.824318 115.92 \r\nL 35.780682 181.810909 \r\nL 35.780682 115.92 \r\nL 35.780682 181.810909 \r\nL 38.824318 148.865455 \r\nL 38.824318 115.92 \r\nL 35.780682 214.756364 \r\nL 38.824318 148.865455 \r\nL 38.824318 148.865455 \r\nL 38.824318 181.810909 \r\nL 35.780682 181.810909 \r\nL 35.780682 148.865455 \r\nL 38.824318 181.810909 \r\nL 38.824318 82.974545 \r\nL 38.824318 181.810909 \r\nL 35.780682 148.865455 \r\nL 38.824318 181.810909 \r\nL 38.824318 82.974545 \r\nL 35.780682 181.810909 \r\nL 35.780682 214.756364 \r\nL 38.824318 115.92 \r\nL 38.824318 214.756364 \r\nL 35.780682 214.756364 \r\nL 35.780682 82.974545 \r\nL 38.824318 181.810909 \r\nL 38.824318 50.029091 \r\nL 38.824318 148.865455 \r\nL 35.780682 214.756364 \r\nL 38.824318 82.974545 \r\nL 35.780682 148.865455 \r\nL 38.824318 181.810909 \r\nL 38.824318 181.810909 \r\nL 38.824318 115.92 \r\nL 35.780682 148.865455 \r\nL 35.780682 181.810909 \r\nL 38.824318 214.756364 \r\nL 38.824318 214.756364 \r\nL 38.824318 50.029091 \r\nL 38.824318 82.974545 \r\nL 35.780682 148.865455 \r\nL 35.780682 214.756364 \r\nL 38.824318 181.810909 \r\nL 35.780682 214.756364 \r\nL 38.824318 115.92 \r\nL 35.780682 148.865455 \r\nL 38.824318 148.865455 \r\nL 38.824318 214.756364 \r\nL 35.780682 214.756364 \r\nL 38.824318 214.756364 \r\nL 35.780682 115.92 \r\nL 38.824318 214.756364 \r\nL 38.824318 115.92 \r\nL 38.824318 148.865455 \r\nL 35.780682 148.865455 \r\nL 38.824318 181.810909 \r\nL 35.780682 181.810909 \r\nL 38.824318 115.92 \r\nL 38.824318 115.92 \r\nL 35.780682 214.756364 \r\nL 38.824318 148.865455 \r\nL 35.780682 214.756364 \r\nL 38.824318 115.92 \r\nL 35.780682 148.865455 \r\nL 38.824318 148.865455 \r\nL 35.780682 181.810909 \r\nL 35.780682 115.92 \r\nL 38.824318 181.810909 \r\nL 38.824318 82.974545 \r\nL 38.824318 115.92 \r\nL 35.780682 50.029091 \r\nL 35.780682 181.810909 \r\nL 35.780682 115.92 \r\nL 38.824318 214.756364 \r\nL 35.780682 214.756364 \r\nL 38.824318 115.92 \r\nL 38.824318 214.756364 \r\nL 38.824318 181.810909 \r\nL 35.780682 82.974545 \r\nL 38.824318 181.810909 \r\nL 38.824318 115.92 \r\nL 38.824318 214.756364 \r\nL 35.780682 50.029091 \r\nL 35.780682 181.810909 \r\nL 38.824318 214.756364 \r\nL 35.780682 214.756364 \r\nL 38.824318 115.92 \r\nL 38.824318 82.974545 \r\nL 35.780682 181.810909 \r\nL 38.824318 115.92 \r\nL 35.780682 181.810909 \r\nL 35.780682 214.756364 \r\nL 38.824318 214.756364 \r\nL 38.824318 115.92 \r\nL 38.824318 181.810909 \r\nL 35.780682 148.865455 \r\nL 35.780682 181.810909 \r\nL 38.824318 148.865455 \r\nL 38.824318 82.974545 \r\nL 38.824318 115.92 \r\nL 35.780682 181.810909 \r\nL 35.780682 214.756364 \r\nL 38.824318 148.865455 \r\nL 38.824318 148.865455 \r\nL 38.824318 82.974545 \r\nL 35.780682 214.756364 \r\nL 38.824318 214.756364 \r\nL 38.824318 148.865455 \r\nL 35.780682 181.810909 \r\nL 38.824318 148.865455 \r\nL 38.824318 50.029091 \r\nL 38.824318 50.029091 \r\nL 35.780682 181.810909 \r\nL 35.780682 148.865455 \r\nL 35.780682 181.810909 \r\nL 38.824318 214.756364 \r\nL 38.824318 181.810909 \r\nL 35.780682 82.974545 \r\nL 35.780682 214.756364 \r\nL 38.824318 181.810909 \r\nL 38.824318 214.756364 \r\nL 38.824318 115.92 \r\nL 35.780682 214.756364 \r\nL 38.824318 181.810909 \r\nL 35.780682 148.865455 \r\nL 38.824318 82.974545 \r\nL 38.824318 181.810909 \r\nL 35.780682 115.92 \r\nL 35.780682 115.92 \r\nL 38.824318 115.92 \r\nL 38.824318 148.865455 \r\nL 35.780682 214.756364 \r\nL 38.824318 115.92 \r\nL 35.780682 181.810909 \r\nL 35.780682 214.756364 \r\nL 38.824318 148.865455 \r\nL 38.824318 82.974545 \r\nL 38.824318 181.810909 \r\nL 35.780682 148.865455 \r\nL 38.824318 115.92 \r\nL 35.780682 148.865455 \r\nL 35.780682 82.974545 \r\nL 38.824318 115.92 \r\nL 35.780682 181.810909 \r\nL 38.824318 148.865455 \r\nL 35.780682 148.865455 \r\nL 35.780682 214.756364 \r\nL 38.824318 148.865455 \r\nL 38.824318 115.92 \r\nL 38.824318 115.92 \r\nL 35.780682 214.756364 \r\nL 35.780682 181.810909 \r\nL 35.780682 181.810909 \r\nL 38.824318 214.756364 \r\nL 38.824318 181.810909 \r\nL 35.780682 148.865455 \r\nL 38.824318 148.865455 \r\nL 38.824318 115.92 \r\nL 38.824318 214.756364 \r\nL 38.824318 115.92 \r\nL 35.780682 115.92 \r\nL 35.780682 148.865455 \r\nL 38.824318 181.810909 \r\nL 35.780682 181.810909 \r\nL 38.824318 181.810909 \r\nL 35.780682 115.92 \r\nL 38.824318 148.865455 \r\nL 38.824318 148.865455 \r\nL 38.824318 214.756364 \r\nL 38.824318 115.92 \r\nL 38.824318 214.756364 \r\nL 35.780682 181.810909 \r\nL 38.824318 148.865455 \r\nL 38.824318 148.865455 \r\nL 35.780682 148.865455 \r\nL 38.824318 148.865455 \r\nL 38.824318 214.756364 \r\nL 35.780682 181.810909 \r\nL 35.780682 115.92 \r\nL 38.824318 115.92 \r\nL 38.824318 148.865455 \r\nL 35.780682 181.810909 \r\nL 35.780682 148.865455 \r\nL 38.824318 148.865455 \r\nL 35.780682 82.974545 \r\nL 38.824318 214.756364 \r\nL 38.824318 50.029091 \r\nL 38.824318 181.810909 \r\nL 35.780682 214.756364 \r\nL 38.824318 181.810909 \r\nL 38.824318 115.92 \r\nL 38.824318 115.92 \r\nL 35.780682 181.810909 \r\nL 38.824318 82.974545 \r\nL 35.780682 181.810909 \r\nL 35.780682 214.756364 \r\nL 35.780682 181.810909 \r\nL 38.824318 148.865455 \r\nL 38.824318 148.865455 \r\nL 35.780682 214.756364 \r\nL 38.824318 115.92 \r\nL 35.780682 148.865455 \r\nL 35.780682 181.810909 \r\nL 38.824318 214.756364 \r\nL 38.824318 214.756364 \r\n\" style=\"fill:none;stroke:#ff0000;stroke-linecap:square;stroke-width:1.5;\"/>\r\n   </g>\r\n   <g id=\"line2d_15\">\r\n    <path clip-path=\"url(#pff1b1d578e)\" d=\"M 254.9225 181.810909 \r\nL 245.791591 214.756364 \r\nL 309.707955 214.756364 \r\nL 178.831591 82.974545 \r\nL 267.097045 181.810909 \r\nL 251.878864 181.810909 \r\nL 303.620682 214.756364 \r\nL 157.526136 82.974545 \r\nL 230.573409 148.865455 \r\nL 151.438864 82.974545 \r\nL 212.311591 115.92 \r\nL 157.526136 82.974545 \r\nL 233.617045 181.810909 \r\nL 273.184318 181.810909 \r\nL 187.9625 115.92 \r\nL 245.791591 181.810909 \r\nL 303.620682 214.756364 \r\nL 90.566136 50.029091 \r\nL 175.787955 82.974545 \r\nL 200.137045 115.92 \r\nL 236.660682 148.865455 \r\nL 233.617045 181.810909 \r\nL 169.700682 115.92 \r\nL 245.791591 181.810909 \r\nL 261.009773 181.810909 \r\nL 257.966136 181.810909 \r\nL 245.791591 115.92 \r\nL 239.704318 181.810909 \r\nL 248.835227 148.865455 \r\nL 224.486136 148.865455 \r\nL 245.791591 181.810909 \r\nL 227.529773 148.865455 \r\nL 206.224318 148.865455 \r\nL 157.526136 82.974545 \r\nL 331.013409 214.756364 \r\nL 282.315227 214.756364 \r\nL 261.009773 181.810909 \r\nL 187.9625 115.92 \r\nL 264.053409 214.756364 \r\nL 209.267955 115.92 \r\nL 203.180682 115.92 \r\nL 212.311591 148.865455 \r\nL 197.093409 115.92 \r\nL 215.355227 148.865455 \r\nL 187.9625 115.92 \r\nL 233.617045 115.92 \r\nL 203.180682 148.865455 \r\nL 236.660682 181.810909 \r\nL 209.267955 148.865455 \r\nL 285.358864 214.756364 \r\nL 197.093409 115.92 \r\nL 270.140682 181.810909 \r\nL 197.093409 82.974545 \r\nL 303.620682 214.756364 \r\nL 251.878864 214.756364 \r\nL 136.220682 50.029091 \r\nL 285.358864 214.756364 \r\nL 194.049773 115.92 \r\nL 212.311591 115.92 \r\nL 35.780682 50.029091 \r\nL 276.227955 181.810909 \r\nL 154.4825 50.029091 \r\nL 224.486136 115.92 \r\nL 245.791591 181.810909 \r\nL 215.355227 115.92 \r\nL 239.704318 148.865455 \r\nL 172.744318 50.029091 \r\nL 218.398864 148.865455 \r\nL 221.4425 115.92 \r\nL 154.4825 115.92 \r\nL 212.311591 148.865455 \r\nL 227.529773 148.865455 \r\nL 160.569773 82.974545 \r\nL 221.4425 115.92 \r\nL 184.918864 82.974545 \r\nL 169.700682 82.974545 \r\nL 127.089773 50.029091 \r\nL 279.271591 181.810909 \r\nL 221.4425 148.865455 \r\nL 224.486136 148.865455 \r\nL 178.831591 82.974545 \r\nL 184.918864 82.974545 \r\nL 187.9625 115.92 \r\nL 254.9225 148.865455 \r\nL 163.613409 50.029091 \r\nL 257.966136 181.810909 \r\nL 267.097045 214.756364 \r\nL 251.878864 181.810909 \r\nL 212.311591 148.865455 \r\nL 257.966136 214.756364 \r\nL 233.617045 181.810909 \r\nL 117.958864 50.029091 \r\nL 251.878864 181.810909 \r\nL 166.657045 82.974545 \r\nL 276.227955 214.756364 \r\nL 273.184318 214.756364 \r\nL 233.617045 148.865455 \r\nL 212.311591 148.865455 \r\nL 233.617045 148.865455 \r\nL 276.227955 181.810909 \r\nL 242.747955 181.810909 \r\nL 294.489773 214.756364 \r\nL 218.398864 115.92 \r\nL 334.057045 214.756364 \r\nL 212.311591 148.865455 \r\nL 300.577045 214.756364 \r\nL 236.660682 148.865455 \r\nL 194.049773 148.865455 \r\nL 248.835227 148.865455 \r\nL 270.140682 214.756364 \r\nL 224.486136 115.92 \r\nL 191.006136 115.92 \r\nL 337.100682 214.756364 \r\nL 291.446136 181.810909 \r\nL 264.053409 214.756364 \r\nL 273.184318 181.810909 \r\nL 191.006136 115.92 \r\nL 203.180682 148.865455 \r\nL 276.227955 214.756364 \r\nL 312.751591 214.756364 \r\nL 303.620682 214.756364 \r\nL 227.529773 115.92 \r\nL 288.4025 181.810909 \r\nL 300.577045 214.756364 \r\nL 254.9225 148.865455 \r\nL 233.617045 181.810909 \r\nL 285.358864 181.810909 \r\nL 191.006136 115.92 \r\nL 306.664318 214.756364 \r\nL 197.093409 82.974545 \r\nL 300.577045 181.810909 \r\nL 264.053409 214.756364 \r\nL 261.009773 181.810909 \r\nL 212.311591 115.92 \r\nL 191.006136 82.974545 \r\nL 248.835227 148.865455 \r\nL 215.355227 148.865455 \r\nL 251.878864 148.865455 \r\nL 267.097045 181.810909 \r\nL 163.613409 115.92 \r\nL 209.267955 82.974545 \r\nL 303.620682 181.810909 \r\nL 102.740682 50.029091 \r\nL 303.620682 214.756364 \r\nL 257.966136 148.865455 \r\nL 242.747955 181.810909 \r\nL 340.144318 214.756364 \r\nL 224.486136 148.865455 \r\nL 270.140682 181.810909 \r\nL 215.355227 148.865455 \r\nL 200.137045 115.92 \r\nL 224.486136 148.865455 \r\nL 248.835227 214.756364 \r\nL 236.660682 181.810909 \r\nL 218.398864 148.865455 \r\nL 221.4425 181.810909 \r\nL 236.660682 148.865455 \r\nL 285.358864 181.810909 \r\nL 264.053409 214.756364 \r\nL 184.918864 115.92 \r\nL 194.049773 115.92 \r\nL 282.315227 214.756364 \r\nL 327.969773 214.756364 \r\nL 197.093409 115.92 \r\nL 212.311591 181.810909 \r\nL 254.9225 181.810909 \r\nL 321.8825 214.756364 \r\nL 276.227955 214.756364 \r\nL 227.529773 148.865455 \r\nL 166.657045 82.974545 \r\nL 282.315227 214.756364 \r\nL 175.787955 115.92 \r\nL 251.878864 181.810909 \r\nL 194.049773 148.865455 \r\nL 331.013409 214.756364 \r\nL 224.486136 148.865455 \r\nL 175.787955 115.92 \r\nL 187.9625 82.974545 \r\nL 233.617045 148.865455 \r\nL 172.744318 82.974545 \r\nL 233.617045 148.865455 \r\nL 279.271591 181.810909 \r\nL 224.486136 148.865455 \r\nL 181.875227 82.974545 \r\nL 270.140682 214.756364 \r\nL 236.660682 148.865455 \r\nL 267.097045 181.810909 \r\nL 224.486136 148.865455 \r\nL 270.140682 148.865455 \r\nL 245.791591 181.810909 \r\nL 221.4425 115.92 \r\nL 215.355227 148.865455 \r\nL 203.180682 115.92 \r\nL 172.744318 115.92 \r\nL 273.184318 181.810909 \r\nL 233.617045 181.810909 \r\nL 245.791591 181.810909 \r\nL 209.267955 148.865455 \r\nL 215.355227 82.974545 \r\nL 261.009773 181.810909 \r\nL 285.358864 148.865455 \r\nL 282.315227 181.810909 \r\nL 261.009773 181.810909 \r\nL 212.311591 148.865455 \r\nL 279.271591 181.810909 \r\nL 142.307955 50.029091 \r\nL 163.613409 115.92 \r\nL 218.398864 115.92 \r\nL 300.577045 214.756364 \r\nL 288.4025 214.756364 \r\nL 139.264318 50.029091 \r\nL 236.660682 181.810909 \r\nL 221.4425 115.92 \r\nL 206.224318 148.865455 \r\nL 300.577045 214.756364 \r\nL 203.180682 148.865455 \r\nL 297.533409 214.756364 \r\nL 194.049773 148.865455 \r\nL 172.744318 115.92 \r\nL 254.9225 181.810909 \r\nL 209.267955 115.92 \r\nL 242.747955 148.865455 \r\nL 303.620682 214.756364 \r\nL 267.097045 148.865455 \r\nL 175.787955 82.974545 \r\nL 239.704318 181.810909 \r\nL 315.795227 214.756364 \r\nL 288.4025 214.756364 \r\nL 279.271591 181.810909 \r\nL 227.529773 148.865455 \r\nL 230.573409 148.865455 \r\nL 200.137045 115.92 \r\nL 291.446136 214.756364 \r\nL 257.966136 148.865455 \r\nL 279.271591 214.756364 \r\nL 206.224318 115.92 \r\nL 215.355227 115.92 \r\nL 264.053409 181.810909 \r\nL 306.664318 181.810909 \r\nL 212.311591 148.865455 \r\nL 242.747955 148.865455 \r\nL 178.831591 82.974545 \r\nL 251.878864 181.810909 \r\nL 218.398864 148.865455 \r\nL 279.271591 181.810909 \r\nL 200.137045 115.92 \r\nL 224.486136 148.865455 \r\nL 230.573409 148.865455 \r\nL 273.184318 181.810909 \r\nL 230.573409 181.810909 \r\nL 276.227955 181.810909 \r\nL 169.700682 82.974545 \r\nL 337.100682 214.756364 \r\nL 267.097045 181.810909 \r\nL 215.355227 82.974545 \r\nL 227.529773 181.810909 \r\nL 245.791591 181.810909 \r\nL 303.620682 214.756364 \r\nL 251.878864 181.810909 \r\nL 245.791591 148.865455 \r\nL 212.311591 82.974545 \r\nL 178.831591 115.92 \r\nL 233.617045 148.865455 \r\nL 303.620682 214.756364 \r\nL 288.4025 181.810909 \r\nL 294.489773 214.756364 \r\nL 215.355227 148.865455 \r\nL 233.617045 181.810909 \r\nL 257.966136 148.865455 \r\nL 197.093409 82.974545 \r\nL 172.744318 82.974545 \r\nL 257.966136 181.810909 \r\nL 248.835227 181.810909 \r\nL 148.395227 82.974545 \r\nL 282.315227 214.756364 \r\nL 331.013409 214.756364 \r\nL 239.704318 181.810909 \r\nL 303.620682 181.810909 \r\nL 297.533409 181.810909 \r\nL 227.529773 148.865455 \r\nL 233.617045 181.810909 \r\nL 273.184318 181.810909 \r\nL 239.704318 148.865455 \r\nL 175.787955 82.974545 \r\nL 251.878864 181.810909 \r\nL 157.526136 82.974545 \r\nL 309.707955 214.756364 \r\nL 282.315227 214.756364 \r\nL 206.224318 115.92 \r\nL 239.704318 181.810909 \r\nL 279.271591 181.810909 \r\nL 261.009773 181.810909 \r\nL 245.791591 148.865455 \r\nL 337.100682 214.756364 \r\nL 191.006136 82.974545 \r\nL 197.093409 148.865455 \r\nL 184.918864 115.92 \r\nL 257.966136 181.810909 \r\nL 236.660682 148.865455 \r\nL 215.355227 148.865455 \r\nL 251.878864 148.865455 \r\nL 270.140682 214.756364 \r\nL 288.4025 181.810909 \r\nL 227.529773 148.865455 \r\nL 206.224318 148.865455 \r\nL 239.704318 181.810909 \r\nL 264.053409 214.756364 \r\nL 251.878864 181.810909 \r\nL 166.657045 82.974545 \r\nL 160.569773 82.974545 \r\nL 285.358864 214.756364 \r\nL 221.4425 148.865455 \r\nL 121.0025 50.029091 \r\nL 285.358864 181.810909 \r\nL 160.569773 82.974545 \r\nL 251.878864 148.865455 \r\nL 178.831591 50.029091 \r\nL 224.486136 115.92 \r\nL 309.707955 214.756364 \r\nL 288.4025 214.756364 \r\nL 221.4425 148.865455 \r\nL 267.097045 181.810909 \r\nL 184.918864 82.974545 \r\nL 108.827955 50.029091 \r\nL 142.307955 115.92 \r\nL 212.311591 115.92 \r\nL 221.4425 148.865455 \r\nL 245.791591 181.810909 \r\nL 239.704318 148.865455 \r\nL 276.227955 181.810909 \r\nL 254.9225 181.810909 \r\nL 224.486136 148.865455 \r\nL 270.140682 214.756364 \r\nL 264.053409 181.810909 \r\nL 300.577045 181.810909 \r\nL 194.049773 148.865455 \r\nL 236.660682 115.92 \r\nL 227.529773 181.810909 \r\nL 175.787955 115.92 \r\nL 215.355227 148.865455 \r\nL 227.529773 148.865455 \r\nL 163.613409 115.92 \r\nL 215.355227 148.865455 \r\nL 279.271591 214.756364 \r\nL 212.311591 115.92 \r\nL 294.489773 214.756364 \r\nL 194.049773 115.92 \r\nL 117.958864 50.029091 \r\nL 215.355227 115.92 \r\nL 184.918864 115.92 \r\nL 245.791591 148.865455 \r\nL 221.4425 148.865455 \r\nL 169.700682 115.92 \r\nL 257.966136 214.756364 \r\nL 291.446136 181.810909 \r\nL 172.744318 148.865455 \r\nL 261.009773 181.810909 \r\nL 285.358864 214.756364 \r\nL 215.355227 148.865455 \r\nL 175.787955 82.974545 \r\nL 279.271591 214.756364 \r\nL 294.489773 214.756364 \r\nL 251.878864 181.810909 \r\nL 236.660682 148.865455 \r\nL 279.271591 214.756364 \r\nL 300.577045 214.756364 \r\nL 276.227955 181.810909 \r\nL 151.438864 82.974545 \r\nL 151.438864 82.974545 \r\nL 239.704318 181.810909 \r\nL 230.573409 148.865455 \r\nL 209.267955 148.865455 \r\nL 224.486136 148.865455 \r\nL 257.966136 181.810909 \r\nL 257.966136 148.865455 \r\nL 270.140682 181.810909 \r\nL 267.097045 181.810909 \r\nL 209.267955 115.92 \r\nL 233.617045 181.810909 \r\nL 181.875227 82.974545 \r\nL 187.9625 148.865455 \r\nL 294.489773 214.756364 \r\nL 261.009773 148.865455 \r\nL 218.398864 115.92 \r\nL 215.355227 148.865455 \r\nL 197.093409 82.974545 \r\nL 184.918864 115.92 \r\nL 303.620682 214.756364 \r\nL 200.137045 115.92 \r\nL 227.529773 148.865455 \r\nL 233.617045 148.865455 \r\nL 285.358864 181.810909 \r\nL 194.049773 115.92 \r\nL 300.577045 214.756364 \r\nL 248.835227 181.810909 \r\nL 291.446136 214.756364 \r\nL 251.878864 148.865455 \r\nL 191.006136 148.865455 \r\nL 291.446136 181.810909 \r\nL 251.878864 181.810909 \r\nL 261.009773 181.810909 \r\nL 242.747955 148.865455 \r\nL 209.267955 115.92 \r\nL 285.358864 214.756364 \r\nL 209.267955 115.92 \r\nL 178.831591 115.92 \r\nL 215.355227 181.810909 \r\nL 160.569773 50.029091 \r\nL 224.486136 148.865455 \r\nL 297.533409 214.756364 \r\nL 245.791591 148.865455 \r\nL 233.617045 115.92 \r\nL 242.747955 148.865455 \r\nL 221.4425 148.865455 \r\nL 221.4425 115.92 \r\nL 178.831591 115.92 \r\nL 257.966136 148.865455 \r\nL 187.9625 115.92 \r\nL 264.053409 148.865455 \r\nL 264.053409 181.810909 \r\nL 248.835227 115.92 \r\nL 306.664318 214.756364 \r\nL 239.704318 181.810909 \r\nL 273.184318 181.810909 \r\nL 215.355227 148.865455 \r\nL 257.966136 181.810909 \r\nL 276.227955 181.810909 \r\nL 239.704318 181.810909 \r\nL 245.791591 148.865455 \r\nL 297.533409 214.756364 \r\nL 178.831591 82.974545 \r\nL 282.315227 181.810909 \r\nL 230.573409 181.810909 \r\nL 340.144318 214.756364 \r\nL 233.617045 181.810909 \r\nL 233.617045 115.92 \r\nL 197.093409 115.92 \r\nL 148.395227 82.974545 \r\nL 276.227955 214.756364 \r\nL 197.093409 115.92 \r\nL 340.144318 214.756364 \r\nL 254.9225 148.865455 \r\nL 197.093409 115.92 \r\nL 200.137045 115.92 \r\nL 251.878864 181.810909 \r\nL 270.140682 214.756364 \r\nL 264.053409 148.865455 \r\nL 291.446136 214.756364 \r\nL 114.915227 50.029091 \r\nL 254.9225 148.865455 \r\nL 270.140682 214.756364 \r\nL 312.751591 214.756364 \r\nL 288.4025 214.756364 \r\nL 227.529773 148.865455 \r\nL 242.747955 181.810909 \r\nL 215.355227 148.865455 \r\nL 309.707955 214.756364 \r\nL 251.878864 181.810909 \r\nL 267.097045 148.865455 \r\nL 279.271591 181.810909 \r\nL 203.180682 148.865455 \r\nL 267.097045 181.810909 \r\nL 257.966136 181.810909 \r\nL 194.049773 115.92 \r\nL 242.747955 148.865455 \r\nL 215.355227 115.92 \r\nL 184.918864 115.92 \r\nL 248.835227 181.810909 \r\nL 221.4425 115.92 \r\nL 218.398864 148.865455 \r\nL 230.573409 115.92 \r\nL 276.227955 214.756364 \r\nL 233.617045 181.810909 \r\nL 230.573409 148.865455 \r\nL 288.4025 214.756364 \r\nL 282.315227 214.756364 \r\nL 200.137045 148.865455 \r\nL 242.747955 148.865455 \r\nL 200.137045 115.92 \r\nL 215.355227 181.810909 \r\nL 236.660682 148.865455 \r\nL 267.097045 181.810909 \r\nL 261.009773 181.810909 \r\nL 321.8825 214.756364 \r\nL 227.529773 115.92 \r\nL 324.926136 214.756364 \r\nL 157.526136 115.92 \r\nL 285.358864 214.756364 \r\nL 242.747955 148.865455 \r\nL 203.180682 115.92 \r\nL 276.227955 181.810909 \r\nL 297.533409 214.756364 \r\nL 267.097045 181.810909 \r\nL 230.573409 115.92 \r\nL 200.137045 115.92 \r\nL 270.140682 214.756364 \r\nL 261.009773 214.756364 \r\nL 236.660682 181.810909 \r\nL 236.660682 181.810909 \r\nL 239.704318 181.810909 \r\nL 251.878864 115.92 \r\nL 312.751591 214.756364 \r\nL 245.791591 148.865455 \r\nL 200.137045 115.92 \r\nL 197.093409 115.92 \r\nL 242.747955 148.865455 \r\nL 206.224318 115.92 \r\nL 145.351591 82.974545 \r\nL 124.046136 50.029091 \r\nL 224.486136 148.865455 \r\nL 242.747955 148.865455 \r\nL 178.831591 115.92 \r\nL 224.486136 148.865455 \r\nL 276.227955 214.756364 \r\nL 257.966136 181.810909 \r\nL 236.660682 181.810909 \r\nL 191.006136 115.92 \r\nL 191.006136 115.92 \r\nL 294.489773 181.810909 \r\nL 331.013409 214.756364 \r\nL 264.053409 181.810909 \r\nL 276.227955 214.756364 \r\nL 282.315227 181.810909 \r\nL 285.358864 214.756364 \r\nL 230.573409 148.865455 \r\nL 273.184318 214.756364 \r\nL 315.795227 214.756364 \r\nL 254.9225 148.865455 \r\nL 224.486136 148.865455 \r\nL 276.227955 181.810909 \r\nL 276.227955 181.810909 \r\nL 300.577045 214.756364 \r\nL 157.526136 82.974545 \r\nL 270.140682 148.865455 \r\nL 197.093409 82.974545 \r\nL 133.177045 50.029091 \r\nL 203.180682 148.865455 \r\nL 197.093409 148.865455 \r\nL 257.966136 148.865455 \r\nL 261.009773 181.810909 \r\nL 227.529773 181.810909 \r\nL 327.969773 214.756364 \r\nL 227.529773 181.810909 \r\nL 181.875227 82.974545 \r\nL 181.875227 82.974545 \r\nL 315.795227 214.756364 \r\nL 221.4425 181.810909 \r\nL 227.529773 115.92 \r\nL 242.747955 148.865455 \r\nL 251.878864 181.810909 \r\nL 312.751591 214.756364 \r\nL 197.093409 115.92 \r\nL 187.9625 148.865455 \r\nL 261.009773 181.810909 \r\nL 157.526136 82.974545 \r\nL 221.4425 115.92 \r\nL 282.315227 214.756364 \r\nL 181.875227 115.92 \r\nL 197.093409 148.865455 \r\nL 282.315227 214.756364 \r\nL 270.140682 181.810909 \r\nL 227.529773 181.810909 \r\nL 233.617045 181.810909 \r\nL 203.180682 148.865455 \r\nL 169.700682 115.92 \r\nL 200.137045 148.865455 \r\nL 181.875227 115.92 \r\nL 212.311591 115.92 \r\nL 251.878864 148.865455 \r\nL 242.747955 148.865455 \r\nL 261.009773 181.810909 \r\nL 315.795227 214.756364 \r\nL 206.224318 148.865455 \r\nL 127.089773 50.029091 \r\nL 197.093409 115.92 \r\nL 245.791591 181.810909 \r\nL 233.617045 181.810909 \r\nL 200.137045 115.92 \r\nL 124.046136 50.029091 \r\nL 267.097045 181.810909 \r\nL 218.398864 115.92 \r\nL 291.446136 214.756364 \r\nL 264.053409 148.865455 \r\nL 294.489773 214.756364 \r\nL 157.526136 115.92 \r\nL 221.4425 148.865455 \r\nL 212.311591 148.865455 \r\nL 245.791591 148.865455 \r\nL 212.311591 148.865455 \r\nL 321.8825 214.756364 \r\nL 233.617045 181.810909 \r\nL 285.358864 214.756364 \r\nL 218.398864 148.865455 \r\nL 148.395227 82.974545 \r\nL 303.620682 214.756364 \r\nL 324.926136 214.756364 \r\nL 233.617045 148.865455 \r\nL 142.307955 115.92 \r\nL 224.486136 148.865455 \r\nL 212.311591 115.92 \r\nL 340.144318 214.756364 \r\nL 221.4425 148.865455 \r\nL 340.144318 214.756364 \r\nL 245.791591 148.865455 \r\nL 221.4425 115.92 \r\nL 169.700682 115.92 \r\nL 239.704318 148.865455 \r\nL 276.227955 148.865455 \r\nL 236.660682 181.810909 \r\nL 264.053409 214.756364 \r\nL 291.446136 214.756364 \r\nL 251.878864 148.865455 \r\nL 239.704318 181.810909 \r\nL 279.271591 214.756364 \r\nL 297.533409 181.810909 \r\nL 267.097045 181.810909 \r\nL 160.569773 82.974545 \r\nL 261.009773 214.756364 \r\nL 254.9225 181.810909 \r\nL 261.009773 181.810909 \r\nL 248.835227 148.865455 \r\nL 233.617045 181.810909 \r\nL 215.355227 148.865455 \r\nL 230.573409 148.865455 \r\nL 187.9625 115.92 \r\nL 245.791591 181.810909 \r\nL 191.006136 115.92 \r\nL 242.747955 181.810909 \r\nL 294.489773 214.756364 \r\nL 233.617045 148.865455 \r\nL 257.966136 181.810909 \r\nL 224.486136 148.865455 \r\nL 270.140682 148.865455 \r\nL 245.791591 148.865455 \r\nL 166.657045 115.92 \r\nL 309.707955 214.756364 \r\nL 261.009773 181.810909 \r\nL 257.966136 148.865455 \r\nL 203.180682 148.865455 \r\nL 279.271591 148.865455 \r\nL 187.9625 115.92 \r\nL 227.529773 148.865455 \r\nL 270.140682 214.756364 \r\nL 257.966136 148.865455 \r\nL 282.315227 181.810909 \r\nL 236.660682 181.810909 \r\nL 194.049773 115.92 \r\nL 245.791591 181.810909 \r\nL 233.617045 181.810909 \r\nL 245.791591 181.810909 \r\nL 187.9625 148.865455 \r\nL 257.966136 181.810909 \r\nL 248.835227 181.810909 \r\nL 282.315227 181.810909 \r\nL 227.529773 148.865455 \r\nL 239.704318 181.810909 \r\nL 218.398864 148.865455 \r\nL 224.486136 115.92 \r\nL 124.046136 50.029091 \r\nL 224.486136 148.865455 \r\nL 321.8825 214.756364 \r\nL 294.489773 181.810909 \r\nL 270.140682 181.810909 \r\nL 197.093409 115.92 \r\nL 318.838864 214.756364 \r\nL 184.918864 115.92 \r\nL 257.966136 181.810909 \r\nL 236.660682 181.810909 \r\nL 270.140682 181.810909 \r\nL 184.918864 115.92 \r\nL 276.227955 214.756364 \r\nL 264.053409 214.756364 \r\nL 215.355227 148.865455 \r\nL 209.267955 181.810909 \r\nL 236.660682 148.865455 \r\nL 276.227955 214.756364 \r\nL 209.267955 148.865455 \r\nL 300.577045 214.756364 \r\nL 227.529773 148.865455 \r\nL 215.355227 148.865455 \r\nL 224.486136 148.865455 \r\nL 175.787955 50.029091 \r\nL 236.660682 115.92 \r\nL 306.664318 214.756364 \r\nL 163.613409 115.92 \r\nL 318.838864 214.756364 \r\nL 279.271591 214.756364 \r\nL 334.057045 214.756364 \r\nL 282.315227 214.756364 \r\nL 218.398864 148.865455 \r\nL 267.097045 214.756364 \r\nL 257.966136 181.810909 \r\nL 327.969773 214.756364 \r\nL 267.097045 181.810909 \r\nL 312.751591 214.756364 \r\nL 224.486136 148.865455 \r\nL 203.180682 115.92 \r\nL 261.009773 214.756364 \r\nL 187.9625 82.974545 \r\nL 178.831591 82.974545 \r\nL 282.315227 181.810909 \r\nL 233.617045 181.810909 \r\nL 242.747955 115.92 \r\nL 257.966136 214.756364 \r\nL 197.093409 82.974545 \r\nL 242.747955 181.810909 \r\nL 203.180682 82.974545 \r\nL 300.577045 214.756364 \r\nL 203.180682 82.974545 \r\nL 197.093409 115.92 \r\nL 239.704318 148.865455 \r\nL 315.795227 214.756364 \r\nL 197.093409 148.865455 \r\nL 282.315227 181.810909 \r\nL 221.4425 115.92 \r\nL 279.271591 181.810909 \r\nL 148.395227 115.92 \r\nL 282.315227 214.756364 \r\nL 215.355227 148.865455 \r\nL 203.180682 115.92 \r\nL 254.9225 181.810909 \r\nL 245.791591 181.810909 \r\nL 245.791591 148.865455 \r\nL 187.9625 115.92 \r\nL 300.577045 214.756364 \r\nL 251.878864 148.865455 \r\nL 242.747955 148.865455 \r\nL 276.227955 181.810909 \r\nL 270.140682 214.756364 \r\nL 212.311591 115.92 \r\nL 291.446136 214.756364 \r\nL 203.180682 115.92 \r\nL 248.835227 181.810909 \r\nL 194.049773 115.92 \r\nL 245.791591 181.810909 \r\nL 197.093409 148.865455 \r\nL 181.875227 115.92 \r\nL 273.184318 214.756364 \r\nL 224.486136 148.865455 \r\nL 218.398864 148.865455 \r\nL 261.009773 181.810909 \r\nL 212.311591 181.810909 \r\nL 267.097045 148.865455 \r\nL 242.747955 181.810909 \r\nL 212.311591 115.92 \r\nL 194.049773 82.974545 \r\nL 264.053409 181.810909 \r\nL 194.049773 148.865455 \r\nL 224.486136 181.810909 \r\nL 236.660682 148.865455 \r\nL 184.918864 115.92 \r\nL 236.660682 148.865455 \r\nL 142.307955 82.974545 \r\nL 254.9225 181.810909 \r\nL 321.8825 214.756364 \r\nL 175.787955 115.92 \r\nL 270.140682 214.756364 \r\nL 267.097045 214.756364 \r\nL 194.049773 115.92 \r\nL 312.751591 214.756364 \r\nL 133.177045 82.974545 \r\nL 254.9225 181.810909 \r\nL 93.609773 50.029091 \r\nL 242.747955 148.865455 \r\nL 194.049773 115.92 \r\nL 181.875227 115.92 \r\nL 218.398864 148.865455 \r\nL 236.660682 148.865455 \r\nL 306.664318 214.756364 \r\nL 163.613409 82.974545 \r\nL 209.267955 148.865455 \r\nL 248.835227 181.810909 \r\nL 248.835227 181.810909 \r\nL 245.791591 148.865455 \r\nL 194.049773 115.92 \r\nL 239.704318 148.865455 \r\nL 267.097045 181.810909 \r\nL 300.577045 214.756364 \r\nL 285.358864 214.756364 \r\nL 257.966136 181.810909 \r\nL 264.053409 181.810909 \r\nL 230.573409 181.810909 \r\nL 160.569773 82.974545 \r\nL 309.707955 181.810909 \r\nL 215.355227 115.92 \r\nL 191.006136 50.029091 \r\nL 172.744318 82.974545 \r\nL 200.137045 148.865455 \r\nL 300.577045 214.756364 \r\nL 254.9225 181.810909 \r\nL 321.8825 214.756364 \r\nL 172.744318 115.92 \r\nL 221.4425 148.865455 \r\nL 218.398864 148.865455 \r\nL 270.140682 214.756364 \r\nL 294.489773 214.756364 \r\nL 273.184318 214.756364 \r\nL 184.918864 115.92 \r\nL 251.878864 214.756364 \r\nL 181.875227 115.92 \r\nL 224.486136 148.865455 \r\nL 206.224318 148.865455 \r\nL 233.617045 181.810909 \r\nL 245.791591 181.810909 \r\nL 242.747955 115.92 \r\nL 221.4425 115.92 \r\nL 261.009773 214.756364 \r\nL 230.573409 148.865455 \r\nL 270.140682 214.756364 \r\nL 212.311591 115.92 \r\nL 218.398864 148.865455 \r\nL 257.966136 148.865455 \r\nL 264.053409 181.810909 \r\nL 212.311591 115.92 \r\nL 236.660682 181.810909 \r\nL 154.4825 82.974545 \r\nL 230.573409 115.92 \r\nL 105.784318 50.029091 \r\nL 261.009773 181.810909 \r\nL 157.526136 115.92 \r\nL 309.707955 214.756364 \r\nL 312.751591 214.756364 \r\nL 230.573409 115.92 \r\nL 215.355227 148.865455 \r\nL 279.271591 181.810909 \r\nL 251.878864 148.865455 \r\nL 221.4425 148.865455 \r\nL 300.577045 214.756364 \r\nL 285.358864 181.810909 \r\nL 224.486136 148.865455 \r\nL 331.013409 214.756364 \r\nL 264.053409 148.865455 \r\nL 233.617045 181.810909 \r\nL 194.049773 82.974545 \r\nL 300.577045 181.810909 \r\nL 197.093409 115.92 \r\nL 282.315227 214.756364 \r\nL 154.4825 50.029091 \r\nL 251.878864 181.810909 \r\nL 331.013409 214.756364 \r\nL 285.358864 214.756364 \r\nL 215.355227 115.92 \r\nL 221.4425 82.974545 \r\nL 273.184318 181.810909 \r\nL 184.918864 115.92 \r\nL 215.355227 115.92 \r\nL 248.835227 181.810909 \r\nL 285.358864 214.756364 \r\nL 309.707955 214.756364 \r\nL 166.657045 115.92 \r\nL 279.271591 181.810909 \r\nL 282.315227 214.756364 \r\nL 209.267955 115.92 \r\nL 215.355227 181.810909 \r\nL 230.573409 181.810909 \r\nL 227.529773 148.865455 \r\nL 251.878864 181.810909 \r\nL 230.573409 148.865455 \r\nL 203.180682 82.974545 \r\nL 191.006136 115.92 \r\nL 224.486136 181.810909 \r\nL 318.838864 214.756364 \r\nL 200.137045 148.865455 \r\nL 245.791591 148.865455 \r\nL 169.700682 82.974545 \r\nL 297.533409 214.756364 \r\nL 294.489773 214.756364 \r\nL 187.9625 148.865455 \r\nL 303.620682 181.810909 \r\nL 215.355227 148.865455 \r\nL 133.177045 50.029091 \r\nL 145.351591 50.029091 \r\nL 227.529773 181.810909 \r\nL 239.704318 148.865455 \r\nL 233.617045 181.810909 \r\nL 294.489773 214.756364 \r\nL 257.966136 181.810909 \r\nL 139.264318 82.974545 \r\nL 318.838864 214.756364 \r\nL 239.704318 181.810909 \r\nL 303.620682 214.756364 \r\nL 209.267955 115.92 \r\nL 276.227955 214.756364 \r\nL 239.704318 181.810909 \r\nL 248.835227 148.865455 \r\nL 187.9625 82.974545 \r\nL 245.791591 181.810909 \r\nL 194.049773 115.92 \r\nL 175.787955 115.92 \r\nL 242.747955 148.865455 \r\nL 340.144318 214.756364 \r\nL 169.700682 115.92 \r\nL 209.267955 181.810909 \r\nL 312.751591 214.756364 \r\nL 245.791591 148.865455 \r\nL 142.307955 82.974545 \r\nL 254.9225 148.865455 \r\nL 200.137045 148.865455 \r\nL 261.009773 181.810909 \r\nL 261.009773 148.865455 \r\nL 230.573409 115.92 \r\nL 233.617045 148.865455 \r\nL 175.787955 82.974545 \r\nL 181.875227 115.92 \r\nL 239.704318 181.810909 \r\nL 224.486136 148.865455 \r\nL 221.4425 148.865455 \r\nL 248.835227 181.810909 \r\nL 334.057045 214.756364 \r\nL 248.835227 148.865455 \r\nL 239.704318 115.92 \r\nL 209.267955 115.92 \r\nL 294.489773 214.756364 \r\nL 270.140682 181.810909 \r\nL 254.9225 181.810909 \r\nL 273.184318 214.756364 \r\nL 282.315227 181.810909 \r\nL 221.4425 148.865455 \r\nL 212.311591 148.865455 \r\nL 200.137045 115.92 \r\nL 285.358864 214.756364 \r\nL 184.918864 115.92 \r\nL 184.918864 115.92 \r\nL 209.267955 148.865455 \r\nL 321.8825 181.810909 \r\nL 261.009773 181.810909 \r\nL 212.311591 115.92 \r\nL 224.486136 148.865455 \r\nL 254.9225 148.865455 \r\nL 291.446136 214.756364 \r\nL 315.795227 214.756364 \r\nL 172.744318 115.92 \r\nL 264.053409 181.810909 \r\nL 206.224318 115.92 \r\nL 181.875227 115.92 \r\nL 340.144318 214.756364 \r\nL 233.617045 181.810909 \r\nL 254.9225 148.865455 \r\nL 224.486136 148.865455 \r\nL 227.529773 148.865455 \r\nL 242.747955 181.810909 \r\nL 264.053409 181.810909 \r\nL 306.664318 214.756364 \r\nL 273.184318 181.810909 \r\nL 197.093409 115.92 \r\nL 184.918864 115.92 \r\nL 200.137045 148.865455 \r\nL 230.573409 181.810909 \r\nL 218.398864 148.865455 \r\nL 224.486136 148.865455 \r\nL 203.180682 82.974545 \r\nL 312.751591 214.756364 \r\nL 60.129773 50.029091 \r\nL 282.315227 181.810909 \r\nL 276.227955 214.756364 \r\nL 273.184318 214.756364 \r\nL 261.009773 181.810909 \r\nL 209.267955 115.92 \r\nL 157.526136 115.92 \r\nL 282.315227 181.810909 \r\nL 169.700682 82.974545 \r\nL 239.704318 181.810909 \r\nL 297.533409 214.756364 \r\nL 233.617045 181.810909 \r\nL 203.180682 148.865455 \r\nL 227.529773 148.865455 \r\nL 303.620682 214.756364 \r\nL 224.486136 115.92 \r\nL 215.355227 148.865455 \r\nL 270.140682 214.756364 \r\nL 270.140682 214.756364 \r\n\" style=\"fill:none;stroke:#ff0000;stroke-linecap:square;stroke-width:1.5;\"/>\r\n   </g>\r\n   <g id=\"line2d_16\">\r\n    <path clip-path=\"url(#pff1b1d578e)\" d=\"M 254.9225 181.810909 \r\nL 309.707955 214.756364 \r\nL 324.926136 214.756364 \r\nL 209.267955 82.974545 \r\nL 273.184318 181.810909 \r\nL 288.4025 181.810909 \r\nL 324.926136 214.756364 \r\nL 166.657045 82.974545 \r\nL 230.573409 148.865455 \r\nL 218.398864 82.974545 \r\nL 200.137045 115.92 \r\nL 194.049773 82.974545 \r\nL 282.315227 181.810909 \r\nL 254.9225 181.810909 \r\nL 197.093409 115.92 \r\nL 264.053409 181.810909 \r\nL 306.664318 214.756364 \r\nL 133.177045 50.029091 \r\nL 163.613409 82.974545 \r\nL 212.311591 115.92 \r\nL 245.791591 148.865455 \r\nL 264.053409 181.810909 \r\nL 200.137045 115.92 \r\nL 257.966136 181.810909 \r\nL 251.878864 181.810909 \r\nL 261.009773 181.810909 \r\nL 200.137045 115.92 \r\nL 245.791591 181.810909 \r\nL 248.835227 148.865455 \r\nL 248.835227 148.865455 \r\nL 261.009773 181.810909 \r\nL 233.617045 148.865455 \r\nL 254.9225 148.865455 \r\nL 163.613409 82.974545 \r\nL 300.577045 214.756364 \r\nL 282.315227 214.756364 \r\nL 282.315227 181.810909 \r\nL 230.573409 115.92 \r\nL 309.707955 214.756364 \r\nL 206.224318 115.92 \r\nL 221.4425 115.92 \r\nL 257.966136 148.865455 \r\nL 212.311591 115.92 \r\nL 233.617045 148.865455 \r\nL 206.224318 115.92 \r\nL 200.137045 115.92 \r\nL 233.617045 148.865455 \r\nL 251.878864 181.810909 \r\nL 261.009773 148.865455 \r\nL 291.446136 214.756364 \r\nL 203.180682 115.92 \r\nL 245.791591 181.810909 \r\nL 169.700682 82.974545 \r\nL 273.184318 214.756364 \r\nL 291.446136 214.756364 \r\nL 160.569773 50.029091 \r\nL 294.489773 214.756364 \r\nL 203.180682 115.92 \r\nL 215.355227 115.92 \r\nL 87.5225 50.029091 \r\nL 261.009773 181.810909 \r\nL 154.4825 50.029091 \r\nL 221.4425 115.92 \r\nL 279.271591 181.810909 \r\nL 212.311591 115.92 \r\nL 230.573409 148.865455 \r\nL 148.395227 50.029091 \r\nL 254.9225 148.865455 \r\nL 212.311591 115.92 \r\nL 230.573409 115.92 \r\nL 227.529773 148.865455 \r\nL 203.180682 148.865455 \r\nL 191.006136 82.974545 \r\nL 209.267955 115.92 \r\nL 184.918864 82.974545 \r\nL 160.569773 82.974545 \r\nL 114.915227 50.029091 \r\nL 273.184318 181.810909 \r\nL 261.009773 148.865455 \r\nL 242.747955 148.865455 \r\nL 184.918864 82.974545 \r\nL 172.744318 82.974545 \r\nL 178.831591 115.92 \r\nL 230.573409 148.865455 \r\nL 154.4825 50.029091 \r\nL 279.271591 181.810909 \r\nL 288.4025 214.756364 \r\nL 251.878864 181.810909 \r\nL 248.835227 148.865455 \r\nL 297.533409 214.756364 \r\nL 254.9225 181.810909 \r\nL 139.264318 50.029091 \r\nL 276.227955 181.810909 \r\nL 172.744318 82.974545 \r\nL 297.533409 214.756364 \r\nL 282.315227 214.756364 \r\nL 236.660682 148.865455 \r\nL 254.9225 148.865455 \r\nL 239.704318 148.865455 \r\nL 239.704318 181.810909 \r\nL 261.009773 181.810909 \r\nL 312.751591 214.756364 \r\nL 169.700682 115.92 \r\nL 297.533409 214.756364 \r\nL 239.704318 148.865455 \r\nL 340.144318 214.756364 \r\nL 227.529773 148.865455 \r\nL 267.097045 148.865455 \r\nL 230.573409 148.865455 \r\nL 306.664318 214.756364 \r\nL 203.180682 115.92 \r\nL 197.093409 115.92 \r\nL 212.311591 115.92 \r\nL 340.144318 214.756364 \r\nL 270.140682 181.810909 \r\nL 294.489773 214.756364 \r\nL 285.358864 181.810909 \r\nL 227.529773 115.92 \r\nL 245.791591 148.865455 \r\nL 315.795227 214.756364 \r\nL 306.664318 214.756364 \r\nL 318.838864 214.756364 \r\nL 209.267955 115.92 \r\nL 279.271591 181.810909 \r\nL 324.926136 214.756364 \r\nL 242.747955 148.865455 \r\nL 270.140682 181.810909 \r\nL 285.358864 181.810909 \r\nL 184.918864 115.92 \r\nL 291.446136 214.756364 \r\nL 148.395227 82.974545 \r\nL 261.009773 181.810909 \r\nL 282.315227 214.756364 \r\nL 276.227955 181.810909 \r\nL 203.180682 115.92 \r\nL 200.137045 82.974545 \r\nL 203.180682 148.865455 \r\nL 236.660682 148.865455 \r\nL 221.4425 148.865455 \r\nL 254.9225 181.810909 \r\nL 224.486136 148.865455 \r\nL 203.180682 115.92 \r\nL 166.657045 82.974545 \r\nL 257.966136 181.810909 \r\nL 154.4825 50.029091 \r\nL 291.446136 214.756364 \r\nL 242.747955 148.865455 \r\nL 264.053409 181.810909 \r\nL 340.144318 214.756364 \r\nL 239.704318 148.865455 \r\nL 239.704318 181.810909 \r\nL 248.835227 148.865455 \r\nL 184.918864 115.92 \r\nL 239.704318 148.865455 \r\nL 306.664318 214.756364 \r\nL 261.009773 181.810909 \r\nL 218.398864 148.865455 \r\nL 297.533409 181.810909 \r\nL 224.486136 148.865455 \r\nL 273.184318 181.810909 \r\nL 303.620682 214.756364 \r\nL 197.093409 115.92 \r\nL 315.795227 214.756364 \r\nL 340.144318 214.756364 \r\nL 191.006136 115.92 \r\nL 267.097045 181.810909 \r\nL 288.4025 181.810909 \r\nL 257.966136 181.810909 \r\nL 303.620682 214.756364 \r\nL 297.533409 214.756364 \r\nL 239.704318 148.865455 \r\nL 191.006136 82.974545 \r\nL 312.751591 214.756364 \r\nL 200.137045 115.92 \r\nL 270.140682 181.810909 \r\nL 248.835227 148.865455 \r\nL 340.144318 214.756364 \r\nL 242.747955 148.865455 \r\nL 230.573409 115.92 \r\nL 187.9625 82.974545 \r\nL 245.791591 148.865455 \r\nL 194.049773 82.974545 \r\nL 239.704318 148.865455 \r\nL 267.097045 181.810909 \r\nL 236.660682 148.865455 \r\nL 194.049773 82.974545 \r\nL 303.620682 214.756364 \r\nL 233.617045 148.865455 \r\nL 288.4025 181.810909 \r\nL 230.573409 148.865455 \r\nL 224.486136 148.865455 \r\nL 291.446136 181.810909 \r\nL 203.180682 115.92 \r\nL 245.791591 148.865455 \r\nL 206.224318 115.92 \r\nL 197.093409 115.92 \r\nL 276.227955 181.810909 \r\nL 291.446136 181.810909 \r\nL 270.140682 181.810909 \r\nL 245.791591 148.865455 \r\nL 160.569773 82.974545 \r\nL 251.878864 181.810909 \r\nL 224.486136 148.865455 \r\nL 279.271591 181.810909 \r\nL 282.315227 181.810909 \r\nL 221.4425 148.865455 \r\nL 276.227955 181.810909 \r\nL 121.0025 50.029091 \r\nL 224.486136 115.92 \r\nL 191.006136 115.92 \r\nL 312.751591 214.756364 \r\nL 288.4025 214.756364 \r\nL 297.533409 214.756364 \r\nL 163.613409 50.029091 \r\nL 270.140682 181.810909 \r\nL 206.224318 115.92 \r\nL 242.747955 148.865455 \r\nL 294.489773 214.756364 \r\nL 233.617045 148.865455 \r\nL 279.271591 214.756364 \r\nL 236.660682 148.865455 \r\nL 206.224318 115.92 \r\nL 254.9225 181.810909 \r\nL 187.9625 115.92 \r\nL 254.9225 148.865455 \r\nL 324.926136 214.756364 \r\nL 230.573409 148.865455 \r\nL 166.657045 82.974545 \r\nL 297.533409 181.810909 \r\nL 300.577045 214.756364 \r\nL 285.358864 214.756364 \r\nL 264.053409 181.810909 \r\nL 236.660682 148.865455 \r\nL 218.398864 148.865455 \r\nL 194.049773 115.92 \r\nL 279.271591 214.756364 \r\nL 242.747955 148.865455 \r\nL 288.4025 214.756364 \r\nL 194.049773 115.92 \r\nL 191.006136 115.92 \r\nL 261.009773 181.810909 \r\nL 267.097045 181.810909 \r\nL 267.097045 181.810909 \r\nL 248.835227 148.865455 \r\nL 218.398864 148.865455 \r\nL 184.918864 82.974545 \r\nL 288.4025 181.810909 \r\nL 248.835227 148.865455 \r\nL 279.271591 181.810909 \r\nL 194.049773 115.92 \r\nL 257.966136 148.865455 \r\nL 257.966136 148.865455 \r\nL 270.140682 181.810909 \r\nL 264.053409 181.810909 \r\nL 282.315227 181.810909 \r\nL 276.227955 181.810909 \r\nL 187.9625 82.974545 \r\nL 318.838864 214.756364 \r\nL 257.966136 181.810909 \r\nL 163.613409 82.974545 \r\nL 264.053409 181.810909 \r\nL 254.9225 181.810909 \r\nL 315.795227 214.756364 \r\nL 267.097045 181.810909 \r\nL 227.529773 148.865455 \r\nL 184.918864 82.974545 \r\nL 197.093409 115.92 \r\nL 248.835227 148.865455 \r\nL 294.489773 214.756364 \r\nL 273.184318 181.810909 \r\nL 315.795227 214.756364 \r\nL 227.529773 148.865455 \r\nL 297.533409 181.810909 \r\nL 206.224318 148.865455 \r\nL 194.049773 82.974545 \r\nL 181.875227 82.974545 \r\nL 276.227955 181.810909 \r\nL 273.184318 181.810909 \r\nL 175.787955 82.974545 \r\nL 285.358864 214.756364 \r\nL 285.358864 214.756364 \r\nL 306.664318 181.810909 \r\nL 248.835227 181.810909 \r\nL 257.966136 181.810909 \r\nL 218.398864 148.865455 \r\nL 257.966136 181.810909 \r\nL 270.140682 181.810909 \r\nL 224.486136 148.865455 \r\nL 160.569773 82.974545 \r\nL 261.009773 181.810909 \r\nL 175.787955 82.974545 \r\nL 300.577045 214.756364 \r\nL 273.184318 214.756364 \r\nL 200.137045 115.92 \r\nL 291.446136 181.810909 \r\nL 264.053409 181.810909 \r\nL 239.704318 148.865455 \r\nL 300.577045 214.756364 \r\nL 194.049773 82.974545 \r\nL 251.878864 148.865455 \r\nL 209.267955 115.92 \r\nL 267.097045 181.810909 \r\nL 218.398864 148.865455 \r\nL 239.704318 148.865455 \r\nL 236.660682 148.865455 \r\nL 285.358864 214.756364 \r\nL 254.9225 181.810909 \r\nL 251.878864 148.865455 \r\nL 233.617045 148.865455 \r\nL 276.227955 181.810909 \r\nL 297.533409 214.756364 \r\nL 282.315227 181.810909 \r\nL 197.093409 82.974545 \r\nL 175.787955 82.974545 \r\nL 309.707955 214.756364 \r\nL 221.4425 148.865455 \r\nL 105.784318 50.029091 \r\nL 264.053409 181.810909 \r\nL 203.180682 82.974545 \r\nL 218.398864 148.865455 \r\nL 148.395227 50.029091 \r\nL 206.224318 115.92 \r\nL 273.184318 214.756364 \r\nL 318.838864 214.756364 \r\nL 242.747955 148.865455 \r\nL 248.835227 181.810909 \r\nL 191.006136 82.974545 \r\nL 151.438864 50.029091 \r\nL 203.180682 115.92 \r\nL 221.4425 115.92 \r\nL 257.966136 148.865455 \r\nL 267.097045 181.810909 \r\nL 254.9225 148.865455 \r\nL 257.966136 181.810909 \r\nL 279.271591 181.810909 \r\nL 221.4425 148.865455 \r\nL 321.8825 214.756364 \r\nL 261.009773 181.810909 \r\nL 261.009773 181.810909 \r\nL 233.617045 148.865455 \r\nL 209.267955 115.92 \r\nL 273.184318 181.810909 \r\nL 212.311591 115.92 \r\nL 251.878864 148.865455 \r\nL 254.9225 148.865455 \r\nL 221.4425 148.865455 \r\nL 236.660682 115.92 \r\nL 224.486136 148.865455 \r\nL 309.707955 214.756364 \r\nL 224.486136 115.92 \r\nL 291.446136 214.756364 \r\nL 212.311591 115.92 \r\nL 139.264318 50.029091 \r\nL 218.398864 115.92 \r\nL 212.311591 115.92 \r\nL 212.311591 148.865455 \r\nL 236.660682 148.865455 \r\nL 230.573409 115.92 \r\nL 291.446136 214.756364 \r\nL 270.140682 181.810909 \r\nL 257.966136 148.865455 \r\nL 261.009773 181.810909 \r\nL 331.013409 214.756364 \r\nL 166.657045 82.974545 \r\nL 309.707955 214.756364 \r\nL 324.926136 214.756364 \r\nL 288.4025 181.810909 \r\nL 230.573409 148.865455 \r\nL 297.533409 214.756364 \r\nL 340.144318 214.756364 \r\nL 282.315227 181.810909 \r\nL 184.918864 82.974545 \r\nL 166.657045 82.974545 \r\nL 267.097045 181.810909 \r\nL 257.966136 148.865455 \r\nL 273.184318 148.865455 \r\nL 230.573409 148.865455 \r\nL 248.835227 181.810909 \r\nL 239.704318 148.865455 \r\nL 242.747955 181.810909 \r\nL 239.704318 181.810909 \r\nL 200.137045 115.92 \r\nL 261.009773 181.810909 \r\nL 172.744318 82.974545 \r\nL 306.664318 214.756364 \r\nL 227.529773 148.865455 \r\nL 215.355227 115.92 \r\nL 200.137045 148.865455 \r\nL 166.657045 82.974545 \r\nL 233.617045 115.92 \r\nL 337.100682 214.756364 \r\nL 215.355227 115.92 \r\nL 257.966136 148.865455 \r\nL 233.617045 148.865455 \r\nL 279.271591 181.810909 \r\nL 209.267955 115.92 \r\nL 291.446136 214.756364 \r\nL 251.878864 181.810909 \r\nL 288.4025 214.756364 \r\nL 236.660682 148.865455 \r\nL 254.9225 148.865455 \r\nL 257.966136 181.810909 \r\nL 261.009773 181.810909 \r\nL 257.966136 181.810909 \r\nL 215.355227 148.865455 \r\nL 206.224318 115.92 \r\nL 318.838864 214.756364 \r\nL 212.311591 115.92 \r\nL 294.489773 181.810909 \r\nL 154.4825 50.029091 \r\nL 239.704318 148.865455 \r\nL 288.4025 214.756364 \r\nL 251.878864 148.865455 \r\nL 215.355227 115.92 \r\nL 227.529773 148.865455 \r\nL 254.9225 148.865455 \r\nL 206.224318 115.92 \r\nL 215.355227 115.92 \r\nL 236.660682 148.865455 \r\nL 181.875227 115.92 \r\nL 242.747955 148.865455 \r\nL 236.660682 181.810909 \r\nL 206.224318 115.92 \r\nL 303.620682 214.756364 \r\nL 282.315227 181.810909 \r\nL 282.315227 181.810909 \r\nL 257.966136 148.865455 \r\nL 288.4025 181.810909 \r\nL 261.009773 181.810909 \r\nL 236.660682 148.865455 \r\nL 282.315227 214.756364 \r\nL 175.787955 82.974545 \r\nL 257.966136 181.810909 \r\nL 294.489773 181.810909 \r\nL 315.795227 214.756364 \r\nL 270.140682 181.810909 \r\nL 212.311591 115.92 \r\nL 221.4425 115.92 \r\nL 206.224318 82.974545 \r\nL 306.664318 214.756364 \r\nL 200.137045 115.92 \r\nL 340.144318 214.756364 \r\nL 233.617045 148.865455 \r\nL 212.311591 115.92 \r\nL 200.137045 115.92 \r\nL 248.835227 181.810909 \r\nL 309.707955 214.756364 \r\nL 212.311591 148.865455 \r\nL 300.577045 214.756364 \r\nL 130.133409 50.029091 \r\nL 239.704318 148.865455 \r\nL 303.620682 214.756364 \r\nL 261.009773 214.756364 \r\nL 294.489773 214.756364 \r\nL 245.791591 148.865455 \r\nL 297.533409 181.810909 \r\nL 239.704318 148.865455 \r\nL 309.707955 214.756364 \r\nL 224.486136 148.865455 \r\nL 242.747955 181.810909 \r\nL 230.573409 148.865455 \r\nL 251.878864 181.810909 \r\nL 251.878864 181.810909 \r\nL 215.355227 115.92 \r\nL 242.747955 148.865455 \r\nL 194.049773 115.92 \r\nL 194.049773 115.92 \r\nL 261.009773 181.810909 \r\nL 178.831591 115.92 \r\nL 264.053409 148.865455 \r\nL 197.093409 115.92 \r\nL 285.358864 214.756364 \r\nL 294.489773 181.810909 \r\nL 230.573409 148.865455 \r\nL 288.4025 214.756364 \r\nL 303.620682 214.756364 \r\nL 230.573409 148.865455 \r\nL 230.573409 148.865455 \r\nL 181.875227 115.92 \r\nL 273.184318 181.810909 \r\nL 245.791591 148.865455 \r\nL 251.878864 181.810909 \r\nL 276.227955 181.810909 \r\nL 300.577045 214.756364 \r\nL 221.4425 115.92 \r\nL 306.664318 214.756364 \r\nL 215.355227 115.92 \r\nL 285.358864 214.756364 \r\nL 248.835227 148.865455 \r\nL 215.355227 115.92 \r\nL 273.184318 181.810909 \r\nL 315.795227 214.756364 \r\nL 251.878864 181.810909 \r\nL 187.9625 115.92 \r\nL 184.918864 115.92 \r\nL 221.4425 115.92 \r\nL 331.013409 214.756364 \r\nL 300.577045 214.756364 \r\nL 306.664318 214.756364 \r\nL 261.009773 181.810909 \r\nL 273.184318 181.810909 \r\nL 273.184318 181.810909 \r\nL 184.918864 115.92 \r\nL 297.533409 214.756364 \r\nL 212.311591 148.865455 \r\nL 215.355227 115.92 \r\nL 194.049773 115.92 \r\nL 218.398864 148.865455 \r\nL 221.4425 115.92 \r\nL 197.093409 82.974545 \r\nL 160.569773 50.029091 \r\nL 261.009773 148.865455 \r\nL 239.704318 148.865455 \r\nL 200.137045 115.92 \r\nL 221.4425 148.865455 \r\nL 303.620682 214.756364 \r\nL 245.791591 181.810909 \r\nL 288.4025 181.810909 \r\nL 218.398864 115.92 \r\nL 236.660682 115.92 \r\nL 236.660682 181.810909 \r\nL 315.795227 214.756364 \r\nL 245.791591 181.810909 \r\nL 285.358864 214.756364 \r\nL 270.140682 181.810909 \r\nL 324.926136 214.756364 \r\nL 227.529773 148.865455 \r\nL 288.4025 214.756364 \r\nL 340.144318 214.756364 \r\nL 239.704318 148.865455 \r\nL 239.704318 148.865455 \r\nL 254.9225 181.810909 \r\nL 267.097045 181.810909 \r\nL 309.707955 214.756364 \r\nL 181.875227 82.974545 \r\nL 224.486136 148.865455 \r\nL 172.744318 82.974545 \r\nL 154.4825 50.029091 \r\nL 254.9225 148.865455 \r\nL 236.660682 148.865455 \r\nL 264.053409 181.810909 \r\nL 261.009773 181.810909 \r\nL 309.707955 214.756364 \r\nL 279.271591 181.810909 \r\nL 191.006136 82.974545 \r\nL 166.657045 82.974545 \r\nL 340.144318 214.756364 \r\nL 251.878864 181.810909 \r\nL 181.875227 115.92 \r\nL 242.747955 148.865455 \r\nL 264.053409 181.810909 \r\nL 327.969773 214.756364 \r\nL 224.486136 115.92 \r\nL 236.660682 148.865455 \r\nL 282.315227 181.810909 \r\nL 203.180682 82.974545 \r\nL 191.006136 115.92 \r\nL 312.751591 214.756364 \r\nL 206.224318 115.92 \r\nL 221.4425 148.865455 \r\nL 331.013409 214.756364 \r\nL 276.227955 181.810909 \r\nL 257.966136 181.810909 \r\nL 267.097045 181.810909 \r\nL 257.966136 148.865455 \r\nL 227.529773 115.92 \r\nL 230.573409 148.865455 \r\nL 236.660682 115.92 \r\nL 209.267955 115.92 \r\nL 224.486136 148.865455 \r\nL 242.747955 148.865455 \r\nL 267.097045 181.810909 \r\nL 340.144318 214.756364 \r\nL 276.227955 148.865455 \r\nL 108.827955 50.029091 \r\nL 200.137045 115.92 \r\nL 270.140682 181.810909 \r\nL 285.358864 181.810909 \r\nL 218.398864 115.92 \r\nL 124.046136 50.029091 \r\nL 273.184318 181.810909 \r\nL 209.267955 115.92 \r\nL 306.664318 214.756364 \r\nL 254.9225 148.865455 \r\nL 291.446136 214.756364 \r\nL 212.311591 115.92 \r\nL 230.573409 148.865455 \r\nL 215.355227 148.865455 \r\nL 309.707955 214.756364 \r\nL 270.140682 181.810909 \r\nL 318.838864 214.756364 \r\nL 242.747955 148.865455 \r\nL 172.744318 82.974545 \r\nL 273.184318 214.756364 \r\nL 282.315227 214.756364 \r\nL 257.966136 148.865455 \r\nL 221.4425 115.92 \r\nL 227.529773 148.865455 \r\nL 191.006136 115.92 \r\nL 327.969773 214.756364 \r\nL 212.311591 148.865455 \r\nL 331.013409 214.756364 \r\nL 248.835227 148.865455 \r\nL 181.875227 115.92 \r\nL 209.267955 115.92 \r\nL 191.006136 115.92 \r\nL 230.573409 148.865455 \r\nL 218.398864 148.865455 \r\nL 303.620682 214.756364 \r\nL 291.446136 214.756364 \r\nL 261.009773 148.865455 \r\nL 279.271591 181.810909 \r\nL 315.795227 214.756364 \r\nL 267.097045 181.810909 \r\nL 261.009773 181.810909 \r\nL 194.049773 82.974545 \r\nL 303.620682 214.756364 \r\nL 282.315227 181.810909 \r\nL 276.227955 181.810909 \r\nL 233.617045 148.865455 \r\nL 282.315227 181.810909 \r\nL 248.835227 148.865455 \r\nL 224.486136 148.865455 \r\nL 197.093409 115.92 \r\nL 276.227955 181.810909 \r\nL 206.224318 115.92 \r\nL 279.271591 181.810909 \r\nL 297.533409 214.756364 \r\nL 248.835227 148.865455 \r\nL 276.227955 181.810909 \r\nL 239.704318 148.865455 \r\nL 239.704318 148.865455 \r\nL 236.660682 148.865455 \r\nL 218.398864 115.92 \r\nL 300.577045 214.756364 \r\nL 270.140682 181.810909 \r\nL 236.660682 148.865455 \r\nL 251.878864 148.865455 \r\nL 227.529773 148.865455 \r\nL 218.398864 115.92 \r\nL 257.966136 148.865455 \r\nL 294.489773 214.756364 \r\nL 261.009773 148.865455 \r\nL 254.9225 181.810909 \r\nL 267.097045 181.810909 \r\nL 209.267955 115.92 \r\nL 273.184318 181.810909 \r\nL 291.446136 181.810909 \r\nL 270.140682 181.810909 \r\nL 230.573409 148.865455 \r\nL 273.184318 181.810909 \r\nL 285.358864 181.810909 \r\nL 264.053409 181.810909 \r\nL 221.4425 148.865455 \r\nL 254.9225 181.810909 \r\nL 242.747955 148.865455 \r\nL 203.180682 115.92 \r\nL 157.526136 50.029091 \r\nL 236.660682 148.865455 \r\nL 337.100682 214.756364 \r\nL 264.053409 181.810909 \r\nL 273.184318 181.810909 \r\nL 212.311591 115.92 \r\nL 309.707955 214.756364 \r\nL 197.093409 115.92 \r\nL 267.097045 181.810909 \r\nL 261.009773 181.810909 \r\nL 270.140682 181.810909 \r\nL 227.529773 115.92 \r\nL 306.664318 214.756364 \r\nL 285.358864 214.756364 \r\nL 254.9225 148.865455 \r\nL 273.184318 181.810909 \r\nL 236.660682 148.865455 \r\nL 282.315227 214.756364 \r\nL 239.704318 148.865455 \r\nL 291.446136 214.756364 \r\nL 230.573409 148.865455 \r\nL 227.529773 148.865455 \r\nL 254.9225 148.865455 \r\nL 139.264318 50.029091 \r\nL 215.355227 115.92 \r\nL 300.577045 214.756364 \r\nL 221.4425 115.92 \r\nL 291.446136 214.756364 \r\nL 340.144318 214.756364 \r\nL 282.315227 214.756364 \r\nL 248.835227 148.865455 \r\nL 321.8825 214.756364 \r\nL 273.184318 181.810909 \r\nL 327.969773 214.756364 \r\nL 267.097045 181.810909 \r\nL 257.966136 214.756364 \r\nL 254.9225 148.865455 \r\nL 215.355227 115.92 \r\nL 309.707955 214.756364 \r\nL 181.875227 82.974545 \r\nL 166.657045 82.974545 \r\nL 261.009773 181.810909 \r\nL 264.053409 181.810909 \r\nL 191.006136 115.92 \r\nL 315.795227 214.756364 \r\nL 154.4825 82.974545 \r\nL 270.140682 181.810909 \r\nL 175.787955 82.974545 \r\nL 306.664318 214.756364 \r\nL 178.831591 82.974545 \r\nL 212.311591 115.92 \r\nL 209.267955 148.865455 \r\nL 276.227955 214.756364 \r\nL 236.660682 148.865455 \r\nL 251.878864 181.810909 \r\nL 218.398864 115.92 \r\nL 257.966136 181.810909 \r\nL 209.267955 115.92 \r\nL 291.446136 214.756364 \r\nL 257.966136 148.865455 \r\nL 203.180682 115.92 \r\nL 276.227955 181.810909 \r\nL 264.053409 181.810909 \r\nL 230.573409 148.865455 \r\nL 218.398864 115.92 \r\nL 291.446136 214.756364 \r\nL 245.791591 148.865455 \r\nL 254.9225 148.865455 \r\nL 270.140682 181.810909 \r\nL 309.707955 214.756364 \r\nL 203.180682 115.92 \r\nL 324.926136 214.756364 \r\nL 212.311591 115.92 \r\nL 242.747955 181.810909 \r\nL 215.355227 115.92 \r\nL 270.140682 181.810909 \r\nL 254.9225 148.865455 \r\nL 212.311591 115.92 \r\nL 282.315227 214.756364 \r\nL 224.486136 148.865455 \r\nL 227.529773 148.865455 \r\nL 254.9225 181.810909 \r\nL 264.053409 181.810909 \r\nL 224.486136 148.865455 \r\nL 251.878864 181.810909 \r\nL 218.398864 115.92 \r\nL 181.875227 82.974545 \r\nL 257.966136 181.810909 \r\nL 239.704318 148.865455 \r\nL 273.184318 181.810909 \r\nL 233.617045 148.865455 \r\nL 212.311591 115.92 \r\nL 254.9225 148.865455 \r\nL 169.700682 82.974545 \r\nL 276.227955 181.810909 \r\nL 294.489773 214.756364 \r\nL 206.224318 115.92 \r\nL 309.707955 214.756364 \r\nL 294.489773 214.756364 \r\nL 215.355227 115.92 \r\nL 282.315227 214.756364 \r\nL 191.006136 82.974545 \r\nL 276.227955 181.810909 \r\nL 151.438864 50.029091 \r\nL 233.617045 148.865455 \r\nL 233.617045 115.92 \r\nL 224.486136 115.92 \r\nL 236.660682 148.865455 \r\nL 261.009773 148.865455 \r\nL 291.446136 214.756364 \r\nL 194.049773 82.974545 \r\nL 242.747955 148.865455 \r\nL 248.835227 181.810909 \r\nL 291.446136 181.810909 \r\nL 218.398864 148.865455 \r\nL 203.180682 115.92 \r\nL 257.966136 148.865455 \r\nL 279.271591 181.810909 \r\nL 321.8825 214.756364 \r\nL 294.489773 214.756364 \r\nL 267.097045 181.810909 \r\nL 282.315227 181.810909 \r\nL 261.009773 181.810909 \r\nL 172.744318 82.974545 \r\nL 264.053409 181.810909 \r\nL 200.137045 115.92 \r\nL 130.133409 50.029091 \r\nL 178.831591 82.974545 \r\nL 230.573409 148.865455 \r\nL 291.446136 214.756364 \r\nL 279.271591 181.810909 \r\nL 297.533409 214.756364 \r\nL 215.355227 115.92 \r\nL 248.835227 148.865455 \r\nL 254.9225 148.865455 \r\nL 312.751591 214.756364 \r\nL 309.707955 214.756364 \r\nL 309.707955 214.756364 \r\nL 194.049773 115.92 \r\nL 300.577045 214.756364 \r\nL 212.311591 115.92 \r\nL 239.704318 148.865455 \r\nL 242.747955 148.865455 \r\nL 245.791591 181.810909 \r\nL 297.533409 181.810909 \r\nL 200.137045 115.92 \r\nL 218.398864 115.92 \r\nL 297.533409 214.756364 \r\nL 218.398864 148.865455 \r\nL 285.358864 214.756364 \r\nL 187.9625 115.92 \r\nL 230.573409 148.865455 \r\nL 230.573409 148.865455 \r\nL 285.358864 181.810909 \r\nL 209.267955 115.92 \r\nL 270.140682 181.810909 \r\nL 194.049773 82.974545 \r\nL 212.311591 115.92 \r\nL 169.700682 50.029091 \r\nL 270.140682 181.810909 \r\nL 233.617045 115.92 \r\nL 294.489773 214.756364 \r\nL 294.489773 214.756364 \r\nL 200.137045 115.92 \r\nL 254.9225 148.865455 \r\nL 264.053409 181.810909 \r\nL 239.704318 148.865455 \r\nL 242.747955 148.865455 \r\nL 294.489773 214.756364 \r\nL 239.704318 181.810909 \r\nL 230.573409 148.865455 \r\nL 331.013409 214.756364 \r\nL 242.747955 148.865455 \r\nL 276.227955 181.810909 \r\nL 184.918864 82.974545 \r\nL 257.966136 181.810909 \r\nL 224.486136 115.92 \r\nL 297.533409 214.756364 \r\nL 163.613409 50.029091 \r\nL 251.878864 181.810909 \r\nL 318.838864 214.756364 \r\nL 285.358864 214.756364 \r\nL 197.093409 115.92 \r\nL 163.613409 82.974545 \r\nL 261.009773 181.810909 \r\nL 191.006136 115.92 \r\nL 212.311591 115.92 \r\nL 254.9225 181.810909 \r\nL 291.446136 214.756364 \r\nL 309.707955 214.756364 \r\nL 224.486136 115.92 \r\nL 230.573409 181.810909 \r\nL 285.358864 214.756364 \r\nL 221.4425 115.92 \r\nL 254.9225 181.810909 \r\nL 267.097045 181.810909 \r\nL 230.573409 148.865455 \r\nL 248.835227 181.810909 \r\nL 257.966136 148.865455 \r\nL 175.787955 82.974545 \r\nL 191.006136 115.92 \r\nL 267.097045 181.810909 \r\nL 340.144318 214.756364 \r\nL 254.9225 148.865455 \r\nL 233.617045 148.865455 \r\nL 191.006136 82.974545 \r\nL 294.489773 214.756364 \r\nL 315.795227 214.756364 \r\nL 239.704318 148.865455 \r\nL 261.009773 181.810909 \r\nL 224.486136 148.865455 \r\nL 139.264318 50.029091 \r\nL 124.046136 50.029091 \r\nL 273.184318 181.810909 \r\nL 200.137045 148.865455 \r\nL 273.184318 181.810909 \r\nL 291.446136 214.756364 \r\nL 273.184318 181.810909 \r\nL 181.875227 82.974545 \r\nL 340.144318 214.756364 \r\nL 291.446136 181.810909 \r\nL 270.140682 214.756364 \r\nL 181.875227 115.92 \r\nL 291.446136 214.756364 \r\nL 264.053409 181.810909 \r\nL 163.613409 82.974545 \r\nL 291.446136 181.810909 \r\nL 221.4425 115.92 \r\nL 224.486136 115.92 \r\nL 221.4425 115.92 \r\nL 248.835227 148.865455 \r\nL 340.144318 214.756364 \r\nL 221.4425 115.92 \r\nL 270.140682 181.810909 \r\nL 327.969773 214.756364 \r\nL 248.835227 148.865455 \r\nL 197.093409 82.974545 \r\nL 236.660682 148.865455 \r\nL 233.617045 148.865455 \r\nL 248.835227 181.810909 \r\nL 230.573409 148.865455 \r\nL 206.224318 115.92 \r\nL 221.4425 148.865455 \r\nL 166.657045 82.974545 \r\nL 206.224318 115.92 \r\nL 261.009773 181.810909 \r\nL 209.267955 148.865455 \r\nL 251.878864 148.865455 \r\nL 264.053409 181.810909 \r\nL 300.577045 214.756364 \r\nL 227.529773 148.865455 \r\nL 209.267955 115.92 \r\nL 212.311591 115.92 \r\nL 282.315227 214.756364 \r\nL 242.747955 181.810909 \r\nL 236.660682 181.810909 \r\nL 312.751591 214.756364 \r\nL 236.660682 181.810909 \r\nL 224.486136 148.865455 \r\nL 242.747955 148.865455 \r\nL 221.4425 115.92 \r\nL 285.358864 214.756364 \r\nL 212.311591 115.92 \r\nL 187.9625 115.92 \r\nL 264.053409 148.865455 \r\nL 257.966136 181.810909 \r\nL 270.140682 181.810909 \r\nL 261.009773 181.810909 \r\nL 194.049773 115.92 \r\nL 245.791591 148.865455 \r\nL 209.267955 148.865455 \r\nL 300.577045 214.756364 \r\nL 340.144318 214.756364 \r\nL 227.529773 115.92 \r\nL 282.315227 181.810909 \r\nL 212.311591 115.92 \r\nL 200.137045 115.92 \r\nL 340.144318 214.756364 \r\nL 267.097045 181.810909 \r\nL 209.267955 148.865455 \r\nL 248.835227 148.865455 \r\nL 227.529773 148.865455 \r\nL 267.097045 181.810909 \r\nL 291.446136 181.810909 \r\nL 340.144318 214.756364 \r\nL 254.9225 181.810909 \r\nL 187.9625 115.92 \r\nL 233.617045 115.92 \r\nL 227.529773 148.865455 \r\nL 285.358864 181.810909 \r\nL 224.486136 148.865455 \r\nL 233.617045 148.865455 \r\nL 160.569773 82.974545 \r\nL 324.926136 214.756364 \r\nL 108.827955 50.029091 \r\nL 273.184318 181.810909 \r\nL 294.489773 214.756364 \r\nL 300.577045 214.756364 \r\nL 191.006136 115.92 \r\nL 215.355227 115.92 \r\nL 264.053409 181.810909 \r\nL 172.744318 82.974545 \r\nL 297.533409 181.810909 \r\nL 282.315227 214.756364 \r\nL 285.358864 181.810909 \r\nL 267.097045 148.865455 \r\nL 227.529773 148.865455 \r\nL 337.100682 214.756364 \r\nL 203.180682 115.92 \r\nL 251.878864 148.865455 \r\nL 273.184318 181.810909 \r\nL 297.533409 214.756364 \r\nL 297.533409 214.756364 \r\n\" style=\"fill:none;stroke:#ff0000;stroke-linecap:square;stroke-width:1.5;\"/>\r\n   </g>\r\n   <g id=\"line2d_17\">\r\n    <path clip-path=\"url(#pff1b1d578e)\" d=\"M 261.009773 181.810909 \r\nL 303.620682 214.756364 \r\nL 318.838864 214.756364 \r\nL 169.700682 82.974545 \r\nL 264.053409 181.810909 \r\nL 273.184318 181.810909 \r\nL 315.795227 214.756364 \r\nL 154.4825 82.974545 \r\nL 239.704318 148.865455 \r\nL 187.9625 82.974545 \r\nL 194.049773 115.92 \r\nL 166.657045 82.974545 \r\nL 257.966136 181.810909 \r\nL 248.835227 181.810909 \r\nL 212.311591 115.92 \r\nL 273.184318 181.810909 \r\nL 297.533409 214.756364 \r\nL 121.0025 50.029091 \r\nL 175.787955 82.974545 \r\nL 221.4425 115.92 \r\nL 227.529773 148.865455 \r\nL 248.835227 181.810909 \r\nL 197.093409 115.92 \r\nL 257.966136 181.810909 \r\nL 279.271591 181.810909 \r\nL 254.9225 181.810909 \r\nL 203.180682 115.92 \r\nL 264.053409 181.810909 \r\nL 233.617045 148.865455 \r\nL 264.053409 148.865455 \r\nL 261.009773 181.810909 \r\nL 221.4425 148.865455 \r\nL 233.617045 148.865455 \r\nL 151.438864 82.974545 \r\nL 285.358864 214.756364 \r\nL 276.227955 214.756364 \r\nL 288.4025 181.810909 \r\nL 215.355227 115.92 \r\nL 303.620682 214.756364 \r\nL 209.267955 115.92 \r\nL 200.137045 115.92 \r\nL 242.747955 148.865455 \r\nL 233.617045 115.92 \r\nL 236.660682 148.865455 \r\nL 200.137045 115.92 \r\nL 209.267955 115.92 \r\nL 224.486136 148.865455 \r\nL 267.097045 181.810909 \r\nL 267.097045 148.865455 \r\nL 285.358864 214.756364 \r\nL 181.875227 115.92 \r\nL 242.747955 181.810909 \r\nL 163.613409 82.974545 \r\nL 264.053409 214.756364 \r\nL 300.577045 214.756364 \r\nL 166.657045 50.029091 \r\nL 297.533409 214.756364 \r\nL 184.918864 115.92 \r\nL 212.311591 115.92 \r\nL 66.217045 50.029091 \r\nL 254.9225 181.810909 \r\nL 139.264318 50.029091 \r\nL 203.180682 115.92 \r\nL 251.878864 181.810909 \r\nL 215.355227 115.92 \r\nL 221.4425 148.865455 \r\nL 148.395227 50.029091 \r\nL 261.009773 148.865455 \r\nL 206.224318 115.92 \r\nL 209.267955 115.92 \r\nL 257.966136 148.865455 \r\nL 227.529773 148.865455 \r\nL 181.875227 82.974545 \r\nL 206.224318 115.92 \r\nL 160.569773 82.974545 \r\nL 151.438864 82.974545 \r\nL 102.740682 50.029091 \r\nL 282.315227 181.810909 \r\nL 254.9225 148.865455 \r\nL 242.747955 148.865455 \r\nL 187.9625 82.974545 \r\nL 172.744318 82.974545 \r\nL 227.529773 148.865455 \r\nL 139.264318 50.029091 \r\nL 285.358864 181.810909 \r\nL 303.620682 214.756364 \r\nL 261.009773 181.810909 \r\nL 239.704318 148.865455 \r\nL 285.358864 214.756364 \r\nL 261.009773 181.810909 \r\nL 145.351591 50.029091 \r\nL 251.878864 181.810909 \r\nL 187.9625 82.974545 \r\nL 315.795227 214.756364 \r\nL 285.358864 214.756364 \r\nL 224.486136 148.865455 \r\nL 248.835227 148.865455 \r\nL 224.486136 148.865455 \r\nL 239.704318 181.810909 \r\nL 261.009773 181.810909 \r\nL 306.664318 214.756364 \r\nL 178.831591 115.92 \r\nL 309.707955 214.756364 \r\nL 254.9225 148.865455 \r\nL 340.144318 214.756364 \r\nL 230.573409 148.865455 \r\nL 254.9225 148.865455 \r\nL 334.057045 214.756364 \r\nL 184.918864 115.92 \r\nL 178.831591 115.92 \r\nL 200.137045 115.92 \r\nL 340.144318 214.756364 \r\nL 261.009773 181.810909 \r\nL 285.358864 214.756364 \r\nL 276.227955 181.810909 \r\nL 221.4425 115.92 \r\nL 233.617045 148.865455 \r\nL 306.664318 214.756364 \r\nL 318.838864 214.756364 \r\nL 206.224318 115.92 \r\nL 257.966136 181.810909 \r\nL 297.533409 214.756364 \r\nL 239.704318 148.865455 \r\nL 261.009773 181.810909 \r\nL 261.009773 181.810909 \r\nL 191.006136 115.92 \r\nL 285.358864 214.756364 \r\nL 157.526136 82.974545 \r\nL 248.835227 181.810909 \r\nL 291.446136 214.756364 \r\nL 264.053409 181.810909 \r\nL 181.875227 115.92 \r\nL 160.569773 82.974545 \r\nL 206.224318 148.865455 \r\nL 245.791591 148.865455 \r\nL 251.878864 181.810909 \r\nL 230.573409 148.865455 \r\nL 200.137045 115.92 \r\nL 178.831591 82.974545 \r\nL 273.184318 181.810909 \r\nL 136.220682 50.029091 \r\nL 264.053409 214.756364 \r\nL 236.660682 148.865455 \r\nL 282.315227 181.810909 \r\nL 318.838864 214.756364 \r\nL 245.791591 148.865455 \r\nL 242.747955 181.810909 \r\nL 236.660682 148.865455 \r\nL 178.831591 115.92 \r\nL 221.4425 148.865455 \r\nL 303.620682 214.756364 \r\nL 273.184318 181.810909 \r\nL 218.398864 148.865455 \r\nL 300.577045 181.810909 \r\nL 230.573409 148.865455 \r\nL 261.009773 181.810909 \r\nL 294.489773 214.756364 \r\nL 194.049773 115.92 \r\nL 184.918864 115.92 \r\nL 312.751591 214.756364 \r\nL 340.144318 214.756364 \r\nL 191.006136 115.92 \r\nL 273.184318 181.810909 \r\nL 273.184318 181.810909 \r\nL 248.835227 181.810909 \r\nL 261.009773 181.810909 \r\nL 273.184318 214.756364 \r\nL 282.315227 214.756364 \r\nL 248.835227 148.865455 \r\nL 200.137045 82.974545 \r\nL 300.577045 214.756364 \r\nL 212.311591 115.92 \r\nL 270.140682 181.810909 \r\nL 224.486136 148.865455 \r\nL 340.144318 214.756364 \r\nL 264.053409 148.865455 \r\nL 236.660682 115.92 \r\nL 178.831591 82.974545 \r\nL 248.835227 148.865455 \r\nL 184.918864 82.974545 \r\nL 233.617045 148.865455 \r\nL 233.617045 181.810909 \r\nL 242.747955 148.865455 \r\nL 172.744318 82.974545 \r\nL 300.577045 214.756364 \r\nL 245.791591 148.865455 \r\nL 276.227955 181.810909 \r\nL 236.660682 148.865455 \r\nL 224.486136 148.865455 \r\nL 294.489773 181.810909 \r\nL 194.049773 115.92 \r\nL 233.617045 148.865455 \r\nL 191.006136 115.92 \r\nL 203.180682 115.92 \r\nL 267.097045 181.810909 \r\nL 297.533409 181.810909 \r\nL 245.791591 181.810909 \r\nL 242.747955 148.865455 \r\nL 163.613409 82.974545 \r\nL 273.184318 181.810909 \r\nL 224.486136 148.865455 \r\nL 267.097045 181.810909 \r\nL 267.097045 181.810909 \r\nL 236.660682 148.865455 \r\nL 276.227955 181.810909 \r\nL 117.958864 50.029091 \r\nL 218.398864 115.92 \r\nL 206.224318 115.92 \r\nL 282.315227 214.756364 \r\nL 264.053409 214.756364 \r\nL 303.620682 214.756364 \r\nL 154.4825 50.029091 \r\nL 248.835227 181.810909 \r\nL 206.224318 115.92 \r\nL 261.009773 148.865455 \r\nL 257.966136 214.756364 \r\nL 224.486136 148.865455 \r\nL 264.053409 214.756364 \r\nL 257.966136 148.865455 \r\nL 200.137045 115.92 \r\nL 251.878864 181.810909 \r\nL 200.137045 115.92 \r\nL 230.573409 148.865455 \r\nL 321.8825 214.756364 \r\nL 236.660682 148.865455 \r\nL 163.613409 82.974545 \r\nL 288.4025 181.810909 \r\nL 273.184318 214.756364 \r\nL 291.446136 214.756364 \r\nL 270.140682 181.810909 \r\nL 239.704318 148.865455 \r\nL 261.009773 148.865455 \r\nL 191.006136 115.92 \r\nL 279.271591 214.756364 \r\nL 236.660682 148.865455 \r\nL 288.4025 214.756364 \r\nL 203.180682 115.92 \r\nL 166.657045 115.92 \r\nL 245.791591 181.810909 \r\nL 261.009773 181.810909 \r\nL 242.747955 148.865455 \r\nL 197.093409 148.865455 \r\nL 184.918864 82.974545 \r\nL 288.4025 181.810909 \r\nL 248.835227 148.865455 \r\nL 254.9225 181.810909 \r\nL 194.049773 115.92 \r\nL 248.835227 148.865455 \r\nL 242.747955 148.865455 \r\nL 270.140682 181.810909 \r\nL 282.315227 181.810909 \r\nL 273.184318 181.810909 \r\nL 191.006136 82.974545 \r\nL 309.707955 214.756364 \r\nL 242.747955 181.810909 \r\nL 160.569773 82.974545 \r\nL 282.315227 181.810909 \r\nL 270.140682 181.810909 \r\nL 324.926136 214.756364 \r\nL 248.835227 181.810909 \r\nL 221.4425 148.865455 \r\nL 163.613409 82.974545 \r\nL 212.311591 115.92 \r\nL 251.878864 148.865455 \r\nL 267.097045 214.756364 \r\nL 257.966136 181.810909 \r\nL 318.838864 214.756364 \r\nL 264.053409 148.865455 \r\nL 279.271591 181.810909 \r\nL 209.267955 148.865455 \r\nL 163.613409 82.974545 \r\nL 175.787955 82.974545 \r\nL 291.446136 181.810909 \r\nL 273.184318 181.810909 \r\nL 175.787955 82.974545 \r\nL 285.358864 214.756364 \r\nL 303.620682 214.756364 \r\nL 285.358864 181.810909 \r\nL 242.747955 181.810909 \r\nL 248.835227 181.810909 \r\nL 209.267955 148.865455 \r\nL 264.053409 181.810909 \r\nL 279.271591 181.810909 \r\nL 218.398864 148.865455 \r\nL 166.657045 82.974545 \r\nL 242.747955 181.810909 \r\nL 187.9625 82.974545 \r\nL 264.053409 214.756364 \r\nL 282.315227 214.756364 \r\nL 194.049773 115.92 \r\nL 282.315227 181.810909 \r\nL 230.573409 181.810909 \r\nL 288.4025 181.810909 \r\nL 245.791591 148.865455 \r\nL 282.315227 214.756364 \r\nL 169.700682 82.974545 \r\nL 239.704318 148.865455 \r\nL 194.049773 115.92 \r\nL 279.271591 181.810909 \r\nL 209.267955 148.865455 \r\nL 264.053409 148.865455 \r\nL 233.617045 148.865455 \r\nL 312.751591 214.756364 \r\nL 273.184318 181.810909 \r\nL 245.791591 148.865455 \r\nL 227.529773 148.865455 \r\nL 291.446136 181.810909 \r\nL 276.227955 214.756364 \r\nL 279.271591 181.810909 \r\nL 197.093409 82.974545 \r\nL 166.657045 82.974545 \r\nL 321.8825 214.756364 \r\nL 224.486136 148.865455 \r\nL 93.609773 50.029091 \r\nL 270.140682 181.810909 \r\nL 191.006136 82.974545 \r\nL 221.4425 148.865455 \r\nL 142.307955 50.029091 \r\nL 197.093409 115.92 \r\nL 282.315227 214.756364 \r\nL 324.926136 214.756364 \r\nL 236.660682 148.865455 \r\nL 245.791591 181.810909 \r\nL 166.657045 82.974545 \r\nL 117.958864 50.029091 \r\nL 218.398864 115.92 \r\nL 194.049773 115.92 \r\nL 261.009773 181.810909 \r\nL 239.704318 148.865455 \r\nL 239.704318 181.810909 \r\nL 264.053409 181.810909 \r\nL 209.267955 148.865455 \r\nL 324.926136 214.756364 \r\nL 236.660682 181.810909 \r\nL 267.097045 181.810909 \r\nL 245.791591 148.865455 \r\nL 194.049773 115.92 \r\nL 279.271591 181.810909 \r\nL 209.267955 115.92 \r\nL 248.835227 148.865455 \r\nL 248.835227 148.865455 \r\nL 221.4425 148.865455 \r\nL 245.791591 115.92 \r\nL 221.4425 148.865455 \r\nL 306.664318 214.756364 \r\nL 215.355227 115.92 \r\nL 273.184318 214.756364 \r\nL 212.311591 115.92 \r\nL 133.177045 50.029091 \r\nL 212.311591 115.92 \r\nL 218.398864 115.92 \r\nL 197.093409 148.865455 \r\nL 221.4425 148.865455 \r\nL 212.311591 115.92 \r\nL 294.489773 214.756364 \r\nL 251.878864 181.810909 \r\nL 248.835227 148.865455 \r\nL 254.9225 181.810909 \r\nL 327.969773 214.756364 \r\nL 257.966136 148.865455 \r\nL 160.569773 82.974545 \r\nL 285.358864 214.756364 \r\nL 340.144318 214.756364 \r\nL 270.140682 181.810909 \r\nL 224.486136 148.865455 \r\nL 288.4025 214.756364 \r\nL 324.926136 214.756364 \r\nL 251.878864 181.810909 \r\nL 172.744318 82.974545 \r\nL 166.657045 82.974545 \r\nL 264.053409 181.810909 \r\nL 248.835227 148.865455 \r\nL 230.573409 148.865455 \r\nL 264.053409 181.810909 \r\nL 215.355227 148.865455 \r\nL 270.140682 181.810909 \r\nL 239.704318 181.810909 \r\nL 206.224318 115.92 \r\nL 270.140682 181.810909 \r\nL 160.569773 82.974545 \r\nL 227.529773 148.865455 \r\nL 324.926136 214.756364 \r\nL 209.267955 148.865455 \r\nL 200.137045 115.92 \r\nL 239.704318 148.865455 \r\nL 166.657045 82.974545 \r\nL 203.180682 115.92 \r\nL 340.144318 214.756364 \r\nL 224.486136 115.92 \r\nL 242.747955 148.865455 \r\nL 227.529773 148.865455 \r\nL 270.140682 181.810909 \r\nL 206.224318 115.92 \r\nL 294.489773 214.756364 \r\nL 261.009773 181.810909 \r\nL 273.184318 214.756364 \r\nL 218.398864 148.865455 \r\nL 276.227955 148.865455 \r\nL 245.791591 181.810909 \r\nL 239.704318 181.810909 \r\nL 224.486136 148.865455 \r\nL 200.137045 115.92 \r\nL 318.838864 214.756364 \r\nL 230.573409 115.92 \r\nL 239.704318 115.92 \r\nL 279.271591 181.810909 \r\nL 139.264318 50.029091 \r\nL 224.486136 148.865455 \r\nL 297.533409 214.756364 \r\nL 233.617045 148.865455 \r\nL 197.093409 115.92 \r\nL 200.137045 148.865455 \r\nL 248.835227 148.865455 \r\nL 203.180682 115.92 \r\nL 187.9625 115.92 \r\nL 236.660682 148.865455 \r\nL 197.093409 115.92 \r\nL 230.573409 148.865455 \r\nL 257.966136 181.810909 \r\nL 191.006136 115.92 \r\nL 285.358864 214.756364 \r\nL 276.227955 181.810909 \r\nL 279.271591 181.810909 \r\nL 245.791591 148.865455 \r\nL 267.097045 181.810909 \r\nL 257.966136 181.810909 \r\nL 270.140682 181.810909 \r\nL 218.398864 148.865455 \r\nL 279.271591 214.756364 \r\nL 163.613409 82.974545 \r\nL 254.9225 181.810909 \r\nL 294.489773 181.810909 \r\nL 331.013409 214.756364 \r\nL 261.009773 181.810909 \r\nL 184.918864 115.92 \r\nL 224.486136 115.92 \r\nL 178.831591 82.974545 \r\nL 306.664318 214.756364 \r\nL 181.875227 115.92 \r\nL 340.144318 214.756364 \r\nL 242.747955 148.865455 \r\nL 203.180682 115.92 \r\nL 172.744318 115.92 \r\nL 267.097045 181.810909 \r\nL 312.751591 214.756364 \r\nL 224.486136 148.865455 \r\nL 312.751591 214.756364 \r\nL 151.438864 50.029091 \r\nL 233.617045 148.865455 \r\nL 294.489773 214.756364 \r\nL 267.097045 214.756364 \r\nL 309.707955 214.756364 \r\nL 261.009773 148.865455 \r\nL 291.446136 181.810909 \r\nL 221.4425 148.865455 \r\nL 312.751591 214.756364 \r\nL 288.4025 181.810909 \r\nL 236.660682 148.865455 \r\nL 254.9225 181.810909 \r\nL 248.835227 148.865455 \r\nL 239.704318 181.810909 \r\nL 242.747955 181.810909 \r\nL 206.224318 115.92 \r\nL 221.4425 148.865455 \r\nL 175.787955 115.92 \r\nL 200.137045 115.92 \r\nL 251.878864 181.810909 \r\nL 206.224318 115.92 \r\nL 261.009773 148.865455 \r\nL 209.267955 115.92 \r\nL 285.358864 214.756364 \r\nL 248.835227 148.865455 \r\nL 309.707955 214.756364 \r\nL 309.707955 214.756364 \r\nL 242.747955 148.865455 \r\nL 236.660682 148.865455 \r\nL 194.049773 115.92 \r\nL 267.097045 181.810909 \r\nL 242.747955 148.865455 \r\nL 254.9225 181.810909 \r\nL 285.358864 181.810909 \r\nL 315.795227 214.756364 \r\nL 200.137045 115.92 \r\nL 200.137045 115.92 \r\nL 279.271591 214.756364 \r\nL 236.660682 148.865455 \r\nL 200.137045 115.92 \r\nL 270.140682 181.810909 \r\nL 300.577045 214.756364 \r\nL 257.966136 181.810909 \r\nL 166.657045 115.92 \r\nL 224.486136 115.92 \r\nL 321.8825 214.756364 \r\nL 291.446136 214.756364 \r\nL 257.966136 181.810909 \r\nL 276.227955 181.810909 \r\nL 194.049773 115.92 \r\nL 291.446136 214.756364 \r\nL 209.267955 148.865455 \r\nL 187.9625 115.92 \r\nL 184.918864 115.92 \r\nL 215.355227 148.865455 \r\nL 218.398864 115.92 \r\nL 166.657045 82.974545 \r\nL 178.831591 50.029091 \r\nL 248.835227 148.865455 \r\nL 257.966136 148.865455 \r\nL 197.093409 115.92 \r\nL 212.311591 148.865455 \r\nL 321.8825 214.756364 \r\nL 242.747955 181.810909 \r\nL 288.4025 181.810909 \r\nL 212.311591 115.92 \r\nL 224.486136 115.92 \r\nL 251.878864 181.810909 \r\nL 297.533409 214.756364 \r\nL 242.747955 181.810909 \r\nL 279.271591 214.756364 \r\nL 276.227955 181.810909 \r\nL 306.664318 214.756364 \r\nL 236.660682 148.865455 \r\nL 279.271591 214.756364 \r\nL 331.013409 214.756364 \r\nL 230.573409 148.865455 \r\nL 230.573409 148.865455 \r\nL 245.791591 181.810909 \r\nL 233.617045 181.810909 \r\nL 303.620682 214.756364 \r\nL 187.9625 82.974545 \r\nL 230.573409 148.865455 \r\nL 157.526136 82.974545 \r\nL 136.220682 50.029091 \r\nL 276.227955 148.865455 \r\nL 224.486136 148.865455 \r\nL 276.227955 181.810909 \r\nL 261.009773 181.810909 \r\nL 315.795227 214.756364 \r\nL 279.271591 181.810909 \r\nL 175.787955 82.974545 \r\nL 172.744318 82.974545 \r\nL 340.144318 214.756364 \r\nL 273.184318 181.810909 \r\nL 178.831591 115.92 \r\nL 239.704318 148.865455 \r\nL 248.835227 181.810909 \r\nL 315.795227 214.756364 \r\nL 206.224318 115.92 \r\nL 230.573409 148.865455 \r\nL 251.878864 181.810909 \r\nL 197.093409 82.974545 \r\nL 194.049773 115.92 \r\nL 306.664318 214.756364 \r\nL 212.311591 115.92 \r\nL 242.747955 148.865455 \r\nL 327.969773 214.756364 \r\nL 279.271591 181.810909 \r\nL 267.097045 181.810909 \r\nL 257.966136 148.865455 \r\nL 224.486136 115.92 \r\nL 233.617045 148.865455 \r\nL 233.617045 115.92 \r\nL 200.137045 115.92 \r\nL 187.9625 148.865455 \r\nL 230.573409 148.865455 \r\nL 257.966136 181.810909 \r\nL 337.100682 214.756364 \r\nL 254.9225 148.865455 \r\nL 81.435227 50.029091 \r\nL 181.875227 115.92 \r\nL 257.966136 181.810909 \r\nL 282.315227 181.810909 \r\nL 227.529773 115.92 \r\nL 127.089773 50.029091 \r\nL 279.271591 181.810909 \r\nL 191.006136 115.92 \r\nL 309.707955 214.756364 \r\nL 224.486136 148.865455 \r\nL 285.358864 214.756364 \r\nL 200.137045 115.92 \r\nL 224.486136 148.865455 \r\nL 236.660682 148.865455 \r\nL 312.751591 214.756364 \r\nL 261.009773 181.810909 \r\nL 318.838864 214.756364 \r\nL 254.9225 148.865455 \r\nL 151.438864 82.974545 \r\nL 288.4025 214.756364 \r\nL 291.446136 214.756364 \r\nL 242.747955 148.865455 \r\nL 200.137045 115.92 \r\nL 206.224318 148.865455 \r\nL 194.049773 115.92 \r\nL 297.533409 214.756364 \r\nL 224.486136 148.865455 \r\nL 337.100682 214.756364 \r\nL 227.529773 148.865455 \r\nL 175.787955 115.92 \r\nL 175.787955 115.92 \r\nL 203.180682 115.92 \r\nL 248.835227 148.865455 \r\nL 233.617045 148.865455 \r\nL 282.315227 181.810909 \r\nL 294.489773 214.756364 \r\nL 279.271591 214.756364 \r\nL 230.573409 148.865455 \r\nL 282.315227 181.810909 \r\nL 303.620682 214.756364 \r\nL 261.009773 181.810909 \r\nL 257.966136 181.810909 \r\nL 191.006136 82.974545 \r\nL 309.707955 214.756364 \r\nL 276.227955 181.810909 \r\nL 279.271591 181.810909 \r\nL 218.398864 148.865455 \r\nL 282.315227 181.810909 \r\nL 233.617045 148.865455 \r\nL 242.747955 148.865455 \r\nL 203.180682 115.92 \r\nL 282.315227 181.810909 \r\nL 197.093409 115.92 \r\nL 267.097045 181.810909 \r\nL 334.057045 214.756364 \r\nL 261.009773 148.865455 \r\nL 276.227955 181.810909 \r\nL 239.704318 148.865455 \r\nL 221.4425 148.865455 \r\nL 212.311591 115.92 \r\nL 294.489773 214.756364 \r\nL 257.966136 181.810909 \r\nL 227.529773 148.865455 \r\nL 245.791591 148.865455 \r\nL 227.529773 148.865455 \r\nL 218.398864 115.92 \r\nL 251.878864 148.865455 \r\nL 300.577045 214.756364 \r\nL 221.4425 148.865455 \r\nL 270.140682 181.810909 \r\nL 242.747955 181.810909 \r\nL 187.9625 115.92 \r\nL 267.097045 181.810909 \r\nL 291.446136 181.810909 \r\nL 273.184318 181.810909 \r\nL 236.660682 148.865455 \r\nL 267.097045 181.810909 \r\nL 267.097045 181.810909 \r\nL 273.184318 181.810909 \r\nL 218.398864 148.865455 \r\nL 261.009773 181.810909 \r\nL 218.398864 148.865455 \r\nL 200.137045 115.92 \r\nL 169.700682 50.029091 \r\nL 242.747955 148.865455 \r\nL 340.144318 214.756364 \r\nL 242.747955 181.810909 \r\nL 257.966136 181.810909 \r\nL 169.700682 115.92 \r\nL 288.4025 214.756364 \r\nL 197.093409 115.92 \r\nL 273.184318 181.810909 \r\nL 282.315227 181.810909 \r\nL 257.966136 181.810909 \r\nL 206.224318 115.92 \r\nL 297.533409 214.756364 \r\nL 309.707955 214.756364 \r\nL 248.835227 148.865455 \r\nL 276.227955 181.810909 \r\nL 215.355227 148.865455 \r\nL 285.358864 214.756364 \r\nL 254.9225 148.865455 \r\nL 300.577045 214.756364 \r\nL 239.704318 148.865455 \r\nL 230.573409 148.865455 \r\nL 233.617045 148.865455 \r\nL 145.351591 50.029091 \r\nL 194.049773 115.92 \r\nL 276.227955 214.756364 \r\nL 212.311591 115.92 \r\nL 309.707955 214.756364 \r\nL 337.100682 214.756364 \r\nL 291.446136 214.756364 \r\nL 261.009773 148.865455 \r\nL 300.577045 214.756364 \r\nL 254.9225 181.810909 \r\nL 337.100682 214.756364 \r\nL 261.009773 181.810909 \r\nL 279.271591 214.756364 \r\nL 248.835227 148.865455 \r\nL 215.355227 115.92 \r\nL 303.620682 214.756364 \r\nL 163.613409 82.974545 \r\nL 160.569773 82.974545 \r\nL 251.878864 181.810909 \r\nL 270.140682 181.810909 \r\nL 209.267955 115.92 \r\nL 291.446136 214.756364 \r\nL 148.395227 82.974545 \r\nL 279.271591 181.810909 \r\nL 166.657045 82.974545 \r\nL 321.8825 214.756364 \r\nL 169.700682 82.974545 \r\nL 209.267955 115.92 \r\nL 215.355227 148.865455 \r\nL 291.446136 214.756364 \r\nL 257.966136 148.865455 \r\nL 257.966136 181.810909 \r\nL 203.180682 115.92 \r\nL 254.9225 181.810909 \r\nL 206.224318 115.92 \r\nL 285.358864 214.756364 \r\nL 254.9225 148.865455 \r\nL 178.831591 115.92 \r\nL 261.009773 181.810909 \r\nL 251.878864 181.810909 \r\nL 242.747955 148.865455 \r\nL 215.355227 115.92 \r\nL 297.533409 214.756364 \r\nL 242.747955 148.865455 \r\nL 233.617045 148.865455 \r\nL 294.489773 214.756364 \r\nL 197.093409 115.92 \r\nL 315.795227 214.756364 \r\nL 194.049773 115.92 \r\nL 254.9225 181.810909 \r\nL 233.617045 115.92 \r\nL 270.140682 181.810909 \r\nL 230.573409 148.865455 \r\nL 200.137045 115.92 \r\nL 297.533409 214.756364 \r\nL 227.529773 148.865455 \r\nL 215.355227 148.865455 \r\nL 254.9225 181.810909 \r\nL 270.140682 181.810909 \r\nL 218.398864 148.865455 \r\nL 264.053409 181.810909 \r\nL 209.267955 115.92 \r\nL 184.918864 82.974545 \r\nL 261.009773 181.810909 \r\nL 254.9225 148.865455 \r\nL 276.227955 181.810909 \r\nL 218.398864 148.865455 \r\nL 203.180682 115.92 \r\nL 248.835227 148.865455 \r\nL 166.657045 82.974545 \r\nL 285.358864 181.810909 \r\nL 285.358864 214.756364 \r\nL 209.267955 115.92 \r\nL 291.446136 214.756364 \r\nL 285.358864 214.756364 \r\nL 224.486136 115.92 \r\nL 276.227955 214.756364 \r\nL 169.700682 82.974545 \r\nL 270.140682 181.810909 \r\nL 133.177045 50.029091 \r\nL 221.4425 148.865455 \r\nL 221.4425 115.92 \r\nL 218.398864 115.92 \r\nL 248.835227 148.865455 \r\nL 245.791591 148.865455 \r\nL 270.140682 214.756364 \r\nL 191.006136 82.974545 \r\nL 257.966136 148.865455 \r\nL 248.835227 181.810909 \r\nL 282.315227 181.810909 \r\nL 200.137045 148.865455 \r\nL 209.267955 115.92 \r\nL 242.747955 148.865455 \r\nL 257.966136 181.810909 \r\nL 324.926136 214.756364 \r\nL 300.577045 214.756364 \r\nL 273.184318 181.810909 \r\nL 261.009773 181.810909 \r\nL 264.053409 181.810909 \r\nL 157.526136 82.974545 \r\nL 245.791591 181.810909 \r\nL 191.006136 115.92 \r\nL 145.351591 50.029091 \r\nL 184.918864 82.974545 \r\nL 239.704318 148.865455 \r\nL 267.097045 214.756364 \r\nL 288.4025 181.810909 \r\nL 300.577045 214.756364 \r\nL 230.573409 115.92 \r\nL 267.097045 148.865455 \r\nL 242.747955 148.865455 \r\nL 303.620682 214.756364 \r\nL 318.838864 214.756364 \r\nL 191.006136 115.92 \r\nL 285.358864 214.756364 \r\nL 194.049773 115.92 \r\nL 212.311591 148.865455 \r\nL 248.835227 148.865455 \r\nL 267.097045 181.810909 \r\nL 282.315227 181.810909 \r\nL 197.093409 115.92 \r\nL 209.267955 115.92 \r\nL 306.664318 214.756364 \r\nL 212.311591 148.865455 \r\nL 306.664318 214.756364 \r\nL 172.744318 115.92 \r\nL 261.009773 148.865455 \r\nL 209.267955 148.865455 \r\nL 276.227955 181.810909 \r\nL 197.093409 115.92 \r\nL 257.966136 181.810909 \r\nL 175.787955 82.974545 \r\nL 191.006136 115.92 \r\nL 145.351591 50.029091 \r\nL 267.097045 181.810909 \r\nL 230.573409 115.92 \r\nL 291.446136 214.756364 \r\nL 294.489773 214.756364 \r\nL 187.9625 115.92 \r\nL 242.747955 148.865455 \r\nL 245.791591 181.810909 \r\nL 239.704318 148.865455 \r\nL 227.529773 148.865455 \r\nL 318.838864 214.756364 \r\nL 221.4425 181.810909 \r\nL 203.180682 148.865455 \r\nL 327.969773 214.756364 \r\nL 233.617045 148.865455 \r\nL 282.315227 181.810909 \r\nL 175.787955 82.974545 \r\nL 254.9225 181.810909 \r\nL 197.093409 115.92 \r\nL 300.577045 214.756364 \r\nL 151.438864 50.029091 \r\nL 279.271591 181.810909 \r\nL 312.751591 214.756364 \r\nL 303.620682 214.756364 \r\nL 194.049773 115.92 \r\nL 160.569773 82.974545 \r\nL 254.9225 181.810909 \r\nL 191.006136 115.92 \r\nL 178.831591 115.92 \r\nL 267.097045 181.810909 \r\nL 273.184318 214.756364 \r\nL 285.358864 214.756364 \r\nL 221.4425 115.92 \r\nL 236.660682 181.810909 \r\nL 291.446136 214.756364 \r\nL 200.137045 115.92 \r\nL 279.271591 181.810909 \r\nL 261.009773 181.810909 \r\nL 236.660682 148.865455 \r\nL 248.835227 181.810909 \r\nL 251.878864 148.865455 \r\nL 169.700682 82.974545 \r\nL 200.137045 115.92 \r\nL 279.271591 181.810909 \r\nL 324.926136 214.756364 \r\nL 215.355227 148.865455 \r\nL 261.009773 148.865455 \r\nL 181.875227 82.974545 \r\nL 312.751591 214.756364 \r\nL 294.489773 214.756364 \r\nL 257.966136 148.865455 \r\nL 264.053409 181.810909 \r\nL 245.791591 148.865455 \r\nL 151.438864 50.029091 \r\nL 117.958864 50.029091 \r\nL 276.227955 181.810909 \r\nL 227.529773 148.865455 \r\nL 285.358864 181.810909 \r\nL 306.664318 214.756364 \r\nL 261.009773 181.810909 \r\nL 160.569773 82.974545 \r\nL 340.144318 214.756364 \r\nL 291.446136 181.810909 \r\nL 270.140682 214.756364 \r\nL 191.006136 115.92 \r\nL 312.751591 214.756364 \r\nL 254.9225 181.810909 \r\nL 248.835227 148.865455 \r\nL 181.875227 82.974545 \r\nL 285.358864 181.810909 \r\nL 236.660682 115.92 \r\nL 236.660682 115.92 \r\nL 203.180682 115.92 \r\nL 236.660682 148.865455 \r\nL 340.144318 214.756364 \r\nL 194.049773 115.92 \r\nL 279.271591 181.810909 \r\nL 312.751591 214.756364 \r\nL 239.704318 148.865455 \r\nL 175.787955 82.974545 \r\nL 236.660682 148.865455 \r\nL 233.617045 148.865455 \r\nL 245.791591 181.810909 \r\nL 218.398864 148.865455 \r\nL 194.049773 115.92 \r\nL 251.878864 148.865455 \r\nL 169.700682 82.974545 \r\nL 191.006136 115.92 \r\nL 248.835227 181.810909 \r\nL 224.486136 148.865455 \r\nL 257.966136 148.865455 \r\nL 261.009773 181.810909 \r\nL 309.707955 214.756364 \r\nL 212.311591 148.865455 \r\nL 197.093409 115.92 \r\nL 209.267955 115.92 \r\nL 294.489773 214.756364 \r\nL 245.791591 181.810909 \r\nL 254.9225 181.810909 \r\nL 327.969773 214.756364 \r\nL 230.573409 181.810909 \r\nL 212.311591 115.92 \r\nL 279.271591 214.756364 \r\nL 218.398864 115.92 \r\nL 194.049773 115.92 \r\nL 257.966136 148.865455 \r\nL 251.878864 181.810909 \r\nL 288.4025 181.810909 \r\nL 254.9225 181.810909 \r\nL 200.137045 115.92 \r\nL 245.791591 148.865455 \r\nL 224.486136 148.865455 \r\nL 282.315227 214.756364 \r\nL 340.144318 214.756364 \r\nL 215.355227 115.92 \r\nL 251.878864 181.810909 \r\nL 230.573409 115.92 \r\nL 197.093409 115.92 \r\nL 340.144318 214.756364 \r\nL 264.053409 181.810909 \r\nL 212.311591 148.865455 \r\nL 254.9225 148.865455 \r\nL 218.398864 148.865455 \r\nL 239.704318 181.810909 \r\nL 279.271591 181.810909 \r\nL 340.144318 214.756364 \r\nL 245.791591 181.810909 \r\nL 218.398864 115.92 \r\nL 221.4425 115.92 \r\nL 239.704318 148.865455 \r\nL 270.140682 181.810909 \r\nL 218.398864 148.865455 \r\nL 212.311591 148.865455 \r\nL 181.875227 82.974545 \r\nL 321.8825 214.756364 \r\nL 105.784318 50.029091 \r\nL 273.184318 181.810909 \r\nL 297.533409 214.756364 \r\nL 312.751591 214.756364 \r\nL 285.358864 181.810909 \r\nL 200.137045 115.92 \r\nL 191.006136 115.92 \r\nL 267.097045 181.810909 \r\nL 172.744318 82.974545 \r\nL 288.4025 181.810909 \r\nL 264.053409 214.756364 \r\nL 273.184318 181.810909 \r\nL 267.097045 148.865455 \r\nL 224.486136 148.865455 \r\nL 324.926136 214.756364 \r\nL 203.180682 115.92 \r\nL 233.617045 148.865455 \r\nL 270.140682 181.810909 \r\nL 297.533409 214.756364 \r\nL 297.533409 214.756364 \r\n\" style=\"fill:none;stroke:#ff0000;stroke-linecap:square;stroke-width:1.5;\"/>\r\n   </g>\r\n   <g id=\"line2d_18\">\r\n    <path clip-path=\"url(#pff1b1d578e)\" d=\"M 38.824318 148.865455 \r\nL 38.824318 181.810909 \r\nL 35.780682 82.974545 \r\nL 38.824318 148.865455 \r\nL 38.824318 181.810909 \r\nL 35.780682 181.810909 \r\nL 38.824318 181.810909 \r\nL 38.824318 82.974545 \r\nL 35.780682 214.756364 \r\nL 38.824318 50.029091 \r\nL 38.824318 148.865455 \r\nL 35.780682 214.756364 \r\nL 38.824318 214.756364 \r\nL 35.780682 115.92 \r\nL 38.824318 50.029091 \r\nL 38.824318 115.92 \r\nL 35.780682 214.756364 \r\nL 35.780682 214.756364 \r\nL 38.824318 148.865455 \r\nL 38.824318 82.974545 \r\nL 38.824318 181.810909 \r\nL 38.824318 115.92 \r\nL 35.780682 82.974545 \r\nL 38.824318 148.865455 \r\nL 35.780682 181.810909 \r\nL 38.824318 181.810909 \r\nL 35.780682 214.756364 \r\nL 38.824318 214.756364 \r\nL 38.824318 115.92 \r\nL 35.780682 115.92 \r\nL 38.824318 214.756364 \r\nL 35.780682 115.92 \r\nL 35.780682 181.810909 \r\nL 38.824318 181.810909 \r\nL 38.824318 115.92 \r\nL 38.824318 181.810909 \r\nL 35.780682 181.810909 \r\nL 38.824318 181.810909 \r\nL 35.780682 115.92 \r\nL 38.824318 214.756364 \r\nL 38.824318 148.865455 \r\nL 35.780682 214.756364 \r\nL 38.824318 115.92 \r\nL 38.824318 82.974545 \r\nL 38.824318 148.865455 \r\nL 38.824318 115.92 \r\nL 35.780682 82.974545 \r\nL 38.824318 181.810909 \r\nL 38.824318 115.92 \r\nL 38.824318 148.865455 \r\nL 35.780682 181.810909 \r\nL 35.780682 181.810909 \r\nL 35.780682 82.974545 \r\nL 38.824318 181.810909 \r\nL 35.780682 148.865455 \r\nL 38.824318 181.810909 \r\nL 38.824318 115.92 \r\nL 35.780682 148.865455 \r\nL 35.780682 115.92 \r\nL 38.824318 181.810909 \r\nL 38.824318 214.756364 \r\nL 38.824318 181.810909 \r\nL 35.780682 148.865455 \r\nL 38.824318 115.92 \r\nL 38.824318 181.810909 \r\nL 38.824318 50.029091 \r\nL 38.824318 181.810909 \r\nL 35.780682 181.810909 \r\nL 38.824318 214.756364 \r\nL 38.824318 148.865455 \r\nL 35.780682 214.756364 \r\nL 35.780682 148.865455 \r\nL 38.824318 181.810909 \r\nL 38.824318 148.865455 \r\nL 35.780682 214.756364 \r\nL 35.780682 181.810909 \r\nL 38.824318 115.92 \r\nL 38.824318 181.810909 \r\nL 38.824318 148.865455 \r\nL 35.780682 82.974545 \r\nL 38.824318 214.756364 \r\nL 38.824318 148.865455 \r\nL 35.780682 50.029091 \r\nL 38.824318 181.810909 \r\nL 35.780682 181.810909 \r\nL 35.780682 181.810909 \r\nL 38.824318 115.92 \r\nL 38.824318 115.92 \r\nL 35.780682 214.756364 \r\nL 35.780682 148.865455 \r\nL 35.780682 181.810909 \r\nL 38.824318 17.083636 \r\nL 38.824318 181.810909 \r\nL 35.780682 214.756364 \r\nL 35.780682 214.756364 \r\nL 35.780682 115.92 \r\nL 38.824318 115.92 \r\nL 38.824318 181.810909 \r\nL 35.780682 214.756364 \r\nL 38.824318 214.756364 \r\nL 35.780682 181.810909 \r\nL 35.780682 115.92 \r\nL 38.824318 181.810909 \r\nL 35.780682 181.810909 \r\nL 35.780682 181.810909 \r\nL 38.824318 148.865455 \r\nL 35.780682 148.865455 \r\nL 38.824318 148.865455 \r\nL 38.824318 82.974545 \r\nL 38.824318 214.756364 \r\nL 35.780682 214.756364 \r\nL 38.824318 148.865455 \r\nL 35.780682 148.865455 \r\nL 38.824318 148.865455 \r\nL 38.824318 214.756364 \r\nL 35.780682 181.810909 \r\nL 38.824318 148.865455 \r\nL 38.824318 82.974545 \r\nL 38.824318 181.810909 \r\nL 38.824318 82.974545 \r\nL 35.780682 214.756364 \r\nL 38.824318 214.756364 \r\nL 38.824318 115.92 \r\nL 38.824318 181.810909 \r\nL 35.780682 214.756364 \r\nL 35.780682 181.810909 \r\nL 35.780682 214.756364 \r\nL 38.824318 115.92 \r\nL 38.824318 115.92 \r\nL 38.824318 214.756364 \r\nL 38.824318 82.974545 \r\nL 38.824318 214.756364 \r\nL 35.780682 148.865455 \r\nL 38.824318 181.810909 \r\nL 35.780682 181.810909 \r\nL 38.824318 148.865455 \r\nL 38.824318 115.92 \r\nL 38.824318 115.92 \r\nL 35.780682 148.865455 \r\nL 38.824318 50.029091 \r\nL 35.780682 148.865455 \r\nL 38.824318 214.756364 \r\nL 38.824318 148.865455 \r\nL 35.780682 148.865455 \r\nL 38.824318 115.92 \r\nL 35.780682 214.756364 \r\nL 38.824318 214.756364 \r\nL 35.780682 148.865455 \r\nL 35.780682 148.865455 \r\nL 38.824318 148.865455 \r\nL 35.780682 181.810909 \r\nL 38.824318 148.865455 \r\nL 35.780682 214.756364 \r\nL 38.824318 214.756364 \r\nL 38.824318 82.974545 \r\nL 38.824318 148.865455 \r\nL 35.780682 115.92 \r\nL 38.824318 181.810909 \r\nL 38.824318 115.92 \r\nL 38.824318 148.865455 \r\nL 35.780682 214.756364 \r\nL 35.780682 214.756364 \r\nL 35.780682 148.865455 \r\nL 35.780682 148.865455 \r\n\" style=\"fill:none;stroke:#0000ff;stroke-linecap:square;stroke-width:1.5;\"/>\r\n   </g>\r\n   <g id=\"line2d_19\">\r\n    <path clip-path=\"url(#pff1b1d578e)\" d=\"M 224.486136 148.865455 \r\nL 300.577045 181.810909 \r\nL 157.526136 82.974545 \r\nL 270.140682 148.865455 \r\nL 245.791591 181.810909 \r\nL 273.184318 181.810909 \r\nL 239.704318 181.810909 \r\nL 175.787955 82.974545 \r\nL 337.100682 214.756364 \r\nL 175.787955 50.029091 \r\nL 200.137045 115.92 \r\nL 197.093409 148.865455 \r\nL 312.751591 214.756364 \r\nL 291.446136 214.756364 \r\nL 181.875227 115.92 \r\nL 136.220682 50.029091 \r\nL 209.267955 115.92 \r\nL 282.315227 214.756364 \r\nL 187.9625 115.92 \r\nL 279.271591 214.756364 \r\nL 227.529773 148.865455 \r\nL 194.049773 115.92 \r\nL 257.966136 181.810909 \r\nL 236.660682 148.865455 \r\nL 203.180682 82.974545 \r\nL 242.747955 148.865455 \r\nL 233.617045 115.92 \r\nL 218.398864 82.974545 \r\nL 197.093409 148.865455 \r\nL 245.791591 181.810909 \r\nL 251.878864 181.810909 \r\nL 318.838864 214.756364 \r\nL 285.358864 214.756364 \r\nL 181.875227 115.92 \r\nL 194.049773 115.92 \r\nL 315.795227 214.756364 \r\nL 315.795227 214.756364 \r\nL 245.791591 115.92 \r\nL 209.267955 181.810909 \r\nL 245.791591 181.810909 \r\nL 267.097045 148.865455 \r\nL 224.486136 115.92 \r\nL 251.878864 181.810909 \r\nL 209.267955 181.810909 \r\nL 251.878864 181.810909 \r\nL 194.049773 115.92 \r\nL 270.140682 214.756364 \r\nL 215.355227 148.865455 \r\nL 270.140682 214.756364 \r\nL 169.700682 115.92 \r\nL 178.831591 82.974545 \r\nL 239.704318 148.865455 \r\nL 169.700682 82.974545 \r\nL 221.4425 115.92 \r\nL 154.4825 82.974545 \r\nL 227.529773 181.810909 \r\nL 178.831591 115.92 \r\nL 245.791591 148.865455 \r\nL 282.315227 181.810909 \r\nL 206.224318 148.865455 \r\nL 242.747955 148.865455 \r\nL 261.009773 181.810909 \r\nL 163.613409 82.974545 \r\nL 245.791591 181.810909 \r\nL 227.529773 148.865455 \r\nL 215.355227 148.865455 \r\nL 267.097045 181.810909 \r\nL 178.831591 115.92 \r\nL 218.398864 148.865455 \r\nL 221.4425 115.92 \r\nL 282.315227 181.810909 \r\nL 309.707955 214.756364 \r\nL 279.271591 181.810909 \r\nL 212.311591 148.865455 \r\nL 230.573409 115.92 \r\nL 251.878864 148.865455 \r\nL 257.966136 181.810909 \r\nL 248.835227 181.810909 \r\nL 124.046136 50.029091 \r\nL 257.966136 181.810909 \r\nL 276.227955 181.810909 \r\nL 276.227955 214.756364 \r\nL 230.573409 148.865455 \r\nL 276.227955 214.756364 \r\nL 248.835227 148.865455 \r\nL 270.140682 181.810909 \r\nL 227.529773 148.865455 \r\nL 321.8825 214.756364 \r\nL 215.355227 181.810909 \r\nL 166.657045 115.92 \r\nL 233.617045 181.810909 \r\nL 200.137045 148.865455 \r\nL 257.966136 148.865455 \r\nL 297.533409 181.810909 \r\nL 248.835227 181.810909 \r\nL 227.529773 115.92 \r\nL 194.049773 148.865455 \r\nL 248.835227 148.865455 \r\nL 133.177045 82.974545 \r\nL 309.707955 214.756364 \r\nL 239.704318 148.865455 \r\nL 139.264318 50.029091 \r\nL 288.4025 181.810909 \r\nL 227.529773 181.810909 \r\nL 194.049773 115.92 \r\nL 172.744318 115.92 \r\nL 300.577045 214.756364 \r\nL 227.529773 148.865455 \r\nL 257.966136 181.810909 \r\nL 114.915227 17.083636 \r\nL 200.137045 115.92 \r\nL 224.486136 148.865455 \r\nL 239.704318 181.810909 \r\nL 273.184318 214.756364 \r\nL 276.227955 181.810909 \r\nL 276.227955 214.756364 \r\nL 200.137045 115.92 \r\nL 175.787955 115.92 \r\nL 239.704318 181.810909 \r\nL 303.620682 214.756364 \r\nL 285.358864 214.756364 \r\nL 276.227955 181.810909 \r\nL 157.526136 115.92 \r\nL 261.009773 181.810909 \r\nL 248.835227 181.810909 \r\nL 270.140682 181.810909 \r\nL 221.4425 148.865455 \r\nL 242.747955 148.865455 \r\nL 239.704318 148.865455 \r\nL 127.089773 82.974545 \r\nL 282.315227 214.756364 \r\nL 270.140682 214.756364 \r\nL 221.4425 148.865455 \r\nL 239.704318 148.865455 \r\nL 224.486136 148.865455 \r\nL 282.315227 214.756364 \r\nL 242.747955 181.810909 \r\nL 218.398864 148.865455 \r\nL 251.878864 115.92 \r\nL 242.747955 115.92 \r\nL 233.617045 181.810909 \r\nL 160.569773 82.974545 \r\nL 151.438864 82.974545 \r\nL 181.875227 82.974545 \r\nL 251.878864 214.756364 \r\nL 331.013409 214.756364 \r\nL 212.311591 115.92 \r\nL 245.791591 181.810909 \r\nL 303.620682 214.756364 \r\nL 248.835227 181.810909 \r\nL 230.573409 181.810909 \r\nL 297.533409 214.756364 \r\nL 197.093409 115.92 \r\nL 194.049773 115.92 \r\nL 215.355227 115.92 \r\nL 282.315227 214.756364 \r\nL 157.526136 115.92 \r\nL 197.093409 82.974545 \r\nL 331.013409 214.756364 \r\nL 233.617045 148.865455 \r\nL 251.878864 181.810909 \r\nL 239.704318 181.810909 \r\nL 282.315227 148.865455 \r\nL 236.660682 115.92 \r\nL 242.747955 148.865455 \r\nL 200.137045 115.92 \r\nL 209.267955 148.865455 \r\nL 102.740682 50.029091 \r\nL 206.224318 148.865455 \r\nL 288.4025 214.756364 \r\nL 242.747955 148.865455 \r\nL 257.966136 148.865455 \r\nL 187.9625 115.92 \r\nL 318.838864 214.756364 \r\nL 303.620682 214.756364 \r\nL 267.097045 148.865455 \r\nL 270.140682 214.756364 \r\nL 254.9225 148.865455 \r\nL 251.878864 148.865455 \r\nL 239.704318 181.810909 \r\nL 254.9225 148.865455 \r\nL 327.969773 214.756364 \r\nL 340.144318 214.756364 \r\nL 224.486136 181.810909 \r\nL 215.355227 82.974545 \r\nL 212.311591 115.92 \r\nL 230.573409 148.865455 \r\nL 187.9625 115.92 \r\nL 251.878864 181.810909 \r\nL 212.311591 115.92 \r\nL 227.529773 148.865455 \r\nL 261.009773 214.756364 \r\nL 291.446136 214.756364 \r\nL 233.617045 181.810909 \r\nL 224.486136 148.865455 \r\nL 224.486136 148.865455 \r\n\" style=\"fill:none;stroke:#0000ff;stroke-linecap:square;stroke-width:1.5;\"/>\r\n   </g>\r\n   <g id=\"line2d_20\">\r\n    <path clip-path=\"url(#pff1b1d578e)\" d=\"M 254.9225 148.865455 \r\nL 257.966136 181.810909 \r\nL 175.787955 82.974545 \r\nL 224.486136 148.865455 \r\nL 273.184318 181.810909 \r\nL 245.791591 181.810909 \r\nL 166.657045 82.974545 \r\nL 300.577045 214.756364 \r\nL 139.264318 50.029091 \r\nL 181.875227 115.92 \r\nL 248.835227 148.865455 \r\nL 282.315227 214.756364 \r\nL 279.271591 214.756364 \r\nL 206.224318 115.92 \r\nL 160.569773 50.029091 \r\nL 181.875227 115.92 \r\nL 312.751591 214.756364 \r\nL 197.093409 115.92 \r\nL 273.184318 214.756364 \r\nL 233.617045 148.865455 \r\nL 215.355227 115.92 \r\nL 267.097045 181.810909 \r\nL 218.398864 148.865455 \r\nL 175.787955 82.974545 \r\nL 233.617045 148.865455 \r\nL 200.137045 115.92 \r\nL 169.700682 82.974545 \r\nL 254.9225 148.865455 \r\nL 309.707955 181.810909 \r\nL 300.577045 181.810909 \r\nL 291.446136 214.756364 \r\nL 318.838864 214.756364 \r\nL 224.486136 115.92 \r\nL 209.267955 115.92 \r\nL 276.227955 214.756364 \r\nL 340.144318 214.756364 \r\nL 212.311591 115.92 \r\nL 270.140682 181.810909 \r\nL 254.9225 181.810909 \r\nL 230.573409 148.865455 \r\nL 203.180682 115.92 \r\nL 261.009773 181.810909 \r\nL 288.4025 181.810909 \r\nL 215.355227 115.92 \r\nL 312.751591 214.756364 \r\nL 224.486136 148.865455 \r\nL 285.358864 214.756364 \r\nL 227.529773 115.92 \r\nL 148.395227 82.974545 \r\nL 224.486136 148.865455 \r\nL 187.9625 82.974545 \r\nL 206.224318 115.92 \r\nL 163.613409 82.974545 \r\nL 257.966136 181.810909 \r\nL 197.093409 115.92 \r\nL 227.529773 148.865455 \r\nL 264.053409 181.810909 \r\nL 233.617045 148.865455 \r\nL 242.747955 148.865455 \r\nL 276.227955 181.810909 \r\nL 203.180682 82.974545 \r\nL 270.140682 181.810909 \r\nL 239.704318 148.865455 \r\nL 245.791591 148.865455 \r\nL 257.966136 181.810909 \r\nL 200.137045 115.92 \r\nL 248.835227 148.865455 \r\nL 191.006136 115.92 \r\nL 251.878864 181.810909 \r\nL 300.577045 214.756364 \r\nL 257.966136 181.810909 \r\nL 248.835227 148.865455 \r\nL 206.224318 115.92 \r\nL 236.660682 148.865455 \r\nL 248.835227 181.810909 \r\nL 248.835227 181.810909 \r\nL 124.046136 50.029091 \r\nL 276.227955 181.810909 \r\nL 276.227955 181.810909 \r\nL 306.664318 214.756364 \r\nL 257.966136 148.865455 \r\nL 294.489773 214.756364 \r\nL 230.573409 148.865455 \r\nL 270.140682 181.810909 \r\nL 236.660682 148.865455 \r\nL 300.577045 214.756364 \r\nL 273.184318 181.810909 \r\nL 224.486136 115.92 \r\nL 270.140682 181.810909 \r\nL 230.573409 148.865455 \r\nL 233.617045 148.865455 \r\nL 206.224318 148.865455 \r\nL 267.097045 181.810909 \r\nL 261.009773 181.810909 \r\nL 181.875227 115.92 \r\nL 267.097045 148.865455 \r\nL 233.617045 148.865455 \r\nL 191.006136 82.974545 \r\nL 309.707955 214.756364 \r\nL 230.573409 148.865455 \r\nL 181.875227 50.029091 \r\nL 254.9225 181.810909 \r\nL 279.271591 181.810909 \r\nL 257.966136 181.810909 \r\nL 233.617045 115.92 \r\nL 227.529773 115.92 \r\nL 312.751591 214.756364 \r\nL 254.9225 148.865455 \r\nL 264.053409 181.810909 \r\nL 130.133409 17.083636 \r\nL 215.355227 115.92 \r\nL 257.966136 148.865455 \r\nL 267.097045 181.810909 \r\nL 288.4025 214.756364 \r\nL 282.315227 181.810909 \r\nL 285.358864 214.756364 \r\nL 221.4425 115.92 \r\nL 206.224318 115.92 \r\nL 291.446136 181.810909 \r\nL 318.838864 214.756364 \r\nL 285.358864 214.756364 \r\nL 261.009773 181.810909 \r\nL 233.617045 115.92 \r\nL 261.009773 181.810909 \r\nL 273.184318 181.810909 \r\nL 242.747955 181.810909 \r\nL 230.573409 148.865455 \r\nL 230.573409 148.865455 \r\nL 108.827955 82.974545 \r\nL 282.315227 214.756364 \r\nL 309.707955 214.756364 \r\nL 212.311591 148.865455 \r\nL 261.009773 148.865455 \r\nL 285.358864 214.756364 \r\nL 261.009773 181.810909 \r\nL 242.747955 148.865455 \r\nL 184.918864 115.92 \r\nL 218.398864 115.92 \r\nL 297.533409 181.810909 \r\nL 154.4825 82.974545 \r\nL 172.744318 82.974545 \r\nL 291.446136 214.756364 \r\nL 300.577045 214.756364 \r\nL 184.918864 115.92 \r\nL 261.009773 181.810909 \r\nL 337.100682 214.756364 \r\nL 242.747955 181.810909 \r\nL 285.358864 181.810909 \r\nL 282.315227 214.756364 \r\nL 200.137045 115.92 \r\nL 224.486136 115.92 \r\nL 194.049773 115.92 \r\nL 331.013409 214.756364 \r\nL 215.355227 115.92 \r\nL 212.311591 82.974545 \r\nL 318.838864 214.756364 \r\nL 221.4425 148.865455 \r\nL 288.4025 181.810909 \r\nL 276.227955 181.810909 \r\nL 236.660682 148.865455 \r\nL 209.267955 115.92 \r\nL 215.355227 148.865455 \r\nL 221.4425 115.92 \r\nL 242.747955 148.865455 \r\nL 154.4825 50.029091 \r\nL 242.747955 148.865455 \r\nL 288.4025 214.756364 \r\nL 254.9225 148.865455 \r\nL 242.747955 148.865455 \r\nL 197.093409 115.92 \r\nL 340.144318 214.756364 \r\nL 257.966136 214.756364 \r\nL 224.486136 148.865455 \r\nL 297.533409 214.756364 \r\nL 239.704318 148.865455 \r\nL 236.660682 148.865455 \r\nL 297.533409 181.810909 \r\nL 236.660682 148.865455 \r\nL 327.969773 214.756364 \r\nL 340.144318 214.756364 \r\nL 273.184318 181.810909 \r\nL 160.569773 82.974545 \r\nL 187.9625 115.92 \r\nL 218.398864 148.865455 \r\nL 181.875227 115.92 \r\nL 288.4025 181.810909 \r\nL 218.398864 115.92 \r\nL 221.4425 148.865455 \r\nL 309.707955 214.756364 \r\nL 288.4025 214.756364 \r\nL 248.835227 181.810909 \r\nL 239.704318 148.865455 \r\nL 239.704318 148.865455 \r\n\" style=\"fill:none;stroke:#0000ff;stroke-linecap:square;stroke-width:1.5;\"/>\r\n   </g>\r\n   <g id=\"line2d_21\">\r\n    <path clip-path=\"url(#pff1b1d578e)\" d=\"M 261.009773 148.865455 \r\nL 254.9225 181.810909 \r\nL 187.9625 82.974545 \r\nL 230.573409 148.865455 \r\nL 267.097045 181.810909 \r\nL 245.791591 181.810909 \r\nL 264.053409 181.810909 \r\nL 163.613409 82.974545 \r\nL 282.315227 214.756364 \r\nL 145.351591 50.029091 \r\nL 194.049773 115.92 \r\nL 248.835227 148.865455 \r\nL 276.227955 214.756364 \r\nL 279.271591 214.756364 \r\nL 212.311591 115.92 \r\nL 166.657045 50.029091 \r\nL 191.006136 115.92 \r\nL 300.577045 214.756364 \r\nL 212.311591 115.92 \r\nL 282.315227 214.756364 \r\nL 221.4425 148.865455 \r\nL 206.224318 115.92 \r\nL 279.271591 181.810909 \r\nL 209.267955 148.865455 \r\nL 169.700682 82.974545 \r\nL 221.4425 148.865455 \r\nL 209.267955 115.92 \r\nL 178.831591 82.974545 \r\nL 230.573409 148.865455 \r\nL 303.620682 181.810909 \r\nL 285.358864 181.810909 \r\nL 309.707955 214.756364 \r\nL 318.838864 214.756364 \r\nL 218.398864 115.92 \r\nL 206.224318 115.92 \r\nL 291.446136 214.756364 \r\nL 340.144318 214.756364 \r\nL 197.093409 115.92 \r\nL 279.271591 181.810909 \r\nL 270.140682 181.810909 \r\nL 203.180682 115.92 \r\nL 230.573409 181.810909 \r\nL 288.4025 181.810909 \r\nL 224.486136 115.92 \r\nL 303.620682 214.756364 \r\nL 230.573409 148.865455 \r\nL 312.751591 214.756364 \r\nL 224.486136 115.92 \r\nL 142.307955 82.974545 \r\nL 218.398864 148.865455 \r\nL 191.006136 82.974545 \r\nL 203.180682 115.92 \r\nL 151.438864 82.974545 \r\nL 273.184318 181.810909 \r\nL 212.311591 115.92 \r\nL 221.4425 148.865455 \r\nL 267.097045 181.810909 \r\nL 227.529773 148.865455 \r\nL 239.704318 148.865455 \r\nL 279.271591 181.810909 \r\nL 200.137045 82.974545 \r\nL 245.791591 181.810909 \r\nL 239.704318 148.865455 \r\nL 233.617045 148.865455 \r\nL 242.747955 181.810909 \r\nL 197.093409 115.92 \r\nL 248.835227 148.865455 \r\nL 194.049773 115.92 \r\nL 257.966136 181.810909 \r\nL 264.053409 214.756364 \r\nL 254.9225 181.810909 \r\nL 242.747955 148.865455 \r\nL 194.049773 115.92 \r\nL 218.398864 148.865455 \r\nL 264.053409 181.810909 \r\nL 248.835227 181.810909 \r\nL 127.089773 50.029091 \r\nL 276.227955 181.810909 \r\nL 273.184318 181.810909 \r\nL 306.664318 214.756364 \r\nL 248.835227 148.865455 \r\nL 297.533409 214.756364 \r\nL 248.835227 148.865455 \r\nL 257.966136 181.810909 \r\nL 239.704318 148.865455 \r\nL 315.795227 214.756364 \r\nL 267.097045 181.810909 \r\nL 221.4425 115.92 \r\nL 261.009773 181.810909 \r\nL 242.747955 148.865455 \r\nL 209.267955 148.865455 \r\nL 261.009773 181.810909 \r\nL 251.878864 181.810909 \r\nL 178.831591 115.92 \r\nL 248.835227 148.865455 \r\nL 218.398864 148.865455 \r\nL 169.700682 82.974545 \r\nL 285.358864 214.756364 \r\nL 221.4425 148.865455 \r\nL 160.569773 50.029091 \r\nL 273.184318 181.810909 \r\nL 282.315227 181.810909 \r\nL 251.878864 181.810909 \r\nL 221.4425 115.92 \r\nL 215.355227 115.92 \r\nL 282.315227 214.756364 \r\nL 248.835227 148.865455 \r\nL 279.271591 181.810909 \r\nL 151.438864 17.083636 \r\nL 187.9625 115.92 \r\nL 248.835227 148.865455 \r\nL 279.271591 214.756364 \r\nL 251.878864 181.810909 \r\nL 285.358864 214.756364 \r\nL 224.486136 115.92 \r\nL 209.267955 115.92 \r\nL 291.446136 181.810909 \r\nL 318.838864 214.756364 \r\nL 279.271591 214.756364 \r\nL 254.9225 181.810909 \r\nL 230.573409 115.92 \r\nL 254.9225 181.810909 \r\nL 273.184318 181.810909 \r\nL 245.791591 181.810909 \r\nL 224.486136 148.865455 \r\nL 248.835227 148.865455 \r\nL 81.435227 82.974545 \r\nL 291.446136 214.756364 \r\nL 294.489773 214.756364 \r\nL 224.486136 148.865455 \r\nL 248.835227 148.865455 \r\nL 291.446136 214.756364 \r\nL 261.009773 181.810909 \r\nL 254.9225 148.865455 \r\nL 194.049773 115.92 \r\nL 197.093409 115.92 \r\nL 279.271591 181.810909 \r\nL 139.264318 82.974545 \r\nL 166.657045 82.974545 \r\nL 160.569773 82.974545 \r\nL 300.577045 214.756364 \r\nL 285.358864 214.756364 \r\nL 163.613409 115.92 \r\nL 261.009773 181.810909 \r\nL 340.144318 214.756364 \r\nL 254.9225 181.810909 \r\nL 270.140682 181.810909 \r\nL 264.053409 214.756364 \r\nL 181.875227 115.92 \r\nL 212.311591 115.92 \r\nL 175.787955 115.92 \r\nL 327.969773 214.756364 \r\nL 191.006136 115.92 \r\nL 169.700682 82.974545 \r\nL 312.751591 214.756364 \r\nL 251.878864 148.865455 \r\nL 270.140682 181.810909 \r\nL 291.446136 181.810909 \r\nL 230.573409 148.865455 \r\nL 194.049773 115.92 \r\nL 224.486136 148.865455 \r\nL 212.311591 115.92 \r\nL 257.966136 148.865455 \r\nL 136.220682 50.029091 \r\nL 248.835227 148.865455 \r\nL 309.707955 214.756364 \r\nL 233.617045 148.865455 \r\nL 236.660682 148.865455 \r\nL 203.180682 115.92 \r\nL 324.926136 214.756364 \r\nL 273.184318 214.756364 \r\nL 218.398864 148.865455 \r\nL 297.533409 214.756364 \r\nL 233.617045 148.865455 \r\nL 233.617045 148.865455 \r\nL 288.4025 181.810909 \r\nL 236.660682 148.865455 \r\nL 337.100682 214.756364 \r\nL 340.144318 214.756364 \r\nL 276.227955 181.810909 \r\nL 163.613409 82.974545 \r\nL 172.744318 115.92 \r\nL 212.311591 148.865455 \r\nL 197.093409 115.92 \r\nL 273.184318 181.810909 \r\nL 209.267955 115.92 \r\nL 218.398864 148.865455 \r\nL 303.620682 214.756364 \r\nL 264.053409 214.756364 \r\nL 261.009773 181.810909 \r\nL 245.791591 148.865455 \r\nL 245.791591 148.865455 \r\n\" style=\"fill:none;stroke:#0000ff;stroke-linecap:square;stroke-width:1.5;\"/>\r\n   </g>\r\n   <g id=\"patch_3\">\r\n    <path d=\"M 20.5625 224.64 \r\nL 20.5625 7.2 \r\n\" style=\"fill:none;stroke:#000000;stroke-linecap:square;stroke-linejoin:miter;stroke-width:0.8;\"/>\r\n   </g>\r\n   <g id=\"patch_4\">\r\n    <path d=\"M 355.3625 224.64 \r\nL 355.3625 7.2 \r\n\" style=\"fill:none;stroke:#000000;stroke-linecap:square;stroke-linejoin:miter;stroke-width:0.8;\"/>\r\n   </g>\r\n   <g id=\"patch_5\">\r\n    <path d=\"M 20.5625 224.64 \r\nL 355.3625 224.64 \r\n\" style=\"fill:none;stroke:#000000;stroke-linecap:square;stroke-linejoin:miter;stroke-width:0.8;\"/>\r\n   </g>\r\n   <g id=\"patch_6\">\r\n    <path d=\"M 20.5625 7.2 \r\nL 355.3625 7.2 \r\n\" style=\"fill:none;stroke:#000000;stroke-linecap:square;stroke-linejoin:miter;stroke-width:0.8;\"/>\r\n   </g>\r\n  </g>\r\n </g>\r\n <defs>\r\n  <clipPath id=\"pff1b1d578e\">\r\n   <rect height=\"217.44\" width=\"334.8\" x=\"20.5625\" y=\"7.2\"/>\r\n  </clipPath>\r\n </defs>\r\n</svg>\r\n",
      "text/plain": [
       "<Figure size 432x288 with 1 Axes>"
      ]
     },
     "metadata": {
      "needs_background": "light"
     }
    }
   ],
   "metadata": {}
  },
  {
   "cell_type": "code",
   "execution_count": 452,
   "source": [
    "from sklearn import metrics\r\n",
    "print('Mean Absolute Error:', metrics.mean_absolute_error(y_test, y_pred))\r\n",
    "print('Mean Squared Error:', metrics.mean_squared_error(y_test, y_pred))\r\n",
    "print('Root Mean Squared Error:', np.sqrt(metrics.mean_squared_error(y_test, y_pred)))"
   ],
   "outputs": [
    {
     "output_type": "stream",
     "name": "stdout",
     "text": [
      "Mean Absolute Error: 0.1\n",
      "Mean Squared Error: 0.1\n",
      "Root Mean Squared Error: 0.31622776601683794\n"
     ]
    }
   ],
   "metadata": {}
  }
 ],
 "metadata": {
  "kernelspec": {
   "name": "python3",
   "display_name": "Python 3.9.4 64-bit ('3.9.4': pyenv)"
  },
  "language_info": {
   "name": "python",
   "version": "3.9.4",
   "mimetype": "text/x-python",
   "codemirror_mode": {
    "name": "ipython",
    "version": 3
   },
   "pygments_lexer": "ipython3",
   "nbconvert_exporter": "python",
   "file_extension": ".py"
  },
  "interpreter": {
   "hash": "bfe2aec174fb9e7ab720346f833c6bfa7139dd64ccf06b4b64aed8b45034ce7c"
  }
 },
 "nbformat": 4,
 "nbformat_minor": 2
}