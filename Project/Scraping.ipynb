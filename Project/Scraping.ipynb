{
 "cells": [
  {
   "cell_type": "code",
   "execution_count": null,
   "metadata": {},
   "outputs": [],
   "source": [
    "!python3 -m pip -q install requests pandas numpy matplotlib plotly scikit_learn seaborn kaggle wordcloud zipfile36 swifter"
   ]
  },
  {
   "cell_type": "code",
   "execution_count": null,
   "metadata": {},
   "outputs": [],
   "source": [
    "IN_COLAB =  'google.colab' in str(get_ipython())\n",
    "IN_COLAB"
   ]
  },
  {
   "cell_type": "code",
   "execution_count": null,
   "metadata": {},
   "outputs": [],
   "source": [
    "if IN_COLAB:\n",
    "    print(\"Looks like you are running colab, an upload form will show up now to upload your kaggle.json file..\")\n",
    "    from google.colab import files \n",
    "    files.upload()"
   ]
  },
  {
   "cell_type": "code",
   "execution_count": null,
   "metadata": {},
   "outputs": [],
   "source": [
    "import os\n",
    "from pathlib import Path\n",
    "from os.path import abspath\n",
    "HOME_PATH = Path.home()\n",
    "if not os.path.isdir(f'{HOME_PATH}/.kaggle'):\n",
    "    os.makedirs(f'{HOME_PATH}/.kaggle/')\n",
    "if os.path.isfile('../kaggle.json'):\n",
    "    from shutil import copyfile\n",
    "    copyfile('../kaggle.json', f'{HOME_PATH}/.kaggle/kaggle.json')\n",
    "! chmod 600 ~/.kaggle/kaggle.json\n",
    "! kaggle datasets list"
   ]
  },
  {
   "cell_type": "code",
   "execution_count": null,
   "metadata": {},
   "outputs": [],
   "source": [
    "!kaggle datasets download -d stefanoleone992/imdb-extensive-dataset"
   ]
  },
  {
   "cell_type": "code",
   "execution_count": null,
   "metadata": {},
   "outputs": [],
   "source": [
    "if not os.path.isdir('data'):\n",
    "    os.makedirs('data')"
   ]
  },
  {
   "cell_type": "code",
   "execution_count": null,
   "metadata": {},
   "outputs": [],
   "source": [
    "import sys\n",
    "if sys.version_info >= (3, 6):\n",
    "    import zipfile\n",
    "else:\n",
    "    import zipfile36 as zipfile\n",
    "pz = open('imdb-extensive-dataset.zip', 'rb')\n",
    "packz = zipfile.ZipFile(pz)\n",
    "for name in packz.namelist():\n",
    "    packz.extract(name, 'data')\n",
    "pz.close()\n",
    "os.remove('imdb-extensive-dataset.zip')\n"
   ]
  },
  {
   "cell_type": "code",
   "execution_count": null,
   "metadata": {},
   "outputs": [],
   "source": []
  }
 ],
 "metadata": {
  "interpreter": {
   "hash": "31f2aee4e71d21fbe5cf8b01ff0e069b9275f58929596ceb00d14d90e3e16cd6"
  },
  "kernelspec": {
   "display_name": "Python 3.8.10 64-bit",
   "name": "python3"
  },
  "language_info": {
   "codemirror_mode": {
    "name": "ipython",
    "version": 3
   },
   "file_extension": ".py",
   "mimetype": "text/x-python",
   "name": "python",
   "nbconvert_exporter": "python",
   "pygments_lexer": "ipython3",
   "version": "3.8.10"
  },
  "orig_nbformat": 4
 },
 "nbformat": 4,
 "nbformat_minor": 2
}
