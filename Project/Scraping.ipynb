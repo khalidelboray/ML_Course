{
 "cells": [
  {
   "cell_type": "markdown",
   "metadata": {},
   "source": [
    "<a href=\"https://colab.research.google.com/github/khalidelboray/ML_Course/blob/master/Project/Scraping.ipynb\" target=\"_parent\"><img src=\"https://colab.research.google.com/assets/colab-badge.svg\" alt=\"Open In Colab\"/></a>"
   ]
  },
  {
   "cell_type": "code",
   "execution_count": null,
   "metadata": {},
   "outputs": [],
   "source": [
    "!python3 -m pip -q install requests pandas numpy matplotlib plotly scikit_learn seaborn kaggle wordcloud zipfile36 swifter requests-html tqdm"
   ]
  },
  {
   "cell_type": "code",
   "execution_count": null,
   "metadata": {},
   "outputs": [],
   "source": [
    "kaggle_path = '../kaggle.json'\n",
    "IN_COLAB =  'google.colab' in str(get_ipython())\n",
    "IN_COLAB"
   ]
  },
  {
   "cell_type": "code",
   "execution_count": null,
   "metadata": {},
   "outputs": [],
   "source": [
    "if IN_COLAB:\n",
    "    print(\"Looks like you are running colab, an upload form will show up now to upload your kaggle.json file..\")\n",
    "    from google.colab import files \n",
    "    files.upload()\n",
    "    kaggle_path = './kaggle.json'"
   ]
  },
  {
   "cell_type": "code",
   "execution_count": null,
   "metadata": {},
   "outputs": [],
   "source": [
    "import os\n",
    "from pathlib import Path\n",
    "from os.path import abspath\n",
    "HOME_PATH = Path.home()\n",
    "if not os.path.isdir(f'{HOME_PATH}/.kaggle'):\n",
    "    os.makedirs(f'{HOME_PATH}/.kaggle/')\n",
    "if os.path.isfile(kaggle_path):\n",
    "    from shutil import copyfile\n",
    "    copyfile(kaggle_path, f'{HOME_PATH}/.kaggle/kaggle.json')\n",
    "! chmod 600 ~/.kaggle/kaggle.json\n",
    "! kaggle datasets list"
   ]
  },
  {
   "cell_type": "code",
   "execution_count": null,
   "metadata": {},
   "outputs": [],
   "source": [
    "!kaggle datasets download -d stefanoleone992/imdb-extensive-dataset"
   ]
  },
  {
   "cell_type": "code",
   "execution_count": null,
   "metadata": {},
   "outputs": [],
   "source": [
    "if not os.path.isdir('data'):\n",
    "    os.makedirs('data')"
   ]
  },
  {
   "cell_type": "code",
   "execution_count": null,
   "metadata": {},
   "outputs": [],
   "source": [
    "import sys\n",
    "if sys.version_info >= (3, 6):\n",
    "    import zipfile\n",
    "else:\n",
    "    import zipfile36 as zipfile\n",
    "pz = open('imdb-extensive-dataset.zip', 'rb')\n",
    "packz = zipfile.ZipFile(pz)\n",
    "for name in packz.namelist():\n",
    "    packz.extract(name, 'data')\n",
    "pz.close()\n",
    "os.remove('imdb-extensive-dataset.zip')"
   ]
  },
  {
   "cell_type": "code",
   "execution_count": null,
   "metadata": {},
   "outputs": [],
   "source": [
    "import numpy as np \n",
    "import pandas as pd \n",
    "import matplotlib.pyplot as plt \n",
    "import seaborn as sns \n",
    "pd.options.display.max_columns = 999\n",
    "print('max_rows:' , pd.options.display.max_rows)\n",
    "print('max_columns:' , pd.options.display.max_columns)\n",
    "%matplotlib inline"
   ]
  },
  {
   "cell_type": "code",
   "execution_count": null,
   "metadata": {},
   "outputs": [],
   "source": [
    "movies = pd.read_csv('./data/IMDb movies.csv')"
   ]
  },
  {
   "cell_type": "code",
   "execution_count": null,
   "metadata": {},
   "outputs": [],
   "source": [
    "movies.head()"
   ]
  },
  {
   "cell_type": "code",
   "execution_count": null,
   "metadata": {},
   "outputs": [],
   "source": [
    "movie_urls = movies['imdb_title_id'].apply(lambda x: f\"http://www.imdb.com/title/{x}\").values\n",
    "movie_urls"
   ]
  },
  {
   "cell_type": "code",
   "execution_count": null,
   "metadata": {},
   "outputs": [],
   "source": [
    "from requests_html import AsyncHTMLSession\n",
    "session = AsyncHTMLSession()\n",
    "async def get_image_url(movie_url):\n",
    "    resp = await session.get(movie_url)\n",
    "    img_elem = resp.html.find('.ipc-image', first=True)\n",
    "    link = img_elem.attrs['srcset'].split('w,')[-1].strip().split(' ')[0].strip()\n",
    "    return link"
   ]
  },
  {
   "cell_type": "code",
   "execution_count": null,
   "metadata": {},
   "outputs": [],
   "source": [
    "from tqdm import tqdm\n",
    "import asyncio\n",
    "import tqdm.asyncio\n",
    "import urllib\n",
    "movies['image'] =  pd.Series(dtype=str)\n",
    "\n",
    "if not os.path.isdir('./images'):\n",
    "    os.makedirs('./images')\n",
    "    \n",
    "async def process_url(url):\n",
    "    mid = url.split('/')[-1]\n",
    "    location = f\"./images/{mid}.jpg\"\n",
    "    url = get_image_url(url)\n",
    "    with open (location,'wb') as out:\n",
    "        out.write(await session.get(url).content)\n",
    "    movies.loc[movies['imdb_title_id'] == mid , 'image'] = location\n",
    "    \n",
    "async def process_all(urls):\n",
    "    tasks = []\n",
    "    for url in urls:\n",
    "        task = asyncio.create_task(process_url(url))\n",
    "        tasks.append(task)\n",
    "        \n",
    "    all_paths = [\n",
    "        await process_url(url=url)\n",
    "        async for url in tqdm.asyncio.tqdm(urls)\n",
    "    ]\n",
    "\n",
    "\n",
    "# for url in tqdm(movie_urls):\n",
    "#     mid = url.split('/')[-1]\n",
    "#     location = f\"./images/{mid}.jpg\"\n",
    "#     url = get_image_url(url)\n",
    "#     with open (location,'wb') as out:\n",
    "#         out.write(session.get(url).content)\n",
    "#     movies.loc[movies['imdb_title_id'] == mid , 'image'] = location"
   ]
  },
  {
   "cell_type": "code",
   "execution_count": null,
   "metadata": {},
   "outputs": [],
   "source": [
    "!python3 -m pip install nest_asyncio\n",
    "import nest_asyncio\n",
    "\n",
    "nest_asyncio.apply()\n"
   ]
  },
  {
   "cell_type": "code",
   "execution_count": null,
   "metadata": {},
   "outputs": [],
   "source": [
    "asyncio.run(\n",
    "        process_all(urls=movie_urls[0:10]))"
   ]
  },
  {
   "cell_type": "code",
   "execution_count": null,
   "metadata": {},
   "outputs": [],
   "source": [
    "movies['image'].head()"
   ]
  }
 ],
 "metadata": {
  "interpreter": {
   "hash": "31f2aee4e71d21fbe5cf8b01ff0e069b9275f58929596ceb00d14d90e3e16cd6"
  },
  "kernelspec": {
   "display_name": "Python 3.8.10 64-bit",
   "name": "python3"
  },
  "language_info": {
   "codemirror_mode": {
    "name": "ipython",
    "version": 3
   },
   "file_extension": ".py",
   "mimetype": "text/x-python",
   "name": "python",
   "nbconvert_exporter": "python",
   "pygments_lexer": "ipython3",
   "version": "3.8.10"
  },
  "orig_nbformat": 4
 },
 "nbformat": 4,
 "nbformat_minor": 2
}
