{
 "cells": [
  {
   "cell_type": "code",
   "execution_count": null,
   "source": [
    "import pandas as pd \r\n",
    "from sklearn.preprocessing import StandardScaler, MinMaxScaler,RobustScaler\r\n",
    "from sklearn.model_selection import train_test_split\r\n",
    "import matplotlib.pyplot as plt"
   ],
   "outputs": [],
   "metadata": {}
  },
  {
   "cell_type": "code",
   "execution_count": null,
   "source": [
    "data_set = pd.read_csv('./data/heart.csv')\r\n",
    "data_set.head()"
   ],
   "outputs": [],
   "metadata": {}
  },
  {
   "cell_type": "code",
   "execution_count": null,
   "source": [
    "data_set.describe()"
   ],
   "outputs": [],
   "metadata": {}
  },
  {
   "cell_type": "code",
   "execution_count": null,
   "source": [
    "data_set.isnull().sum()"
   ],
   "outputs": [],
   "metadata": {}
  },
  {
   "cell_type": "code",
   "execution_count": null,
   "source": [
    "data_set.columns = ['age', 'gender', 'chest_pain_type', 'resting_blood_pressure', \r\n",
    "              'cholesterol', 'fasting_blood_sugar', 'rest_ecg', 'max_heart_rate_achieved', \r\n",
    "              'exercise_induced_angina', 'st_depression', \r\n",
    "              'st_slope', 'num_major_vessels', 'thalassemia', 'target']"
   ],
   "outputs": [],
   "metadata": {}
  },
  {
   "cell_type": "markdown",
   "source": [
    "# loc "
   ],
   "metadata": {}
  },
  {
   "cell_type": "code",
   "execution_count": null,
   "source": [
    "x = data_set.loc[: , data_set.columns != 'target']\r\n",
    "x"
   ],
   "outputs": [],
   "metadata": {}
  },
  {
   "cell_type": "markdown",
   "source": [
    "# iloc"
   ],
   "metadata": {}
  },
  {
   "cell_type": "code",
   "execution_count": null,
   "source": [
    "x = data_set.iloc[:,:-1]\r\n",
    "x"
   ],
   "outputs": [],
   "metadata": {}
  },
  {
   "cell_type": "code",
   "execution_count": null,
   "source": [
    "y = data_set['target']\r\n",
    "y"
   ],
   "outputs": [],
   "metadata": {}
  },
  {
   "cell_type": "code",
   "execution_count": null,
   "source": [
    "x_train, x_test, y_train, y_test = train_test_split(x,y,test_size=0.2)\r\n",
    "x_train"
   ],
   "outputs": [],
   "metadata": {}
  },
  {
   "cell_type": "code",
   "execution_count": null,
   "source": [
    "sc = StandardScaler()\r\n",
    "x_train_scaled = sc.fit_transform(x_train)\r\n",
    "x_train_scaled\r\n",
    "for i in x_train_scaled:\r\n",
    "    plt.plot(i)\r\n",
    "plt.show()\r\n",
    "for i in x_train.values:\r\n",
    "    plt.plot(i)\r\n",
    "plt.show()"
   ],
   "outputs": [],
   "metadata": {}
  },
  {
   "cell_type": "code",
   "execution_count": null,
   "source": [
    "x_test_scaled = sc.transform(x_test)\r\n",
    "x_test_scaled"
   ],
   "outputs": [],
   "metadata": {}
  },
  {
   "cell_type": "code",
   "execution_count": null,
   "source": [
    "mnmx = MinMaxScaler(feature_range=(0,1))\r\n",
    "x_train_scaled_mx = mnmx.fit_transform(x_train)\r\n",
    "x_train_scaled_mx\r\n",
    "for i in x_train_scaled_mx:\r\n",
    "    plt.plot(i)\r\n",
    "plt.show()\r\n",
    "for i in x_train.values:\r\n",
    "    plt.plot(i)\r\n",
    "plt.show()"
   ],
   "outputs": [],
   "metadata": {}
  },
  {
   "cell_type": "code",
   "execution_count": null,
   "source": [
    "rbsc = RobustScaler()\r\n",
    "x_train_scaled_rb = rbsc.fit_transform(x_train)\r\n",
    "for i in x_train_scaled_rb:\r\n",
    "    plt.plot(i)\r\n",
    "plt.show()\r\n",
    "for i in x_train.values:\r\n",
    "    plt.plot(i)\r\n",
    "plt.show()"
   ],
   "outputs": [],
   "metadata": {}
  }
 ],
 "metadata": {
  "orig_nbformat": 4,
  "language_info": {
   "name": "python",
   "version": "3.9.4",
   "mimetype": "text/x-python",
   "codemirror_mode": {
    "name": "ipython",
    "version": 3
   },
   "pygments_lexer": "ipython3",
   "nbconvert_exporter": "python",
   "file_extension": ".py"
  },
  "kernelspec": {
   "name": "python3",
   "display_name": "Python 3.9.4 64-bit ('3.9.4': pyenv)"
  },
  "interpreter": {
   "hash": "bfe2aec174fb9e7ab720346f833c6bfa7139dd64ccf06b4b64aed8b45034ce7c"
  }
 },
 "nbformat": 4,
 "nbformat_minor": 2
}