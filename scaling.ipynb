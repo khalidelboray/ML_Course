{
 "cells": [
  {
   "cell_type": "code",
   "execution_count": null,
   "source": [
    "import pandas as pd\n",
    "from sklearn.preprocessing import StandardScaler, MinMaxScaler, RobustScaler\n",
    "from sklearn.model_selection import train_test_split\n",
    "import matplotlib.pyplot as plt"
   ],
   "outputs": [],
   "metadata": {}
  },
  {
   "cell_type": "code",
   "execution_count": null,
   "source": [
    "data_set = pd.read_csv(\"./data/heart.csv\")\n",
    "data_set.head()"
   ],
   "outputs": [],
   "metadata": {}
  },
  {
   "cell_type": "code",
   "execution_count": null,
   "source": [
    "data_set.describe()"
   ],
   "outputs": [],
   "metadata": {}
  },
  {
   "cell_type": "code",
   "execution_count": null,
   "source": [
    "data_set.isnull().sum()"
   ],
   "outputs": [],
   "metadata": {}
  },
  {
   "cell_type": "code",
   "execution_count": null,
   "source": [
    "data_set.columns = [\n",
    "    \"age\",\n",
    "    \"gender\",\n",
    "    \"chest_pain_type\",\n",
    "    \"resting_blood_pressure\",\n",
    "    \"cholesterol\",\n",
    "    \"fasting_blood_sugar\",\n",
    "    \"rest_ecg\",\n",
    "    \"max_heart_rate_achieved\",\n",
    "    \"exercise_induced_angina\",\n",
    "    \"st_depression\",\n",
    "    \"st_slope\",\n",
    "    \"num_major_vessels\",\n",
    "    \"thalassemia\",\n",
    "    \"target\",\n",
    "]"
   ],
   "outputs": [],
   "metadata": {}
  },
  {
   "cell_type": "markdown",
   "source": [
    "# loc "
   ],
   "metadata": {}
  },
  {
   "cell_type": "code",
   "execution_count": null,
   "source": [
    "x = data_set.loc[:, data_set.columns != \"target\"]\n",
    "x"
   ],
   "outputs": [],
   "metadata": {}
  },
  {
   "cell_type": "markdown",
   "source": [
    "# iloc"
   ],
   "metadata": {}
  },
  {
   "cell_type": "code",
   "execution_count": null,
   "source": [
    "x = data_set.iloc[:, :-1]\n",
    "x"
   ],
   "outputs": [],
   "metadata": {}
  },
  {
   "cell_type": "code",
   "execution_count": null,
   "source": [
    "y = data_set[\"target\"]\n",
    "y"
   ],
   "outputs": [],
   "metadata": {}
  },
  {
   "cell_type": "code",
   "execution_count": null,
   "source": [
    "x_train, x_test, y_train, y_test = train_test_split(x, y, test_size=0.2)\n",
    "x_train"
   ],
   "outputs": [],
   "metadata": {}
  },
  {
   "cell_type": "code",
   "execution_count": null,
   "source": [
    "sc = StandardScaler()\n",
    "x_train_scaled = sc.fit_transform(x_train)\n",
    "x_train_scaled\n",
    "for i in x_train_scaled:\n",
    "    plt.plot(i)\n",
    "plt.show()\n",
    "for i in x_train.values:\n",
    "    plt.plot(i)\n",
    "plt.show()"
   ],
   "outputs": [],
   "metadata": {}
  },
  {
   "cell_type": "code",
   "execution_count": null,
   "source": [
    "x_test_scaled = sc.transform(x_test)\n",
    "x_test_scaled"
   ],
   "outputs": [],
   "metadata": {}
  },
  {
   "cell_type": "code",
   "execution_count": null,
   "source": [
    "mnmx = MinMaxScaler(feature_range=(0, 1))\n",
    "x_train_scaled_mx = mnmx.fit_transform(x_train)\n",
    "x_train_scaled_mx\n",
    "for i in x_train_scaled_mx:\n",
    "    plt.plot(i)\n",
    "plt.show()\n",
    "for i in x_train.values:\n",
    "    plt.plot(i)\n",
    "plt.show()"
   ],
   "outputs": [],
   "metadata": {}
  },
  {
   "cell_type": "code",
   "execution_count": null,
   "source": [
    "rbsc = RobustScaler()\n",
    "x_train_scaled_rb = rbsc.fit_transform(x_train)\n",
    "for i in x_train_scaled_rb:\n",
    "    plt.plot(i)\n",
    "plt.show()\n",
    "for i in x_train.values:\n",
    "    plt.plot(i)\n",
    "plt.show()"
   ],
   "outputs": [],
   "metadata": {}
  }
 ],
 "metadata": {
  "orig_nbformat": 4,
  "language_info": {
   "name": "python",
   "version": "3.9.4",
   "mimetype": "text/x-python",
   "codemirror_mode": {
    "name": "ipython",
    "version": 3
   },
   "pygments_lexer": "ipython3",
   "nbconvert_exporter": "python",
   "file_extension": ".py"
  },
  "kernelspec": {
   "name": "python3",
   "display_name": "Python 3.9.4 64-bit ('3.9.4': pyenv)"
  },
  "interpreter": {
   "hash": "bfe2aec174fb9e7ab720346f833c6bfa7139dd64ccf06b4b64aed8b45034ce7c"
  }
 },
 "nbformat": 4,
 "nbformat_minor": 2
}